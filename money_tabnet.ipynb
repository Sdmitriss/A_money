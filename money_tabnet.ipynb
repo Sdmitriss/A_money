{
 "cells": [
  {
   "cell_type": "markdown",
   "id": "577b2f3e",
   "metadata": {
    "papermill": {
     "duration": 0.011605,
     "end_time": "2025-02-19T21:56:45.317087",
     "exception": false,
     "start_time": "2025-02-19T21:56:45.305482",
     "status": "completed"
    },
    "tags": []
   },
   "source": [
    "### 1. Data loading"
   ]
  },
  {
   "cell_type": "code",
   "execution_count": 1,
   "id": "727ceb36",
   "metadata": {
    "execution": {
     "iopub.execute_input": "2025-02-19T21:56:45.339224Z",
     "iopub.status.busy": "2025-02-19T21:56:45.338923Z",
     "iopub.status.idle": "2025-02-19T21:56:49.979038Z",
     "shell.execute_reply": "2025-02-19T21:56:49.978158Z"
    },
    "papermill": {
     "duration": 4.653002,
     "end_time": "2025-02-19T21:56:49.980712",
     "exception": false,
     "start_time": "2025-02-19T21:56:45.327710",
     "status": "completed"
    },
    "tags": []
   },
   "outputs": [
    {
     "name": "stdout",
     "output_type": "stream",
     "text": [
      "\u001b[2K   \u001b[90m━━━━━━━━━━━━━━━━━━━━━━━━━━━━━━━━━━━━━━━━\u001b[0m \u001b[32m44.5/44.5 kB\u001b[0m \u001b[31m2.1 MB/s\u001b[0m eta \u001b[36m0:00:00\u001b[0m\r\n",
      "\u001b[?25h"
     ]
    }
   ],
   "source": [
    "!pip install -q pytorch-tabnet"
   ]
  },
  {
   "cell_type": "code",
   "execution_count": 2,
   "id": "babde95c",
   "metadata": {
    "execution": {
     "iopub.execute_input": "2025-02-19T21:56:50.003614Z",
     "iopub.status.busy": "2025-02-19T21:56:50.003340Z",
     "iopub.status.idle": "2025-02-19T21:56:56.557364Z",
     "shell.execute_reply": "2025-02-19T21:56:56.556634Z"
    },
    "papermill": {
     "duration": 6.567061,
     "end_time": "2025-02-19T21:56:56.558881",
     "exception": false,
     "start_time": "2025-02-19T21:56:49.991820",
     "status": "completed"
    },
    "tags": []
   },
   "outputs": [],
   "source": [
    "import os\n",
    "import sys\n",
    "from pathlib import Path\n",
    "import pandas as pd\n",
    "import numpy as np\n",
    "import  pickle\n",
    "import gc\n",
    "import time\n",
    "import re\n",
    "from tqdm import tqdm\n",
    "\n",
    "import optuna\n",
    "from optuna import distributions\n",
    "import logging\n",
    "import warnings\n",
    "\n",
    "import torch\n",
    "from torch.utils.data import WeightedRandomSampler\n",
    "from torch.utils.data import Dataset, DataLoader\n",
    "from torch import nn\n",
    "import torch.nn.functional as F\n",
    "import torch.optim as optim\n",
    "\n",
    "import matplotlib.pyplot as plt\n",
    "import seaborn as sns\n",
    "\n",
    "\n",
    "from sklearn.metrics import (f1_score,\n",
    "                             accuracy_score,\n",
    "                             precision_score,\n",
    "                             recall_score,\n",
    "                             \n",
    "                             r2_score,\n",
    "                             mean_absolute_error)\n",
    "from sklearn.preprocessing import( StandardScaler,\n",
    "                                   MinMaxScaler,\n",
    "                                   OneHotEncoder,\n",
    "                                   OrdinalEncoder              \n",
    ")\n",
    "from sklearn.model_selection import train_test_split\n",
    "from sklearn.pipeline import Pipeline\n",
    "from sklearn.impute import SimpleImputer\n",
    "from sklearn.compose import ColumnTransformer \n",
    "\n",
    "from collections import Counter\n",
    "from category_encoders import HashingEncoder, TargetEncoder\n",
    "\n",
    "RANDOM_STATE = 51"
   ]
  },
  {
   "cell_type": "markdown",
   "id": "b55b06eb",
   "metadata": {
    "papermill": {
     "duration": 0.010455,
     "end_time": "2025-02-19T21:56:56.580368",
     "exception": false,
     "start_time": "2025-02-19T21:56:56.569913",
     "status": "completed"
    },
    "tags": []
   },
   "source": [
    "### 2. Data preprocessing"
   ]
  },
  {
   "cell_type": "code",
   "execution_count": 3,
   "id": "957d6632",
   "metadata": {
    "execution": {
     "iopub.execute_input": "2025-02-19T21:56:56.602143Z",
     "iopub.status.busy": "2025-02-19T21:56:56.601752Z",
     "iopub.status.idle": "2025-02-19T21:56:56.606092Z",
     "shell.execute_reply": "2025-02-19T21:56:56.605470Z"
    },
    "papermill": {
     "duration": 0.016535,
     "end_time": "2025-02-19T21:56:56.607265",
     "exception": false,
     "start_time": "2025-02-19T21:56:56.590730",
     "status": "completed"
    },
    "tags": []
   },
   "outputs": [],
   "source": [
    "\n",
    "def missing(data):\n",
    "    missing = pd.DataFrame(data.isna().sum(),columns=[\"missing_values\"]).reset_index().query('missing_values != 0 ')\n",
    "    missing.rename(columns={'index': 'column_name'}, inplace=True)\n",
    "    return missing.reset_index(drop=True)\n",
    "    \n",
    "\n",
    "def score( y_true,y_pred):\n",
    "    print('accuracy: ',accuracy_score( y_true, y_pred))\n",
    "    print('precision: ', precision_score( y_true, y_pred))\n",
    "    print( 'recall: ', recall_score( y_true, y_pred))\n",
    "    print('f1: ',f1_score(y_true, y_pred))          \n"
   ]
  },
  {
   "cell_type": "code",
   "execution_count": 4,
   "id": "4047e829",
   "metadata": {
    "execution": {
     "iopub.execute_input": "2025-02-19T21:56:56.628698Z",
     "iopub.status.busy": "2025-02-19T21:56:56.628419Z",
     "iopub.status.idle": "2025-02-19T21:58:13.520714Z",
     "shell.execute_reply": "2025-02-19T21:58:13.519800Z"
    },
    "papermill": {
     "duration": 76.91382,
     "end_time": "2025-02-19T21:58:13.531510",
     "exception": false,
     "start_time": "2025-02-19T21:56:56.617690",
     "status": "completed"
    },
    "tags": []
   },
   "outputs": [
    {
     "name": "stdout",
     "output_type": "stream",
     "text": [
      "/kaggle/input/a-money/train.csv \n",
      " /kaggle/input/a-money/test.csv\n"
     ]
    }
   ],
   "source": [
    "try:\n",
    "    path_data_train= Path(Path.cwd()/'adengi-internship_1/train.csv')\n",
    "    path_data_test= Path(Path.cwd()/'adengi-internship_1/test.csv')\n",
    "   \n",
    "    df_train = pd.read_csv(path_data_train)\n",
    "    df_test = pd.read_csv(path_data_test)\n",
    "    \n",
    "    \n",
    "except:\n",
    "\n",
    "    path_data_train = Path('/kaggle/input/a-money/train.csv')\n",
    "    path_data_test = Path('/kaggle/input/a-money/test.csv')\n",
    "\n",
    "    df_train = pd.read_csv(path_data_train)\n",
    "    df_test = pd.read_csv(path_data_test)\n",
    "    \n",
    "print(path_data_train, '\\n',path_data_test)\n"
   ]
  },
  {
   "cell_type": "code",
   "execution_count": 5,
   "id": "f848df7e",
   "metadata": {
    "execution": {
     "iopub.execute_input": "2025-02-19T21:58:13.553927Z",
     "iopub.status.busy": "2025-02-19T21:58:13.553589Z",
     "iopub.status.idle": "2025-02-19T21:58:13.568877Z",
     "shell.execute_reply": "2025-02-19T21:58:13.568086Z"
    },
    "papermill": {
     "duration": 0.028066,
     "end_time": "2025-02-19T21:58:13.570099",
     "exception": false,
     "start_time": "2025-02-19T21:58:13.542033",
     "status": "completed"
    },
    "tags": []
   },
   "outputs": [],
   "source": [
    "replace_dict = {\n",
    "    'чуваш': 'Чувашская',\n",
    "    'мари': 'Марий Эл',\n",
    "     'луган': 'ЛНР',\n",
    "    'донец': 'ДНР',\n",
    "    'якут': 'Якутия',\n",
    "    'осет':'Северная Осетия',\n",
    "    'саха' : 'Якутия'\n",
    "    \n",
    "}\n",
    "\n",
    "\n",
    "replace_dict_2  = {\n",
    "    'ямал':  'ао Ямало-Ненецкий',\n",
    "    'ненец': 'ао Ненецкий',\n",
    "    'ханты' : 'ао Ханты-Мансийский',\n",
    "     \n",
    "    'чукотск':'ао Чукотский', \n",
    "    'еврейск': 'аобл Еврейская'\n",
    "    \n",
    "}\n",
    "\n",
    "replace_dict_3 = {\n",
    "    'москв':'обл Московская',\n",
    "    'севаст':'респ Крым',\n",
    "    ' санкт':'обл Ленинградская'\n",
    "}\n",
    "def change(text):\n",
    "    text =' '.join(text)\n",
    "    string= False\n",
    "    for i in replace_dict:\n",
    "        if  re.search( rf'(?i)\\w*{i}\\w*', text):\n",
    "            string = replace_dict.get(i)\n",
    "    if  string:\n",
    "        return 'респ '+string\n",
    "    return 'респ ' + text   \n",
    "\n",
    "def  change_2(text): \n",
    "    for i in replace_dict_2:\n",
    "        if re.search( rf'(?i)\\w*{i}\\w*', text):\n",
    "            return replace_dict_2.get(i) \n",
    "\n",
    "def  change_3(text): \n",
    "    for i in replace_dict_3:\n",
    "        if re.search( rf'(?i)\\w*{i}\\w*', text):\n",
    "            return replace_dict_3.get(i) \n",
    "      \n",
    "\n",
    "def region_1(string):\n",
    "    # string = string.astype('str')\n",
    "    if re.search(r'(?i)\\bобл\\b|\\bобласть\\b', string):\n",
    "        # print('обл')\n",
    "        return 'обл '+set(re.findall(r'\\b\\w*кая\\b', string)).pop().capitalize()\n",
    "    #elif re.search(r'\\bг\\b|\\bрайон\\b', string):\n",
    "        # print('г')\n",
    "        #return 'г '+ set(re.sub(r'(?i)\\bг\\b|\\bрайон\\b' ,'', string).split()).pop()\n",
    "    elif re.search(r'\\bг\\b|\\bрайон\\b', string):\n",
    "        #print('г')\n",
    "        return change_3(string)\n",
    "    \n",
    "    elif  re.search(r'(?i)респ', string):\n",
    "        # print('респ')\n",
    "        resp = list(set(re.sub(r'(?i)\\b\\w*респ\\w*\\b', '', string).split()))\n",
    "        return change(resp) \n",
    "    elif re.search(r'(?i)край',string) and not re.search(r'(?i)область', string):\n",
    "        return 'край '+set(re.findall(r'\\b\\w*ский\\b', string)).pop().capitalize()\n",
    "\n",
    "    elif re.search(r'(?i)\\bао\\b|\\bавтономный\\b|\\bеврейская\\b', string):\n",
    "        # print('AO',string, 'sss')\n",
    "        return change_2(string)\n",
    "    return 'unknown ' + string"
   ]
  },
  {
   "cell_type": "code",
   "execution_count": 6,
   "id": "f4a30b8d",
   "metadata": {
    "execution": {
     "iopub.execute_input": "2025-02-19T21:58:13.591555Z",
     "iopub.status.busy": "2025-02-19T21:58:13.591288Z",
     "iopub.status.idle": "2025-02-19T21:58:47.761576Z",
     "shell.execute_reply": "2025-02-19T21:58:47.760678Z"
    },
    "papermill": {
     "duration": 34.192907,
     "end_time": "2025-02-19T21:58:47.773446",
     "exception": false,
     "start_time": "2025-02-19T21:58:13.580539",
     "status": "completed"
    },
    "tags": []
   },
   "outputs": [
    {
     "name": "stdout",
     "output_type": "stream",
     "text": [
      "CPU times: user 33.8 s, sys: 364 ms, total: 34.2 s\n",
      "Wall time: 34.2 s\n"
     ]
    }
   ],
   "source": [
    "%%time\n",
    "df_train['region_new']= df_train['region'].map(region_1)\n",
    "df_test['region_new'] = df_test['region'].map(region_1)"
   ]
  },
  {
   "cell_type": "code",
   "execution_count": 7,
   "id": "94d946d1",
   "metadata": {
    "execution": {
     "iopub.execute_input": "2025-02-19T21:58:47.795141Z",
     "iopub.status.busy": "2025-02-19T21:58:47.794893Z",
     "iopub.status.idle": "2025-02-19T21:58:49.301551Z",
     "shell.execute_reply": "2025-02-19T21:58:49.300703Z"
    },
    "papermill": {
     "duration": 1.519013,
     "end_time": "2025-02-19T21:58:49.302941",
     "exception": false,
     "start_time": "2025-02-19T21:58:47.783928",
     "status": "completed"
    },
    "tags": []
   },
   "outputs": [
    {
     "name": "stdout",
     "output_type": "stream",
     "text": [
      "Число регионов в test: 86, Число регионов в train: 86\n",
      "дельта test^train:  set()\n"
     ]
    }
   ],
   "source": [
    "region_train= df_train['region_new'].unique()\n",
    "region_test = df_test['region_new'].unique()\n",
    "print(f'Число регионов в test: {len(region_test)},', f'Число регионов в train: {len(region_train)}')\n",
    "\n",
    "print('дельта test^train: ',set(df_test['region_new'])^set( df_train['region_new']))"
   ]
  },
  {
   "cell_type": "code",
   "execution_count": 8,
   "id": "a5b8e0fc",
   "metadata": {
    "execution": {
     "iopub.execute_input": "2025-02-19T21:58:49.325264Z",
     "iopub.status.busy": "2025-02-19T21:58:49.325019Z",
     "iopub.status.idle": "2025-02-19T21:58:50.610138Z",
     "shell.execute_reply": "2025-02-19T21:58:50.609071Z"
    },
    "papermill": {
     "duration": 1.297648,
     "end_time": "2025-02-19T21:58:50.611598",
     "exception": false,
     "start_time": "2025-02-19T21:58:49.313950",
     "status": "completed"
    },
    "tags": []
   },
   "outputs": [
    {
     "name": "stdout",
     "output_type": "stream",
     "text": [
      "settlement unique():  47357\n"
     ]
    }
   ],
   "source": [
    "print('settlement unique(): ', len(df_train['settlement'].unique()))\n",
    "\n",
    "N=7000 #  частота <10000 закодируем other\n",
    "settlement= Counter(df_train['settlement'])\n",
    "vocab_settelement = [i[0] for i in settlement.most_common(N)] \n",
    "\n",
    "def settlement_columns(data):\n",
    "    #data['settlement_new'] =data['settlement'].apply(lambda x: x.lower() if x in vocab_settelement else 'others')   \n",
    "    data['settlement_new'] =data['settlement'].where(data['settlement'].isin(vocab_settelement),'others')"
   ]
  },
  {
   "cell_type": "code",
   "execution_count": 9,
   "id": "33f3d5b8",
   "metadata": {
    "execution": {
     "iopub.execute_input": "2025-02-19T21:58:50.634108Z",
     "iopub.status.busy": "2025-02-19T21:58:50.633843Z",
     "iopub.status.idle": "2025-02-19T21:58:51.165194Z",
     "shell.execute_reply": "2025-02-19T21:58:51.164344Z"
    },
    "papermill": {
     "duration": 0.544129,
     "end_time": "2025-02-19T21:58:51.166710",
     "exception": false,
     "start_time": "2025-02-19T21:58:50.622581",
     "status": "completed"
    },
    "tags": []
   },
   "outputs": [
    {
     "name": "stdout",
     "output_type": "stream",
     "text": [
      "CPU times: user 526 ms, sys: 15 µs, total: 526 ms\n",
      "Wall time: 527 ms\n"
     ]
    }
   ],
   "source": [
    "%%time\n",
    "settlement_columns(df_train)\n",
    "settlement_columns(df_test)"
   ]
  },
  {
   "cell_type": "code",
   "execution_count": 10,
   "id": "f38b225a",
   "metadata": {
    "execution": {
     "iopub.execute_input": "2025-02-19T21:58:51.190214Z",
     "iopub.status.busy": "2025-02-19T21:58:51.189971Z",
     "iopub.status.idle": "2025-02-19T21:58:51.195347Z",
     "shell.execute_reply": "2025-02-19T21:58:51.194706Z"
    },
    "papermill": {
     "duration": 0.018808,
     "end_time": "2025-02-19T21:58:51.196508",
     "exception": false,
     "start_time": "2025-02-19T21:58:51.177700",
     "status": "completed"
    },
    "tags": []
   },
   "outputs": [],
   "source": [
    "def time_columns (data):\n",
    "    data['created_at'] = pd.to_datetime(data['created_at'], errors='coerce')\n",
    "    data['start_dt'] = pd.to_datetime(data['start_dt'], errors='coerce')\n",
    "    \n",
    "    data['start_dt_new'] = data['start_dt'].copy()  # для  реализации п. 2.1.3.1 в baseline не используется\n",
    "     \n",
    "    data['start_dt'] = data.groupby('client_id')['start_dt'].transform(\n",
    "            lambda x: x.fillna(x.min()))\n",
    "    \n",
    "    data['start_dt'] = data['start_dt'].fillna(data['created_at'])\n",
    "\n",
    "    data['month'] = data['created_at'].dt.month\n",
    "    data['day'] = data['created_at'].dt.day\n",
    "    data['week'] = data['created_at'].dt.dayofweek\n",
    "\n",
    "    reference_date = pd.to_datetime('2022-01-01')\n",
    "\n",
    "    # data['start_dt_xg'] = data['start_dt_new'].fillna(df_train['created_at'])\n",
    "    # data['start_dt_xg'] =(data['start_dt_xg']-reference_date).dt.days\n",
    "    \n",
    "    data['created_at'] = (data['created_at'] - reference_date).dt.days\n",
    "    data['start_dt'] = (data['start_dt'] - reference_date).dt.days\n",
    "    \n",
    "    data['days_diff'] = data['start_dt']-data['created_at']\n",
    "    # data['days_diff_1'] = data['start_dt_new']-data['created_at']\n",
    "    "
   ]
  },
  {
   "cell_type": "code",
   "execution_count": 11,
   "id": "09d73aec",
   "metadata": {
    "execution": {
     "iopub.execute_input": "2025-02-19T21:58:51.218355Z",
     "iopub.status.busy": "2025-02-19T21:58:51.218132Z",
     "iopub.status.idle": "2025-02-19T22:04:33.324684Z",
     "shell.execute_reply": "2025-02-19T22:04:33.323795Z"
    },
    "papermill": {
     "duration": 342.129023,
     "end_time": "2025-02-19T22:04:33.336153",
     "exception": false,
     "start_time": "2025-02-19T21:58:51.207130",
     "status": "completed"
    },
    "tags": []
   },
   "outputs": [
    {
     "name": "stdout",
     "output_type": "stream",
     "text": [
      "CPU times: user 5min 36s, sys: 6.57 s, total: 5min 43s\n",
      "Wall time: 5min 42s\n"
     ]
    }
   ],
   "source": [
    "%%time\n",
    "time_columns(df_train)\n",
    "time_columns(df_test)"
   ]
  },
  {
   "cell_type": "code",
   "execution_count": 12,
   "id": "02ed6175",
   "metadata": {
    "execution": {
     "iopub.execute_input": "2025-02-19T22:04:33.358751Z",
     "iopub.status.busy": "2025-02-19T22:04:33.358445Z",
     "iopub.status.idle": "2025-02-19T22:04:33.644211Z",
     "shell.execute_reply": "2025-02-19T22:04:33.643293Z"
    },
    "papermill": {
     "duration": 0.298373,
     "end_time": "2025-02-19T22:04:33.645468",
     "exception": false,
     "start_time": "2025-02-19T22:04:33.347095",
     "status": "completed"
    },
    "tags": []
   },
   "outputs": [
    {
     "data": {
      "text/plain": [
       "Index(['monthly_income', 'work_experience', 'requested_sum',\n",
       "       'main_agreement_amount', 'main_agreement_term', 'requested_period_days',\n",
       "       'requested_amount', 'req_app_amount', 'approved_amount', 'period_days',\n",
       "       'days_finish_loan', 'ag', 'cnt_ext', 'term', 'price', 'elecs_sum',\n",
       "       'recurents_sum', 'tamount', 'issues', 'principal', 'interest',\n",
       "       'overdue_interest', 'overdue_fee', 'nbki_score', 'contact_cases'],\n",
       "      dtype='object')"
      ]
     },
     "execution_count": 12,
     "metadata": {},
     "output_type": "execute_result"
    }
   ],
   "source": [
    "df_train.select_dtypes(include='float').columns"
   ]
  },
  {
   "cell_type": "markdown",
   "id": "6d51aa41",
   "metadata": {
    "papermill": {
     "duration": 0.010938,
     "end_time": "2025-02-19T22:04:33.668356",
     "exception": false,
     "start_time": "2025-02-19T22:04:33.657418",
     "status": "completed"
    },
    "tags": []
   },
   "source": [
    "- monthly_income - среднемесячный заработок клиента (зарплата)\n",
    "- work_experience - кол-во лет стажа клиента\n",
    "- requested_sum - запрашиваемая сумма клиента для займа, если interface - alfa\n",
    "- requested_period_days - запрашиваемый срок по займу\n",
    "- requested_amount - запрашиваемая сумма клиента по займу\n",
    "- req_app_amount - разница между запрашиваемой суммой займа и одобренной\n",
    "- cnt_ext - кол-во пролонгаций по займу\n",
    "- term - срок пролонгации (список)\n",
    "- price - цена пролонгации (список)\n",
    "- elecs_sum - штрафы, пени\n",
    "- recurents_sum - штрафы, пени (там вроде как различия в этапах их начисления)\n",
    "- tamount - общий кэшфлоу клиента (общая сумма которая была на аккаунте клиента)\n",
    "- nbki_score - скор клиента от рисков\n",
    "- contact_cases - кол-во обращений клиента с коллекшн"
   ]
  },
  {
   "cell_type": "code",
   "execution_count": 13,
   "id": "3bd225cd",
   "metadata": {
    "execution": {
     "iopub.execute_input": "2025-02-19T22:04:33.691393Z",
     "iopub.status.busy": "2025-02-19T22:04:33.691123Z",
     "iopub.status.idle": "2025-02-19T22:04:33.723169Z",
     "shell.execute_reply": "2025-02-19T22:04:33.722256Z"
    },
    "papermill": {
     "duration": 0.045312,
     "end_time": "2025-02-19T22:04:33.724742",
     "exception": false,
     "start_time": "2025-02-19T22:04:33.679430",
     "status": "completed"
    },
    "tags": []
   },
   "outputs": [],
   "source": [
    "df_test.loc[df_test['monthly_income']>10,'monthly_income'] =\\\n",
    "    df_test.loc[df_test['monthly_income']>10,'monthly_income']/1000\n",
    "\n",
    "df_train.loc[df_train['monthly_income']>10,'monthly_income'] =\\\n",
    "    df_train.loc[df_train['monthly_income']>10,'monthly_income']/1000"
   ]
  },
  {
   "cell_type": "code",
   "execution_count": 14,
   "id": "e17840b1",
   "metadata": {
    "execution": {
     "iopub.execute_input": "2025-02-19T22:04:33.748190Z",
     "iopub.status.busy": "2025-02-19T22:04:33.747896Z",
     "iopub.status.idle": "2025-02-19T22:04:33.751672Z",
     "shell.execute_reply": "2025-02-19T22:04:33.751008Z"
    },
    "papermill": {
     "duration": 0.016809,
     "end_time": "2025-02-19T22:04:33.752945",
     "exception": false,
     "start_time": "2025-02-19T22:04:33.736136",
     "status": "completed"
    },
    "tags": []
   },
   "outputs": [],
   "source": [
    "def simpl_median(name):\n",
    "    imp_median = SimpleImputer(strategy='median')\n",
    "    df_train[name] = imp_median.fit_transform(df_train[[name]]) \n",
    "    df_test[name] = imp_median.transform(df_test[[name]])"
   ]
  },
  {
   "cell_type": "code",
   "execution_count": 15,
   "id": "660a1f37",
   "metadata": {
    "execution": {
     "iopub.execute_input": "2025-02-19T22:04:33.775234Z",
     "iopub.status.busy": "2025-02-19T22:04:33.775016Z",
     "iopub.status.idle": "2025-02-19T22:04:34.522801Z",
     "shell.execute_reply": "2025-02-19T22:04:34.522007Z"
    },
    "papermill": {
     "duration": 0.760523,
     "end_time": "2025-02-19T22:04:34.524328",
     "exception": false,
     "start_time": "2025-02-19T22:04:33.763805",
     "status": "completed"
    },
    "tags": []
   },
   "outputs": [],
   "source": [
    "simpl_median('monthly_income')"
   ]
  },
  {
   "cell_type": "code",
   "execution_count": 16,
   "id": "d3c68462",
   "metadata": {
    "execution": {
     "iopub.execute_input": "2025-02-19T22:04:34.547375Z",
     "iopub.status.busy": "2025-02-19T22:04:34.547129Z",
     "iopub.status.idle": "2025-02-19T22:04:34.550734Z",
     "shell.execute_reply": "2025-02-19T22:04:34.550072Z"
    },
    "papermill": {
     "duration": 0.0163,
     "end_time": "2025-02-19T22:04:34.551926",
     "exception": false,
     "start_time": "2025-02-19T22:04:34.535626",
     "status": "completed"
    },
    "tags": []
   },
   "outputs": [],
   "source": [
    "def min_simple(name):\n",
    "    df_train[name]=df_train[name].fillna(df_train[name].min())\n",
    "    df_test[name]=df_test[name].fillna(df_test[name].min())"
   ]
  },
  {
   "cell_type": "code",
   "execution_count": 17,
   "id": "b972807e",
   "metadata": {
    "execution": {
     "iopub.execute_input": "2025-02-19T22:04:34.574093Z",
     "iopub.status.busy": "2025-02-19T22:04:34.573865Z",
     "iopub.status.idle": "2025-02-19T22:04:34.587247Z",
     "shell.execute_reply": "2025-02-19T22:04:34.586596Z"
    },
    "papermill": {
     "duration": 0.025844,
     "end_time": "2025-02-19T22:04:34.588445",
     "exception": false,
     "start_time": "2025-02-19T22:04:34.562601",
     "status": "completed"
    },
    "tags": []
   },
   "outputs": [
    {
     "data": {
      "text/plain": [
       "(-0.7206081182984045, -0.7206081182984045)"
      ]
     },
     "execution_count": 17,
     "metadata": {},
     "output_type": "execute_result"
    }
   ],
   "source": [
    "df_train['cnt_ext'].min(), df_test['cnt_ext'].min()"
   ]
  },
  {
   "cell_type": "code",
   "execution_count": 18,
   "id": "e5d2655e",
   "metadata": {
    "execution": {
     "iopub.execute_input": "2025-02-19T22:04:34.610789Z",
     "iopub.status.busy": "2025-02-19T22:04:34.610524Z",
     "iopub.status.idle": "2025-02-19T22:04:34.661350Z",
     "shell.execute_reply": "2025-02-19T22:04:34.660637Z"
    },
    "papermill": {
     "duration": 0.063694,
     "end_time": "2025-02-19T22:04:34.662984",
     "exception": false,
     "start_time": "2025-02-19T22:04:34.599290",
     "status": "completed"
    },
    "tags": []
   },
   "outputs": [],
   "source": [
    "min_simple('cnt_ext')"
   ]
  },
  {
   "cell_type": "code",
   "execution_count": 19,
   "id": "fb731de0",
   "metadata": {
    "execution": {
     "iopub.execute_input": "2025-02-19T22:04:34.685921Z",
     "iopub.status.busy": "2025-02-19T22:04:34.685625Z",
     "iopub.status.idle": "2025-02-19T22:04:34.689194Z",
     "shell.execute_reply": "2025-02-19T22:04:34.688555Z"
    },
    "papermill": {
     "duration": 0.016253,
     "end_time": "2025-02-19T22:04:34.690545",
     "exception": false,
     "start_time": "2025-02-19T22:04:34.674292",
     "status": "completed"
    },
    "tags": []
   },
   "outputs": [],
   "source": [
    "def zerro_simple(name):\n",
    "    df_train[name]=df_train[name].fillna(0)\n",
    "    df_test[name]=df_test[name].fillna(0)"
   ]
  },
  {
   "cell_type": "code",
   "execution_count": 20,
   "id": "d1f420ee",
   "metadata": {
    "execution": {
     "iopub.execute_input": "2025-02-19T22:04:34.713103Z",
     "iopub.status.busy": "2025-02-19T22:04:34.712893Z",
     "iopub.status.idle": "2025-02-19T22:04:34.751100Z",
     "shell.execute_reply": "2025-02-19T22:04:34.750411Z"
    },
    "papermill": {
     "duration": 0.050772,
     "end_time": "2025-02-19T22:04:34.752511",
     "exception": false,
     "start_time": "2025-02-19T22:04:34.701739",
     "status": "completed"
    },
    "tags": []
   },
   "outputs": [],
   "source": [
    "zerro_simple('contact_cases')"
   ]
  },
  {
   "cell_type": "code",
   "execution_count": 21,
   "id": "9d5b61da",
   "metadata": {
    "execution": {
     "iopub.execute_input": "2025-02-19T22:04:34.775427Z",
     "iopub.status.busy": "2025-02-19T22:04:34.775200Z",
     "iopub.status.idle": "2025-02-19T22:04:34.857326Z",
     "shell.execute_reply": "2025-02-19T22:04:34.856587Z"
    },
    "papermill": {
     "duration": 0.095065,
     "end_time": "2025-02-19T22:04:34.859007",
     "exception": false,
     "start_time": "2025-02-19T22:04:34.763942",
     "status": "completed"
    },
    "tags": []
   },
   "outputs": [],
   "source": [
    "min_simple('elecs_sum')\n",
    "min_simple('recurents_sum')"
   ]
  },
  {
   "cell_type": "code",
   "execution_count": 22,
   "id": "08ca7ba6",
   "metadata": {
    "execution": {
     "iopub.execute_input": "2025-02-19T22:04:34.881974Z",
     "iopub.status.busy": "2025-02-19T22:04:34.881673Z",
     "iopub.status.idle": "2025-02-19T22:04:35.259287Z",
     "shell.execute_reply": "2025-02-19T22:04:35.258590Z"
    },
    "papermill": {
     "duration": 0.390456,
     "end_time": "2025-02-19T22:04:35.260763",
     "exception": false,
     "start_time": "2025-02-19T22:04:34.870307",
     "status": "completed"
    },
    "tags": []
   },
   "outputs": [],
   "source": [
    "simpl_median('nbki_score')"
   ]
  },
  {
   "cell_type": "code",
   "execution_count": 23,
   "id": "2d0c5b16",
   "metadata": {
    "execution": {
     "iopub.execute_input": "2025-02-19T22:04:35.283526Z",
     "iopub.status.busy": "2025-02-19T22:04:35.283258Z",
     "iopub.status.idle": "2025-02-19T22:04:35.328908Z",
     "shell.execute_reply": "2025-02-19T22:04:35.328191Z"
    },
    "papermill": {
     "duration": 0.058442,
     "end_time": "2025-02-19T22:04:35.330427",
     "exception": false,
     "start_time": "2025-02-19T22:04:35.271985",
     "status": "completed"
    },
    "tags": []
   },
   "outputs": [],
   "source": [
    "min_simple('price')"
   ]
  },
  {
   "cell_type": "code",
   "execution_count": 24,
   "id": "2b7cead7",
   "metadata": {
    "execution": {
     "iopub.execute_input": "2025-02-19T22:04:35.353484Z",
     "iopub.status.busy": "2025-02-19T22:04:35.353228Z",
     "iopub.status.idle": "2025-02-19T22:04:35.469168Z",
     "shell.execute_reply": "2025-02-19T22:04:35.468456Z"
    },
    "papermill": {
     "duration": 0.128864,
     "end_time": "2025-02-19T22:04:35.470587",
     "exception": false,
     "start_time": "2025-02-19T22:04:35.341723",
     "status": "completed"
    },
    "tags": []
   },
   "outputs": [],
   "source": [
    "df_train['requested_sum'] = df_train['requested_sum'].fillna(\n",
    "            df_train['approved_amount'] * df_train['requested_sum'].mean() / df_train['approved_amount'].mean())\n",
    "\n",
    "df_test['requested_sum'] = df_test['requested_sum'].fillna(\n",
    "            df_test['approved_amount'] * df_test['requested_sum'].mean() / df_test['approved_amount'].mean())"
   ]
  },
  {
   "cell_type": "code",
   "execution_count": 25,
   "id": "2df9e775",
   "metadata": {
    "execution": {
     "iopub.execute_input": "2025-02-19T22:04:35.532270Z",
     "iopub.status.busy": "2025-02-19T22:04:35.531987Z",
     "iopub.status.idle": "2025-02-19T22:04:35.574616Z",
     "shell.execute_reply": "2025-02-19T22:04:35.573950Z"
    },
    "papermill": {
     "duration": 0.094141,
     "end_time": "2025-02-19T22:04:35.576021",
     "exception": false,
     "start_time": "2025-02-19T22:04:35.481880",
     "status": "completed"
    },
    "tags": []
   },
   "outputs": [],
   "source": [
    "df_train['requested_amount'] = df_train['requested_amount'].fillna(df_train['requested_sum'])\n",
    "df_test['requested_amount'] =  df_test['requested_amount'].fillna(df_test['requested_sum'])"
   ]
  },
  {
   "cell_type": "code",
   "execution_count": 26,
   "id": "c8dd62d1",
   "metadata": {
    "execution": {
     "iopub.execute_input": "2025-02-19T22:04:35.598999Z",
     "iopub.status.busy": "2025-02-19T22:04:35.598755Z",
     "iopub.status.idle": "2025-02-19T22:04:35.658412Z",
     "shell.execute_reply": "2025-02-19T22:04:35.657443Z"
    },
    "papermill": {
     "duration": 0.073441,
     "end_time": "2025-02-19T22:04:35.660734",
     "exception": false,
     "start_time": "2025-02-19T22:04:35.587293",
     "status": "completed"
    },
    "tags": []
   },
   "outputs": [],
   "source": [
    "df_train['req_app_amount'] = df_train['req_app_amount'].fillna(df_train['requested_amount'] - df_train['approved_amount'])\n",
    "df_test['req_app_amount'] =df_test['req_app_amount'].fillna( df_test['requested_amount'] - df_test['approved_amount'])"
   ]
  },
  {
   "cell_type": "code",
   "execution_count": 27,
   "id": "b60f179d",
   "metadata": {
    "execution": {
     "iopub.execute_input": "2025-02-19T22:04:35.684253Z",
     "iopub.status.busy": "2025-02-19T22:04:35.683964Z",
     "iopub.status.idle": "2025-02-19T22:04:36.192654Z",
     "shell.execute_reply": "2025-02-19T22:04:36.191939Z"
    },
    "papermill": {
     "duration": 0.522106,
     "end_time": "2025-02-19T22:04:36.194265",
     "exception": false,
     "start_time": "2025-02-19T22:04:35.672159",
     "status": "completed"
    },
    "tags": []
   },
   "outputs": [],
   "source": [
    "simpl_median('requested_period_days')"
   ]
  },
  {
   "cell_type": "code",
   "execution_count": 28,
   "id": "146a4658",
   "metadata": {
    "execution": {
     "iopub.execute_input": "2025-02-19T22:04:36.217687Z",
     "iopub.status.busy": "2025-02-19T22:04:36.217397Z",
     "iopub.status.idle": "2025-02-19T22:04:36.221120Z",
     "shell.execute_reply": "2025-02-19T22:04:36.220313Z"
    },
    "papermill": {
     "duration": 0.016681,
     "end_time": "2025-02-19T22:04:36.222410",
     "exception": false,
     "start_time": "2025-02-19T22:04:36.205729",
     "status": "completed"
    },
    "tags": []
   },
   "outputs": [],
   "source": [
    "def simple_moda(name):\n",
    "    imp_mode = SimpleImputer(strategy=\"most_frequent\")\n",
    "    df_train[name]=imp_mode.fit_transform(df_train[[name]])\n",
    "    df_test[name]=imp_mode.transform(df_test[[name]])"
   ]
  },
  {
   "cell_type": "code",
   "execution_count": 29,
   "id": "87371417",
   "metadata": {
    "execution": {
     "iopub.execute_input": "2025-02-19T22:04:36.245300Z",
     "iopub.status.busy": "2025-02-19T22:04:36.245067Z",
     "iopub.status.idle": "2025-02-19T22:04:36.543630Z",
     "shell.execute_reply": "2025-02-19T22:04:36.542728Z"
    },
    "papermill": {
     "duration": 0.311404,
     "end_time": "2025-02-19T22:04:36.545262",
     "exception": false,
     "start_time": "2025-02-19T22:04:36.233858",
     "status": "completed"
    },
    "tags": []
   },
   "outputs": [],
   "source": [
    "simple_moda('tamount')"
   ]
  },
  {
   "cell_type": "code",
   "execution_count": 30,
   "id": "5e19df97",
   "metadata": {
    "execution": {
     "iopub.execute_input": "2025-02-19T22:04:36.568537Z",
     "iopub.status.busy": "2025-02-19T22:04:36.568276Z",
     "iopub.status.idle": "2025-02-19T22:04:36.619421Z",
     "shell.execute_reply": "2025-02-19T22:04:36.618726Z"
    },
    "papermill": {
     "duration": 0.064278,
     "end_time": "2025-02-19T22:04:36.621135",
     "exception": false,
     "start_time": "2025-02-19T22:04:36.556857",
     "status": "completed"
    },
    "tags": []
   },
   "outputs": [],
   "source": [
    "zerro_simple('work_experience')"
   ]
  },
  {
   "cell_type": "code",
   "execution_count": 31,
   "id": "e5290d19",
   "metadata": {
    "execution": {
     "iopub.execute_input": "2025-02-19T22:04:36.644597Z",
     "iopub.status.busy": "2025-02-19T22:04:36.644349Z",
     "iopub.status.idle": "2025-02-19T22:04:36.700734Z",
     "shell.execute_reply": "2025-02-19T22:04:36.699984Z"
    },
    "papermill": {
     "duration": 0.069496,
     "end_time": "2025-02-19T22:04:36.702246",
     "exception": false,
     "start_time": "2025-02-19T22:04:36.632750",
     "status": "completed"
    },
    "tags": []
   },
   "outputs": [],
   "source": [
    "min_simple('term')"
   ]
  },
  {
   "cell_type": "code",
   "execution_count": 32,
   "id": "24b26c25",
   "metadata": {
    "execution": {
     "iopub.execute_input": "2025-02-19T22:04:36.725542Z",
     "iopub.status.busy": "2025-02-19T22:04:36.725256Z",
     "iopub.status.idle": "2025-02-19T22:04:36.728432Z",
     "shell.execute_reply": "2025-02-19T22:04:36.727868Z"
    },
    "papermill": {
     "duration": 0.015729,
     "end_time": "2025-02-19T22:04:36.729529",
     "exception": false,
     "start_time": "2025-02-19T22:04:36.713800",
     "status": "completed"
    },
    "tags": []
   },
   "outputs": [],
   "source": [
    "columns_flat_no_na=['ag',\n",
    "'approved_amount',\n",
    "'days_finish_loan',\n",
    "'interest',\n",
    "'issues',\n",
    "'main_agreement_amount',\n",
    "'main_agreement_term',\n",
    "'overdue_fee',\n",
    "'overdue_interest',\n",
    "'period_days',\n",
    "'principal']"
   ]
  },
  {
   "cell_type": "code",
   "execution_count": 33,
   "id": "9a3c589c",
   "metadata": {
    "execution": {
     "iopub.execute_input": "2025-02-19T22:04:36.752016Z",
     "iopub.status.busy": "2025-02-19T22:04:36.751781Z",
     "iopub.status.idle": "2025-02-19T22:04:37.319310Z",
     "shell.execute_reply": "2025-02-19T22:04:37.318516Z"
    },
    "papermill": {
     "duration": 0.580388,
     "end_time": "2025-02-19T22:04:37.320870",
     "exception": false,
     "start_time": "2025-02-19T22:04:36.740482",
     "status": "completed"
    },
    "tags": []
   },
   "outputs": [
    {
     "data": {
      "text/plain": [
       "Index(['payment_frequency', 'status', 'loan_id', 'client_id', 'source',\n",
       "       'first_source', 'interface', 'type', 'repayment_type', 'client_type',\n",
       "       'loan_order', 'have_extension', 'created_at', 'start_dt', 'churn',\n",
       "       'month', 'day', 'week'],\n",
       "      dtype='object')"
      ]
     },
     "execution_count": 33,
     "metadata": {},
     "output_type": "execute_result"
    }
   ],
   "source": [
    "columns_int = df_train.select_dtypes(include=['int64', 'int32']).columns\n",
    "columns_int"
   ]
  },
  {
   "cell_type": "markdown",
   "id": "26c0101c",
   "metadata": {
    "papermill": {
     "duration": 0.01103,
     "end_time": "2025-02-19T22:04:37.343369",
     "exception": false,
     "start_time": "2025-02-19T22:04:37.332339",
     "status": "completed"
    },
    "tags": []
   },
   "source": [
    "- payment_frequency - частота получения зарплаты (month - 1 раз в месяц, 2 weeks - раз в две недели, и тд)\n",
    "- status - статус клиента (самозанятый, рабочий, и тд)\n",
    "- source - канал привлечения клиента\n",
    "- first_source - первый канал привлечения клиента\n",
    "- interface - интерфейс, откуда пришла заявка - (site, mobile)\n",
    "- type - тип займа (тип продукта)\n",
    "- repayment_type - Тип комиссии по займу (с 2.5% - with_comission, 5% - with_big_comission, 0% - no_comission)\n",
    "- client_type - тип клиента (новый, повторный)\n",
    "- have_extension - имеется ли пролонгация по данному займу"
   ]
  },
  {
   "cell_type": "code",
   "execution_count": 34,
   "id": "49bbf8e5",
   "metadata": {
    "execution": {
     "iopub.execute_input": "2025-02-19T22:04:37.366088Z",
     "iopub.status.busy": "2025-02-19T22:04:37.365822Z",
     "iopub.status.idle": "2025-02-19T22:04:37.369033Z",
     "shell.execute_reply": "2025-02-19T22:04:37.368414Z"
    },
    "papermill": {
     "duration": 0.016068,
     "end_time": "2025-02-19T22:04:37.370234",
     "exception": false,
     "start_time": "2025-02-19T22:04:37.354166",
     "status": "completed"
    },
    "tags": []
   },
   "outputs": [],
   "source": [
    "list_int= ['payment_frequency', 'status','source', 'first_source',\n",
    "         'interface', 'type', 'repayment_type', 'client_type','have_extension']"
   ]
  },
  {
   "cell_type": "code",
   "execution_count": 35,
   "id": "c49dc9a8",
   "metadata": {
    "execution": {
     "iopub.execute_input": "2025-02-19T22:04:37.393025Z",
     "iopub.status.busy": "2025-02-19T22:04:37.392807Z",
     "iopub.status.idle": "2025-02-19T22:04:39.056042Z",
     "shell.execute_reply": "2025-02-19T22:04:39.055208Z"
    },
    "papermill": {
     "duration": 1.676811,
     "end_time": "2025-02-19T22:04:39.058147",
     "exception": false,
     "start_time": "2025-02-19T22:04:37.381336",
     "status": "completed"
    },
    "tags": []
   },
   "outputs": [],
   "source": [
    "client_count=dict(Counter(pd.concat([df_train['client_id'],df_test['client_id']])))"
   ]
  },
  {
   "cell_type": "code",
   "execution_count": 36,
   "id": "ca4372f1",
   "metadata": {
    "execution": {
     "iopub.execute_input": "2025-02-19T22:04:39.091470Z",
     "iopub.status.busy": "2025-02-19T22:04:39.091195Z",
     "iopub.status.idle": "2025-02-19T22:04:42.052226Z",
     "shell.execute_reply": "2025-02-19T22:04:42.051511Z"
    },
    "papermill": {
     "duration": 2.974685,
     "end_time": "2025-02-19T22:04:42.053732",
     "exception": false,
     "start_time": "2025-02-19T22:04:39.079047",
     "status": "completed"
    },
    "tags": []
   },
   "outputs": [],
   "source": [
    "df_train['client_id_new'] = df_train['client_id'].transform(lambda x: client_count.get(x)) \n",
    "df_test['client_id_new'] = df_test['client_id'].transform(lambda x: client_count.get(x)) "
   ]
  },
  {
   "cell_type": "code",
   "execution_count": 37,
   "id": "5ccca4bc",
   "metadata": {
    "execution": {
     "iopub.execute_input": "2025-02-19T22:04:42.077071Z",
     "iopub.status.busy": "2025-02-19T22:04:42.076803Z",
     "iopub.status.idle": "2025-02-19T22:04:42.689834Z",
     "shell.execute_reply": "2025-02-19T22:04:42.689081Z"
    },
    "papermill": {
     "duration": 0.626228,
     "end_time": "2025-02-19T22:04:42.691411",
     "exception": false,
     "start_time": "2025-02-19T22:04:42.065183",
     "status": "completed"
    },
    "tags": []
   },
   "outputs": [],
   "source": [
    "client_count=dict(Counter(pd.concat([df_train['loan_order'],df_test['loan_order']])))"
   ]
  },
  {
   "cell_type": "code",
   "execution_count": 38,
   "id": "c53d03ae",
   "metadata": {
    "execution": {
     "iopub.execute_input": "2025-02-19T22:04:42.715427Z",
     "iopub.status.busy": "2025-02-19T22:04:42.715141Z",
     "iopub.status.idle": "2025-02-19T22:04:44.525382Z",
     "shell.execute_reply": "2025-02-19T22:04:44.524410Z"
    },
    "papermill": {
     "duration": 1.823925,
     "end_time": "2025-02-19T22:04:44.527029",
     "exception": false,
     "start_time": "2025-02-19T22:04:42.703104",
     "status": "completed"
    },
    "tags": []
   },
   "outputs": [],
   "source": [
    "df_train['loan_order_new'] = df_train['loan_order'].transform(lambda x: client_count.get(x)) \n",
    "df_test['loan_order_new'] = df_test['loan_order'].transform(lambda x: client_count.get(x)) "
   ]
  },
  {
   "cell_type": "markdown",
   "id": "6419386c",
   "metadata": {
    "papermill": {
     "duration": 0.010748,
     "end_time": "2025-02-19T22:04:44.549166",
     "exception": false,
     "start_time": "2025-02-19T22:04:44.538418",
     "status": "completed"
    },
    "tags": []
   },
   "source": [
    "### 3. New features"
   ]
  },
  {
   "cell_type": "code",
   "execution_count": 39,
   "id": "60eec9fd",
   "metadata": {
    "execution": {
     "iopub.execute_input": "2025-02-19T22:04:44.572269Z",
     "iopub.status.busy": "2025-02-19T22:04:44.571944Z",
     "iopub.status.idle": "2025-02-19T22:04:44.603656Z",
     "shell.execute_reply": "2025-02-19T22:04:44.602685Z"
    },
    "papermill": {
     "duration": 0.045165,
     "end_time": "2025-02-19T22:04:44.605285",
     "exception": false,
     "start_time": "2025-02-19T22:04:44.560120",
     "status": "completed"
    },
    "tags": []
   },
   "outputs": [],
   "source": [
    "df_train['early_repayment'] = df_train['period_days'] - df_train['days_finish_loan']\n",
    "df_test['early_repayment'] = df_test['period_days'] - df_test['days_finish_loan']"
   ]
  },
  {
   "cell_type": "code",
   "execution_count": 40,
   "id": "3e462959",
   "metadata": {
    "execution": {
     "iopub.execute_input": "2025-02-19T22:04:44.629332Z",
     "iopub.status.busy": "2025-02-19T22:04:44.629039Z",
     "iopub.status.idle": "2025-02-19T22:04:44.658660Z",
     "shell.execute_reply": "2025-02-19T22:04:44.657714Z"
    },
    "papermill": {
     "duration": 0.043125,
     "end_time": "2025-02-19T22:04:44.660209",
     "exception": false,
     "start_time": "2025-02-19T22:04:44.617084",
     "status": "completed"
    },
    "tags": []
   },
   "outputs": [],
   "source": [
    " df_train['approval_ratio'] = df_train['approved_amount'] / df_train['requested_amount']\n",
    " df_test['approval_ratio'] = df_test['approved_amount'] / df_test['requested_amount']"
   ]
  },
  {
   "cell_type": "code",
   "execution_count": 41,
   "id": "23a24d0a",
   "metadata": {
    "execution": {
     "iopub.execute_input": "2025-02-19T22:04:44.683563Z",
     "iopub.status.busy": "2025-02-19T22:04:44.683283Z",
     "iopub.status.idle": "2025-02-19T22:04:44.713736Z",
     "shell.execute_reply": "2025-02-19T22:04:44.712814Z"
    },
    "papermill": {
     "duration": 0.043393,
     "end_time": "2025-02-19T22:04:44.715195",
     "exception": false,
     "start_time": "2025-02-19T22:04:44.671802",
     "status": "completed"
    },
    "tags": []
   },
   "outputs": [],
   "source": [
    "df_train['requsted_income_ratio'] = df_train['requested_amount']/df_train['monthly_income']\n",
    "df_test['requsted_income_ratio'] = df_test['requested_amount']/df_test['monthly_income']"
   ]
  },
  {
   "cell_type": "code",
   "execution_count": 42,
   "id": "b48eb0cc",
   "metadata": {
    "execution": {
     "iopub.execute_input": "2025-02-19T22:04:44.739093Z",
     "iopub.status.busy": "2025-02-19T22:04:44.738809Z",
     "iopub.status.idle": "2025-02-19T22:04:44.768387Z",
     "shell.execute_reply": "2025-02-19T22:04:44.767436Z"
    },
    "papermill": {
     "duration": 0.04295,
     "end_time": "2025-02-19T22:04:44.770009",
     "exception": false,
     "start_time": "2025-02-19T22:04:44.727059",
     "status": "completed"
    },
    "tags": []
   },
   "outputs": [],
   "source": [
    "df_train['total_debt_burden'] = (df_train['elecs_sum'] + df_train['recurents_sum']) / df_train['monthly_income']\n",
    "df_test['total_debt_burden'] = (df_test['elecs_sum'] + df_test['recurents_sum']) / df_test['monthly_income']"
   ]
  },
  {
   "cell_type": "code",
   "execution_count": 43,
   "id": "a9832193",
   "metadata": {
    "execution": {
     "iopub.execute_input": "2025-02-19T22:04:44.793093Z",
     "iopub.status.busy": "2025-02-19T22:04:44.792826Z",
     "iopub.status.idle": "2025-02-19T22:04:44.816160Z",
     "shell.execute_reply": "2025-02-19T22:04:44.815280Z"
    },
    "papermill": {
     "duration": 0.036155,
     "end_time": "2025-02-19T22:04:44.817499",
     "exception": false,
     "start_time": "2025-02-19T22:04:44.781344",
     "status": "completed"
    },
    "tags": []
   },
   "outputs": [],
   "source": [
    "df_train['dti'] = df_train['principal'] / df_train['monthly_income']\n",
    "df_test['dti'] = df_test['principal']/ df_test['monthly_income']"
   ]
  },
  {
   "cell_type": "code",
   "execution_count": 44,
   "id": "77475aca",
   "metadata": {
    "execution": {
     "iopub.execute_input": "2025-02-19T22:04:44.840779Z",
     "iopub.status.busy": "2025-02-19T22:04:44.840453Z",
     "iopub.status.idle": "2025-02-19T22:04:44.869223Z",
     "shell.execute_reply": "2025-02-19T22:04:44.868502Z"
    },
    "papermill": {
     "duration": 0.041692,
     "end_time": "2025-02-19T22:04:44.870617",
     "exception": false,
     "start_time": "2025-02-19T22:04:44.828925",
     "status": "completed"
    },
    "tags": []
   },
   "outputs": [],
   "source": [
    "df_train['requested_approved_ratio'] = df_train['requested_period_days'] / df_train['main_agreement_term']\n",
    "df_test['requested_approved_ratio'] =  df_test['requested_period_days'] / df_test['main_agreement_term']"
   ]
  },
  {
   "cell_type": "code",
   "execution_count": 45,
   "id": "41daecb7",
   "metadata": {
    "execution": {
     "iopub.execute_input": "2025-02-19T22:04:44.893797Z",
     "iopub.status.busy": "2025-02-19T22:04:44.893503Z",
     "iopub.status.idle": "2025-02-19T22:04:46.673407Z",
     "shell.execute_reply": "2025-02-19T22:04:46.672727Z"
    },
    "papermill": {
     "duration": 1.792879,
     "end_time": "2025-02-19T22:04:46.674913",
     "exception": false,
     "start_time": "2025-02-19T22:04:44.882034",
     "status": "completed"
    },
    "tags": []
   },
   "outputs": [],
   "source": [
    "df_train[df_train.select_dtypes(include='int64').columns]=df_train.select_dtypes(include='int64').astype('int32')\n",
    "df_test[df_test.select_dtypes(include='int64').columns]=df_test.select_dtypes(include='int64').astype('int32')"
   ]
  },
  {
   "cell_type": "markdown",
   "id": "0792baeb",
   "metadata": {
    "papermill": {
     "duration": 0.010866,
     "end_time": "2025-02-19T22:04:46.697496",
     "exception": false,
     "start_time": "2025-02-19T22:04:46.686630",
     "status": "completed"
    },
    "tags": []
   },
   "source": [
    "### 4. Data preparation"
   ]
  },
  {
   "cell_type": "code",
   "execution_count": 46,
   "id": "08c1e90d",
   "metadata": {
    "execution": {
     "iopub.execute_input": "2025-02-19T22:04:46.720688Z",
     "iopub.status.busy": "2025-02-19T22:04:46.720367Z",
     "iopub.status.idle": "2025-02-19T22:04:46.727763Z",
     "shell.execute_reply": "2025-02-19T22:04:46.727096Z"
    },
    "papermill": {
     "duration": 0.020441,
     "end_time": "2025-02-19T22:04:46.729067",
     "exception": false,
     "start_time": "2025-02-19T22:04:46.708626",
     "status": "completed"
    },
    "tags": []
   },
   "outputs": [
    {
     "name": "stdout",
     "output_type": "stream",
     "text": [
      "Дубли True-нет:  True\n",
      "Идентичность train, test:  {'churn'}\n",
      "Полнота столбцов в списке(: {'settlement', 'closed_at', 'loan_order', 'client_id', 'start_dt_new', 'loan_id', 'churn', 'region'}\n"
     ]
    }
   ],
   "source": [
    "list_id_total = ['client_id_new', 'loan_order_new']\n",
    "list_id = ['loan_id']\n",
    "list_client= ['monthly_income','nbki_score','tamount','work_experience','ag','payment_frequency',\n",
    "              'status','client_type','settlement_new','region_new','gender','client_type.1' ]\n",
    "\n",
    "list_loan= ['cnt_ext','elecs_sum','recurents_sum','price','requested_amount',\n",
    "            'req_app_amount','term','approved_amount','interest',\n",
    "            'issues','main_agreement_amount','overdue_fee','overdue_interest','principal','type', \n",
    "             'repayment_type','have_extension','requested_sum']\t\n",
    "list_new = ['approval_ratio','early_repayment','requested_approved_ratio','requsted_income_ratio','total_debt_burden','dti']\n",
    "\n",
    "list_support =[ 'contact_cases','source','first_source','interface'] \n",
    "list_time = [ 'month','day','week','days_finish_loan', 'period_days', \n",
    "             'requested_period_days','main_agreement_term','created_at','days_diff','start_dt']    \n",
    "# 'closed_at','prolong','period', 'start_dt'->del\n",
    "\n",
    "# проверка на дубли\n",
    "total_list =list_id_total +list_loan+list_client+list_support+list_time + list_new\n",
    "print('Дубли True-нет: ',len(total_list) == len (set(total_list)))\n",
    "      \n",
    "# проверка на идентичность структуры train test\n",
    "print('Идентичность train, test: ',set(df_train.columns) ^set(df_test.columns))\n",
    "# проверка на полноту  включения столбцов  в списки\n",
    "print('Полнота столбцов в списке(:',set(df_train.columns) ^set(total_list))     "
   ]
  },
  {
   "cell_type": "code",
   "execution_count": 47,
   "id": "2a2ef921",
   "metadata": {
    "execution": {
     "iopub.execute_input": "2025-02-19T22:04:46.751822Z",
     "iopub.status.busy": "2025-02-19T22:04:46.751542Z",
     "iopub.status.idle": "2025-02-19T22:04:49.626268Z",
     "shell.execute_reply": "2025-02-19T22:04:49.625318Z"
    },
    "papermill": {
     "duration": 2.887814,
     "end_time": "2025-02-19T22:04:49.627844",
     "exception": false,
     "start_time": "2025-02-19T22:04:46.740030",
     "status": "completed"
    },
    "tags": []
   },
   "outputs": [
    {
     "data": {
      "text/html": [
       "<div>\n",
       "<style scoped>\n",
       "    .dataframe tbody tr th:only-of-type {\n",
       "        vertical-align: middle;\n",
       "    }\n",
       "\n",
       "    .dataframe tbody tr th {\n",
       "        vertical-align: top;\n",
       "    }\n",
       "\n",
       "    .dataframe thead th {\n",
       "        text-align: right;\n",
       "    }\n",
       "</style>\n",
       "<table border=\"1\" class=\"dataframe\">\n",
       "  <thead>\n",
       "    <tr style=\"text-align: right;\">\n",
       "      <th></th>\n",
       "      <th>column_name</th>\n",
       "      <th>missing_values</th>\n",
       "    </tr>\n",
       "  </thead>\n",
       "  <tbody>\n",
       "  </tbody>\n",
       "</table>\n",
       "</div>"
      ],
      "text/plain": [
       "Empty DataFrame\n",
       "Columns: [column_name, missing_values]\n",
       "Index: []"
      ]
     },
     "metadata": {},
     "output_type": "display_data"
    },
    {
     "data": {
      "text/html": [
       "<div>\n",
       "<style scoped>\n",
       "    .dataframe tbody tr th:only-of-type {\n",
       "        vertical-align: middle;\n",
       "    }\n",
       "\n",
       "    .dataframe tbody tr th {\n",
       "        vertical-align: top;\n",
       "    }\n",
       "\n",
       "    .dataframe thead th {\n",
       "        text-align: right;\n",
       "    }\n",
       "</style>\n",
       "<table border=\"1\" class=\"dataframe\">\n",
       "  <thead>\n",
       "    <tr style=\"text-align: right;\">\n",
       "      <th></th>\n",
       "      <th>column_name</th>\n",
       "      <th>missing_values</th>\n",
       "    </tr>\n",
       "  </thead>\n",
       "  <tbody>\n",
       "  </tbody>\n",
       "</table>\n",
       "</div>"
      ],
      "text/plain": [
       "Empty DataFrame\n",
       "Columns: [column_name, missing_values]\n",
       "Index: []"
      ]
     },
     "metadata": {},
     "output_type": "display_data"
    }
   ],
   "source": [
    "display(missing (df_train[total_list]),missing (df_test[total_list]))"
   ]
  },
  {
   "cell_type": "markdown",
   "id": "e11b3f4c",
   "metadata": {
    "papermill": {
     "duration": 0.012051,
     "end_time": "2025-02-19T22:04:49.651366",
     "exception": false,
     "start_time": "2025-02-19T22:04:49.639315",
     "status": "completed"
    },
    "tags": []
   },
   "source": [
    "Проведем поиск  столбцов, для которых множества значений в test и train  равны.\n",
    "Такие  признаки  можно рассматривать как категориальные"
   ]
  },
  {
   "cell_type": "code",
   "execution_count": 48,
   "id": "758fdf47",
   "metadata": {
    "execution": {
     "iopub.execute_input": "2025-02-19T22:04:49.675137Z",
     "iopub.status.busy": "2025-02-19T22:04:49.674836Z",
     "iopub.status.idle": "2025-02-19T22:04:53.429592Z",
     "shell.execute_reply": "2025-02-19T22:04:53.428755Z"
    },
    "papermill": {
     "duration": 3.768354,
     "end_time": "2025-02-19T22:04:53.431055",
     "exception": false,
     "start_time": "2025-02-19T22:04:49.662701",
     "status": "completed"
    },
    "tags": []
   },
   "outputs": [
    {
     "data": {
      "text/plain": [
       "{'type': 4,\n",
       " 'repayment_type': 4,\n",
       " 'have_extension': 2,\n",
       " 'work_experience': 6,\n",
       " 'payment_frequency': 8,\n",
       " 'status': 10,\n",
       " 'client_type': 2,\n",
       " 'region_new': 86,\n",
       " 'gender': 2,\n",
       " 'client_type.1': 2,\n",
       " 'source': 20,\n",
       " 'first_source': 19,\n",
       " 'interface': 3,\n",
       " 'month': 12,\n",
       " 'day': 31,\n",
       " 'week': 7,\n",
       " 'period_days': 34,\n",
       " 'requested_period_days': 26,\n",
       " 'main_agreement_term': 34}"
      ]
     },
     "execution_count": 48,
     "metadata": {},
     "output_type": "execute_result"
    }
   ],
   "source": [
    "lenth_1, lenth_2 ={}, {}\n",
    "for i in df_test[total_list].columns:\n",
    "    lenth_1[i]=len(df_train[i].unique())\n",
    "    lenth_2[i]=len(df_test[i].unique())\n",
    "\n",
    "discrete_features ={key : value for key, value in lenth_1.items() if lenth_1.get(key) == lenth_2.get(key)}\n",
    "discrete_features"
   ]
  },
  {
   "cell_type": "code",
   "execution_count": 49,
   "id": "37a1cbfa",
   "metadata": {
    "execution": {
     "iopub.execute_input": "2025-02-19T22:04:53.455987Z",
     "iopub.status.busy": "2025-02-19T22:04:53.455577Z",
     "iopub.status.idle": "2025-02-19T22:04:57.690076Z",
     "shell.execute_reply": "2025-02-19T22:04:57.689267Z"
    },
    "papermill": {
     "duration": 4.248423,
     "end_time": "2025-02-19T22:04:57.691568",
     "exception": false,
     "start_time": "2025-02-19T22:04:53.443145",
     "status": "completed"
    },
    "tags": []
   },
   "outputs": [],
   "source": [
    "ordinal_list = list(df_train[total_list].select_dtypes(include='object').columns) \n",
    "\n",
    "scale_list=list(set(df_train[total_list].select_dtypes(include=['float','int32']).columns)- set(discrete_features))\n",
    "\n",
    "passthrough_list = list(set(discrete_features) - set(ordinal_list))"
   ]
  },
  {
   "cell_type": "code",
   "execution_count": 50,
   "id": "7635d72d",
   "metadata": {
    "execution": {
     "iopub.execute_input": "2025-02-19T22:04:57.716262Z",
     "iopub.status.busy": "2025-02-19T22:04:57.716008Z",
     "iopub.status.idle": "2025-02-19T22:04:57.722265Z",
     "shell.execute_reply": "2025-02-19T22:04:57.721440Z"
    },
    "papermill": {
     "duration": 0.019736,
     "end_time": "2025-02-19T22:04:57.723571",
     "exception": false,
     "start_time": "2025-02-19T22:04:57.703835",
     "status": "completed"
    },
    "tags": []
   },
   "outputs": [
    {
     "data": {
      "text/plain": [
       "0         -0.340659\n",
       "1         -1.145865\n",
       "2          0.176974\n",
       "3         -1.145865\n",
       "4          0.176974\n",
       "             ...   \n",
       "4038163   -0.340659\n",
       "4038164   -0.340659\n",
       "4038165   -0.340659\n",
       "4038166   -0.340659\n",
       "4038167   -0.340659\n",
       "Name: main_agreement_term, Length: 4038168, dtype: float64"
      ]
     },
     "execution_count": 50,
     "metadata": {},
     "output_type": "execute_result"
    }
   ],
   "source": [
    "df_train['main_agreement_term']"
   ]
  },
  {
   "cell_type": "code",
   "execution_count": 51,
   "id": "6ad49c71",
   "metadata": {
    "execution": {
     "iopub.execute_input": "2025-02-19T22:04:57.747580Z",
     "iopub.status.busy": "2025-02-19T22:04:57.747346Z",
     "iopub.status.idle": "2025-02-19T22:04:57.751846Z",
     "shell.execute_reply": "2025-02-19T22:04:57.751180Z"
    },
    "papermill": {
     "duration": 0.017734,
     "end_time": "2025-02-19T22:04:57.753027",
     "exception": false,
     "start_time": "2025-02-19T22:04:57.735293",
     "status": "completed"
    },
    "tags": []
   },
   "outputs": [
    {
     "data": {
      "text/plain": [
       "{'days_diff'}"
      ]
     },
     "execution_count": 51,
     "metadata": {},
     "output_type": "execute_result"
    }
   ],
   "source": [
    "set(total_list)^set(ordinal_list+scale_list+passthrough_list) #  проверка на полноту списков "
   ]
  },
  {
   "cell_type": "code",
   "execution_count": 52,
   "id": "9220526c",
   "metadata": {
    "execution": {
     "iopub.execute_input": "2025-02-19T22:04:57.776335Z",
     "iopub.status.busy": "2025-02-19T22:04:57.776127Z",
     "iopub.status.idle": "2025-02-19T22:04:57.780378Z",
     "shell.execute_reply": "2025-02-19T22:04:57.779778Z"
    },
    "papermill": {
     "duration": 0.01727,
     "end_time": "2025-02-19T22:04:57.781512",
     "exception": false,
     "start_time": "2025-02-19T22:04:57.764242",
     "status": "completed"
    },
    "tags": []
   },
   "outputs": [
    {
     "data": {
      "text/plain": [
       "True"
      ]
     },
     "execution_count": 52,
     "metadata": {},
     "output_type": "execute_result"
    }
   ],
   "source": [
    "len(set(ordinal_list+scale_list+passthrough_list)) == len(ordinal_list+scale_list+passthrough_list)# проверка  на  дубли (True -дублей нет)"
   ]
  },
  {
   "cell_type": "markdown",
   "id": "d0f04b28",
   "metadata": {
    "papermill": {
     "duration": 0.011126,
     "end_time": "2025-02-19T22:04:57.804215",
     "exception": false,
     "start_time": "2025-02-19T22:04:57.793089",
     "status": "completed"
    },
    "tags": []
   },
   "source": [
    "### 4.  TabNet"
   ]
  },
  {
   "cell_type": "code",
   "execution_count": 53,
   "id": "7e018dfc",
   "metadata": {
    "execution": {
     "iopub.execute_input": "2025-02-19T22:04:57.828136Z",
     "iopub.status.busy": "2025-02-19T22:04:57.827897Z",
     "iopub.status.idle": "2025-02-19T22:04:57.837795Z",
     "shell.execute_reply": "2025-02-19T22:04:57.837172Z"
    },
    "papermill": {
     "duration": 0.023078,
     "end_time": "2025-02-19T22:04:57.839074",
     "exception": false,
     "start_time": "2025-02-19T22:04:57.815996",
     "status": "completed"
    },
    "tags": []
   },
   "outputs": [],
   "source": [
    "from pytorch_tabnet.tab_model import TabNetClassifier"
   ]
  },
  {
   "cell_type": "code",
   "execution_count": 54,
   "id": "e7e5f0e4",
   "metadata": {
    "execution": {
     "iopub.execute_input": "2025-02-19T22:04:57.863060Z",
     "iopub.status.busy": "2025-02-19T22:04:57.862846Z",
     "iopub.status.idle": "2025-02-19T22:04:57.918336Z",
     "shell.execute_reply": "2025-02-19T22:04:57.917349Z"
    },
    "papermill": {
     "duration": 0.068805,
     "end_time": "2025-02-19T22:04:57.919675",
     "exception": false,
     "start_time": "2025-02-19T22:04:57.850870",
     "status": "completed"
    },
    "tags": []
   },
   "outputs": [
    {
     "name": "stdout",
     "output_type": "stream",
     "text": [
      "Using cuda device\n"
     ]
    }
   ],
   "source": [
    "device = (\n",
    "    \"cuda\"\n",
    "    if torch.cuda.is_available()\n",
    "    else \"mps\"\n",
    "    if torch.backends.mps.is_available()\n",
    "    else \"cpu\"\n",
    ")\n",
    "print(f\"Using {device} device\")"
   ]
  },
  {
   "cell_type": "code",
   "execution_count": 55,
   "id": "194a656e",
   "metadata": {
    "execution": {
     "iopub.execute_input": "2025-02-19T22:04:57.944235Z",
     "iopub.status.busy": "2025-02-19T22:04:57.943984Z",
     "iopub.status.idle": "2025-02-19T22:04:57.947480Z",
     "shell.execute_reply": "2025-02-19T22:04:57.946861Z"
    },
    "papermill": {
     "duration": 0.01686,
     "end_time": "2025-02-19T22:04:57.948611",
     "exception": false,
     "start_time": "2025-02-19T22:04:57.931751",
     "status": "completed"
    },
    "tags": []
   },
   "outputs": [],
   "source": [
    "preprocessing =ColumnTransformer([\n",
    "    ('ord' , OrdinalEncoder( handle_unknown='use_encoded_value', unknown_value=-1),ordinal_list+ passthrough_list),\n",
    "    # ('pass', 'passthrough', passthrough_list),\n",
    "    ('scaler', StandardScaler(),scale_list)\n",
    "    \n",
    "])"
   ]
  },
  {
   "cell_type": "code",
   "execution_count": 56,
   "id": "96914e0d",
   "metadata": {
    "execution": {
     "iopub.execute_input": "2025-02-19T22:04:57.972572Z",
     "iopub.status.busy": "2025-02-19T22:04:57.972308Z",
     "iopub.status.idle": "2025-02-19T22:05:05.546983Z",
     "shell.execute_reply": "2025-02-19T22:05:05.546225Z"
    },
    "papermill": {
     "duration": 7.588416,
     "end_time": "2025-02-19T22:05:05.548450",
     "exception": false,
     "start_time": "2025-02-19T22:04:57.960034",
     "status": "completed"
    },
    "tags": []
   },
   "outputs": [],
   "source": [
    "X_train, X_valid, y_train, y_valid = train_test_split(df_train[total_list],df_train['churn'], test_size=0.20, random_state=RANDOM_STATE, stratify=df_train['churn'])"
   ]
  },
  {
   "cell_type": "code",
   "execution_count": 57,
   "id": "c76320aa",
   "metadata": {
    "execution": {
     "iopub.execute_input": "2025-02-19T22:05:05.573376Z",
     "iopub.status.busy": "2025-02-19T22:05:05.573105Z",
     "iopub.status.idle": "2025-02-19T22:05:19.854840Z",
     "shell.execute_reply": "2025-02-19T22:05:19.854078Z"
    },
    "papermill": {
     "duration": 14.29558,
     "end_time": "2025-02-19T22:05:19.856342",
     "exception": false,
     "start_time": "2025-02-19T22:05:05.560762",
     "status": "completed"
    },
    "tags": []
   },
   "outputs": [],
   "source": [
    "X_train = preprocessing.fit_transform(X_train)\n",
    "X_valid  = preprocessing.transform(X_valid)\n",
    "y_train = y_train.to_numpy()\n",
    "y_valid = y_valid.to_numpy()                          "
   ]
  },
  {
   "cell_type": "code",
   "execution_count": 58,
   "id": "69e83f9d",
   "metadata": {
    "execution": {
     "iopub.execute_input": "2025-02-19T22:05:19.881533Z",
     "iopub.status.busy": "2025-02-19T22:05:19.881264Z",
     "iopub.status.idle": "2025-02-19T22:05:22.629268Z",
     "shell.execute_reply": "2025-02-19T22:05:22.628232Z"
    },
    "papermill": {
     "duration": 2.761823,
     "end_time": "2025-02-19T22:05:22.630796",
     "exception": false,
     "start_time": "2025-02-19T22:05:19.868973",
     "status": "completed"
    },
    "tags": []
   },
   "outputs": [
    {
     "name": "stdout",
     "output_type": "stream",
     "text": [
      "[0, 1, 2, 3, 4, 5, 6, 7, 8, 9, 10, 11, 12, 13, 14, 15, 16, 17, 18, 19] \n",
      " [7001, 86, 2, 2, 26, 6, 4, 19, 31, 34, 10, 7, 34, 3, 20, 2, 2, 4, 8, 12]\n"
     ]
    }
   ],
   "source": [
    "cat_idxs= list(range (len (ordinal_list+passthrough_list)))\n",
    "cat_dims = [len(np.unique(np.hstack((X_train[:,i],X_valid[:,i]))))for i in cat_idxs]\n",
    "print(cat_idxs,'\\n',cat_dims)"
   ]
  },
  {
   "cell_type": "code",
   "execution_count": 59,
   "id": "28a8eefc",
   "metadata": {
    "execution": {
     "iopub.execute_input": "2025-02-19T22:05:22.655768Z",
     "iopub.status.busy": "2025-02-19T22:05:22.655411Z",
     "iopub.status.idle": "2025-02-19T22:05:23.111991Z",
     "shell.execute_reply": "2025-02-19T22:05:23.110929Z"
    },
    "papermill": {
     "duration": 0.470589,
     "end_time": "2025-02-19T22:05:23.113512",
     "exception": false,
     "start_time": "2025-02-19T22:05:22.642923",
     "status": "completed"
    },
    "tags": []
   },
   "outputs": [
    {
     "name": "stdout",
     "output_type": "stream",
     "text": [
      "[0, 1, 2, 3, 4, 5, 6, 7, 8, 9, 10, 11, 12, 13, 14, 15, 16, 17, 18, 19] \n",
      " [7001, 86, 2, 2, 26, 6, 4, 19, 31, 34, 10, 7, 34, 3, 20, 2, 2, 4, 8, 12]\n"
     ]
    }
   ],
   "source": [
    "cat_idxs= list(range (len (ordinal_list+passthrough_list)))\n",
    "cat_dims = [len(np.unique(X_valid[:,i]))for i in cat_idxs]\n",
    "print(cat_idxs,'\\n',cat_dims)"
   ]
  },
  {
   "cell_type": "code",
   "execution_count": 60,
   "id": "94d182e9",
   "metadata": {
    "execution": {
     "iopub.execute_input": "2025-02-19T22:05:23.138506Z",
     "iopub.status.busy": "2025-02-19T22:05:23.138198Z",
     "iopub.status.idle": "2025-02-19T22:05:25.274464Z",
     "shell.execute_reply": "2025-02-19T22:05:25.273468Z"
    },
    "papermill": {
     "duration": 2.150449,
     "end_time": "2025-02-19T22:05:25.276189",
     "exception": false,
     "start_time": "2025-02-19T22:05:23.125740",
     "status": "completed"
    },
    "tags": []
   },
   "outputs": [
    {
     "name": "stdout",
     "output_type": "stream",
     "text": [
      "[0, 1, 2, 3, 4, 5, 6, 7, 8, 9, 10, 11, 12, 13, 14, 15, 16, 17, 18, 19] \n",
      " [7001, 86, 2, 2, 26, 6, 4, 19, 31, 34, 10, 7, 34, 3, 20, 2, 2, 4, 8, 12]\n"
     ]
    }
   ],
   "source": [
    "cat_idxs= list(range (len (ordinal_list+passthrough_list)))\n",
    "cat_dims = [len(np.unique(X_train[:,i]))for i in cat_idxs]\n",
    "print(cat_idxs,'\\n',cat_dims)"
   ]
  },
  {
   "cell_type": "code",
   "execution_count": 61,
   "id": "e2a6ecb6",
   "metadata": {
    "execution": {
     "iopub.execute_input": "2025-02-19T22:05:25.303737Z",
     "iopub.status.busy": "2025-02-19T22:05:25.303419Z",
     "iopub.status.idle": "2025-02-19T22:05:25.307087Z",
     "shell.execute_reply": "2025-02-19T22:05:25.306271Z"
    },
    "papermill": {
     "duration": 0.017883,
     "end_time": "2025-02-19T22:05:25.308410",
     "exception": false,
     "start_time": "2025-02-19T22:05:25.290527",
     "status": "completed"
    },
    "tags": []
   },
   "outputs": [],
   "source": [
    "#          [7001, 86, 2, 2, 2, 19, 8, 2, 12, 34, 31, 6, 26, 4, 10, 4, 34, 7, 20, 3] \n",
    "\n",
    "emb_size = [500, 40, 2, 2, 2, 10, 4, 2, 6,   17, 15, 3, 13, 2, 5, 2, 17, 3, 10, 2]"
   ]
  },
  {
   "cell_type": "code",
   "execution_count": 62,
   "id": "79073680",
   "metadata": {
    "execution": {
     "iopub.execute_input": "2025-02-19T22:05:25.332424Z",
     "iopub.status.busy": "2025-02-19T22:05:25.332203Z",
     "iopub.status.idle": "2025-02-19T22:05:25.339275Z",
     "shell.execute_reply": "2025-02-19T22:05:25.338497Z"
    },
    "papermill": {
     "duration": 0.020371,
     "end_time": "2025-02-19T22:05:25.340574",
     "exception": false,
     "start_time": "2025-02-19T22:05:25.320203",
     "status": "completed"
    },
    "tags": []
   },
   "outputs": [
    {
     "data": {
      "text/plain": [
       "[('settlement_new', 0),\n",
       " ('region_new', 1),\n",
       " ('gender', 2),\n",
       " ('client_type.1', 3),\n",
       " ('requested_period_days', 4),\n",
       " ('work_experience', 5),\n",
       " ('repayment_type', 6),\n",
       " ('first_source', 7),\n",
       " ('day', 8),\n",
       " ('period_days', 9),\n",
       " ('status', 10),\n",
       " ('week', 11),\n",
       " ('main_agreement_term', 12),\n",
       " ('interface', 13),\n",
       " ('source', 14),\n",
       " ('client_type', 15),\n",
       " ('have_extension', 16),\n",
       " ('type', 17),\n",
       " ('payment_frequency', 18),\n",
       " ('month', 19),\n",
       " ('dti', 20),\n",
       " ('elecs_sum', 21),\n",
       " ('total_debt_burden', 22),\n",
       " ('principal', 23),\n",
       " ('req_app_amount', 24),\n",
       " ('days_finish_loan', 25),\n",
       " ('requsted_income_ratio', 26),\n",
       " ('start_dt', 27),\n",
       " ('recurents_sum', 28),\n",
       " ('client_id_new', 29),\n",
       " ('tamount', 30),\n",
       " ('cnt_ext', 31),\n",
       " ('approved_amount', 32),\n",
       " ('requested_amount', 33),\n",
       " ('overdue_interest', 34),\n",
       " ('interest', 35),\n",
       " ('ag', 36),\n",
       " ('issues', 37),\n",
       " ('overdue_fee', 38),\n",
       " ('early_repayment', 39),\n",
       " ('requested_approved_ratio', 40),\n",
       " ('term', 41),\n",
       " ('price', 42),\n",
       " ('main_agreement_amount', 43),\n",
       " ('created_at', 44),\n",
       " ('nbki_score', 45),\n",
       " ('monthly_income', 46),\n",
       " ('requested_sum', 47),\n",
       " ('contact_cases', 48),\n",
       " ('loan_order_new', 49),\n",
       " ('approval_ratio', 50)]"
      ]
     },
     "execution_count": 62,
     "metadata": {},
     "output_type": "execute_result"
    }
   ],
   "source": [
    "[(i.split(sep ='__')[-1] , num) for num, i in enumerate( preprocessing.get_feature_names_out())]"
   ]
  },
  {
   "cell_type": "code",
   "execution_count": 63,
   "id": "9e5a2577",
   "metadata": {
    "execution": {
     "iopub.execute_input": "2025-02-19T22:05:25.364926Z",
     "iopub.status.busy": "2025-02-19T22:05:25.364695Z",
     "iopub.status.idle": "2025-02-19T22:05:25.368097Z",
     "shell.execute_reply": "2025-02-19T22:05:25.367348Z"
    },
    "papermill": {
     "duration": 0.016913,
     "end_time": "2025-02-19T22:05:25.369377",
     "exception": false,
     "start_time": "2025-02-19T22:05:25.352464",
     "status": "completed"
    },
    "tags": []
   },
   "outputs": [],
   "source": [
    " grouped_features =[ [0,1],[6,9,13,14,17,22,25,32,41,46]]"
   ]
  },
  {
   "cell_type": "code",
   "execution_count": 64,
   "id": "e23a6d75",
   "metadata": {
    "execution": {
     "iopub.execute_input": "2025-02-19T22:05:25.393879Z",
     "iopub.status.busy": "2025-02-19T22:05:25.393625Z",
     "iopub.status.idle": "2025-02-19T22:05:25.397902Z",
     "shell.execute_reply": "2025-02-19T22:05:25.397074Z"
    },
    "papermill": {
     "duration": 0.018125,
     "end_time": "2025-02-19T22:05:25.399208",
     "exception": false,
     "start_time": "2025-02-19T22:05:25.381083",
     "status": "completed"
    },
    "tags": []
   },
   "outputs": [],
   "source": [
    "from pytorch_tabnet.metrics import Metric\n",
    "from sklearn.metrics import f1_score\n",
    "\n",
    "class F1(Metric):\n",
    "    def __init__(self):\n",
    "        self._name = \"f1\"\n",
    "        self._maximize = True  \n",
    "\n",
    "    def __call__(self, y_true, y_score):\n",
    "        y_pred = (y_score[:, 1] >= 0.5).astype(int)  # Предсказание 0 или 1\n",
    "        return f1_score(y_true, y_pred)\n"
   ]
  },
  {
   "cell_type": "code",
   "execution_count": 65,
   "id": "2f7aa25a",
   "metadata": {
    "execution": {
     "iopub.execute_input": "2025-02-19T22:05:25.423842Z",
     "iopub.status.busy": "2025-02-19T22:05:25.423582Z",
     "iopub.status.idle": "2025-02-19T22:05:25.432003Z",
     "shell.execute_reply": "2025-02-19T22:05:25.431126Z"
    },
    "papermill": {
     "duration": 0.022279,
     "end_time": "2025-02-19T22:05:25.433330",
     "exception": false,
     "start_time": "2025-02-19T22:05:25.411051",
     "status": "completed"
    },
    "tags": []
   },
   "outputs": [
    {
     "name": "stderr",
     "output_type": "stream",
     "text": [
      "/usr/local/lib/python3.10/dist-packages/pytorch_tabnet/abstract_model.py:82: UserWarning: Device used : cuda\n",
      "  warnings.warn(f\"Device used : {self.device}\")\n"
     ]
    }
   ],
   "source": [
    "tabnet_params = {\"cat_idxs\":cat_idxs,\n",
    "                 \"cat_dims\":cat_dims,\n",
    "                 \"cat_emb_dim\":emb_size,\n",
    "                 \"optimizer_fn\":torch.optim.Adam,\n",
    "                 \"optimizer_params\":dict(lr=1e-3),\n",
    "                 \"scheduler_params\":{\"step_size\":15, # how to use learning rate scheduler\n",
    "                                 \"gamma\":0.9},\n",
    "                 \"scheduler_fn\":torch.optim.lr_scheduler.StepLR,\n",
    "                 \"mask_type\":'entmax' # \"sparsemax\"\n",
    "                 #\"grouped_features\" : grouped_features\n",
    "                }\n",
    "\n",
    "clf = TabNetClassifier(**tabnet_params\n",
    "                      )"
   ]
  },
  {
   "cell_type": "code",
   "execution_count": 66,
   "id": "9ca6394e",
   "metadata": {
    "execution": {
     "iopub.execute_input": "2025-02-19T22:05:25.458426Z",
     "iopub.status.busy": "2025-02-19T22:05:25.458128Z",
     "iopub.status.idle": "2025-02-19T23:28:31.255831Z",
     "shell.execute_reply": "2025-02-19T23:28:31.254816Z"
    },
    "papermill": {
     "duration": 4985.825669,
     "end_time": "2025-02-19T23:28:31.271467",
     "exception": false,
     "start_time": "2025-02-19T22:05:25.445798",
     "status": "completed"
    },
    "tags": []
   },
   "outputs": [
    {
     "name": "stdout",
     "output_type": "stream",
     "text": [
      "epoch 0  | loss: 0.55592 | train_f1: 0.54835 | train_auc: 0.85923 | train_accuracy: 0.78772 | valid_f1: 0.55004 | valid_auc: 0.85975 | valid_accuracy: 0.78829 |  0:02:17s\n",
      "epoch 1  | loss: 0.37231 | train_f1: 0.73819 | train_auc: 0.87849 | train_accuracy: 0.85945 | valid_f1: 0.73925 | valid_auc: 0.87886 | valid_accuracy: 0.85987 |  0:04:38s\n",
      "epoch 2  | loss: 0.35579 | train_f1: 0.64471 | train_auc: 0.88009 | train_accuracy: 0.82465 | valid_f1: 0.64595 | valid_auc: 0.88034 | valid_accuracy: 0.82509 |  0:06:58s\n",
      "epoch 3  | loss: 0.34697 | train_f1: 0.22548 | train_auc: 0.7859  | train_accuracy: 0.7079  | valid_f1: 0.2253  | valid_auc: 0.78601 | valid_accuracy: 0.70784 |  0:09:17s\n",
      "epoch 4  | loss: 0.34131 | train_f1: 0.34257 | train_auc: 0.79384 | train_accuracy: 0.73466 | valid_f1: 0.34358 | valid_auc: 0.79479 | valid_accuracy: 0.73495 |  0:11:36s\n",
      "epoch 5  | loss: 0.33886 | train_f1: 0.11627 | train_auc: 0.76451 | train_accuracy: 0.68604 | valid_f1: 0.11538 | valid_auc: 0.76458 | valid_accuracy: 0.68585 |  0:13:54s\n",
      "epoch 6  | loss: 0.33731 | train_f1: 0.2632  | train_auc: 0.78624 | train_accuracy: 0.71592 | valid_f1: 0.26307 | valid_auc: 0.786   | valid_accuracy: 0.71587 |  0:16:12s\n",
      "epoch 7  | loss: 0.3352  | train_f1: 0.75522 | train_auc: 0.87352 | train_accuracy: 0.8682  | valid_f1: 0.7552  | valid_auc: 0.87244 | valid_accuracy: 0.8682  |  0:18:28s\n",
      "epoch 8  | loss: 0.33389 | train_f1: 0.29678 | train_auc: 0.7915  | train_accuracy: 0.72347 | valid_f1: 0.29804 | valid_auc: 0.79059 | valid_accuracy: 0.72377 |  0:20:44s\n",
      "epoch 9  | loss: 0.33044 | train_f1: 0.63989 | train_auc: 0.86393 | train_accuracy: 0.82157 | valid_f1: 0.64028 | valid_auc: 0.86208 | valid_accuracy: 0.82166 |  0:23:02s\n",
      "epoch 10 | loss: 0.32858 | train_f1: 0.24718 | train_auc: 0.73233 | train_accuracy: 0.71036 | valid_f1: 0.24796 | valid_auc: 0.73071 | valid_accuracy: 0.7104  |  0:25:18s\n",
      "epoch 11 | loss: 0.3257  | train_f1: 0.23089 | train_auc: 0.73744 | train_accuracy: 0.70798 | valid_f1: 0.2323  | valid_auc: 0.73545 | valid_accuracy: 0.70823 |  0:27:38s\n",
      "epoch 12 | loss: 0.32393 | train_f1: 0.30223 | train_auc: 0.75963 | train_accuracy: 0.72363 | valid_f1: 0.30327 | valid_auc: 0.75729 | valid_accuracy: 0.7238  |  0:29:57s\n",
      "epoch 13 | loss: 0.32345 | train_f1: 0.31003 | train_auc: 0.77109 | train_accuracy: 0.72415 | valid_f1: 0.31014 | valid_auc: 0.76863 | valid_accuracy: 0.72408 |  0:32:13s\n",
      "epoch 14 | loss: 0.3215  | train_f1: 0.54141 | train_auc: 0.81771 | train_accuracy: 0.7883  | valid_f1: 0.54039 | valid_auc: 0.81461 | valid_accuracy: 0.78789 |  0:34:26s\n",
      "epoch 15 | loss: 0.31997 | train_f1: 0.29896 | train_auc: 0.74256 | train_accuracy: 0.7221  | valid_f1: 0.29935 | valid_auc: 0.73849 | valid_accuracy: 0.72199 |  0:36:39s\n",
      "epoch 16 | loss: 0.31906 | train_f1: 0.26424 | train_auc: 0.74468 | train_accuracy: 0.71357 | valid_f1: 0.26424 | valid_auc: 0.73959 | valid_accuracy: 0.71333 |  0:38:52s\n",
      "epoch 17 | loss: 0.31873 | train_f1: 0.35901 | train_auc: 0.79284 | train_accuracy: 0.73561 | valid_f1: 0.35692 | valid_auc: 0.78711 | valid_accuracy: 0.73482 |  0:41:04s\n",
      "epoch 18 | loss: 0.3177  | train_f1: 0.29424 | train_auc: 0.75548 | train_accuracy: 0.72076 | valid_f1: 0.29437 | valid_auc: 0.74837 | valid_accuracy: 0.72054 |  0:43:17s\n",
      "epoch 19 | loss: 0.31689 | train_f1: 0.44123 | train_auc: 0.82419 | train_accuracy: 0.75766 | valid_f1: 0.43948 | valid_auc: 0.81769 | valid_accuracy: 0.75685 |  0:45:30s\n",
      "epoch 20 | loss: 0.31628 | train_f1: 0.20802 | train_auc: 0.75885 | train_accuracy: 0.70225 | valid_f1: 0.20592 | valid_auc: 0.75127 | valid_accuracy: 0.7014  |  0:47:46s\n",
      "epoch 21 | loss: 0.31549 | train_f1: 0.28506 | train_auc: 0.73948 | train_accuracy: 0.71703 | valid_f1: 0.28277 | valid_auc: 0.73222 | valid_accuracy: 0.71594 |  0:49:59s\n",
      "epoch 22 | loss: 0.31504 | train_f1: 0.28048 | train_auc: 0.76772 | train_accuracy: 0.71719 | valid_f1: 0.2778  | valid_auc: 0.76073 | valid_accuracy: 0.71603 |  0:52:12s\n",
      "epoch 23 | loss: 0.3144  | train_f1: 0.24096 | train_auc: 0.74442 | train_accuracy: 0.70765 | valid_f1: 0.23635 | valid_auc: 0.73623 | valid_accuracy: 0.70586 |  0:54:30s\n",
      "epoch 24 | loss: 0.31395 | train_f1: 0.32641 | train_auc: 0.76398 | train_accuracy: 0.72817 | valid_f1: 0.32305 | valid_auc: 0.75607 | valid_accuracy: 0.72679 |  0:56:49s\n",
      "epoch 25 | loss: 0.31369 | train_f1: 0.18325 | train_auc: 0.7811  | train_accuracy: 0.69517 | valid_f1: 0.17794 | valid_auc: 0.77221 | valid_accuracy: 0.69317 |  0:59:12s\n",
      "epoch 26 | loss: 0.31339 | train_f1: 0.20159 | train_auc: 0.73222 | train_accuracy: 0.69877 | valid_f1: 0.19514 | valid_auc: 0.7236  | valid_accuracy: 0.69647 |  1:01:31s\n",
      "epoch 27 | loss: 0.31219 | train_f1: 0.34448 | train_auc: 0.75206 | train_accuracy: 0.7283  | valid_f1: 0.34062 | valid_auc: 0.74297 | valid_accuracy: 0.72664 |  1:03:52s\n",
      "\n",
      "Early stopping occurred at epoch 27 with best_epoch = 7 and best_valid_accuracy = 0.8682\n"
     ]
    },
    {
     "name": "stderr",
     "output_type": "stream",
     "text": [
      "/usr/local/lib/python3.10/dist-packages/pytorch_tabnet/callbacks.py:172: UserWarning: Best weights from best epoch are automatically used!\n",
      "  warnings.warn(wrn_msg)\n"
     ]
    },
    {
     "name": "stdout",
     "output_type": "stream",
     "text": [
      "CPU times: user 1h 41min 35s, sys: 9min 7s, total: 1h 50min 42s\n",
      "Wall time: 1h 23min 5s\n"
     ]
    }
   ],
   "source": [
    "%%time\n",
    "\n",
    "# Fitting the model\n",
    "clf.fit(\n",
    "    X_train=X_train, y_train=y_train,\n",
    "    eval_set=[(X_train, y_train), (X_valid, y_valid)],\n",
    "    eval_name=['train', 'valid'],\n",
    "    eval_metric=[F1,'auc', 'accuracy'],\n",
    "    max_epochs=45 , patience=20,\n",
    "    batch_size=2048, virtual_batch_size=256,\n",
    "    num_workers=0,\n",
    "    weights= 1,\n",
    "    drop_last=False,\n",
    "    augmentations=None, #aug, None\n",
    ")"
   ]
  },
  {
   "cell_type": "code",
   "execution_count": 67,
   "id": "78db92a0",
   "metadata": {
    "execution": {
     "iopub.execute_input": "2025-02-19T23:28:31.299076Z",
     "iopub.status.busy": "2025-02-19T23:28:31.298573Z",
     "iopub.status.idle": "2025-02-19T23:28:32.035437Z",
     "shell.execute_reply": "2025-02-19T23:28:32.034715Z"
    },
    "papermill": {
     "duration": 0.751878,
     "end_time": "2025-02-19T23:28:32.036715",
     "exception": false,
     "start_time": "2025-02-19T23:28:31.284837",
     "status": "completed"
    },
    "tags": []
   },
   "outputs": [
    {
     "name": "stdout",
     "output_type": "stream",
     "text": [
      "Successfully saved model at tabnet_model_1.zip\n"
     ]
    },
    {
     "data": {
      "text/plain": [
       "'tabnet_model_1.zip'"
      ]
     },
     "execution_count": 67,
     "metadata": {},
     "output_type": "execute_result"
    }
   ],
   "source": [
    " clf.save_model(\"tabnet_model_1\")"
   ]
  },
  {
   "cell_type": "code",
   "execution_count": 68,
   "id": "9020122f",
   "metadata": {
    "execution": {
     "iopub.execute_input": "2025-02-19T23:28:32.064847Z",
     "iopub.status.busy": "2025-02-19T23:28:32.064563Z",
     "iopub.status.idle": "2025-02-19T23:28:43.518518Z",
     "shell.execute_reply": "2025-02-19T23:28:43.517621Z"
    },
    "papermill": {
     "duration": 11.469392,
     "end_time": "2025-02-19T23:28:43.519974",
     "exception": false,
     "start_time": "2025-02-19T23:28:32.050582",
     "status": "completed"
    },
    "tags": []
   },
   "outputs": [
    {
     "name": "stdout",
     "output_type": "stream",
     "text": [
      "accuracy:  0.8682001995953612\n",
      "precision:  0.9880670124805931\n",
      "recall:  0.6111673577559574\n",
      "f1:  0.7552042609167595\n"
     ]
    }
   ],
   "source": [
    "pred_1 = clf.predict(X_valid)\n",
    "score(y_valid,pred_1)"
   ]
  },
  {
   "cell_type": "code",
   "execution_count": null,
   "id": "ba2a899d",
   "metadata": {
    "papermill": {
     "duration": 0.013426,
     "end_time": "2025-02-19T23:28:43.547683",
     "exception": false,
     "start_time": "2025-02-19T23:28:43.534257",
     "status": "completed"
    },
    "tags": []
   },
   "outputs": [],
   "source": []
  }
 ],
 "metadata": {
  "kaggle": {
   "accelerator": "gpu",
   "dataSources": [
    {
     "datasetId": 6550616,
     "sourceId": 10585057,
     "sourceType": "datasetVersion"
    }
   ],
   "dockerImageVersionId": 30887,
   "isGpuEnabled": true,
   "isInternetEnabled": true,
   "language": "python",
   "sourceType": "notebook"
  },
  "kernelspec": {
   "display_name": "Python 3 (ipykernel)",
   "language": "python",
   "name": "python3"
  },
  "language_info": {
   "codemirror_mode": {
    "name": "ipython",
    "version": 3
   },
   "file_extension": ".py",
   "mimetype": "text/x-python",
   "name": "python",
   "nbconvert_exporter": "python",
   "pygments_lexer": "ipython3",
   "version": "3.12.7"
  },
  "papermill": {
   "default_parameters": {},
   "duration": 5523.066627,
   "end_time": "2025-02-19T23:28:45.789801",
   "environment_variables": {},
   "exception": null,
   "input_path": "__notebook__.ipynb",
   "output_path": "__notebook__.ipynb",
   "parameters": {},
   "start_time": "2025-02-19T21:56:42.723174",
   "version": "2.6.0"
  }
 },
 "nbformat": 4,
 "nbformat_minor": 5
}
