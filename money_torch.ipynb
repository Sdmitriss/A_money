{
 "cells": [
  {
   "cell_type": "code",
   "execution_count": 2,
   "id": "bf10a431-d9c7-4fce-8fa5-1c811da4ed8a",
   "metadata": {
    "execution": {
     "iopub.execute_input": "2025-02-16T07:52:18.035146Z",
     "iopub.status.busy": "2025-02-16T07:52:18.034845Z",
     "iopub.status.idle": "2025-02-16T07:52:18.038506Z",
     "shell.execute_reply": "2025-02-16T07:52:18.037751Z",
     "shell.execute_reply.started": "2025-02-16T07:52:18.035125Z"
    }
   },
   "outputs": [],
   "source": [
    "### 1. Data loading"
   ]
  },
  {
   "cell_type": "code",
   "execution_count": 3,
   "id": "5135cc2f-64e6-421a-a5d2-d3b0bb50cfad",
   "metadata": {
    "execution": {
     "iopub.execute_input": "2025-02-16T07:52:18.053760Z",
     "iopub.status.busy": "2025-02-16T07:52:18.053544Z",
     "iopub.status.idle": "2025-02-16T07:52:23.190366Z",
     "shell.execute_reply": "2025-02-16T07:52:23.189498Z",
     "shell.execute_reply.started": "2025-02-16T07:52:18.053740Z"
    }
   },
   "outputs": [],
   "source": [
    "import os\n",
    "import sys\n",
    "from pathlib import Path\n",
    "import pandas as pd\n",
    "import numpy as np\n",
    "import  pickle\n",
    "import gc\n",
    "import time\n",
    "import re\n",
    "from tqdm import tqdm\n",
    "\n",
    "import optuna\n",
    "from optuna import distributions\n",
    "import logging\n",
    "import warnings\n",
    "\n",
    "import torch\n",
    "from torch.utils.data import WeightedRandomSampler\n",
    "from torch.utils.data import Dataset, DataLoader\n",
    "from torch import nn\n",
    "import torch.nn.functional as F\n",
    "import torch.optim as optim\n",
    "\n",
    "import matplotlib.pyplot as plt\n",
    "import seaborn as sns\n",
    "\n",
    "from sklearn.metrics import f1_score\n",
    "from sklearn.preprocessing import( StandardScaler,\n",
    "                                   MinMaxScaler,\n",
    "                                   OneHotEncoder,\n",
    "                                   OrdinalEncoder              \n",
    ")\n",
    "from sklearn.model_selection import train_test_split\n",
    "from sklearn.pipeline import Pipeline\n",
    "from sklearn.impute import SimpleImputer\n",
    "from sklearn.compose import ColumnTransformer \n",
    "\n",
    "from collections import Counter\n",
    "from category_encoders import HashingEncoder, TargetEncoder\n",
    "\n",
    "RANDOM_STATE = 51"
   ]
  },
  {
   "cell_type": "markdown",
   "id": "d1e2a832-f73e-4e33-be54-497d0d24ca9c",
   "metadata": {},
   "source": [
    "### 2. Data preprocessing"
   ]
  },
  {
   "cell_type": "code",
   "execution_count": 4,
   "id": "0a7cd632-33eb-4671-a0f7-2abbf6a5f227",
   "metadata": {
    "execution": {
     "iopub.execute_input": "2025-02-16T07:52:23.191834Z",
     "iopub.status.busy": "2025-02-16T07:52:23.191379Z",
     "iopub.status.idle": "2025-02-16T07:52:23.196826Z",
     "shell.execute_reply": "2025-02-16T07:52:23.196033Z",
     "shell.execute_reply.started": "2025-02-16T07:52:23.191804Z"
    }
   },
   "outputs": [],
   "source": [
    "\n",
    "def missing(data):\n",
    "    missing = pd.DataFrame(data.isna().sum(),columns=[\"missing_values\"]).reset_index().query('missing_values != 0 ')\n",
    "    missing.rename(columns={'index': 'column_name'}, inplace=True)\n",
    "    return missing.reset_index(drop=True)\n",
    "    \n",
    "\n",
    "def score( y_true,y_pred):\n",
    "    print('accuracy: ',accuracy_score( y_true, y_pred))\n",
    "    print('precision: ', precision_score( y_true, y_pred))\n",
    "    print( 'recall: ', recall_score( y_true, y_pred))\n",
    "    print('f1: ',f1_score(y_true, y_pred))          \n"
   ]
  },
  {
   "cell_type": "code",
   "execution_count": 5,
   "id": "d504a396-52af-4b07-ad99-026325a15bce",
   "metadata": {
    "execution": {
     "iopub.execute_input": "2025-02-16T07:52:23.198521Z",
     "iopub.status.busy": "2025-02-16T07:52:23.198284Z",
     "iopub.status.idle": "2025-02-16T07:53:42.401521Z",
     "shell.execute_reply": "2025-02-16T07:53:42.400787Z",
     "shell.execute_reply.started": "2025-02-16T07:52:23.198501Z"
    }
   },
   "outputs": [
    {
     "name": "stdout",
     "output_type": "stream",
     "text": [
      "/kaggle/input/a-money/train.csv \n",
      " /kaggle/input/a-money/test.csv\n"
     ]
    }
   ],
   "source": [
    "try:\n",
    "    path_data_train= Path(Path.cwd()/'adengi-internship_1/train.csv')\n",
    "    path_data_test= Path(Path.cwd()/'adengi-internship_1/test.csv')\n",
    "   \n",
    "    df_train = pd.read_csv(path_data_train)\n",
    "    df_test = pd.read_csv(path_data_test)\n",
    "    \n",
    "    \n",
    "except:\n",
    "\n",
    "    path_data_train = Path('/kaggle/input/a-money/train.csv')\n",
    "    path_data_test = Path('/kaggle/input/a-money/test.csv')\n",
    "\n",
    "    df_train = pd.read_csv(path_data_train)\n",
    "    df_test = pd.read_csv(path_data_test)\n",
    "    \n",
    "print(path_data_train, '\\n',path_data_test)\n"
   ]
  },
  {
   "cell_type": "code",
   "execution_count": 6,
   "id": "0a296fb2-489a-4c1e-a65a-ae39c8d93eff",
   "metadata": {
    "execution": {
     "iopub.execute_input": "2025-02-16T07:53:42.402832Z",
     "iopub.status.busy": "2025-02-16T07:53:42.402615Z",
     "iopub.status.idle": "2025-02-16T07:53:42.410891Z",
     "shell.execute_reply": "2025-02-16T07:53:42.410128Z",
     "shell.execute_reply.started": "2025-02-16T07:53:42.402814Z"
    }
   },
   "outputs": [],
   "source": [
    "replace_dict = {\n",
    "    'чуваш': 'Чувашская',\n",
    "    'мари': 'Марий Эл',\n",
    "     'луган': 'ЛНР',\n",
    "    'донец': 'ДНР',\n",
    "    'якут': 'Якутия',\n",
    "    'осет':'Северная Осетия',\n",
    "    'саха' : 'Якутия'\n",
    "    \n",
    "}\n",
    "\n",
    "\n",
    "replace_dict_2  = {\n",
    "    'ямал':  'ао Ямало-Ненецкий',\n",
    "    'ненец': 'ао Ненецкий',\n",
    "    'ханты' : 'ао Ханты-Мансийский',\n",
    "     \n",
    "    'чукотск':'ао Чукотский', \n",
    "    'еврейск': 'аобл Еврейская'\n",
    "    \n",
    "}\n",
    "\n",
    "replace_dict_3 = {\n",
    "    'москв':'обл Московская',\n",
    "    'севаст':'респ Крым',\n",
    "    ' санкт':'обл Ленинградская'\n",
    "}\n",
    "def change(text):\n",
    "    text =' '.join(text)\n",
    "    string= False\n",
    "    for i in replace_dict:\n",
    "        if  re.search( rf'(?i)\\w*{i}\\w*', text):\n",
    "            string = replace_dict.get(i)\n",
    "    if  string:\n",
    "        return 'респ '+string\n",
    "    return 'респ ' + text   \n",
    "\n",
    "def  change_2(text): \n",
    "    for i in replace_dict_2:\n",
    "        if re.search( rf'(?i)\\w*{i}\\w*', text):\n",
    "            return replace_dict_2.get(i) \n",
    "\n",
    "def  change_3(text): \n",
    "    for i in replace_dict_3:\n",
    "        if re.search( rf'(?i)\\w*{i}\\w*', text):\n",
    "            return replace_dict_3.get(i) \n",
    "      \n",
    "\n",
    "def region_1(string):\n",
    "    # string = string.astype('str')\n",
    "    if re.search(r'(?i)\\bобл\\b|\\bобласть\\b', string):\n",
    "        # print('обл')\n",
    "        return 'обл '+set(re.findall(r'\\b\\w*кая\\b', string)).pop().capitalize()\n",
    "    #elif re.search(r'\\bг\\b|\\bрайон\\b', string):\n",
    "        # print('г')\n",
    "        #return 'г '+ set(re.sub(r'(?i)\\bг\\b|\\bрайон\\b' ,'', string).split()).pop()\n",
    "    elif re.search(r'\\bг\\b|\\bрайон\\b', string):\n",
    "        #print('г')\n",
    "        return change_3(string)\n",
    "    \n",
    "    elif  re.search(r'(?i)респ', string):\n",
    "        # print('респ')\n",
    "        resp = list(set(re.sub(r'(?i)\\b\\w*респ\\w*\\b', '', string).split()))\n",
    "        return change(resp) \n",
    "    elif re.search(r'(?i)край',string) and not re.search(r'(?i)область', string):\n",
    "        return 'край '+set(re.findall(r'\\b\\w*ский\\b', string)).pop().capitalize()\n",
    "\n",
    "    elif re.search(r'(?i)\\bао\\b|\\bавтономный\\b|\\bеврейская\\b', string):\n",
    "        # print('AO',string, 'sss')\n",
    "        return change_2(string)\n",
    "    return 'unknown ' + string"
   ]
  },
  {
   "cell_type": "code",
   "execution_count": 7,
   "id": "a483776f-7656-45fa-b9a3-98dd2d423bca",
   "metadata": {
    "execution": {
     "iopub.execute_input": "2025-02-16T07:53:42.411924Z",
     "iopub.status.busy": "2025-02-16T07:53:42.411657Z",
     "iopub.status.idle": "2025-02-16T07:54:16.408093Z",
     "shell.execute_reply": "2025-02-16T07:54:16.407365Z",
     "shell.execute_reply.started": "2025-02-16T07:53:42.411904Z"
    }
   },
   "outputs": [
    {
     "name": "stdout",
     "output_type": "stream",
     "text": [
      "CPU times: user 33.7 s, sys: 311 ms, total: 34 s\n",
      "Wall time: 34 s\n"
     ]
    }
   ],
   "source": [
    "%%time\n",
    "df_train['region_new']= df_train['region'].map(region_1)\n",
    "df_test['region_new'] = df_test['region'].map(region_1)"
   ]
  },
  {
   "cell_type": "code",
   "execution_count": 8,
   "id": "57b814d5-6eb2-4e2f-af01-f41b7091326d",
   "metadata": {
    "execution": {
     "iopub.execute_input": "2025-02-16T07:54:16.409008Z",
     "iopub.status.busy": "2025-02-16T07:54:16.408798Z",
     "iopub.status.idle": "2025-02-16T07:54:17.873360Z",
     "shell.execute_reply": "2025-02-16T07:54:17.872504Z",
     "shell.execute_reply.started": "2025-02-16T07:54:16.408989Z"
    }
   },
   "outputs": [
    {
     "name": "stdout",
     "output_type": "stream",
     "text": [
      "Число регионов в test: 86, Число регионов в train: 86\n",
      "дельта test^train:  set()\n"
     ]
    }
   ],
   "source": [
    "region_train= df_train['region_new'].unique()\n",
    "region_test = df_test['region_new'].unique()\n",
    "print(f'Число регионов в test: {len(region_test)},', f'Число регионов в train: {len(region_train)}')\n",
    "\n",
    "print('дельта test^train: ',set(df_test['region_new'])^set( df_train['region_new']))"
   ]
  },
  {
   "cell_type": "code",
   "execution_count": 9,
   "id": "4251952d-a0c9-4dc3-8591-57422eca9d8b",
   "metadata": {
    "execution": {
     "iopub.execute_input": "2025-02-16T07:54:17.874617Z",
     "iopub.status.busy": "2025-02-16T07:54:17.874323Z",
     "iopub.status.idle": "2025-02-16T07:54:19.226599Z",
     "shell.execute_reply": "2025-02-16T07:54:19.225899Z",
     "shell.execute_reply.started": "2025-02-16T07:54:17.874582Z"
    }
   },
   "outputs": [
    {
     "name": "stdout",
     "output_type": "stream",
     "text": [
      "settlement unique():  47357\n"
     ]
    }
   ],
   "source": [
    "print('settlement unique(): ', len(df_train['settlement'].unique()))\n",
    "\n",
    "N=7000 #  частота <10000 закодируем other\n",
    "settlement= Counter(df_train['settlement'])\n",
    "vocab_settelement = [i[0] for i in settlement.most_common(N)] \n",
    "\n",
    "def settlement_columns(data):\n",
    "    #data['settlement_new'] =data['settlement'].apply(lambda x: x.lower() if x in vocab_settelement else 'others')   \n",
    "    data['settlement_new'] =data['settlement'].where(data['settlement'].isin(vocab_settelement),'others')"
   ]
  },
  {
   "cell_type": "code",
   "execution_count": 10,
   "id": "1d41e001-5b50-43b9-b74e-26377e8bc1bc",
   "metadata": {
    "execution": {
     "iopub.execute_input": "2025-02-16T07:54:19.229648Z",
     "iopub.status.busy": "2025-02-16T07:54:19.229391Z",
     "iopub.status.idle": "2025-02-16T07:54:19.766572Z",
     "shell.execute_reply": "2025-02-16T07:54:19.765652Z",
     "shell.execute_reply.started": "2025-02-16T07:54:19.229629Z"
    }
   },
   "outputs": [
    {
     "name": "stdout",
     "output_type": "stream",
     "text": [
      "CPU times: user 532 ms, sys: 2.01 ms, total: 534 ms\n",
      "Wall time: 533 ms\n"
     ]
    }
   ],
   "source": [
    "%%time\n",
    "settlement_columns(df_train)\n",
    "settlement_columns(df_test)"
   ]
  },
  {
   "cell_type": "code",
   "execution_count": 11,
   "id": "3475a0ea-b1bd-474e-afe5-4342e2be8a2f",
   "metadata": {
    "execution": {
     "iopub.execute_input": "2025-02-16T07:54:19.768252Z",
     "iopub.status.busy": "2025-02-16T07:54:19.768007Z",
     "iopub.status.idle": "2025-02-16T07:54:19.773839Z",
     "shell.execute_reply": "2025-02-16T07:54:19.773171Z",
     "shell.execute_reply.started": "2025-02-16T07:54:19.768230Z"
    }
   },
   "outputs": [],
   "source": [
    "def time_columns (data):\n",
    "    data['created_at'] = pd.to_datetime(data['created_at'], errors='coerce')\n",
    "    data['start_dt'] = pd.to_datetime(data['start_dt'], errors='coerce')\n",
    "    \n",
    "    data['start_dt_new'] = data['start_dt'].copy()  # для  реализации п. 2.1.3.1 в baseline не используется\n",
    "     \n",
    "    data['start_dt'] = data.groupby('client_id')['start_dt'].transform(\n",
    "            lambda x: x.fillna(x.min()))\n",
    "    \n",
    "    data['start_dt'] = data['start_dt'].fillna(data['created_at'])\n",
    "\n",
    "    data['month'] = data['created_at'].dt.month\n",
    "    data['day'] = data['created_at'].dt.day\n",
    "    data['week'] = data['created_at'].dt.dayofweek\n",
    "\n",
    "    reference_date = pd.to_datetime('2022-01-01')\n",
    "    \n",
    "    data['created_at'] = (data['created_at'] - reference_date).dt.days\n",
    "    data['start_dt'] = (data['start_dt'] - reference_date).dt.days\n",
    "    \n",
    "    data['days_diff'] = data['start_dt']-data['created_at']\n",
    "\n",
    "    data['start_dt_xg'] =  pd.to_datetime(data['start_dt_new'])\n",
    "    data['start_dt_xg'] =(data['start_dt_xg']-reference_date).dt.days"
   ]
  },
  {
   "cell_type": "code",
   "execution_count": 12,
   "id": "c4cfe313-a9be-4413-8b7e-55e84cb3a9a8",
   "metadata": {
    "execution": {
     "iopub.execute_input": "2025-02-16T07:54:19.774709Z",
     "iopub.status.busy": "2025-02-16T07:54:19.774511Z",
     "iopub.status.idle": "2025-02-16T07:59:54.811717Z",
     "shell.execute_reply": "2025-02-16T07:59:54.810835Z",
     "shell.execute_reply.started": "2025-02-16T07:54:19.774692Z"
    }
   },
   "outputs": [
    {
     "name": "stdout",
     "output_type": "stream",
     "text": [
      "CPU times: user 5min 30s, sys: 4.83 s, total: 5min 34s\n",
      "Wall time: 5min 35s\n"
     ]
    }
   ],
   "source": [
    "%%time\n",
    "time_columns(df_train)\n",
    "time_columns(df_test)"
   ]
  },
  {
   "cell_type": "markdown",
   "id": "bc26d695-7012-45fa-b1dc-3f268c4196ad",
   "metadata": {},
   "source": [
    "_____________________"
   ]
  },
  {
   "cell_type": "code",
   "execution_count": 13,
   "id": "14ce1610-13f4-4ec8-bde7-2174748d66c8",
   "metadata": {
    "execution": {
     "iopub.execute_input": "2025-02-16T07:59:54.812962Z",
     "iopub.status.busy": "2025-02-16T07:59:54.812661Z",
     "iopub.status.idle": "2025-02-16T07:59:55.691497Z",
     "shell.execute_reply": "2025-02-16T07:59:55.690696Z",
     "shell.execute_reply.started": "2025-02-16T07:59:54.812930Z"
    }
   },
   "outputs": [
    {
     "data": {
      "text/plain": [
       "Index(['monthly_income', 'work_experience', 'requested_sum',\n",
       "       'main_agreement_amount', 'main_agreement_term', 'requested_period_days',\n",
       "       'requested_amount', 'req_app_amount', 'approved_amount', 'period_days',\n",
       "       'days_finish_loan', 'ag', 'cnt_ext', 'term', 'price', 'elecs_sum',\n",
       "       'recurents_sum', 'tamount', 'issues', 'principal', 'interest',\n",
       "       'overdue_interest', 'overdue_fee', 'nbki_score', 'contact_cases',\n",
       "       'start_dt_xg'],\n",
       "      dtype='object')"
      ]
     },
     "execution_count": 13,
     "metadata": {},
     "output_type": "execute_result"
    }
   ],
   "source": [
    "df_train.select_dtypes(include='float').columns"
   ]
  },
  {
   "cell_type": "markdown",
   "id": "e267cc6f-06d9-405d-be86-062c531188ed",
   "metadata": {},
   "source": [
    "- monthly_income - среднемесячный заработок клиента (зарплата)\n",
    "- work_experience - кол-во лет стажа клиента\n",
    "- requested_sum - запрашиваемая сумма клиента для займа, если interface - alfa\n",
    "- requested_period_days - запрашиваемый срок по займу\n",
    "- requested_amount - запрашиваемая сумма клиента по займу\n",
    "- req_app_amount - разница между запрашиваемой суммой займа и одобренной\n",
    "- cnt_ext - кол-во пролонгаций по займу\n",
    "- term - срок пролонгации (список)\n",
    "- price - цена пролонгации (список)\n",
    "- elecs_sum - штрафы, пени\n",
    "- recurents_sum - штрафы, пени (там вроде как различия в этапах их начисления)\n",
    "- tamount - общий кэшфлоу клиента (общая сумма которая была на аккаунте клиента)\n",
    "- nbki_score - скор клиента от рисков\n",
    "- contact_cases - кол-во обращений клиента с коллекшн"
   ]
  },
  {
   "cell_type": "code",
   "execution_count": 14,
   "id": "e9fcb7f1-83ce-4132-aec2-00e1308c0601",
   "metadata": {
    "execution": {
     "iopub.execute_input": "2025-02-16T07:59:55.692887Z",
     "iopub.status.busy": "2025-02-16T07:59:55.692569Z",
     "iopub.status.idle": "2025-02-16T07:59:55.728751Z",
     "shell.execute_reply": "2025-02-16T07:59:55.727918Z",
     "shell.execute_reply.started": "2025-02-16T07:59:55.692854Z"
    }
   },
   "outputs": [],
   "source": [
    "df_test.loc[df_test['monthly_income']>10,'monthly_income'] =\\\n",
    "    df_test.loc[df_test['monthly_income']>10,'monthly_income']/1000\n",
    "\n",
    "df_train.loc[df_train['monthly_income']>10,'monthly_income'] =\\\n",
    "    df_train.loc[df_train['monthly_income']>10,'monthly_income']/1000"
   ]
  },
  {
   "cell_type": "code",
   "execution_count": 15,
   "id": "4f83a760-6a96-46be-9ae8-eb3220744f4d",
   "metadata": {
    "execution": {
     "iopub.execute_input": "2025-02-16T07:59:55.729937Z",
     "iopub.status.busy": "2025-02-16T07:59:55.729659Z",
     "iopub.status.idle": "2025-02-16T07:59:55.735023Z",
     "shell.execute_reply": "2025-02-16T07:59:55.734220Z",
     "shell.execute_reply.started": "2025-02-16T07:59:55.729911Z"
    }
   },
   "outputs": [],
   "source": [
    "def simpl_median(name):\n",
    "    imp_median = SimpleImputer(strategy='median')\n",
    "    df_train[name] = imp_median.fit_transform(df_train[[name]]) \n",
    "    df_test[name] = imp_median.transform(df_test[[name]])"
   ]
  },
  {
   "cell_type": "code",
   "execution_count": 16,
   "id": "038f053a-7479-4677-8fb7-36599876c4c0",
   "metadata": {
    "execution": {
     "iopub.execute_input": "2025-02-16T07:59:55.736243Z",
     "iopub.status.busy": "2025-02-16T07:59:55.735963Z",
     "iopub.status.idle": "2025-02-16T07:59:56.579939Z",
     "shell.execute_reply": "2025-02-16T07:59:56.579138Z",
     "shell.execute_reply.started": "2025-02-16T07:59:55.736215Z"
    }
   },
   "outputs": [],
   "source": [
    "simpl_median('monthly_income')"
   ]
  },
  {
   "cell_type": "code",
   "execution_count": 17,
   "id": "b997639c-6d47-4861-b45e-682360ad2e25",
   "metadata": {
    "execution": {
     "iopub.execute_input": "2025-02-16T07:59:56.581080Z",
     "iopub.status.busy": "2025-02-16T07:59:56.580800Z",
     "iopub.status.idle": "2025-02-16T07:59:56.585472Z",
     "shell.execute_reply": "2025-02-16T07:59:56.584596Z",
     "shell.execute_reply.started": "2025-02-16T07:59:56.581050Z"
    }
   },
   "outputs": [],
   "source": [
    "def min_simple(name):\n",
    "    df_train[name]=df_train[name].fillna(df_train[name].min())\n",
    "    df_test[name]=df_test[name].fillna(df_test[name].min())"
   ]
  },
  {
   "cell_type": "code",
   "execution_count": 18,
   "id": "e7d99724-4912-4932-94f9-df7d0743cb74",
   "metadata": {
    "execution": {
     "iopub.execute_input": "2025-02-16T07:59:56.587253Z",
     "iopub.status.busy": "2025-02-16T07:59:56.587045Z",
     "iopub.status.idle": "2025-02-16T07:59:56.611276Z",
     "shell.execute_reply": "2025-02-16T07:59:56.610500Z",
     "shell.execute_reply.started": "2025-02-16T07:59:56.587236Z"
    }
   },
   "outputs": [
    {
     "data": {
      "text/plain": [
       "(-0.7206081182984045, -0.7206081182984045)"
      ]
     },
     "execution_count": 18,
     "metadata": {},
     "output_type": "execute_result"
    }
   ],
   "source": [
    "df_train['cnt_ext'].min(), df_test['cnt_ext'].min()"
   ]
  },
  {
   "cell_type": "code",
   "execution_count": 19,
   "id": "04b273f4-89e7-4e71-adc4-b3d47236e4e5",
   "metadata": {
    "execution": {
     "iopub.execute_input": "2025-02-16T07:59:56.612399Z",
     "iopub.status.busy": "2025-02-16T07:59:56.612102Z",
     "iopub.status.idle": "2025-02-16T07:59:56.663923Z",
     "shell.execute_reply": "2025-02-16T07:59:56.663019Z",
     "shell.execute_reply.started": "2025-02-16T07:59:56.612372Z"
    }
   },
   "outputs": [],
   "source": [
    "min_simple('cnt_ext')"
   ]
  },
  {
   "cell_type": "code",
   "execution_count": 20,
   "id": "36e4587d-49aa-4e75-8db2-a0936e69c610",
   "metadata": {
    "execution": {
     "iopub.execute_input": "2025-02-16T07:59:56.665135Z",
     "iopub.status.busy": "2025-02-16T07:59:56.664837Z",
     "iopub.status.idle": "2025-02-16T07:59:56.669919Z",
     "shell.execute_reply": "2025-02-16T07:59:56.669040Z",
     "shell.execute_reply.started": "2025-02-16T07:59:56.665102Z"
    }
   },
   "outputs": [],
   "source": [
    "def zerro_simple(name):\n",
    "    df_train[name]=df_train[name].fillna(0)\n",
    "    df_test[name]=df_test[name].fillna(0)"
   ]
  },
  {
   "cell_type": "code",
   "execution_count": 21,
   "id": "254c0b83-47aa-4517-9ccb-e3baa0397a61",
   "metadata": {
    "execution": {
     "iopub.execute_input": "2025-02-16T07:59:56.670969Z",
     "iopub.status.busy": "2025-02-16T07:59:56.670753Z",
     "iopub.status.idle": "2025-02-16T07:59:56.721963Z",
     "shell.execute_reply": "2025-02-16T07:59:56.721211Z",
     "shell.execute_reply.started": "2025-02-16T07:59:56.670950Z"
    }
   },
   "outputs": [],
   "source": [
    "zerro_simple('contact_cases')"
   ]
  },
  {
   "cell_type": "code",
   "execution_count": 22,
   "id": "ad97f628-bd4b-4338-9ef1-b62f0689ee7f",
   "metadata": {
    "execution": {
     "iopub.execute_input": "2025-02-16T07:59:56.723089Z",
     "iopub.status.busy": "2025-02-16T07:59:56.722811Z",
     "iopub.status.idle": "2025-02-16T07:59:56.821237Z",
     "shell.execute_reply": "2025-02-16T07:59:56.820321Z",
     "shell.execute_reply.started": "2025-02-16T07:59:56.723064Z"
    }
   },
   "outputs": [],
   "source": [
    "min_simple('elecs_sum')\n",
    "min_simple('recurents_sum')"
   ]
  },
  {
   "cell_type": "code",
   "execution_count": 23,
   "id": "d87200f9-e31f-44dc-a3a4-6cba2945ff0d",
   "metadata": {
    "execution": {
     "iopub.execute_input": "2025-02-16T07:59:56.822328Z",
     "iopub.status.busy": "2025-02-16T07:59:56.822076Z",
     "iopub.status.idle": "2025-02-16T07:59:57.212580Z",
     "shell.execute_reply": "2025-02-16T07:59:57.211680Z",
     "shell.execute_reply.started": "2025-02-16T07:59:56.822307Z"
    }
   },
   "outputs": [],
   "source": [
    "simpl_median('nbki_score')"
   ]
  },
  {
   "cell_type": "code",
   "execution_count": 24,
   "id": "4175fa2c-b43e-491a-b66a-e98af7d233c2",
   "metadata": {
    "execution": {
     "iopub.execute_input": "2025-02-16T07:59:57.213739Z",
     "iopub.status.busy": "2025-02-16T07:59:57.213455Z",
     "iopub.status.idle": "2025-02-16T07:59:57.260920Z",
     "shell.execute_reply": "2025-02-16T07:59:57.260295Z",
     "shell.execute_reply.started": "2025-02-16T07:59:57.213711Z"
    }
   },
   "outputs": [],
   "source": [
    "min_simple('price')"
   ]
  },
  {
   "cell_type": "code",
   "execution_count": 25,
   "id": "aec4c6e8-9061-4150-a2df-7b39bd508982",
   "metadata": {
    "execution": {
     "iopub.execute_input": "2025-02-16T07:59:57.265365Z",
     "iopub.status.busy": "2025-02-16T07:59:57.265126Z",
     "iopub.status.idle": "2025-02-16T07:59:57.383803Z",
     "shell.execute_reply": "2025-02-16T07:59:57.383117Z",
     "shell.execute_reply.started": "2025-02-16T07:59:57.265346Z"
    }
   },
   "outputs": [],
   "source": [
    "df_train['requested_sum'] = df_train['requested_sum'].fillna(\n",
    "            df_train['approved_amount'] * df_train['requested_sum'].mean() / df_train['approved_amount'].mean())\n",
    "\n",
    "df_test['requested_sum'] = df_test['requested_sum'].fillna(\n",
    "            df_test['approved_amount'] * df_test['requested_sum'].mean() / df_test['approved_amount'].mean())"
   ]
  },
  {
   "cell_type": "code",
   "execution_count": 26,
   "id": "8dba395c-4348-40b5-affb-b6a6104671f9",
   "metadata": {
    "execution": {
     "iopub.execute_input": "2025-02-16T07:59:57.385832Z",
     "iopub.status.busy": "2025-02-16T07:59:57.385620Z",
     "iopub.status.idle": "2025-02-16T07:59:57.429901Z",
     "shell.execute_reply": "2025-02-16T07:59:57.429243Z",
     "shell.execute_reply.started": "2025-02-16T07:59:57.385814Z"
    }
   },
   "outputs": [],
   "source": [
    "df_train['requested_amount'] = df_train['requested_amount'].fillna(df_train['requested_sum'])\n",
    "df_test['requested_amount'] =  df_test['requested_amount'].fillna(df_test['requested_sum'])"
   ]
  },
  {
   "cell_type": "code",
   "execution_count": 27,
   "id": "f86cbcd8-ad4e-4992-8c50-ac88f9a9122d",
   "metadata": {
    "execution": {
     "iopub.execute_input": "2025-02-16T07:59:57.430961Z",
     "iopub.status.busy": "2025-02-16T07:59:57.430669Z",
     "iopub.status.idle": "2025-02-16T07:59:57.481406Z",
     "shell.execute_reply": "2025-02-16T07:59:57.480496Z",
     "shell.execute_reply.started": "2025-02-16T07:59:57.430926Z"
    }
   },
   "outputs": [],
   "source": [
    "df_train['req_app_amount'] = df_train['req_app_amount'].fillna(df_train['requested_amount'] - df_train['approved_amount'])\n",
    "df_test['req_app_amount'] =df_test['req_app_amount'].fillna( df_test['requested_amount'] - df_test['approved_amount'])"
   ]
  },
  {
   "cell_type": "code",
   "execution_count": 28,
   "id": "25a00857-9995-4bcd-aa89-3cf18ad3aedb",
   "metadata": {
    "execution": {
     "iopub.execute_input": "2025-02-16T07:59:57.482616Z",
     "iopub.status.busy": "2025-02-16T07:59:57.482378Z",
     "iopub.status.idle": "2025-02-16T07:59:58.001322Z",
     "shell.execute_reply": "2025-02-16T07:59:58.000626Z",
     "shell.execute_reply.started": "2025-02-16T07:59:57.482595Z"
    }
   },
   "outputs": [],
   "source": [
    "simpl_median('requested_period_days')"
   ]
  },
  {
   "cell_type": "code",
   "execution_count": 29,
   "id": "6cc23c83-6fd2-4058-89af-b7621c96964e",
   "metadata": {
    "execution": {
     "iopub.execute_input": "2025-02-16T07:59:58.002287Z",
     "iopub.status.busy": "2025-02-16T07:59:58.002018Z",
     "iopub.status.idle": "2025-02-16T07:59:58.006533Z",
     "shell.execute_reply": "2025-02-16T07:59:58.005519Z",
     "shell.execute_reply.started": "2025-02-16T07:59:58.002266Z"
    }
   },
   "outputs": [],
   "source": [
    "def simple_moda(name):\n",
    "    imp_mode = SimpleImputer(strategy=\"most_frequent\")\n",
    "    df_train[name]=imp_mode.fit_transform(df_train[[name]])\n",
    "    df_test[name]=imp_mode.transform(df_test[[name]])"
   ]
  },
  {
   "cell_type": "code",
   "execution_count": 30,
   "id": "2870b391-f7b8-4699-bd34-567a8819a17f",
   "metadata": {
    "execution": {
     "iopub.execute_input": "2025-02-16T07:59:58.007582Z",
     "iopub.status.busy": "2025-02-16T07:59:58.007277Z",
     "iopub.status.idle": "2025-02-16T07:59:58.302303Z",
     "shell.execute_reply": "2025-02-16T07:59:58.301404Z",
     "shell.execute_reply.started": "2025-02-16T07:59:58.007553Z"
    }
   },
   "outputs": [],
   "source": [
    "simple_moda('tamount')"
   ]
  },
  {
   "cell_type": "code",
   "execution_count": 31,
   "id": "19b1342e-3607-4ed4-9165-1cc0a63f2287",
   "metadata": {
    "execution": {
     "iopub.execute_input": "2025-02-16T07:59:58.303444Z",
     "iopub.status.busy": "2025-02-16T07:59:58.303172Z",
     "iopub.status.idle": "2025-02-16T07:59:58.347121Z",
     "shell.execute_reply": "2025-02-16T07:59:58.346254Z",
     "shell.execute_reply.started": "2025-02-16T07:59:58.303422Z"
    }
   },
   "outputs": [],
   "source": [
    "zerro_simple('work_experience')"
   ]
  },
  {
   "cell_type": "code",
   "execution_count": 32,
   "id": "79c5de01-4714-4ab7-bf03-3368937dd866",
   "metadata": {
    "execution": {
     "iopub.execute_input": "2025-02-16T07:59:58.348300Z",
     "iopub.status.busy": "2025-02-16T07:59:58.348039Z",
     "iopub.status.idle": "2025-02-16T07:59:58.399641Z",
     "shell.execute_reply": "2025-02-16T07:59:58.398656Z",
     "shell.execute_reply.started": "2025-02-16T07:59:58.348278Z"
    }
   },
   "outputs": [],
   "source": [
    "min_simple('term')"
   ]
  },
  {
   "cell_type": "code",
   "execution_count": 33,
   "id": "7de7569b-a5cb-4a96-a6ff-da0d7eeb28ab",
   "metadata": {
    "execution": {
     "iopub.execute_input": "2025-02-16T07:59:58.400835Z",
     "iopub.status.busy": "2025-02-16T07:59:58.400511Z",
     "iopub.status.idle": "2025-02-16T07:59:58.405268Z",
     "shell.execute_reply": "2025-02-16T07:59:58.404353Z",
     "shell.execute_reply.started": "2025-02-16T07:59:58.400798Z"
    }
   },
   "outputs": [],
   "source": [
    "columns_flat_no_na=['ag',\n",
    "'approved_amount',\n",
    "'days_finish_loan',\n",
    "'interest',\n",
    "'issues',\n",
    "'main_agreement_amount',\n",
    "'main_agreement_term',\n",
    "'overdue_fee',\n",
    "'overdue_interest',\n",
    "'period_days',\n",
    "'principal']"
   ]
  },
  {
   "cell_type": "code",
   "execution_count": 34,
   "id": "d065929b-0ed4-431e-a7e4-9ad407a01b86",
   "metadata": {
    "execution": {
     "iopub.execute_input": "2025-02-16T07:59:58.406581Z",
     "iopub.status.busy": "2025-02-16T07:59:58.406288Z",
     "iopub.status.idle": "2025-02-16T07:59:58.970031Z",
     "shell.execute_reply": "2025-02-16T07:59:58.969169Z",
     "shell.execute_reply.started": "2025-02-16T07:59:58.406553Z"
    }
   },
   "outputs": [
    {
     "data": {
      "text/plain": [
       "Index(['payment_frequency', 'status', 'loan_id', 'client_id', 'source',\n",
       "       'first_source', 'interface', 'type', 'repayment_type', 'client_type',\n",
       "       'loan_order', 'have_extension', 'created_at', 'start_dt', 'churn',\n",
       "       'month', 'day', 'week'],\n",
       "      dtype='object')"
      ]
     },
     "execution_count": 34,
     "metadata": {},
     "output_type": "execute_result"
    }
   ],
   "source": [
    "columns_int = df_train.select_dtypes(include=['int64', 'int32']).columns\n",
    "columns_int"
   ]
  },
  {
   "cell_type": "markdown",
   "id": "a713ade0-73a5-4334-af36-b18b05ec7492",
   "metadata": {},
   "source": [
    "- payment_frequency - частота получения зарплаты (month - 1 раз в месяц, 2 weeks - раз в две недели, и тд)\n",
    "- status - статус клиента (самозанятый, рабочий, и тд)\n",
    "- source - канал привлечения клиента\n",
    "- first_source - первый канал привлечения клиента\n",
    "- interface - интерфейс, откуда пришла заявка - (site, mobile)\n",
    "- type - тип займа (тип продукта)\n",
    "- repayment_type - Тип комиссии по займу (с 2.5% - with_comission, 5% - with_big_comission, 0% - no_comission)\n",
    "- client_type - тип клиента (новый, повторный)\n",
    "- have_extension - имеется ли пролонгация по данному займу"
   ]
  },
  {
   "cell_type": "code",
   "execution_count": 35,
   "id": "bab6f7b2-ebed-4900-832d-924008872a45",
   "metadata": {
    "execution": {
     "iopub.execute_input": "2025-02-16T07:59:58.971276Z",
     "iopub.status.busy": "2025-02-16T07:59:58.970931Z",
     "iopub.status.idle": "2025-02-16T07:59:58.974768Z",
     "shell.execute_reply": "2025-02-16T07:59:58.974031Z",
     "shell.execute_reply.started": "2025-02-16T07:59:58.971242Z"
    }
   },
   "outputs": [],
   "source": [
    "list_int= ['payment_frequency', 'status','source', 'first_source',\n",
    "         'interface', 'type', 'repayment_type', 'client_type','have_extension']"
   ]
  },
  {
   "cell_type": "code",
   "execution_count": 36,
   "id": "be627fa8-626d-438d-b592-46e7a526bd13",
   "metadata": {
    "execution": {
     "iopub.execute_input": "2025-02-16T07:59:58.975619Z",
     "iopub.status.busy": "2025-02-16T07:59:58.975436Z",
     "iopub.status.idle": "2025-02-16T08:00:00.504813Z",
     "shell.execute_reply": "2025-02-16T08:00:00.504158Z",
     "shell.execute_reply.started": "2025-02-16T07:59:58.975602Z"
    }
   },
   "outputs": [],
   "source": [
    "client_count=dict(Counter(pd.concat([df_train['client_id'],df_test['client_id']])))"
   ]
  },
  {
   "cell_type": "code",
   "execution_count": 37,
   "id": "0d31aa0e-a475-4713-9a48-faf848bbfa4e",
   "metadata": {
    "execution": {
     "iopub.execute_input": "2025-02-16T08:00:00.505720Z",
     "iopub.status.busy": "2025-02-16T08:00:00.505512Z",
     "iopub.status.idle": "2025-02-16T08:00:03.413373Z",
     "shell.execute_reply": "2025-02-16T08:00:03.412651Z",
     "shell.execute_reply.started": "2025-02-16T08:00:00.505702Z"
    }
   },
   "outputs": [],
   "source": [
    "df_train['client_id_new'] = df_train['client_id'].transform(lambda x: client_count.get(x)) \n",
    "df_test['client_id_new'] = df_test['client_id'].transform(lambda x: client_count.get(x)) "
   ]
  },
  {
   "cell_type": "code",
   "execution_count": 38,
   "id": "a72e6734-10f2-4709-89d5-cb614d75ea30",
   "metadata": {
    "execution": {
     "iopub.execute_input": "2025-02-16T08:00:03.414331Z",
     "iopub.status.busy": "2025-02-16T08:00:03.414102Z",
     "iopub.status.idle": "2025-02-16T08:00:04.049478Z",
     "shell.execute_reply": "2025-02-16T08:00:04.048803Z",
     "shell.execute_reply.started": "2025-02-16T08:00:03.414312Z"
    }
   },
   "outputs": [],
   "source": [
    "client_count=dict(Counter(pd.concat([df_train['loan_order'],df_test['loan_order']])))"
   ]
  },
  {
   "cell_type": "code",
   "execution_count": 39,
   "id": "f0f51ab2-ea19-4f6c-b3e0-eaaf23b983b6",
   "metadata": {
    "execution": {
     "iopub.execute_input": "2025-02-16T08:00:04.050336Z",
     "iopub.status.busy": "2025-02-16T08:00:04.050084Z",
     "iopub.status.idle": "2025-02-16T08:00:05.856577Z",
     "shell.execute_reply": "2025-02-16T08:00:05.855897Z",
     "shell.execute_reply.started": "2025-02-16T08:00:04.050315Z"
    }
   },
   "outputs": [],
   "source": [
    "df_train['loan_order_new'] = df_train['loan_order'].transform(lambda x: client_count.get(x)) \n",
    "df_test['loan_order_new'] = df_test['loan_order'].transform(lambda x: client_count.get(x)) "
   ]
  },
  {
   "cell_type": "markdown",
   "id": "7a374e03-9303-4500-895f-3db76ad1f071",
   "metadata": {},
   "source": [
    "### 3. New features"
   ]
  },
  {
   "cell_type": "code",
   "execution_count": 40,
   "id": "69683506-e46c-42ac-8408-6cf097626cb2",
   "metadata": {
    "execution": {
     "iopub.execute_input": "2025-02-16T08:00:05.857630Z",
     "iopub.status.busy": "2025-02-16T08:00:05.857340Z",
     "iopub.status.idle": "2025-02-16T08:00:05.880044Z",
     "shell.execute_reply": "2025-02-16T08:00:05.879451Z",
     "shell.execute_reply.started": "2025-02-16T08:00:05.857600Z"
    }
   },
   "outputs": [],
   "source": [
    "df_train['early_repayment'] = df_train['period_days'] - df_train['days_finish_loan']\n",
    "df_test['early_repayment'] = df_test['period_days'] - df_test['days_finish_loan']"
   ]
  },
  {
   "cell_type": "code",
   "execution_count": 41,
   "id": "6290c5e2-22b2-454a-a3c4-daa7ae401b66",
   "metadata": {
    "execution": {
     "iopub.execute_input": "2025-02-16T08:00:05.880957Z",
     "iopub.status.busy": "2025-02-16T08:00:05.880761Z",
     "iopub.status.idle": "2025-02-16T08:00:05.911759Z",
     "shell.execute_reply": "2025-02-16T08:00:05.911121Z",
     "shell.execute_reply.started": "2025-02-16T08:00:05.880939Z"
    }
   },
   "outputs": [],
   "source": [
    " df_train['approval_ratio'] = df_train['approved_amount'] / df_train['requested_amount']\n",
    " df_test['approval_ratio'] = df_test['approved_amount'] / df_test['requested_amount']"
   ]
  },
  {
   "cell_type": "code",
   "execution_count": 42,
   "id": "6b786b1f-308d-4c91-a087-e197a3991df8",
   "metadata": {
    "execution": {
     "iopub.execute_input": "2025-02-16T08:00:05.912642Z",
     "iopub.status.busy": "2025-02-16T08:00:05.912441Z",
     "iopub.status.idle": "2025-02-16T08:00:05.938853Z",
     "shell.execute_reply": "2025-02-16T08:00:05.937949Z",
     "shell.execute_reply.started": "2025-02-16T08:00:05.912625Z"
    }
   },
   "outputs": [],
   "source": [
    "df_train['requsted_income_ratio'] = df_train['requested_amount']/df_train['monthly_income']\n",
    "df_test['requsted_income_ratio'] = df_test['requested_amount']/df_test['monthly_income']"
   ]
  },
  {
   "cell_type": "code",
   "execution_count": 43,
   "id": "30c790df-0997-46a7-a147-511c4b60d758",
   "metadata": {
    "execution": {
     "iopub.execute_input": "2025-02-16T08:00:05.939944Z",
     "iopub.status.busy": "2025-02-16T08:00:05.939722Z",
     "iopub.status.idle": "2025-02-16T08:00:05.974260Z",
     "shell.execute_reply": "2025-02-16T08:00:05.973389Z",
     "shell.execute_reply.started": "2025-02-16T08:00:05.939924Z"
    }
   },
   "outputs": [],
   "source": [
    "df_train['total_debt_burden'] = (df_train['elecs_sum'] + df_train['recurents_sum']) / df_train['monthly_income']\n",
    "df_test['total_debt_burden'] = (df_test['elecs_sum'] + df_test['recurents_sum']) / df_test['monthly_income']"
   ]
  },
  {
   "cell_type": "code",
   "execution_count": 44,
   "id": "082aa86f-b8b1-4e50-ae8c-8c938c42d3d5",
   "metadata": {
    "execution": {
     "iopub.execute_input": "2025-02-16T08:00:05.975607Z",
     "iopub.status.busy": "2025-02-16T08:00:05.975282Z",
     "iopub.status.idle": "2025-02-16T08:00:06.000179Z",
     "shell.execute_reply": "2025-02-16T08:00:05.999319Z",
     "shell.execute_reply.started": "2025-02-16T08:00:05.975578Z"
    }
   },
   "outputs": [],
   "source": [
    "df_train['dti'] = df_train['principal'] / df_train['monthly_income']\n",
    "df_test['dti'] = df_test['principal']/ df_test['monthly_income']"
   ]
  },
  {
   "cell_type": "code",
   "execution_count": 45,
   "id": "86bcd025-3d92-4445-b4e4-081c94213b28",
   "metadata": {
    "execution": {
     "iopub.execute_input": "2025-02-16T08:00:06.001131Z",
     "iopub.status.busy": "2025-02-16T08:00:06.000929Z",
     "iopub.status.idle": "2025-02-16T08:00:06.032723Z",
     "shell.execute_reply": "2025-02-16T08:00:06.031968Z",
     "shell.execute_reply.started": "2025-02-16T08:00:06.001114Z"
    }
   },
   "outputs": [],
   "source": [
    "df_train['requested_approved_ratio'] = df_train['requested_period_days'] / df_train['main_agreement_term']\n",
    "df_test['requested_approved_ratio'] =  df_test['requested_period_days'] / df_test['main_agreement_term']"
   ]
  },
  {
   "cell_type": "code",
   "execution_count": 46,
   "id": "d13278c2-7755-456e-a75c-fbcf6a95267a",
   "metadata": {
    "execution": {
     "iopub.execute_input": "2025-02-16T08:00:06.033771Z",
     "iopub.status.busy": "2025-02-16T08:00:06.033497Z",
     "iopub.status.idle": "2025-02-16T08:00:07.777240Z",
     "shell.execute_reply": "2025-02-16T08:00:07.776548Z",
     "shell.execute_reply.started": "2025-02-16T08:00:06.033741Z"
    }
   },
   "outputs": [],
   "source": [
    "df_train[df_train.select_dtypes(include='int64').columns]=df_train.select_dtypes(include='int64').astype('int32')\n",
    "df_test[df_test.select_dtypes(include='int64').columns]=df_test.select_dtypes(include='int64').astype('int32')"
   ]
  },
  {
   "cell_type": "markdown",
   "id": "d9f4205d-c839-45f0-91ce-1814be2d4df0",
   "metadata": {},
   "source": [
    "### 4. Data preparation"
   ]
  },
  {
   "cell_type": "code",
   "execution_count": 47,
   "id": "e0d798a1-3c7f-4fe0-b28c-29022e31008d",
   "metadata": {
    "execution": {
     "iopub.execute_input": "2025-02-16T08:00:07.778222Z",
     "iopub.status.busy": "2025-02-16T08:00:07.777975Z",
     "iopub.status.idle": "2025-02-16T08:00:07.786015Z",
     "shell.execute_reply": "2025-02-16T08:00:07.785327Z",
     "shell.execute_reply.started": "2025-02-16T08:00:07.778187Z"
    }
   },
   "outputs": [
    {
     "name": "stdout",
     "output_type": "stream",
     "text": [
      "Дубли True-нет:  True\n",
      "Идентичность train, test:  {'churn'}\n",
      "Полнота столбцов в списке(: {'region', 'settlement', 'loan_order', 'client_id', 'start_dt_xg', 'loan_id', 'start_dt_new', 'churn', 'closed_at'}\n"
     ]
    }
   ],
   "source": [
    "list_id_total = ['client_id_new', 'loan_order_new']\n",
    "list_id = ['loan_id']\n",
    "list_client= ['monthly_income','nbki_score','tamount','work_experience','ag','payment_frequency',\n",
    "              'status','client_type','settlement_new','region_new','gender','client_type.1' ]\n",
    "\n",
    "list_loan= ['cnt_ext','elecs_sum','recurents_sum','price','requested_amount',\n",
    "            'req_app_amount','term','approved_amount','interest',\n",
    "            'issues','main_agreement_amount','overdue_fee','overdue_interest','principal','type', \n",
    "             'repayment_type','have_extension','requested_sum']\t\n",
    "list_new = ['approval_ratio','early_repayment','requested_approved_ratio','requsted_income_ratio','total_debt_burden','dti']\n",
    "\n",
    "list_support =[ 'contact_cases','source','first_source','interface'] \n",
    "list_time = [ 'month','day','week','days_finish_loan', 'period_days', \n",
    "             'requested_period_days','main_agreement_term','created_at','days_diff','start_dt']    \n",
    "# 'closed_at','prolong','period', 'start_dt'->del\n",
    "\n",
    "# проверка на дубли\n",
    "total_list =list_id_total +list_loan+list_client+list_support+list_time + list_new\n",
    "print('Дубли True-нет: ',len(total_list) == len (set(total_list)))\n",
    "      \n",
    "# проверка на идентичность структуры train test\n",
    "print('Идентичность train, test: ',set(df_train.columns) ^set(df_test.columns))\n",
    "# проверка на полноту  включения столбцов  в списки\n",
    "print('Полнота столбцов в списке(:',set(df_train.columns) ^set(total_list))     "
   ]
  },
  {
   "cell_type": "code",
   "execution_count": 48,
   "id": "f59352b7-cc34-4d39-b1d2-12cec445cdc9",
   "metadata": {
    "execution": {
     "iopub.execute_input": "2025-02-16T08:00:07.786935Z",
     "iopub.status.busy": "2025-02-16T08:00:07.786722Z",
     "iopub.status.idle": "2025-02-16T08:00:10.699540Z",
     "shell.execute_reply": "2025-02-16T08:00:10.698699Z",
     "shell.execute_reply.started": "2025-02-16T08:00:07.786916Z"
    }
   },
   "outputs": [
    {
     "data": {
      "text/html": [
       "<div>\n",
       "<style scoped>\n",
       "    .dataframe tbody tr th:only-of-type {\n",
       "        vertical-align: middle;\n",
       "    }\n",
       "\n",
       "    .dataframe tbody tr th {\n",
       "        vertical-align: top;\n",
       "    }\n",
       "\n",
       "    .dataframe thead th {\n",
       "        text-align: right;\n",
       "    }\n",
       "</style>\n",
       "<table border=\"1\" class=\"dataframe\">\n",
       "  <thead>\n",
       "    <tr style=\"text-align: right;\">\n",
       "      <th></th>\n",
       "      <th>column_name</th>\n",
       "      <th>missing_values</th>\n",
       "    </tr>\n",
       "  </thead>\n",
       "  <tbody>\n",
       "  </tbody>\n",
       "</table>\n",
       "</div>"
      ],
      "text/plain": [
       "Empty DataFrame\n",
       "Columns: [column_name, missing_values]\n",
       "Index: []"
      ]
     },
     "metadata": {},
     "output_type": "display_data"
    },
    {
     "data": {
      "text/html": [
       "<div>\n",
       "<style scoped>\n",
       "    .dataframe tbody tr th:only-of-type {\n",
       "        vertical-align: middle;\n",
       "    }\n",
       "\n",
       "    .dataframe tbody tr th {\n",
       "        vertical-align: top;\n",
       "    }\n",
       "\n",
       "    .dataframe thead th {\n",
       "        text-align: right;\n",
       "    }\n",
       "</style>\n",
       "<table border=\"1\" class=\"dataframe\">\n",
       "  <thead>\n",
       "    <tr style=\"text-align: right;\">\n",
       "      <th></th>\n",
       "      <th>column_name</th>\n",
       "      <th>missing_values</th>\n",
       "    </tr>\n",
       "  </thead>\n",
       "  <tbody>\n",
       "  </tbody>\n",
       "</table>\n",
       "</div>"
      ],
      "text/plain": [
       "Empty DataFrame\n",
       "Columns: [column_name, missing_values]\n",
       "Index: []"
      ]
     },
     "metadata": {},
     "output_type": "display_data"
    }
   ],
   "source": [
    "display(missing (df_train[total_list]),missing (df_test[total_list]))"
   ]
  },
  {
   "cell_type": "markdown",
   "id": "3377dbc0-4455-41b9-be12-455a3296cae3",
   "metadata": {},
   "source": [
    "Проведем поиск  столбцов, для которых множества значений в test и train  равны.\n",
    "Такие  признаки  можно рассматривать как категориальные"
   ]
  },
  {
   "cell_type": "code",
   "execution_count": 49,
   "id": "a15e92d3-fbdf-4845-967c-af2efd636212",
   "metadata": {
    "execution": {
     "iopub.execute_input": "2025-02-16T08:00:10.701130Z",
     "iopub.status.busy": "2025-02-16T08:00:10.700831Z",
     "iopub.status.idle": "2025-02-16T08:00:10.705434Z",
     "shell.execute_reply": "2025-02-16T08:00:10.704583Z",
     "shell.execute_reply.started": "2025-02-16T08:00:10.701106Z"
    }
   },
   "outputs": [],
   "source": [
    "prepocessing = {'region_new': 'one_hot',\n",
    " 'settlement_new': 'one_hot',\n",
    " 'created_at': 'scale',\n",
    " ' start_dt': 'scale',\n",
    " 'days_diff': 'scale',\n",
    " 'start_dt_xg': 'scale',\n",
    " 'client_type.1': 'one_hot',\n",
    " 'gender': 'one_hot',\n",
    " 'contact_cases': 'scale',\n",
    " 'payment_frequency': 'one_hot',\n",
    " 'status': 'one_hot',\n",
    " 'source': 'one_hot',\n",
    " 'first_source': 'one_hot',\n",
    " 'interface': 'one_hot',\n",
    " 'type': 'one_hot',\n",
    " 'repayment_type': 'one_hot',\n",
    " 'client_type': 'one_hot',\n",
    " 'have_extension': 'one_hot',\n",
    " 'client_id_new': 'scale',\n",
    " 'loan_order_new': 'scale',\n",
    " 'early_repayment': 'scale',\n",
    " 'approval_ratio': 'scale',\n",
    " 'requsted_income_ratio': 'scale',\n",
    " 'total_debt_burden': 'scale',\n",
    " 'requested_approved_ratio': 'scale',\n",
    " 'dti': 'scale'}"
   ]
  },
  {
   "cell_type": "raw",
   "id": "db1580a8-8d3c-44cb-bf68-3c3d73d93b63",
   "metadata": {},
   "source": [
    "def dict_features(data):\n",
    "     return { f'list_{i}':list(data.select_dtypes(include=i).columns) for i in ['float','int','object']}"
   ]
  },
  {
   "cell_type": "raw",
   "id": "e24d39de-2fbf-4949-b6ef-9833569091a9",
   "metadata": {},
   "source": [
    "dict_list_feature = dict_features(df_train[total_list])"
   ]
  },
  {
   "cell_type": "raw",
   "id": "08dea4cd-06a3-4847-bbe7-18a26bf35b51",
   "metadata": {},
   "source": [
    "# Список столбцов для которых нужна кодировка\n",
    "ordinal_coder_col = dict_list_feature.get('list_object')\n",
    "scaler_coder_col = [ i  for i, value in prepocessing.items() if value == 'scale']\n",
    "\n",
    "ordinal_coder_col, scaler_coder_col"
   ]
  },
  {
   "cell_type": "markdown",
   "id": "a2b024e9-d2cb-4488-ac16-71b773ff4358",
   "metadata": {},
   "source": [
    "### 4.  Build the Neural Network and train"
   ]
  },
  {
   "cell_type": "code",
   "execution_count": 50,
   "id": "a0308f5f-b7d3-4a70-9a63-c16e8d2197ad",
   "metadata": {
    "execution": {
     "iopub.execute_input": "2025-02-16T08:00:10.706400Z",
     "iopub.status.busy": "2025-02-16T08:00:10.706169Z",
     "iopub.status.idle": "2025-02-16T08:00:10.776078Z",
     "shell.execute_reply": "2025-02-16T08:00:10.775415Z",
     "shell.execute_reply.started": "2025-02-16T08:00:10.706382Z"
    }
   },
   "outputs": [
    {
     "name": "stdout",
     "output_type": "stream",
     "text": [
      "Using cuda device\n"
     ]
    }
   ],
   "source": [
    "device = (\n",
    "    \"cuda\"\n",
    "    if torch.cuda.is_available()\n",
    "    else \"mps\"\n",
    "    if torch.backends.mps.is_available()\n",
    "    else \"cpu\"\n",
    ")\n",
    "print(f\"Using {device} device\")"
   ]
  },
  {
   "cell_type": "code",
   "execution_count": 51,
   "id": "7727d390-1b53-4fc1-b9b3-dfb47b9f1147",
   "metadata": {
    "execution": {
     "iopub.execute_input": "2025-02-16T08:00:10.777325Z",
     "iopub.status.busy": "2025-02-16T08:00:10.777006Z",
     "iopub.status.idle": "2025-02-16T08:00:14.720119Z",
     "shell.execute_reply": "2025-02-16T08:00:14.719242Z",
     "shell.execute_reply.started": "2025-02-16T08:00:10.777295Z"
    }
   },
   "outputs": [
    {
     "name": "stdout",
     "output_type": "stream",
     "text": [
      "Index(['settlement_new', 'region_new', 'gender', 'client_type.1'], dtype='object')\n",
      "Уникальность элементов:  True\n",
      "эквивалентность списков: set()\n"
     ]
    }
   ],
   "source": [
    "print(df_train[total_list].select_dtypes(include='object').columns)\n",
    "\n",
    "svc_scale_list = list(set(df_train[total_list].select_dtypes(include='float64').columns))+['client_id_new', 'loan_order_new']+\\\n",
    "                ['month', 'day', 'week', 'created_at', 'days_diff',  'start_dt']\n",
    "\n",
    "svc_oneh_list = list_int + ['client_type.1', 'gender'] \n",
    "svc_has_list = ['region_new','settlement_new']\n",
    "\n",
    "print('Уникальность элементов: ',len(set(svc_scale_list+svc_oneh_list+svc_has_list ))== len(svc_scale_list+svc_oneh_list+svc_has_list))\n",
    "print('эквивалентность списков:' ,set(svc_scale_list+svc_oneh_list+svc_has_list )^set(total_list))"
   ]
  },
  {
   "cell_type": "code",
   "execution_count": 52,
   "id": "2873d395-a7a3-4c82-8404-8618e5900b42",
   "metadata": {
    "execution": {
     "iopub.execute_input": "2025-02-16T08:00:14.721085Z",
     "iopub.status.busy": "2025-02-16T08:00:14.720880Z",
     "iopub.status.idle": "2025-02-16T08:00:22.333795Z",
     "shell.execute_reply": "2025-02-16T08:00:22.333117Z",
     "shell.execute_reply.started": "2025-02-16T08:00:14.721068Z"
    }
   },
   "outputs": [],
   "source": [
    "X_train, X_test, y_train, y_test =train_test_split(df_train[total_list],df_train['churn'], test_size=0.20, random_state=RANDOM_STATE, stratify=df_train['churn'])"
   ]
  },
  {
   "cell_type": "code",
   "execution_count": 53,
   "id": "771cad8b-19b7-4784-b4c6-4496969a8ad5",
   "metadata": {
    "execution": {
     "iopub.execute_input": "2025-02-16T08:00:22.334897Z",
     "iopub.status.busy": "2025-02-16T08:00:22.334595Z",
     "iopub.status.idle": "2025-02-16T08:00:22.338852Z",
     "shell.execute_reply": "2025-02-16T08:00:22.337981Z",
     "shell.execute_reply.started": "2025-02-16T08:00:22.334868Z"
    }
   },
   "outputs": [],
   "source": [
    "preprocessing =ColumnTransformer([\n",
    "    ('scaler', StandardScaler(),svc_scale_list ),\n",
    "    ('ohot', OneHotEncoder( handle_unknown='infrequent_if_exist'),svc_oneh_list),\n",
    "    ('has_1', HashingEncoder(n_components=100), 'settlement_new'),\n",
    "    ('has_2' , HashingEncoder(n_components=20), 'region_new')\n",
    "])"
   ]
  },
  {
   "cell_type": "code",
   "execution_count": 54,
   "id": "bf6de246-331d-4443-85ff-3e02fb66f03d",
   "metadata": {
    "execution": {
     "iopub.execute_input": "2025-02-16T08:00:22.339925Z",
     "iopub.status.busy": "2025-02-16T08:00:22.339676Z",
     "iopub.status.idle": "2025-02-16T08:01:56.255337Z",
     "shell.execute_reply": "2025-02-16T08:01:56.254224Z",
     "shell.execute_reply.started": "2025-02-16T08:00:22.339899Z"
    }
   },
   "outputs": [],
   "source": [
    "X_train = torch.from_numpy( preprocessing.fit_transform(X_train).astype(np.float32))\n",
    "X_test  = torch.from_numpy(preprocessing.transform(X_test).astype(np.float32))"
   ]
  },
  {
   "cell_type": "code",
   "execution_count": 55,
   "id": "29c4456c-d342-423f-ab20-4f7d64d7881c",
   "metadata": {
    "execution": {
     "iopub.execute_input": "2025-02-16T08:01:56.256803Z",
     "iopub.status.busy": "2025-02-16T08:01:56.256448Z",
     "iopub.status.idle": "2025-02-16T08:01:56.293384Z",
     "shell.execute_reply": "2025-02-16T08:01:56.292707Z",
     "shell.execute_reply.started": "2025-02-16T08:01:56.256768Z"
    }
   },
   "outputs": [
    {
     "data": {
      "text/plain": [
       "(torch.float32, torch.float32)"
      ]
     },
     "execution_count": 55,
     "metadata": {},
     "output_type": "execute_result"
    }
   ],
   "source": [
    "y_train = torch.tensor(y_train.to_numpy(), dtype=torch.float32)\n",
    "y_test = torch.tensor( y_test.to_numpy(), dtype=torch.float32)                          \n",
    "\n",
    "X_test.dtype, y_train.dtype"
   ]
  },
  {
   "cell_type": "code",
   "execution_count": 56,
   "id": "f2589a7b-511e-4d42-81db-ba08c27587bd",
   "metadata": {
    "execution": {
     "iopub.execute_input": "2025-02-16T08:01:56.294606Z",
     "iopub.status.busy": "2025-02-16T08:01:56.294299Z",
     "iopub.status.idle": "2025-02-16T08:01:56.446053Z",
     "shell.execute_reply": "2025-02-16T08:01:56.445131Z",
     "shell.execute_reply.started": "2025-02-16T08:01:56.294574Z"
    }
   },
   "outputs": [
    {
     "data": {
      "text/plain": [
       "54"
      ]
     },
     "execution_count": 56,
     "metadata": {},
     "output_type": "execute_result"
    }
   ],
   "source": [
    "gc.collect()"
   ]
  },
  {
   "cell_type": "code",
   "execution_count": 57,
   "id": "1b5d04f6-5411-474c-aa86-c0201fdfa1a8",
   "metadata": {
    "execution": {
     "iopub.execute_input": "2025-02-16T08:01:56.447301Z",
     "iopub.status.busy": "2025-02-16T08:01:56.446986Z",
     "iopub.status.idle": "2025-02-16T08:01:56.463634Z",
     "shell.execute_reply": "2025-02-16T08:01:56.462750Z",
     "shell.execute_reply.started": "2025-02-16T08:01:56.447278Z"
    }
   },
   "outputs": [],
   "source": [
    "class CustomDataset(Dataset):\n",
    "    def __init__(self, data , target):\n",
    "        self.data = data\n",
    "        self.target = target\n",
    "        \n",
    "\n",
    "    def __len__(self):\n",
    "        return len(self.data)\n",
    "\n",
    "    def __getitem__(self, idx):\n",
    "        return self.data[idx], self.target[idx]"
   ]
  },
  {
   "cell_type": "code",
   "execution_count": 58,
   "id": "56baf89e-72b8-4c42-8604-5dec5e513fc7",
   "metadata": {
    "execution": {
     "iopub.execute_input": "2025-02-16T08:01:56.464690Z",
     "iopub.status.busy": "2025-02-16T08:01:56.464452Z",
     "iopub.status.idle": "2025-02-16T08:01:56.481110Z",
     "shell.execute_reply": "2025-02-16T08:01:56.480215Z",
     "shell.execute_reply.started": "2025-02-16T08:01:56.464667Z"
    }
   },
   "outputs": [
    {
     "name": "stdout",
     "output_type": "stream",
     "text": [
      "3230534 torch.Size([3230534, 235])\n",
      "807634 torch.Size([807634, 235])\n"
     ]
    }
   ],
   "source": [
    "training_data = CustomDataset(X_train, y_train)\n",
    "valid_data = CustomDataset(X_test, y_test)\n",
    "\n",
    "print(len(training_data), X_train.shape)\n",
    "print(len(valid_data), X_test.shape)"
   ]
  },
  {
   "cell_type": "code",
   "execution_count": 75,
   "id": "d115b74e-4dc3-411b-9cc2-0541ee6a77b7",
   "metadata": {
    "execution": {
     "iopub.execute_input": "2025-02-16T12:22:51.110102Z",
     "iopub.status.busy": "2025-02-16T12:22:51.109814Z",
     "iopub.status.idle": "2025-02-16T12:22:51.146548Z",
     "shell.execute_reply": "2025-02-16T12:22:51.145676Z",
     "shell.execute_reply.started": "2025-02-16T12:22:51.110078Z"
    }
   },
   "outputs": [
    {
     "data": {
      "text/plain": [
       "(789, 4096)"
      ]
     },
     "execution_count": 75,
     "metadata": {},
     "output_type": "execute_result"
    }
   ],
   "source": [
    "BATCH_SIZE = 4096\n",
    "\n",
    "class_counts = torch.bincount(y_train.to(torch.int64))\n",
    "weights = len(y_train)/class_counts.float()\n",
    "sample_weights = weights[y_train.to(torch.int64)]\n",
    "\n",
    "sampler = WeightedRandomSampler(weights=sample_weights, num_samples=len(sample_weights), replacement=True)\n",
    "dataloader_train = DataLoader(training_data, batch_size=BATCH_SIZE) # sampler=sampler)\n",
    "\n",
    "dataloader_valid  = DataLoader(valid_data, batch_size=9612, shuffle=True)\n",
    "\n",
    "len(dataloader_train), dataloader_train.batch_size"
   ]
  },
  {
   "cell_type": "code",
   "execution_count": 82,
   "id": "2f8e78c4-ff52-44af-8292-ecbf08e9ff2d",
   "metadata": {
    "execution": {
     "iopub.execute_input": "2025-02-16T16:10:09.798506Z",
     "iopub.status.busy": "2025-02-16T16:10:09.798141Z",
     "iopub.status.idle": "2025-02-16T16:10:09.804574Z",
     "shell.execute_reply": "2025-02-16T16:10:09.803972Z",
     "shell.execute_reply.started": "2025-02-16T16:10:09.798466Z"
    }
   },
   "outputs": [],
   "source": [
    "class NeuralNetwork(nn.Module):\n",
    "    def __init__(self, input_size = 235, n=3,p=0.2,p_1=0.2):\n",
    "        super().__init__()\n",
    "        self.input_size = input_size\n",
    "        self.n =n\n",
    "        self.p = p\n",
    "        self.p_1 = p_1\n",
    "        self.fc1 = nn.Linear(input_size, self.n*input_size)\n",
    "        self.fc2 = nn.Linear( self.n*input_size ,n*2*self.n*input_size)\n",
    "        self.fc3 = nn.Linear(n*2*self.n*input_size, 512)\n",
    "        self.fc4 = nn.Linear(512,128)\n",
    "        self.fc5 = nn.Linear(128,64)\n",
    "        self.fc6 = nn.Linear(64,1)\n",
    "        \n",
    "        self.drop = nn.Dropout(p)\n",
    "        self.drop_1 = nn.Dropout(p_1)\n",
    "\n",
    "    def forward(self, x):\n",
    "        \n",
    "        x = F.leaky_relu(self.fc1(x))\n",
    "        x = self.drop(x)\n",
    "        x = F.leaky_relu(self.fc2(x))\n",
    "        x = F.leaky_relu(self.fc3(x))\n",
    "        # x = self.drop_1(x)                  \n",
    "        x = F.leaky_relu(self.fc4(x))\n",
    "        x = F.leaky_relu(self.fc5(x))\n",
    "       \n",
    "        logits = self.fc6(x)\n",
    "\n",
    "        return logits.squeeze()"
   ]
  },
  {
   "cell_type": "code",
   "execution_count": 78,
   "id": "e05b983c-1b1d-4363-9aca-999cb51d57ea",
   "metadata": {
    "execution": {
     "iopub.execute_input": "2025-02-16T12:33:49.244071Z",
     "iopub.status.busy": "2025-02-16T12:33:49.243750Z",
     "iopub.status.idle": "2025-02-16T12:33:49.476813Z",
     "shell.execute_reply": "2025-02-16T12:33:49.476063Z",
     "shell.execute_reply.started": "2025-02-16T12:33:49.244043Z"
    }
   },
   "outputs": [
    {
     "data": {
      "text/plain": [
       "NeuralNetwork(\n",
       "  (fc1): Linear(in_features=235, out_features=2350, bias=True)\n",
       "  (fc2): Linear(in_features=2350, out_features=11750, bias=True)\n",
       "  (fc3): Linear(in_features=11750, out_features=512, bias=True)\n",
       "  (fc4): Linear(in_features=512, out_features=128, bias=True)\n",
       "  (fc5): Linear(in_features=128, out_features=64, bias=True)\n",
       "  (fc6): Linear(in_features=64, out_features=1, bias=True)\n",
       "  (drop): Dropout(p=0.2756, inplace=False)\n",
       "  (drop_1): Dropout(p=0.2, inplace=False)\n",
       ")"
      ]
     },
     "execution_count": 78,
     "metadata": {},
     "output_type": "execute_result"
    }
   ],
   "source": [
    "# Экспереминтальная  архитектура\n",
    "model = NeuralNetwork(X_train.shape[1],n=10, p=0.2756).to(device)\n",
    "model"
   ]
  },
  {
   "cell_type": "code",
   "execution_count": 64,
   "id": "b77b7375-32fa-483c-80d8-81b4dba34409",
   "metadata": {
    "execution": {
     "iopub.execute_input": "2025-02-16T08:02:48.782355Z",
     "iopub.status.busy": "2025-02-16T08:02:48.781905Z",
     "iopub.status.idle": "2025-02-16T08:02:48.788233Z",
     "shell.execute_reply": "2025-02-16T08:02:48.787320Z",
     "shell.execute_reply.started": "2025-02-16T08:02:48.782320Z"
    }
   },
   "outputs": [
    {
     "data": {
      "text/plain": [
       "device(type='cuda', index=0)"
      ]
     },
     "execution_count": 64,
     "metadata": {},
     "output_type": "execute_result"
    }
   ],
   "source": [
    "next(model.parameters()).device"
   ]
  },
  {
   "cell_type": "code",
   "execution_count": 65,
   "id": "9b291518-1f56-4c7e-98b2-04185a965657",
   "metadata": {
    "execution": {
     "iopub.execute_input": "2025-02-16T08:02:51.754698Z",
     "iopub.status.busy": "2025-02-16T08:02:51.754409Z",
     "iopub.status.idle": "2025-02-16T08:02:51.759081Z",
     "shell.execute_reply": "2025-02-16T08:02:51.758083Z",
     "shell.execute_reply.started": "2025-02-16T08:02:51.754676Z"
    }
   },
   "outputs": [],
   "source": [
    "def f1_score_custom(y_true, y_pred): \n",
    "    y_true = y_true.cpu().numpy()\n",
    "    y_pred = (F.sigmoid(y_pred.detach())>0.5).cpu().int().numpy()\n",
    "    f1=f1_score(y_true, y_pred)\n",
    "    #print ('f1')\n",
    "    return f1\n",
    "    "
   ]
  },
  {
   "cell_type": "code",
   "execution_count": 3,
   "id": "d10bd4d0-6443-40e6-994d-9de94f90d142",
   "metadata": {},
   "outputs": [],
   "source": [
    "def train_loop(dataloader, model, loss_fn, optimizer):\n",
    "    \n",
    "    num_batches = len(dataloader)\n",
    "    total_loss = 0\n",
    "    f1_score = 0\n",
    "    \n",
    "    model.train()\n",
    "\n",
    "    for batch, (X, y) in enumerate(dataloader):\n",
    "        X, y = X.to(device), y.to(device)\n",
    "\n",
    "        pred = model(X)\n",
    "        loss = loss_fn(pred, y)\n",
    "\n",
    "        loss.backward()\n",
    "        optimizer.step()\n",
    "        optimizer.zero_grad()\n",
    "\n",
    "        f1_score += f1_score_custom(y,pred)\n",
    "        total_loss+=loss.item()\n",
    "        \n",
    "       \n",
    "    print(f'f1_score: {f1_score/num_batches:>0.8f}, train_loss: {total_loss/num_batches:8f} ')\n",
    "    torch.cuda.empty_cache()\n",
    "        \n",
    "\n",
    "def test_loop(dataloader, model, loss_fn):\n",
    "    \n",
    "    num_batches = len(dataloader)\n",
    "    total_loss = 0\n",
    "    f1_score = 0   \n",
    "    \n",
    "    model.eval()\n",
    "    with torch.no_grad():\n",
    "        for batch, (X, y) in enumerate(dataloader):\n",
    "            X, y = X.to(device), y.to(device)\n",
    "            \n",
    "            pred = model(X)\n",
    "            loss = loss_fn(pred, y)\n",
    "            \n",
    "            f1_score += f1_score_custom(y,pred)\n",
    "            total_loss+=loss.item()\n",
    "        \n",
    "    print(f'f1_score: {f1_score/num_batches:>0.8f}, test_loss: {total_loss/num_batches:8f} ')\n",
    "    \n",
    "    torch.cuda.empty_cache()\n",
    "    return f1_score/num_batches\n",
    "\n",
    "\n",
    "def train_model (epoch=100):\n",
    "    LEANING_RATE = 1e-3\n",
    "    loss_fn = nn.BCEWithLogitsLoss()\n",
    "    optimizer = optim.Adam(model.parameters(), lr=LEANING_RATE,weight_decay=1e-5)  #,weight_decay=1e-4\n",
    "    scheduler = optim.lr_scheduler.StepLR(optimizer, step_size=15, gamma=0.1)\n",
    "\n",
    "    \n",
    "    for i in tqdm(range(epoch)):\n",
    "        print(f\"Epoch {i+1}\\n-------------------------------\")\n",
    "        train_loop(dataloader_train, model, loss_fn, optimizer)\n",
    "        test_loop(dataloader_valid, model, loss_fn)\n",
    "\n",
    "        scheduler.step()\n",
    "\n",
    "    "
   ]
  },
  {
   "cell_type": "code",
   "execution_count": null,
   "id": "2d8e6907-ff3c-4eaf-82c1-f3ca77ed0533",
   "metadata": {
    "execution": {
     "execution_failed": "2025-02-16T05:59:09.591Z",
     "iopub.execute_input": "2025-02-15T20:36:26.705089Z",
     "iopub.status.busy": "2025-02-15T20:36:26.704763Z"
    }
   },
   "outputs": [
    {
     "name": "stderr",
     "output_type": "stream",
     "text": [
      "[I 2025-02-15 20:36:26,710] A new study created in memory with name: no-name-4151b9fe-4f11-40d7-94f6-9cbb6f784421\n",
      "/usr/local/lib/python3.10/dist-packages/optuna/distributions.py:699: UserWarning: The distribution is specified by [1024, 9600] and step=1024, but the range is not divisible by `step`. It will be replaced by [1024, 9216].\n",
      "  warnings.warn(\n",
      "  0%|          | 0/40 [00:00<?, ?it/s]"
     ]
    },
    {
     "name": "stdout",
     "output_type": "stream",
     "text": [
      "Epoch 1\n",
      "-------------------------------\n",
      "f1_score: 0.79715801, train_loss: 0.397690 \n"
     ]
    },
    {
     "name": "stderr",
     "output_type": "stream",
     "text": [
      "  2%|▎         | 1/40 [01:04<41:36, 64.01s/it]"
     ]
    },
    {
     "name": "stdout",
     "output_type": "stream",
     "text": [
      "f1_score: 0.81331888, test_loss: 0.321520 \n",
      "Epoch 2\n",
      "-------------------------------\n",
      "f1_score: 0.82616718, train_loss: 0.343265 \n"
     ]
    },
    {
     "name": "stderr",
     "output_type": "stream",
     "text": [
      "  5%|▌         | 2/40 [02:08<40:47, 64.40s/it]"
     ]
    },
    {
     "name": "stdout",
     "output_type": "stream",
     "text": [
      "f1_score: 0.81990971, test_loss: 0.316080 \n",
      "Epoch 3\n",
      "-------------------------------\n",
      "f1_score: 0.82837954, train_loss: 0.338715 \n"
     ]
    },
    {
     "name": "stderr",
     "output_type": "stream",
     "text": [
      "  8%|▊         | 3/40 [03:13<39:56, 64.77s/it]"
     ]
    },
    {
     "name": "stdout",
     "output_type": "stream",
     "text": [
      "f1_score: 0.82198089, test_loss: 0.301314 \n",
      "Epoch 4\n",
      "-------------------------------\n",
      "f1_score: 0.82931155, train_loss: 0.336151 \n"
     ]
    },
    {
     "name": "stderr",
     "output_type": "stream",
     "text": [
      " 10%|█         | 4/40 [04:18<38:55, 64.88s/it]"
     ]
    },
    {
     "name": "stdout",
     "output_type": "stream",
     "text": [
      "f1_score: 0.81291403, test_loss: 0.318369 \n",
      "Epoch 5\n",
      "-------------------------------\n",
      "f1_score: 0.83039746, train_loss: 0.334297 \n"
     ]
    },
    {
     "name": "stderr",
     "output_type": "stream",
     "text": [
      " 12%|█▎        | 5/40 [05:23<37:52, 64.93s/it]"
     ]
    },
    {
     "name": "stdout",
     "output_type": "stream",
     "text": [
      "f1_score: 0.82301135, test_loss: 0.299210 \n",
      "Epoch 6\n",
      "-------------------------------\n",
      "f1_score: 0.83038151, train_loss: 0.333727 \n"
     ]
    },
    {
     "name": "stderr",
     "output_type": "stream",
     "text": [
      " 15%|█▌        | 6/40 [06:29<36:51, 65.03s/it]"
     ]
    },
    {
     "name": "stdout",
     "output_type": "stream",
     "text": [
      "f1_score: 0.82488163, test_loss: 0.306819 \n",
      "Epoch 7\n",
      "-------------------------------\n",
      "f1_score: 0.83092027, train_loss: 0.332759 \n"
     ]
    },
    {
     "name": "stderr",
     "output_type": "stream",
     "text": [
      " 18%|█▊        | 7/40 [07:34<35:46, 65.04s/it]"
     ]
    },
    {
     "name": "stdout",
     "output_type": "stream",
     "text": [
      "f1_score: 0.82212719, test_loss: 0.308555 \n",
      "Epoch 8\n",
      "-------------------------------\n",
      "f1_score: 0.83144443, train_loss: 0.331624 \n"
     ]
    },
    {
     "name": "stderr",
     "output_type": "stream",
     "text": [
      " 20%|██        | 8/40 [08:39<34:38, 64.96s/it]"
     ]
    },
    {
     "name": "stdout",
     "output_type": "stream",
     "text": [
      "f1_score: 0.82497836, test_loss: 0.303520 \n",
      "Epoch 9\n",
      "-------------------------------\n",
      "f1_score: 0.83212871, train_loss: 0.330566 \n"
     ]
    },
    {
     "name": "stderr",
     "output_type": "stream",
     "text": [
      " 22%|██▎       | 9/40 [09:43<33:32, 64.92s/it]"
     ]
    },
    {
     "name": "stdout",
     "output_type": "stream",
     "text": [
      "f1_score: 0.82339563, test_loss: 0.307827 \n",
      "Epoch 10\n",
      "-------------------------------\n",
      "f1_score: 0.83147856, train_loss: 0.331925 \n"
     ]
    },
    {
     "name": "stderr",
     "output_type": "stream",
     "text": [
      " 25%|██▌       | 10/40 [10:47<32:17, 64.58s/it]"
     ]
    },
    {
     "name": "stdout",
     "output_type": "stream",
     "text": [
      "f1_score: 0.82575852, test_loss: 0.304533 \n",
      "Epoch 11\n",
      "-------------------------------\n",
      "f1_score: 0.83266981, train_loss: 0.329420 \n"
     ]
    },
    {
     "name": "stderr",
     "output_type": "stream",
     "text": [
      " 28%|██▊       | 11/40 [11:51<31:07, 64.39s/it]"
     ]
    },
    {
     "name": "stdout",
     "output_type": "stream",
     "text": [
      "f1_score: 0.82777594, test_loss: 0.293212 \n",
      "Epoch 12\n",
      "-------------------------------\n",
      "f1_score: 0.83241124, train_loss: 0.329481 \n"
     ]
    },
    {
     "name": "stderr",
     "output_type": "stream",
     "text": [
      " 30%|███       | 12/40 [12:55<29:58, 64.25s/it]"
     ]
    },
    {
     "name": "stdout",
     "output_type": "stream",
     "text": [
      "f1_score: 0.82196379, test_loss: 0.306787 \n",
      "Epoch 13\n",
      "-------------------------------\n",
      "f1_score: 0.83231049, train_loss: 0.329732 \n"
     ]
    },
    {
     "name": "stderr",
     "output_type": "stream",
     "text": [
      " 32%|███▎      | 13/40 [13:59<28:49, 64.07s/it]"
     ]
    },
    {
     "name": "stdout",
     "output_type": "stream",
     "text": [
      "f1_score: 0.82473330, test_loss: 0.300237 \n",
      "Epoch 14\n",
      "-------------------------------\n",
      "f1_score: 0.83246326, train_loss: 0.329841 \n"
     ]
    },
    {
     "name": "stderr",
     "output_type": "stream",
     "text": [
      " 35%|███▌      | 14/40 [15:02<27:43, 63.96s/it]"
     ]
    },
    {
     "name": "stdout",
     "output_type": "stream",
     "text": [
      "f1_score: 0.82455611, test_loss: 0.306732 \n",
      "Epoch 15\n",
      "-------------------------------\n",
      "f1_score: 0.83195836, train_loss: 0.329926 \n"
     ]
    },
    {
     "name": "stderr",
     "output_type": "stream",
     "text": [
      " 38%|███▊      | 15/40 [16:06<26:36, 63.85s/it]"
     ]
    },
    {
     "name": "stdout",
     "output_type": "stream",
     "text": [
      "f1_score: 0.82757010, test_loss: 0.304431 \n",
      "Epoch 16\n",
      "-------------------------------\n",
      "f1_score: 0.83301553, train_loss: 0.328765 \n"
     ]
    },
    {
     "name": "stderr",
     "output_type": "stream",
     "text": [
      " 40%|████      | 16/40 [17:10<25:30, 63.78s/it]"
     ]
    },
    {
     "name": "stdout",
     "output_type": "stream",
     "text": [
      "f1_score: 0.82569890, test_loss: 0.289229 \n",
      "Epoch 17\n",
      "-------------------------------\n",
      "f1_score: 0.83307943, train_loss: 0.328668 \n"
     ]
    },
    {
     "name": "stderr",
     "output_type": "stream",
     "text": [
      " 42%|████▎     | 17/40 [18:13<24:25, 63.73s/it]"
     ]
    },
    {
     "name": "stdout",
     "output_type": "stream",
     "text": [
      "f1_score: 0.82805683, test_loss: 0.294944 \n",
      "Epoch 18\n",
      "-------------------------------\n",
      "f1_score: 0.83288710, train_loss: 0.328693 \n"
     ]
    },
    {
     "name": "stderr",
     "output_type": "stream",
     "text": [
      " 45%|████▌     | 18/40 [19:17<23:21, 63.69s/it]"
     ]
    },
    {
     "name": "stdout",
     "output_type": "stream",
     "text": [
      "f1_score: 0.82829049, test_loss: 0.301097 \n",
      "Epoch 19\n",
      "-------------------------------\n",
      "f1_score: 0.83247972, train_loss: 0.328958 \n"
     ]
    },
    {
     "name": "stderr",
     "output_type": "stream",
     "text": [
      " 48%|████▊     | 19/40 [20:20<22:16, 63.65s/it]"
     ]
    },
    {
     "name": "stdout",
     "output_type": "stream",
     "text": [
      "f1_score: 0.82561128, test_loss: 0.305816 \n",
      "Epoch 20\n",
      "-------------------------------\n",
      "f1_score: 0.83238864, train_loss: 0.329080 \n"
     ]
    },
    {
     "name": "stderr",
     "output_type": "stream",
     "text": [
      " 50%|█████     | 20/40 [21:24<21:13, 63.67s/it]"
     ]
    },
    {
     "name": "stdout",
     "output_type": "stream",
     "text": [
      "f1_score: 0.82851488, test_loss: 0.295156 \n",
      "Epoch 21\n",
      "-------------------------------\n",
      "f1_score: 0.83280229, train_loss: 0.328387 \n"
     ]
    },
    {
     "name": "stderr",
     "output_type": "stream",
     "text": [
      " 52%|█████▎    | 21/40 [22:28<20:08, 63.63s/it]"
     ]
    },
    {
     "name": "stdout",
     "output_type": "stream",
     "text": [
      "f1_score: 0.82753996, test_loss: 0.300771 \n",
      "Epoch 22\n",
      "-------------------------------\n",
      "f1_score: 0.83340649, train_loss: 0.328025 \n"
     ]
    },
    {
     "name": "stderr",
     "output_type": "stream",
     "text": [
      " 55%|█████▌    | 22/40 [23:31<19:05, 63.62s/it]"
     ]
    },
    {
     "name": "stdout",
     "output_type": "stream",
     "text": [
      "f1_score: 0.82919205, test_loss: 0.306249 \n",
      "Epoch 23\n",
      "-------------------------------\n",
      "f1_score: 0.83312473, train_loss: 0.328823 \n"
     ]
    },
    {
     "name": "stderr",
     "output_type": "stream",
     "text": [
      " 57%|█████▊    | 23/40 [24:35<18:01, 63.61s/it]"
     ]
    },
    {
     "name": "stdout",
     "output_type": "stream",
     "text": [
      "f1_score: 0.82720383, test_loss: 0.297692 \n",
      "Epoch 24\n",
      "-------------------------------\n",
      "f1_score: 0.83256070, train_loss: 0.328909 \n"
     ]
    },
    {
     "name": "stderr",
     "output_type": "stream",
     "text": [
      " 60%|██████    | 24/40 [25:38<16:57, 63.61s/it]"
     ]
    },
    {
     "name": "stdout",
     "output_type": "stream",
     "text": [
      "f1_score: 0.82705102, test_loss: 0.297209 \n",
      "Epoch 25\n",
      "-------------------------------\n",
      "f1_score: 0.83289641, train_loss: 0.328850 \n"
     ]
    },
    {
     "name": "stderr",
     "output_type": "stream",
     "text": [
      " 62%|██████▎   | 25/40 [26:42<15:54, 63.66s/it]"
     ]
    },
    {
     "name": "stdout",
     "output_type": "stream",
     "text": [
      "f1_score: 0.81923917, test_loss: 0.307430 \n",
      "Epoch 26\n",
      "-------------------------------\n",
      "f1_score: 0.83297780, train_loss: 0.328480 \n"
     ]
    },
    {
     "name": "stderr",
     "output_type": "stream",
     "text": [
      " 65%|██████▌   | 26/40 [27:46<14:50, 63.58s/it]"
     ]
    },
    {
     "name": "stdout",
     "output_type": "stream",
     "text": [
      "f1_score: 0.82829057, test_loss: 0.289338 \n",
      "Epoch 27\n",
      "-------------------------------\n",
      "f1_score: 0.83281725, train_loss: 0.328505 \n"
     ]
    },
    {
     "name": "stderr",
     "output_type": "stream",
     "text": [
      " 68%|██████▊   | 27/40 [28:49<13:46, 63.58s/it]"
     ]
    },
    {
     "name": "stdout",
     "output_type": "stream",
     "text": [
      "f1_score: 0.82711429, test_loss: 0.295239 \n",
      "Epoch 28\n",
      "-------------------------------\n",
      "f1_score: 0.83293191, train_loss: 0.328469 \n"
     ]
    },
    {
     "name": "stderr",
     "output_type": "stream",
     "text": [
      " 70%|███████   | 28/40 [29:53<12:43, 63.61s/it]"
     ]
    },
    {
     "name": "stdout",
     "output_type": "stream",
     "text": [
      "f1_score: 0.82654553, test_loss: 0.297842 \n",
      "Epoch 29\n",
      "-------------------------------\n",
      "f1_score: 0.83302853, train_loss: 0.328221 \n"
     ]
    },
    {
     "name": "stderr",
     "output_type": "stream",
     "text": [
      " 72%|███████▎  | 29/40 [30:57<11:39, 63.62s/it]"
     ]
    },
    {
     "name": "stdout",
     "output_type": "stream",
     "text": [
      "f1_score: 0.82797413, test_loss: 0.299007 \n",
      "Epoch 30\n",
      "-------------------------------\n",
      "f1_score: 0.83282097, train_loss: 0.328459 \n"
     ]
    },
    {
     "name": "stderr",
     "output_type": "stream",
     "text": [
      " 75%|███████▌  | 30/40 [32:00<10:36, 63.69s/it]"
     ]
    },
    {
     "name": "stdout",
     "output_type": "stream",
     "text": [
      "f1_score: 0.82702834, test_loss: 0.300082 \n",
      "Epoch 31\n",
      "-------------------------------\n",
      "f1_score: 0.83313139, train_loss: 0.327962 \n"
     ]
    },
    {
     "name": "stderr",
     "output_type": "stream",
     "text": [
      " 78%|███████▊  | 31/40 [33:04<09:33, 63.70s/it]"
     ]
    },
    {
     "name": "stdout",
     "output_type": "stream",
     "text": [
      "f1_score: 0.83015143, test_loss: 0.294862 \n",
      "Epoch 32\n",
      "-------------------------------\n",
      "f1_score: 0.83316093, train_loss: 0.328032 \n"
     ]
    },
    {
     "name": "stderr",
     "output_type": "stream",
     "text": [
      " 80%|████████  | 32/40 [34:08<08:30, 63.76s/it]"
     ]
    },
    {
     "name": "stdout",
     "output_type": "stream",
     "text": [
      "f1_score: 0.82706260, test_loss: 0.301129 \n",
      "Epoch 33\n",
      "-------------------------------\n",
      "f1_score: 0.83335614, train_loss: 0.327756 \n"
     ]
    },
    {
     "name": "stderr",
     "output_type": "stream",
     "text": [
      " 82%|████████▎ | 33/40 [35:12<07:26, 63.74s/it]"
     ]
    },
    {
     "name": "stdout",
     "output_type": "stream",
     "text": [
      "f1_score: 0.82693961, test_loss: 0.296416 \n",
      "Epoch 34\n",
      "-------------------------------\n",
      "f1_score: 0.83296684, train_loss: 0.328065 \n"
     ]
    },
    {
     "name": "stderr",
     "output_type": "stream",
     "text": [
      " 85%|████████▌ | 34/40 [36:15<06:22, 63.73s/it]"
     ]
    },
    {
     "name": "stdout",
     "output_type": "stream",
     "text": [
      "f1_score: 0.82708894, test_loss: 0.300190 \n",
      "Epoch 35\n",
      "-------------------------------\n",
      "f1_score: 0.83305371, train_loss: 0.328156 \n"
     ]
    },
    {
     "name": "stderr",
     "output_type": "stream",
     "text": [
      " 88%|████████▊ | 35/40 [37:19<05:18, 63.70s/it]"
     ]
    },
    {
     "name": "stdout",
     "output_type": "stream",
     "text": [
      "f1_score: 0.82783297, test_loss: 0.292764 \n",
      "Epoch 36\n",
      "-------------------------------\n",
      "f1_score: 0.83345491, train_loss: 0.327499 \n"
     ]
    },
    {
     "name": "stderr",
     "output_type": "stream",
     "text": [
      " 90%|█████████ | 36/40 [38:23<04:14, 63.68s/it]"
     ]
    },
    {
     "name": "stdout",
     "output_type": "stream",
     "text": [
      "f1_score: 0.82804047, test_loss: 0.301492 \n",
      "Epoch 37\n",
      "-------------------------------\n",
      "f1_score: 0.83291477, train_loss: 0.328219 \n"
     ]
    },
    {
     "name": "stderr",
     "output_type": "stream",
     "text": [
      " 92%|█████████▎| 37/40 [39:26<03:10, 63.65s/it]"
     ]
    },
    {
     "name": "stdout",
     "output_type": "stream",
     "text": [
      "f1_score: 0.82279828, test_loss: 0.309326 \n",
      "Epoch 38\n",
      "-------------------------------\n",
      "f1_score: 0.83303993, train_loss: 0.328042 \n"
     ]
    },
    {
     "name": "stderr",
     "output_type": "stream",
     "text": [
      " 95%|█████████▌| 38/40 [40:30<02:07, 63.64s/it]"
     ]
    },
    {
     "name": "stdout",
     "output_type": "stream",
     "text": [
      "f1_score: 0.82751475, test_loss: 0.297048 \n",
      "Epoch 39\n",
      "-------------------------------\n",
      "f1_score: 0.83312713, train_loss: 0.328062 \n"
     ]
    },
    {
     "name": "stderr",
     "output_type": "stream",
     "text": [
      " 98%|█████████▊| 39/40 [41:33<01:03, 63.60s/it]"
     ]
    },
    {
     "name": "stdout",
     "output_type": "stream",
     "text": [
      "f1_score: 0.82716312, test_loss: 0.302689 \n",
      "Epoch 40\n",
      "-------------------------------\n",
      "f1_score: 0.83291256, train_loss: 0.328102 \n"
     ]
    },
    {
     "name": "stderr",
     "output_type": "stream",
     "text": [
      "100%|██████████| 40/40 [42:37<00:00, 63.94s/it]\n",
      "[I 2025-02-15 21:19:04,239] Trial 0 finished with value: 0.8291430962458003 and parameters: {'n': 5, 'dropout_p': 0.2299967893854285, 'dropout_p_1': 0.24477285816043268, 'weight_decay': 0.00032905490464994584, 'batch_size': 3072}. Best is trial 0 with value: 0.8291430962458003.\n",
      "/usr/local/lib/python3.10/dist-packages/optuna/distributions.py:699: UserWarning: The distribution is specified by [1024, 9600] and step=1024, but the range is not divisible by `step`. It will be replaced by [1024, 9216].\n",
      "  warnings.warn(\n"
     ]
    },
    {
     "name": "stdout",
     "output_type": "stream",
     "text": [
      "f1_score: 0.82914310, test_loss: 0.300786 \n"
     ]
    },
    {
     "name": "stderr",
     "output_type": "stream",
     "text": [
      "  0%|          | 0/40 [00:00<?, ?it/s]"
     ]
    },
    {
     "name": "stdout",
     "output_type": "stream",
     "text": [
      "Epoch 1\n",
      "-------------------------------\n",
      "f1_score: 0.80541734, train_loss: 0.383699 \n"
     ]
    },
    {
     "name": "stderr",
     "output_type": "stream",
     "text": [
      "  2%|▎         | 1/40 [00:56<36:45, 56.54s/it]"
     ]
    },
    {
     "name": "stdout",
     "output_type": "stream",
     "text": [
      "f1_score: 0.81228049, test_loss: 0.319098 \n",
      "Epoch 2\n",
      "-------------------------------\n",
      "f1_score: 0.82444166, train_loss: 0.345867 \n"
     ]
    },
    {
     "name": "stderr",
     "output_type": "stream",
     "text": [
      "  5%|▌         | 2/40 [01:52<35:35, 56.21s/it]"
     ]
    },
    {
     "name": "stdout",
     "output_type": "stream",
     "text": [
      "f1_score: 0.81267732, test_loss: 0.325132 \n",
      "Epoch 3\n",
      "-------------------------------\n",
      "f1_score: 0.82634722, train_loss: 0.341925 \n"
     ]
    },
    {
     "name": "stderr",
     "output_type": "stream",
     "text": [
      "  8%|▊         | 3/40 [02:48<34:38, 56.18s/it]"
     ]
    },
    {
     "name": "stdout",
     "output_type": "stream",
     "text": [
      "f1_score: 0.82267023, test_loss: 0.310615 \n",
      "Epoch 4\n",
      "-------------------------------\n",
      "f1_score: 0.82717781, train_loss: 0.340428 \n"
     ]
    },
    {
     "name": "stderr",
     "output_type": "stream",
     "text": [
      " 10%|█         | 4/40 [03:44<33:39, 56.08s/it]"
     ]
    },
    {
     "name": "stdout",
     "output_type": "stream",
     "text": [
      "f1_score: 0.82225142, test_loss: 0.306278 \n",
      "Epoch 5\n",
      "-------------------------------\n",
      "f1_score: 0.82783447, train_loss: 0.338333 \n"
     ]
    },
    {
     "name": "stderr",
     "output_type": "stream",
     "text": [
      " 12%|█▎        | 5/40 [04:41<32:47, 56.22s/it]"
     ]
    },
    {
     "name": "stdout",
     "output_type": "stream",
     "text": [
      "f1_score: 0.81329663, test_loss: 0.317192 \n",
      "Epoch 6\n",
      "-------------------------------\n",
      "f1_score: 0.82831414, train_loss: 0.337854 \n"
     ]
    },
    {
     "name": "stderr",
     "output_type": "stream",
     "text": [
      " 15%|█▌        | 6/40 [05:37<31:59, 56.45s/it]"
     ]
    },
    {
     "name": "stdout",
     "output_type": "stream",
     "text": [
      "f1_score: 0.82160026, test_loss: 0.308506 \n",
      "Epoch 7\n",
      "-------------------------------\n",
      "f1_score: 0.82894597, train_loss: 0.336813 \n"
     ]
    },
    {
     "name": "stderr",
     "output_type": "stream",
     "text": [
      " 18%|█▊        | 7/40 [06:35<31:11, 56.70s/it]"
     ]
    },
    {
     "name": "stdout",
     "output_type": "stream",
     "text": [
      "f1_score: 0.82479553, test_loss: 0.302964 \n",
      "Epoch 8\n",
      "-------------------------------\n",
      "f1_score: 0.82859480, train_loss: 0.336649 \n"
     ]
    },
    {
     "name": "stderr",
     "output_type": "stream",
     "text": [
      " 20%|██        | 8/40 [07:31<30:05, 56.43s/it]"
     ]
    },
    {
     "name": "stdout",
     "output_type": "stream",
     "text": [
      "f1_score: 0.82459844, test_loss: 0.298254 \n",
      "Epoch 9\n",
      "-------------------------------\n",
      "f1_score: 0.82921490, train_loss: 0.335912 \n"
     ]
    },
    {
     "name": "stderr",
     "output_type": "stream",
     "text": [
      " 22%|██▎       | 9/40 [08:27<29:09, 56.44s/it]"
     ]
    },
    {
     "name": "stdout",
     "output_type": "stream",
     "text": [
      "f1_score: 0.82422691, test_loss: 0.300566 \n",
      "Epoch 10\n",
      "-------------------------------\n",
      "f1_score: 0.82877577, train_loss: 0.335887 \n"
     ]
    },
    {
     "name": "stderr",
     "output_type": "stream",
     "text": [
      " 25%|██▌       | 10/40 [09:23<28:10, 56.36s/it]"
     ]
    },
    {
     "name": "stdout",
     "output_type": "stream",
     "text": [
      "f1_score: 0.82464998, test_loss: 0.294659 \n",
      "Epoch 11\n",
      "-------------------------------\n",
      "f1_score: 0.82923505, train_loss: 0.335365 \n"
     ]
    },
    {
     "name": "stderr",
     "output_type": "stream",
     "text": [
      " 28%|██▊       | 11/40 [10:19<27:11, 56.26s/it]"
     ]
    },
    {
     "name": "stdout",
     "output_type": "stream",
     "text": [
      "f1_score: 0.82273931, test_loss: 0.292974 \n",
      "Epoch 12\n",
      "-------------------------------\n",
      "f1_score: 0.82927321, train_loss: 0.336286 \n"
     ]
    },
    {
     "name": "stderr",
     "output_type": "stream",
     "text": [
      " 30%|███       | 12/40 [11:16<26:15, 56.28s/it]"
     ]
    },
    {
     "name": "stdout",
     "output_type": "stream",
     "text": [
      "f1_score: 0.82264258, test_loss: 0.300309 \n",
      "Epoch 13\n",
      "-------------------------------\n",
      "f1_score: 0.82926068, train_loss: 0.335535 \n"
     ]
    },
    {
     "name": "stderr",
     "output_type": "stream",
     "text": [
      " 32%|███▎      | 13/40 [12:12<25:20, 56.32s/it]"
     ]
    },
    {
     "name": "stdout",
     "output_type": "stream",
     "text": [
      "f1_score: 0.82176215, test_loss: 0.308614 \n",
      "Epoch 14\n",
      "-------------------------------\n",
      "f1_score: 0.82898132, train_loss: 0.335595 \n"
     ]
    },
    {
     "name": "stderr",
     "output_type": "stream",
     "text": [
      " 35%|███▌      | 14/40 [13:08<24:24, 56.33s/it]"
     ]
    },
    {
     "name": "stdout",
     "output_type": "stream",
     "text": [
      "f1_score: 0.81984213, test_loss: 0.304261 \n",
      "Epoch 15\n",
      "-------------------------------\n",
      "f1_score: 0.82953531, train_loss: 0.334992 \n"
     ]
    },
    {
     "name": "stderr",
     "output_type": "stream",
     "text": [
      " 38%|███▊      | 15/40 [14:04<23:25, 56.24s/it]"
     ]
    },
    {
     "name": "stdout",
     "output_type": "stream",
     "text": [
      "f1_score: 0.82151708, test_loss: 0.307381 \n",
      "Epoch 16\n",
      "-------------------------------\n",
      "f1_score: 0.82916848, train_loss: 0.335559 \n"
     ]
    },
    {
     "name": "stderr",
     "output_type": "stream",
     "text": [
      " 40%|████      | 16/40 [15:01<22:33, 56.39s/it]"
     ]
    },
    {
     "name": "stdout",
     "output_type": "stream",
     "text": [
      "f1_score: 0.82377798, test_loss: 0.301800 \n",
      "Epoch 17\n",
      "-------------------------------\n",
      "f1_score: 0.82896536, train_loss: 0.335529 \n"
     ]
    },
    {
     "name": "stderr",
     "output_type": "stream",
     "text": [
      " 42%|████▎     | 17/40 [15:57<21:37, 56.39s/it]"
     ]
    },
    {
     "name": "stdout",
     "output_type": "stream",
     "text": [
      "f1_score: 0.82452569, test_loss: 0.298907 \n",
      "Epoch 18\n",
      "-------------------------------\n",
      "f1_score: 0.82992672, train_loss: 0.334917 \n"
     ]
    },
    {
     "name": "stderr",
     "output_type": "stream",
     "text": [
      " 45%|████▌     | 18/40 [16:54<20:38, 56.32s/it]"
     ]
    },
    {
     "name": "stdout",
     "output_type": "stream",
     "text": [
      "f1_score: 0.82494080, test_loss: 0.300523 \n",
      "Epoch 19\n",
      "-------------------------------\n",
      "f1_score: 0.82971273, train_loss: 0.334819 \n"
     ]
    },
    {
     "name": "stderr",
     "output_type": "stream",
     "text": [
      " 48%|████▊     | 19/40 [17:50<19:41, 56.25s/it]"
     ]
    },
    {
     "name": "stdout",
     "output_type": "stream",
     "text": [
      "f1_score: 0.82279049, test_loss: 0.306949 \n",
      "Epoch 20\n",
      "-------------------------------\n",
      "f1_score: 0.82933053, train_loss: 0.334879 \n"
     ]
    },
    {
     "name": "stderr",
     "output_type": "stream",
     "text": [
      " 50%|█████     | 20/40 [18:46<18:46, 56.34s/it]"
     ]
    },
    {
     "name": "stdout",
     "output_type": "stream",
     "text": [
      "f1_score: 0.82342874, test_loss: 0.310973 \n",
      "Epoch 21\n",
      "-------------------------------\n",
      "f1_score: 0.82958701, train_loss: 0.334547 \n"
     ]
    },
    {
     "name": "stderr",
     "output_type": "stream",
     "text": [
      " 52%|█████▎    | 21/40 [19:43<17:51, 56.40s/it]"
     ]
    },
    {
     "name": "stdout",
     "output_type": "stream",
     "text": [
      "f1_score: 0.82361977, test_loss: 0.303601 \n",
      "Epoch 22\n",
      "-------------------------------\n",
      "f1_score: 0.82901281, train_loss: 0.335332 \n"
     ]
    },
    {
     "name": "stderr",
     "output_type": "stream",
     "text": [
      " 55%|█████▌    | 22/40 [20:39<16:55, 56.43s/it]"
     ]
    },
    {
     "name": "stdout",
     "output_type": "stream",
     "text": [
      "f1_score: 0.82447965, test_loss: 0.298040 \n",
      "Epoch 23\n",
      "-------------------------------\n",
      "f1_score: 0.82891138, train_loss: 0.335467 \n"
     ]
    },
    {
     "name": "stderr",
     "output_type": "stream",
     "text": [
      " 57%|█████▊    | 23/40 [21:35<15:57, 56.33s/it]"
     ]
    },
    {
     "name": "stdout",
     "output_type": "stream",
     "text": [
      "f1_score: 0.82414848, test_loss: 0.298194 \n",
      "Epoch 24\n",
      "-------------------------------\n",
      "f1_score: 0.83005744, train_loss: 0.334178 \n"
     ]
    },
    {
     "name": "stderr",
     "output_type": "stream",
     "text": [
      " 60%|██████    | 24/40 [22:32<15:02, 56.39s/it]"
     ]
    },
    {
     "name": "stdout",
     "output_type": "stream",
     "text": [
      "f1_score: 0.82608388, test_loss: 0.302939 \n",
      "Epoch 25\n",
      "-------------------------------\n",
      "f1_score: 0.82898033, train_loss: 0.335183 \n"
     ]
    },
    {
     "name": "stderr",
     "output_type": "stream",
     "text": [
      " 62%|██████▎   | 25/40 [23:28<14:06, 56.42s/it]"
     ]
    },
    {
     "name": "stdout",
     "output_type": "stream",
     "text": [
      "f1_score: 0.82482674, test_loss: 0.297434 \n",
      "Epoch 26\n",
      "-------------------------------\n",
      "f1_score: 0.82965756, train_loss: 0.334461 \n"
     ]
    },
    {
     "name": "stderr",
     "output_type": "stream",
     "text": [
      " 65%|██████▌   | 26/40 [24:25<13:09, 56.38s/it]"
     ]
    },
    {
     "name": "stdout",
     "output_type": "stream",
     "text": [
      "f1_score: 0.82308759, test_loss: 0.301386 \n",
      "Epoch 27\n",
      "-------------------------------\n",
      "f1_score: 0.82914445, train_loss: 0.334844 \n"
     ]
    },
    {
     "name": "stderr",
     "output_type": "stream",
     "text": [
      " 68%|██████▊   | 27/40 [25:21<12:13, 56.43s/it]"
     ]
    },
    {
     "name": "stdout",
     "output_type": "stream",
     "text": [
      "f1_score: 0.82569983, test_loss: 0.298776 \n",
      "Epoch 28\n",
      "-------------------------------\n",
      "f1_score: 0.82926438, train_loss: 0.334586 \n"
     ]
    },
    {
     "name": "stderr",
     "output_type": "stream",
     "text": [
      " 70%|███████   | 28/40 [26:18<11:18, 56.53s/it]"
     ]
    },
    {
     "name": "stdout",
     "output_type": "stream",
     "text": [
      "f1_score: 0.82535964, test_loss: 0.292670 \n",
      "Epoch 29\n",
      "-------------------------------\n",
      "f1_score: 0.82917996, train_loss: 0.334977 \n"
     ]
    },
    {
     "name": "stderr",
     "output_type": "stream",
     "text": [
      " 72%|███████▎  | 29/40 [27:15<10:22, 56.57s/it]"
     ]
    },
    {
     "name": "stdout",
     "output_type": "stream",
     "text": [
      "f1_score: 0.82603888, test_loss: 0.294913 \n",
      "Epoch 30\n",
      "-------------------------------\n",
      "f1_score: 0.82968679, train_loss: 0.334599 \n"
     ]
    },
    {
     "name": "stderr",
     "output_type": "stream",
     "text": [
      " 75%|███████▌  | 30/40 [28:11<09:24, 56.48s/it]"
     ]
    },
    {
     "name": "stdout",
     "output_type": "stream",
     "text": [
      "f1_score: 0.82582541, test_loss: 0.295921 \n",
      "Epoch 31\n",
      "-------------------------------\n",
      "f1_score: 0.82954470, train_loss: 0.334505 \n"
     ]
    },
    {
     "name": "stderr",
     "output_type": "stream",
     "text": [
      " 78%|███████▊  | 31/40 [29:07<08:27, 56.38s/it]"
     ]
    },
    {
     "name": "stdout",
     "output_type": "stream",
     "text": [
      "f1_score: 0.82536189, test_loss: 0.306189 \n",
      "Epoch 32\n",
      "-------------------------------\n",
      "f1_score: 0.82954567, train_loss: 0.334229 \n"
     ]
    },
    {
     "name": "stderr",
     "output_type": "stream",
     "text": [
      " 80%|████████  | 32/40 [30:04<07:31, 56.40s/it]"
     ]
    },
    {
     "name": "stdout",
     "output_type": "stream",
     "text": [
      "f1_score: 0.82632106, test_loss: 0.303393 \n",
      "Epoch 33\n",
      "-------------------------------\n",
      "f1_score: 0.82946429, train_loss: 0.334465 \n"
     ]
    },
    {
     "name": "stderr",
     "output_type": "stream",
     "text": [
      " 82%|████████▎ | 33/40 [31:00<06:35, 56.46s/it]"
     ]
    },
    {
     "name": "stdout",
     "output_type": "stream",
     "text": [
      "f1_score: 0.82359123, test_loss: 0.304668 \n",
      "Epoch 34\n",
      "-------------------------------\n",
      "f1_score: 0.82935132, train_loss: 0.335240 \n"
     ]
    },
    {
     "name": "stderr",
     "output_type": "stream",
     "text": [
      " 85%|████████▌ | 34/40 [31:56<05:38, 56.40s/it]"
     ]
    },
    {
     "name": "stdout",
     "output_type": "stream",
     "text": [
      "f1_score: 0.82705151, test_loss: 0.300876 \n",
      "Epoch 35\n",
      "-------------------------------\n",
      "f1_score: 0.82964355, train_loss: 0.333973 \n"
     ]
    },
    {
     "name": "stderr",
     "output_type": "stream",
     "text": [
      " 88%|████████▊ | 35/40 [32:52<04:41, 56.29s/it]"
     ]
    },
    {
     "name": "stdout",
     "output_type": "stream",
     "text": [
      "f1_score: 0.82263291, test_loss: 0.305659 \n",
      "Epoch 36\n",
      "-------------------------------\n",
      "f1_score: 0.82973605, train_loss: 0.334249 \n"
     ]
    },
    {
     "name": "stderr",
     "output_type": "stream",
     "text": [
      " 90%|█████████ | 36/40 [33:49<03:45, 56.43s/it]"
     ]
    },
    {
     "name": "stdout",
     "output_type": "stream",
     "text": [
      "f1_score: 0.82502394, test_loss: 0.305019 \n",
      "Epoch 37\n",
      "-------------------------------\n",
      "f1_score: 0.82937701, train_loss: 0.334441 \n"
     ]
    },
    {
     "name": "stderr",
     "output_type": "stream",
     "text": [
      " 92%|█████████▎| 37/40 [34:46<02:49, 56.47s/it]"
     ]
    },
    {
     "name": "stdout",
     "output_type": "stream",
     "text": [
      "f1_score: 0.82352862, test_loss: 0.303846 \n",
      "Epoch 38\n",
      "-------------------------------\n",
      "f1_score: 0.82956601, train_loss: 0.333997 \n"
     ]
    },
    {
     "name": "stderr",
     "output_type": "stream",
     "text": [
      " 95%|█████████▌| 38/40 [35:42<01:52, 56.49s/it]"
     ]
    },
    {
     "name": "stdout",
     "output_type": "stream",
     "text": [
      "f1_score: 0.82511469, test_loss: 0.299806 \n",
      "Epoch 39\n",
      "-------------------------------\n",
      "f1_score: 0.82926713, train_loss: 0.334447 \n"
     ]
    },
    {
     "name": "stderr",
     "output_type": "stream",
     "text": [
      " 98%|█████████▊| 39/40 [36:38<00:56, 56.34s/it]"
     ]
    },
    {
     "name": "stdout",
     "output_type": "stream",
     "text": [
      "f1_score: 0.82733542, test_loss: 0.292981 \n",
      "Epoch 40\n",
      "-------------------------------\n",
      "f1_score: 0.82918818, train_loss: 0.334582 \n"
     ]
    },
    {
     "name": "stderr",
     "output_type": "stream",
     "text": [
      "100%|██████████| 40/40 [37:35<00:00, 56.38s/it]\n",
      "[I 2025-02-15 21:56:39,376] Trial 1 finished with value: 0.8266687996623355 and parameters: {'n': 4, 'dropout_p': 0.34559912828596695, 'dropout_p_1': 0.3350686976178304, 'weight_decay': 0.00019346373585284326, 'batch_size': 1024}. Best is trial 0 with value: 0.8291430962458003.\n",
      "/usr/local/lib/python3.10/dist-packages/optuna/distributions.py:699: UserWarning: The distribution is specified by [1024, 9600] and step=1024, but the range is not divisible by `step`. It will be replaced by [1024, 9216].\n",
      "  warnings.warn(\n"
     ]
    },
    {
     "name": "stdout",
     "output_type": "stream",
     "text": [
      "f1_score: 0.82666880, test_loss: 0.303260 \n"
     ]
    },
    {
     "name": "stderr",
     "output_type": "stream",
     "text": [
      "  0%|          | 0/40 [00:00<?, ?it/s]"
     ]
    },
    {
     "name": "stdout",
     "output_type": "stream",
     "text": [
      "Epoch 1\n",
      "-------------------------------\n",
      "f1_score: 0.80028248, train_loss: 0.394984 \n"
     ]
    },
    {
     "name": "stderr",
     "output_type": "stream",
     "text": [
      "  2%|▎         | 1/40 [01:03<41:06, 63.24s/it]"
     ]
    },
    {
     "name": "stdout",
     "output_type": "stream",
     "text": [
      "f1_score: 0.81688066, test_loss: 0.316837 \n",
      "Epoch 2\n",
      "-------------------------------\n",
      "f1_score: 0.82745490, train_loss: 0.339005 \n"
     ]
    },
    {
     "name": "stderr",
     "output_type": "stream",
     "text": [
      "  5%|▌         | 2/40 [02:06<40:06, 63.33s/it]"
     ]
    },
    {
     "name": "stdout",
     "output_type": "stream",
     "text": [
      "f1_score: 0.82043075, test_loss: 0.302842 \n",
      "Epoch 3\n",
      "-------------------------------\n",
      "f1_score: 0.83010479, train_loss: 0.333164 \n"
     ]
    },
    {
     "name": "stderr",
     "output_type": "stream",
     "text": [
      "  8%|▊         | 3/40 [03:09<39:01, 63.30s/it]"
     ]
    },
    {
     "name": "stdout",
     "output_type": "stream",
     "text": [
      "f1_score: 0.82258211, test_loss: 0.297217 \n",
      "Epoch 4\n",
      "-------------------------------\n",
      "f1_score: 0.83149365, train_loss: 0.329859 \n"
     ]
    },
    {
     "name": "stderr",
     "output_type": "stream",
     "text": [
      " 10%|█         | 4/40 [04:13<37:58, 63.30s/it]"
     ]
    },
    {
     "name": "stdout",
     "output_type": "stream",
     "text": [
      "f1_score: 0.81899059, test_loss: 0.306527 \n",
      "Epoch 5\n",
      "-------------------------------\n",
      "f1_score: 0.83221167, train_loss: 0.328099 \n"
     ]
    },
    {
     "name": "stderr",
     "output_type": "stream",
     "text": [
      " 12%|█▎        | 5/40 [05:16<36:53, 63.24s/it]"
     ]
    },
    {
     "name": "stdout",
     "output_type": "stream",
     "text": [
      "f1_score: 0.82336951, test_loss: 0.305088 \n",
      "Epoch 6\n",
      "-------------------------------\n",
      "f1_score: 0.83302551, train_loss: 0.326766 \n"
     ]
    },
    {
     "name": "stderr",
     "output_type": "stream",
     "text": [
      " 15%|█▌        | 6/40 [06:19<35:49, 63.23s/it]"
     ]
    },
    {
     "name": "stdout",
     "output_type": "stream",
     "text": [
      "f1_score: 0.82479848, test_loss: 0.302183 \n",
      "Epoch 7\n",
      "-------------------------------\n",
      "f1_score: 0.83385679, train_loss: 0.325502 \n"
     ]
    },
    {
     "name": "stderr",
     "output_type": "stream",
     "text": [
      " 18%|█▊        | 7/40 [07:22<34:47, 63.25s/it]"
     ]
    },
    {
     "name": "stdout",
     "output_type": "stream",
     "text": [
      "f1_score: 0.82701145, test_loss: 0.292896 \n",
      "Epoch 8\n",
      "-------------------------------\n",
      "f1_score: 0.83411558, train_loss: 0.325100 \n"
     ]
    },
    {
     "name": "stderr",
     "output_type": "stream",
     "text": [
      " 20%|██        | 8/40 [08:26<33:44, 63.26s/it]"
     ]
    },
    {
     "name": "stdout",
     "output_type": "stream",
     "text": [
      "f1_score: 0.82444548, test_loss: 0.299287 \n",
      "Epoch 9\n",
      "-------------------------------\n",
      "f1_score: 0.83443904, train_loss: 0.324075 \n"
     ]
    },
    {
     "name": "stderr",
     "output_type": "stream",
     "text": [
      " 22%|██▎       | 9/40 [09:29<32:41, 63.28s/it]"
     ]
    },
    {
     "name": "stdout",
     "output_type": "stream",
     "text": [
      "f1_score: 0.82769639, test_loss: 0.299797 \n",
      "Epoch 10\n",
      "-------------------------------\n",
      "f1_score: 0.83515219, train_loss: 0.322975 \n"
     ]
    },
    {
     "name": "stderr",
     "output_type": "stream",
     "text": [
      " 25%|██▌       | 10/40 [10:32<31:38, 63.28s/it]"
     ]
    },
    {
     "name": "stdout",
     "output_type": "stream",
     "text": [
      "f1_score: 0.82569181, test_loss: 0.311214 \n",
      "Epoch 11\n",
      "-------------------------------\n",
      "f1_score: 0.83520667, train_loss: 0.322957 \n"
     ]
    },
    {
     "name": "stderr",
     "output_type": "stream",
     "text": [
      " 28%|██▊       | 11/40 [11:35<30:34, 63.25s/it]"
     ]
    },
    {
     "name": "stdout",
     "output_type": "stream",
     "text": [
      "f1_score: 0.82952778, test_loss: 0.300460 \n",
      "Epoch 12\n",
      "-------------------------------\n",
      "f1_score: 0.83516089, train_loss: 0.322688 \n"
     ]
    },
    {
     "name": "stderr",
     "output_type": "stream",
     "text": [
      " 30%|███       | 12/40 [12:39<29:31, 63.27s/it]"
     ]
    },
    {
     "name": "stdout",
     "output_type": "stream",
     "text": [
      "f1_score: 0.82700946, test_loss: 0.295663 \n",
      "Epoch 13\n",
      "-------------------------------\n",
      "f1_score: 0.83501237, train_loss: 0.322683 \n"
     ]
    },
    {
     "name": "stderr",
     "output_type": "stream",
     "text": [
      " 32%|███▎      | 13/40 [13:42<28:29, 63.30s/it]"
     ]
    },
    {
     "name": "stdout",
     "output_type": "stream",
     "text": [
      "f1_score: 0.82825233, test_loss: 0.302476 \n",
      "Epoch 14\n",
      "-------------------------------\n",
      "f1_score: 0.83607887, train_loss: 0.321217 \n"
     ]
    },
    {
     "name": "stderr",
     "output_type": "stream",
     "text": [
      " 35%|███▌      | 14/40 [14:45<27:25, 63.29s/it]"
     ]
    },
    {
     "name": "stdout",
     "output_type": "stream",
     "text": [
      "f1_score: 0.83043714, test_loss: 0.296354 \n",
      "Epoch 15\n",
      "-------------------------------\n",
      "f1_score: 0.83529538, train_loss: 0.321762 \n"
     ]
    },
    {
     "name": "stderr",
     "output_type": "stream",
     "text": [
      " 38%|███▊      | 15/40 [15:49<26:22, 63.29s/it]"
     ]
    },
    {
     "name": "stdout",
     "output_type": "stream",
     "text": [
      "f1_score: 0.82544677, test_loss: 0.301151 \n",
      "Epoch 16\n",
      "-------------------------------\n",
      "f1_score: 0.83563689, train_loss: 0.321208 \n"
     ]
    },
    {
     "name": "stderr",
     "output_type": "stream",
     "text": [
      " 40%|████      | 16/40 [16:52<25:18, 63.26s/it]"
     ]
    },
    {
     "name": "stdout",
     "output_type": "stream",
     "text": [
      "f1_score: 0.83061015, test_loss: 0.293256 \n",
      "Epoch 17\n",
      "-------------------------------\n",
      "f1_score: 0.83587728, train_loss: 0.321137 \n"
     ]
    },
    {
     "name": "stderr",
     "output_type": "stream",
     "text": [
      " 42%|████▎     | 17/40 [17:55<24:14, 63.26s/it]"
     ]
    },
    {
     "name": "stdout",
     "output_type": "stream",
     "text": [
      "f1_score: 0.82756252, test_loss: 0.295063 \n",
      "Epoch 18\n",
      "-------------------------------\n",
      "f1_score: 0.83616427, train_loss: 0.320605 \n"
     ]
    },
    {
     "name": "stderr",
     "output_type": "stream",
     "text": [
      " 45%|████▌     | 18/40 [18:59<23:12, 63.31s/it]"
     ]
    },
    {
     "name": "stdout",
     "output_type": "stream",
     "text": [
      "f1_score: 0.82891653, test_loss: 0.301459 \n",
      "Epoch 19\n",
      "-------------------------------\n",
      "f1_score: 0.83616964, train_loss: 0.320707 \n"
     ]
    },
    {
     "name": "stderr",
     "output_type": "stream",
     "text": [
      " 48%|████▊     | 19/40 [20:02<22:09, 63.30s/it]"
     ]
    },
    {
     "name": "stdout",
     "output_type": "stream",
     "text": [
      "f1_score: 0.82648698, test_loss: 0.298352 \n",
      "Epoch 20\n",
      "-------------------------------\n",
      "f1_score: 0.83628335, train_loss: 0.320254 \n"
     ]
    },
    {
     "name": "stderr",
     "output_type": "stream",
     "text": [
      " 50%|█████     | 20/40 [21:05<21:05, 63.29s/it]"
     ]
    },
    {
     "name": "stdout",
     "output_type": "stream",
     "text": [
      "f1_score: 0.82865036, test_loss: 0.295303 \n",
      "Epoch 21\n",
      "-------------------------------\n",
      "f1_score: 0.83607442, train_loss: 0.320203 \n"
     ]
    },
    {
     "name": "stderr",
     "output_type": "stream",
     "text": [
      " 52%|█████▎    | 21/40 [22:08<20:02, 63.29s/it]"
     ]
    },
    {
     "name": "stdout",
     "output_type": "stream",
     "text": [
      "f1_score: 0.82985691, test_loss: 0.289772 \n",
      "Epoch 22\n",
      "-------------------------------\n",
      "f1_score: 0.83658843, train_loss: 0.319779 \n"
     ]
    },
    {
     "name": "stderr",
     "output_type": "stream",
     "text": [
      " 55%|█████▌    | 22/40 [23:12<18:59, 63.29s/it]"
     ]
    },
    {
     "name": "stdout",
     "output_type": "stream",
     "text": [
      "f1_score: 0.82862037, test_loss: 0.299966 \n",
      "Epoch 23\n",
      "-------------------------------\n",
      "f1_score: 0.83666447, train_loss: 0.319527 \n"
     ]
    },
    {
     "name": "stderr",
     "output_type": "stream",
     "text": [
      " 57%|█████▊    | 23/40 [24:15<17:56, 63.31s/it]"
     ]
    },
    {
     "name": "stdout",
     "output_type": "stream",
     "text": [
      "f1_score: 0.82989532, test_loss: 0.300733 \n",
      "Epoch 24\n",
      "-------------------------------\n",
      "f1_score: 0.83643976, train_loss: 0.319718 \n"
     ]
    },
    {
     "name": "stderr",
     "output_type": "stream",
     "text": [
      " 60%|██████    | 24/40 [25:18<16:52, 63.31s/it]"
     ]
    },
    {
     "name": "stdout",
     "output_type": "stream",
     "text": [
      "f1_score: 0.83012223, test_loss: 0.290653 \n",
      "Epoch 25\n",
      "-------------------------------\n",
      "f1_score: 0.83641442, train_loss: 0.319704 \n"
     ]
    },
    {
     "name": "stderr",
     "output_type": "stream",
     "text": [
      " 62%|██████▎   | 25/40 [26:22<15:49, 63.31s/it]"
     ]
    },
    {
     "name": "stdout",
     "output_type": "stream",
     "text": [
      "f1_score: 0.83004148, test_loss: 0.298412 \n",
      "Epoch 26\n",
      "-------------------------------\n",
      "f1_score: 0.83666701, train_loss: 0.319317 \n"
     ]
    },
    {
     "name": "stderr",
     "output_type": "stream",
     "text": [
      " 65%|██████▌   | 26/40 [27:25<14:45, 63.25s/it]"
     ]
    },
    {
     "name": "stdout",
     "output_type": "stream",
     "text": [
      "f1_score: 0.83043375, test_loss: 0.294376 \n",
      "Epoch 27\n",
      "-------------------------------\n",
      "f1_score: 0.83699221, train_loss: 0.318903 \n"
     ]
    },
    {
     "name": "stderr",
     "output_type": "stream",
     "text": [
      " 68%|██████▊   | 27/40 [28:28<13:42, 63.28s/it]"
     ]
    },
    {
     "name": "stdout",
     "output_type": "stream",
     "text": [
      "f1_score: 0.82913075, test_loss: 0.300557 \n",
      "Epoch 28\n",
      "-------------------------------\n",
      "f1_score: 0.83687544, train_loss: 0.319031 \n"
     ]
    },
    {
     "name": "stderr",
     "output_type": "stream",
     "text": [
      " 70%|███████   | 28/40 [29:32<12:41, 63.45s/it]"
     ]
    },
    {
     "name": "stdout",
     "output_type": "stream",
     "text": [
      "f1_score: 0.83041136, test_loss: 0.299454 \n",
      "Epoch 29\n",
      "-------------------------------\n",
      "f1_score: 0.83672771, train_loss: 0.318892 \n"
     ]
    },
    {
     "name": "stderr",
     "output_type": "stream",
     "text": [
      " 72%|███████▎  | 29/40 [30:36<11:38, 63.54s/it]"
     ]
    },
    {
     "name": "stdout",
     "output_type": "stream",
     "text": [
      "f1_score: 0.82842093, test_loss: 0.296559 \n",
      "Epoch 30\n",
      "-------------------------------\n",
      "f1_score: 0.83721078, train_loss: 0.318387 \n"
     ]
    },
    {
     "name": "stderr",
     "output_type": "stream",
     "text": [
      " 75%|███████▌  | 30/40 [31:40<10:36, 63.65s/it]"
     ]
    },
    {
     "name": "stdout",
     "output_type": "stream",
     "text": [
      "f1_score: 0.83043920, test_loss: 0.293338 \n",
      "Epoch 31\n",
      "-------------------------------\n",
      "f1_score: 0.83706949, train_loss: 0.318606 \n"
     ]
    },
    {
     "name": "stderr",
     "output_type": "stream",
     "text": [
      " 78%|███████▊  | 31/40 [32:43<09:31, 63.54s/it]"
     ]
    },
    {
     "name": "stdout",
     "output_type": "stream",
     "text": [
      "f1_score: 0.83233319, test_loss: 0.289536 \n",
      "Epoch 32\n",
      "-------------------------------\n",
      "f1_score: 0.83673176, train_loss: 0.319027 \n"
     ]
    },
    {
     "name": "stderr",
     "output_type": "stream",
     "text": [
      " 80%|████████  | 32/40 [33:46<08:27, 63.45s/it]"
     ]
    },
    {
     "name": "stdout",
     "output_type": "stream",
     "text": [
      "f1_score: 0.83222635, test_loss: 0.291983 \n",
      "Epoch 33\n",
      "-------------------------------\n",
      "f1_score: 0.83685192, train_loss: 0.318653 \n"
     ]
    },
    {
     "name": "stderr",
     "output_type": "stream",
     "text": [
      " 82%|████████▎ | 33/40 [34:49<07:23, 63.41s/it]"
     ]
    },
    {
     "name": "stdout",
     "output_type": "stream",
     "text": [
      "f1_score: 0.82766883, test_loss: 0.300739 \n",
      "Epoch 34\n",
      "-------------------------------\n",
      "f1_score: 0.83702823, train_loss: 0.318858 \n"
     ]
    },
    {
     "name": "stderr",
     "output_type": "stream",
     "text": [
      " 85%|████████▌ | 34/40 [35:52<06:19, 63.29s/it]"
     ]
    },
    {
     "name": "stdout",
     "output_type": "stream",
     "text": [
      "f1_score: 0.83130360, test_loss: 0.296260 \n",
      "Epoch 35\n",
      "-------------------------------\n",
      "f1_score: 0.83698829, train_loss: 0.318477 \n"
     ]
    },
    {
     "name": "stderr",
     "output_type": "stream",
     "text": [
      " 88%|████████▊ | 35/40 [36:56<05:16, 63.23s/it]"
     ]
    },
    {
     "name": "stdout",
     "output_type": "stream",
     "text": [
      "f1_score: 0.83048593, test_loss: 0.296383 \n",
      "Epoch 36\n",
      "-------------------------------\n",
      "f1_score: 0.83699241, train_loss: 0.318415 \n"
     ]
    },
    {
     "name": "stderr",
     "output_type": "stream",
     "text": [
      " 90%|█████████ | 36/40 [37:59<04:13, 63.25s/it]"
     ]
    },
    {
     "name": "stdout",
     "output_type": "stream",
     "text": [
      "f1_score: 0.83105591, test_loss: 0.293345 \n",
      "Epoch 37\n",
      "-------------------------------\n",
      "f1_score: 0.83748060, train_loss: 0.318131 \n"
     ]
    },
    {
     "name": "stderr",
     "output_type": "stream",
     "text": [
      " 92%|█████████▎| 37/40 [39:02<03:09, 63.24s/it]"
     ]
    },
    {
     "name": "stdout",
     "output_type": "stream",
     "text": [
      "f1_score: 0.83127095, test_loss: 0.292060 \n",
      "Epoch 38\n",
      "-------------------------------\n",
      "f1_score: 0.83726478, train_loss: 0.318014 \n"
     ]
    },
    {
     "name": "stderr",
     "output_type": "stream",
     "text": [
      " 95%|█████████▌| 38/40 [40:05<02:06, 63.27s/it]"
     ]
    },
    {
     "name": "stdout",
     "output_type": "stream",
     "text": [
      "f1_score: 0.82893865, test_loss: 0.294047 \n",
      "Epoch 39\n",
      "-------------------------------\n",
      "f1_score: 0.83707942, train_loss: 0.318247 \n"
     ]
    },
    {
     "name": "stderr",
     "output_type": "stream",
     "text": [
      " 98%|█████████▊| 39/40 [41:09<01:03, 63.25s/it]"
     ]
    },
    {
     "name": "stdout",
     "output_type": "stream",
     "text": [
      "f1_score: 0.83226991, test_loss: 0.288603 \n",
      "Epoch 40\n",
      "-------------------------------\n",
      "f1_score: 0.83741163, train_loss: 0.317954 \n"
     ]
    },
    {
     "name": "stderr",
     "output_type": "stream",
     "text": [
      "100%|██████████| 40/40 [42:12<00:00, 63.31s/it]\n",
      "[I 2025-02-15 22:38:51,811] Trial 2 finished with value: 0.83076699210306 and parameters: {'n': 5, 'dropout_p': 0.15822108444251418, 'dropout_p_1': 0.2030356253122653, 'weight_decay': 4.1778037005808234e-05, 'batch_size': 3072}. Best is trial 2 with value: 0.83076699210306.\n",
      "/usr/local/lib/python3.10/dist-packages/optuna/distributions.py:699: UserWarning: The distribution is specified by [1024, 9600] and step=1024, but the range is not divisible by `step`. It will be replaced by [1024, 9216].\n",
      "  warnings.warn(\n"
     ]
    },
    {
     "name": "stdout",
     "output_type": "stream",
     "text": [
      "f1_score: 0.83076699, test_loss: 0.297458 \n"
     ]
    },
    {
     "name": "stderr",
     "output_type": "stream",
     "text": [
      "  0%|          | 0/40 [00:00<?, ?it/s]"
     ]
    },
    {
     "name": "stdout",
     "output_type": "stream",
     "text": [
      "Epoch 1\n",
      "-------------------------------\n",
      "f1_score: 0.77670495, train_loss: 0.441376 \n"
     ]
    },
    {
     "name": "stderr",
     "output_type": "stream",
     "text": [
      "  2%|▎         | 1/40 [01:07<44:06, 67.85s/it]"
     ]
    },
    {
     "name": "stdout",
     "output_type": "stream",
     "text": [
      "f1_score: 0.80229137, test_loss: 0.325528 \n",
      "Epoch 2\n",
      "-------------------------------\n",
      "f1_score: 0.82257742, train_loss: 0.349258 \n"
     ]
    },
    {
     "name": "stderr",
     "output_type": "stream",
     "text": [
      "  5%|▌         | 2/40 [02:15<43:03, 68.00s/it]"
     ]
    },
    {
     "name": "stdout",
     "output_type": "stream",
     "text": [
      "f1_score: 0.81419486, test_loss: 0.316624 \n",
      "Epoch 3\n",
      "-------------------------------\n",
      "f1_score: 0.82740224, train_loss: 0.338380 \n"
     ]
    },
    {
     "name": "stderr",
     "output_type": "stream",
     "text": [
      "  8%|▊         | 3/40 [03:23<41:52, 67.91s/it]"
     ]
    },
    {
     "name": "stdout",
     "output_type": "stream",
     "text": [
      "f1_score: 0.81990742, test_loss: 0.312846 \n",
      "Epoch 4\n",
      "-------------------------------\n",
      "f1_score: 0.82953916, train_loss: 0.333681 \n"
     ]
    },
    {
     "name": "stderr",
     "output_type": "stream",
     "text": [
      " 10%|█         | 4/40 [04:31<40:43, 67.89s/it]"
     ]
    },
    {
     "name": "stdout",
     "output_type": "stream",
     "text": [
      "f1_score: 0.82379406, test_loss: 0.299937 \n",
      "Epoch 5\n",
      "-------------------------------\n",
      "f1_score: 0.83070358, train_loss: 0.331198 \n"
     ]
    },
    {
     "name": "stderr",
     "output_type": "stream",
     "text": [
      " 12%|█▎        | 5/40 [05:39<39:35, 67.87s/it]"
     ]
    },
    {
     "name": "stdout",
     "output_type": "stream",
     "text": [
      "f1_score: 0.82442324, test_loss: 0.300218 \n",
      "Epoch 6\n",
      "-------------------------------\n",
      "f1_score: 0.83192789, train_loss: 0.328811 \n"
     ]
    },
    {
     "name": "stderr",
     "output_type": "stream",
     "text": [
      " 15%|█▌        | 6/40 [06:47<38:27, 67.87s/it]"
     ]
    },
    {
     "name": "stdout",
     "output_type": "stream",
     "text": [
      "f1_score: 0.82331625, test_loss: 0.304740 \n",
      "Epoch 7\n",
      "-------------------------------\n",
      "f1_score: 0.83284597, train_loss: 0.327216 \n"
     ]
    },
    {
     "name": "stderr",
     "output_type": "stream",
     "text": [
      " 18%|█▊        | 7/40 [07:55<37:21, 67.93s/it]"
     ]
    },
    {
     "name": "stdout",
     "output_type": "stream",
     "text": [
      "f1_score: 0.82234801, test_loss: 0.308255 \n",
      "Epoch 8\n",
      "-------------------------------\n",
      "f1_score: 0.83320864, train_loss: 0.325922 \n"
     ]
    },
    {
     "name": "stderr",
     "output_type": "stream",
     "text": [
      " 20%|██        | 8/40 [09:03<36:13, 67.92s/it]"
     ]
    },
    {
     "name": "stdout",
     "output_type": "stream",
     "text": [
      "f1_score: 0.82605438, test_loss: 0.302125 \n",
      "Epoch 9\n",
      "-------------------------------\n",
      "f1_score: 0.83371982, train_loss: 0.324568 \n"
     ]
    },
    {
     "name": "stderr",
     "output_type": "stream",
     "text": [
      " 22%|██▎       | 9/40 [10:11<35:05, 67.93s/it]"
     ]
    },
    {
     "name": "stdout",
     "output_type": "stream",
     "text": [
      "f1_score: 0.82401214, test_loss: 0.302844 \n",
      "Epoch 10\n",
      "-------------------------------\n",
      "f1_score: 0.83436665, train_loss: 0.323538 \n"
     ]
    },
    {
     "name": "stderr",
     "output_type": "stream",
     "text": [
      " 25%|██▌       | 10/40 [11:19<33:57, 67.92s/it]"
     ]
    },
    {
     "name": "stdout",
     "output_type": "stream",
     "text": [
      "f1_score: 0.82486542, test_loss: 0.298343 \n",
      "Epoch 11\n",
      "-------------------------------\n",
      "f1_score: 0.83460293, train_loss: 0.322702 \n"
     ]
    },
    {
     "name": "stderr",
     "output_type": "stream",
     "text": [
      " 28%|██▊       | 11/40 [12:26<32:49, 67.90s/it]"
     ]
    },
    {
     "name": "stdout",
     "output_type": "stream",
     "text": [
      "f1_score: 0.82890238, test_loss: 0.293099 \n",
      "Epoch 12\n",
      "-------------------------------\n",
      "f1_score: 0.83455635, train_loss: 0.322198 \n"
     ]
    },
    {
     "name": "stderr",
     "output_type": "stream",
     "text": [
      " 30%|███       | 12/40 [13:34<31:41, 67.91s/it]"
     ]
    },
    {
     "name": "stdout",
     "output_type": "stream",
     "text": [
      "f1_score: 0.82865165, test_loss: 0.291134 \n",
      "Epoch 13\n",
      "-------------------------------\n",
      "f1_score: 0.83529325, train_loss: 0.320852 \n"
     ]
    },
    {
     "name": "stderr",
     "output_type": "stream",
     "text": [
      " 32%|███▎      | 13/40 [14:42<30:33, 67.89s/it]"
     ]
    },
    {
     "name": "stdout",
     "output_type": "stream",
     "text": [
      "f1_score: 0.82677540, test_loss: 0.298256 \n",
      "Epoch 14\n",
      "-------------------------------\n",
      "f1_score: 0.83472946, train_loss: 0.320858 \n"
     ]
    },
    {
     "name": "stderr",
     "output_type": "stream",
     "text": [
      " 35%|███▌      | 14/40 [15:50<29:25, 67.92s/it]"
     ]
    },
    {
     "name": "stdout",
     "output_type": "stream",
     "text": [
      "f1_score: 0.82850065, test_loss: 0.293234 \n",
      "Epoch 15\n",
      "-------------------------------\n",
      "f1_score: 0.83559058, train_loss: 0.319568 \n"
     ]
    },
    {
     "name": "stderr",
     "output_type": "stream",
     "text": [
      " 38%|███▊      | 15/40 [16:58<28:18, 67.94s/it]"
     ]
    },
    {
     "name": "stdout",
     "output_type": "stream",
     "text": [
      "f1_score: 0.82976449, test_loss: 0.293611 \n",
      "Epoch 16\n",
      "-------------------------------\n",
      "f1_score: 0.83572006, train_loss: 0.319393 \n"
     ]
    },
    {
     "name": "stderr",
     "output_type": "stream",
     "text": [
      " 40%|████      | 16/40 [18:06<27:12, 68.02s/it]"
     ]
    },
    {
     "name": "stdout",
     "output_type": "stream",
     "text": [
      "f1_score: 0.82755819, test_loss: 0.294718 \n",
      "Epoch 17\n",
      "-------------------------------\n",
      "f1_score: 0.83561668, train_loss: 0.318700 \n"
     ]
    },
    {
     "name": "stderr",
     "output_type": "stream",
     "text": [
      " 42%|████▎     | 17/40 [19:15<26:08, 68.21s/it]"
     ]
    },
    {
     "name": "stdout",
     "output_type": "stream",
     "text": [
      "f1_score: 0.82916188, test_loss: 0.297957 \n",
      "Epoch 18\n",
      "-------------------------------\n",
      "f1_score: 0.83616701, train_loss: 0.317949 \n"
     ]
    },
    {
     "name": "stderr",
     "output_type": "stream",
     "text": [
      " 45%|████▌     | 18/40 [20:24<25:03, 68.34s/it]"
     ]
    },
    {
     "name": "stdout",
     "output_type": "stream",
     "text": [
      "f1_score: 0.82776657, test_loss: 0.296396 \n",
      "Epoch 19\n",
      "-------------------------------\n",
      "f1_score: 0.83632625, train_loss: 0.317182 \n"
     ]
    },
    {
     "name": "stderr",
     "output_type": "stream",
     "text": [
      " 48%|████▊     | 19/40 [21:32<23:55, 68.35s/it]"
     ]
    },
    {
     "name": "stdout",
     "output_type": "stream",
     "text": [
      "f1_score: 0.82821055, test_loss: 0.298896 \n",
      "Epoch 20\n",
      "-------------------------------\n",
      "f1_score: 0.83667155, train_loss: 0.316632 \n"
     ]
    },
    {
     "name": "stderr",
     "output_type": "stream",
     "text": [
      " 50%|█████     | 20/40 [22:40<22:44, 68.20s/it]"
     ]
    },
    {
     "name": "stdout",
     "output_type": "stream",
     "text": [
      "f1_score: 0.83103076, test_loss: 0.290411 \n",
      "Epoch 21\n",
      "-------------------------------\n",
      "f1_score: 0.83686472, train_loss: 0.315875 \n"
     ]
    },
    {
     "name": "stderr",
     "output_type": "stream",
     "text": [
      " 52%|█████▎    | 21/40 [23:48<21:34, 68.15s/it]"
     ]
    },
    {
     "name": "stdout",
     "output_type": "stream",
     "text": [
      "f1_score: 0.82837245, test_loss: 0.297542 \n",
      "Epoch 22\n",
      "-------------------------------\n",
      "f1_score: 0.83698599, train_loss: 0.315536 \n"
     ]
    },
    {
     "name": "stderr",
     "output_type": "stream",
     "text": [
      " 55%|█████▌    | 22/40 [24:56<20:25, 68.08s/it]"
     ]
    },
    {
     "name": "stdout",
     "output_type": "stream",
     "text": [
      "f1_score: 0.83012868, test_loss: 0.291820 \n",
      "Epoch 23\n",
      "-------------------------------\n",
      "f1_score: 0.83763300, train_loss: 0.314387 \n"
     ]
    },
    {
     "name": "stderr",
     "output_type": "stream",
     "text": [
      " 57%|█████▊    | 23/40 [26:04<19:16, 68.05s/it]"
     ]
    },
    {
     "name": "stdout",
     "output_type": "stream",
     "text": [
      "f1_score: 0.82752590, test_loss: 0.295648 \n",
      "Epoch 24\n",
      "-------------------------------\n",
      "f1_score: 0.83770190, train_loss: 0.314152 \n"
     ]
    },
    {
     "name": "stderr",
     "output_type": "stream",
     "text": [
      " 60%|██████    | 24/40 [27:12<18:08, 68.02s/it]"
     ]
    },
    {
     "name": "stdout",
     "output_type": "stream",
     "text": [
      "f1_score: 0.83051213, test_loss: 0.291940 \n",
      "Epoch 25\n",
      "-------------------------------\n",
      "f1_score: 0.83775889, train_loss: 0.313752 \n"
     ]
    },
    {
     "name": "stderr",
     "output_type": "stream",
     "text": [
      " 62%|██████▎   | 25/40 [28:20<16:59, 67.99s/it]"
     ]
    },
    {
     "name": "stdout",
     "output_type": "stream",
     "text": [
      "f1_score: 0.82585909, test_loss: 0.303824 \n",
      "Epoch 26\n",
      "-------------------------------\n",
      "f1_score: 0.83808672, train_loss: 0.312994 \n"
     ]
    },
    {
     "name": "stderr",
     "output_type": "stream",
     "text": [
      " 65%|██████▌   | 26/40 [29:28<15:51, 67.99s/it]"
     ]
    },
    {
     "name": "stdout",
     "output_type": "stream",
     "text": [
      "f1_score: 0.82828515, test_loss: 0.298015 \n",
      "Epoch 27\n",
      "-------------------------------\n",
      "f1_score: 0.83885827, train_loss: 0.312220 \n"
     ]
    },
    {
     "name": "stderr",
     "output_type": "stream",
     "text": [
      " 68%|██████▊   | 27/40 [30:36<14:44, 68.01s/it]"
     ]
    },
    {
     "name": "stdout",
     "output_type": "stream",
     "text": [
      "f1_score: 0.82880825, test_loss: 0.291794 \n",
      "Epoch 28\n",
      "-------------------------------\n",
      "f1_score: 0.83869434, train_loss: 0.311874 \n"
     ]
    },
    {
     "name": "stderr",
     "output_type": "stream",
     "text": [
      " 70%|███████   | 28/40 [31:44<13:35, 67.99s/it]"
     ]
    },
    {
     "name": "stdout",
     "output_type": "stream",
     "text": [
      "f1_score: 0.82786561, test_loss: 0.299480 \n",
      "Epoch 29\n",
      "-------------------------------\n",
      "f1_score: 0.83957263, train_loss: 0.311131 \n"
     ]
    },
    {
     "name": "stderr",
     "output_type": "stream",
     "text": [
      " 72%|███████▎  | 29/40 [32:52<12:27, 67.99s/it]"
     ]
    },
    {
     "name": "stdout",
     "output_type": "stream",
     "text": [
      "f1_score: 0.82877124, test_loss: 0.293265 \n",
      "Epoch 30\n",
      "-------------------------------\n",
      "f1_score: 0.83951206, train_loss: 0.310818 \n"
     ]
    },
    {
     "name": "stderr",
     "output_type": "stream",
     "text": [
      " 75%|███████▌  | 30/40 [34:00<11:20, 68.01s/it]"
     ]
    },
    {
     "name": "stdout",
     "output_type": "stream",
     "text": [
      "f1_score: 0.82916015, test_loss: 0.294592 \n",
      "Epoch 31\n",
      "-------------------------------\n",
      "f1_score: 0.83969636, train_loss: 0.309908 \n"
     ]
    },
    {
     "name": "stderr",
     "output_type": "stream",
     "text": [
      " 78%|███████▊  | 31/40 [35:08<10:12, 68.02s/it]"
     ]
    },
    {
     "name": "stdout",
     "output_type": "stream",
     "text": [
      "f1_score: 0.82740459, test_loss: 0.297896 \n",
      "Epoch 32\n",
      "-------------------------------\n",
      "f1_score: 0.84011565, train_loss: 0.309755 \n"
     ]
    },
    {
     "name": "stderr",
     "output_type": "stream",
     "text": [
      " 80%|████████  | 32/40 [36:16<09:04, 68.03s/it]"
     ]
    },
    {
     "name": "stdout",
     "output_type": "stream",
     "text": [
      "f1_score: 0.82764808, test_loss: 0.295883 \n",
      "Epoch 33\n",
      "-------------------------------\n",
      "f1_score: 0.84010719, train_loss: 0.309359 \n"
     ]
    },
    {
     "name": "stderr",
     "output_type": "stream",
     "text": [
      " 82%|████████▎ | 33/40 [37:24<07:56, 68.03s/it]"
     ]
    },
    {
     "name": "stdout",
     "output_type": "stream",
     "text": [
      "f1_score: 0.82700245, test_loss: 0.294293 \n",
      "Epoch 34\n",
      "-------------------------------\n",
      "f1_score: 0.84116922, train_loss: 0.308139 \n"
     ]
    },
    {
     "name": "stderr",
     "output_type": "stream",
     "text": [
      " 85%|████████▌ | 34/40 [38:32<06:47, 67.98s/it]"
     ]
    },
    {
     "name": "stdout",
     "output_type": "stream",
     "text": [
      "f1_score: 0.82818231, test_loss: 0.295371 \n",
      "Epoch 35\n",
      "-------------------------------\n",
      "f1_score: 0.84139746, train_loss: 0.307686 \n"
     ]
    },
    {
     "name": "stderr",
     "output_type": "stream",
     "text": [
      " 88%|████████▊ | 35/40 [39:40<05:40, 68.02s/it]"
     ]
    },
    {
     "name": "stdout",
     "output_type": "stream",
     "text": [
      "f1_score: 0.82747925, test_loss: 0.294442 \n",
      "Epoch 36\n",
      "-------------------------------\n",
      "f1_score: 0.84154805, train_loss: 0.307433 \n"
     ]
    },
    {
     "name": "stderr",
     "output_type": "stream",
     "text": [
      " 90%|█████████ | 36/40 [40:48<04:32, 68.06s/it]"
     ]
    },
    {
     "name": "stdout",
     "output_type": "stream",
     "text": [
      "f1_score: 0.82644268, test_loss: 0.295109 \n",
      "Epoch 37\n",
      "-------------------------------\n",
      "f1_score: 0.84177610, train_loss: 0.306981 \n"
     ]
    },
    {
     "name": "stderr",
     "output_type": "stream",
     "text": [
      " 92%|█████████▎| 37/40 [41:56<03:24, 68.14s/it]"
     ]
    },
    {
     "name": "stdout",
     "output_type": "stream",
     "text": [
      "f1_score: 0.82716365, test_loss: 0.294941 \n",
      "Epoch 38\n",
      "-------------------------------\n",
      "f1_score: 0.84257924, train_loss: 0.306256 \n"
     ]
    },
    {
     "name": "stderr",
     "output_type": "stream",
     "text": [
      " 95%|█████████▌| 38/40 [43:05<02:16, 68.18s/it]"
     ]
    },
    {
     "name": "stdout",
     "output_type": "stream",
     "text": [
      "f1_score: 0.82606156, test_loss: 0.294956 \n",
      "Epoch 39\n",
      "-------------------------------\n",
      "f1_score: 0.84249577, train_loss: 0.306306 \n"
     ]
    },
    {
     "name": "stderr",
     "output_type": "stream",
     "text": [
      " 98%|█████████▊| 39/40 [44:13<01:08, 68.18s/it]"
     ]
    },
    {
     "name": "stdout",
     "output_type": "stream",
     "text": [
      "f1_score: 0.82197298, test_loss: 0.301736 \n",
      "Epoch 40\n",
      "-------------------------------\n",
      "f1_score: 0.84283434, train_loss: 0.305652 \n"
     ]
    },
    {
     "name": "stderr",
     "output_type": "stream",
     "text": [
      "100%|██████████| 40/40 [45:21<00:00, 68.03s/it]\n",
      "[I 2025-02-15 23:24:12,893] Trial 3 finished with value: 0.8245096898137004 and parameters: {'n': 5, 'dropout_p': 0.3855345640332778, 'dropout_p_1': 0.21035886941341153, 'weight_decay': 3.4266145947322635e-06, 'batch_size': 7168}. Best is trial 2 with value: 0.83076699210306.\n",
      "/usr/local/lib/python3.10/dist-packages/optuna/distributions.py:699: UserWarning: The distribution is specified by [1024, 9600] and step=1024, but the range is not divisible by `step`. It will be replaced by [1024, 9216].\n",
      "  warnings.warn(\n"
     ]
    },
    {
     "name": "stdout",
     "output_type": "stream",
     "text": [
      "f1_score: 0.82450969, test_loss: 0.296117 \n"
     ]
    },
    {
     "name": "stderr",
     "output_type": "stream",
     "text": [
      "  0%|          | 0/40 [00:00<?, ?it/s]"
     ]
    },
    {
     "name": "stdout",
     "output_type": "stream",
     "text": [
      "Epoch 1\n",
      "-------------------------------\n",
      "f1_score: 0.76708567, train_loss: 0.459320 \n"
     ]
    },
    {
     "name": "stderr",
     "output_type": "stream",
     "text": [
      "  2%|▎         | 1/40 [00:58<38:11, 58.77s/it]"
     ]
    },
    {
     "name": "stdout",
     "output_type": "stream",
     "text": [
      "f1_score: 0.80527511, test_loss: 0.322831 \n",
      "Epoch 2\n",
      "-------------------------------\n",
      "f1_score: 0.82342200, train_loss: 0.348493 \n"
     ]
    },
    {
     "name": "stderr",
     "output_type": "stream",
     "text": [
      "  5%|▌         | 2/40 [01:57<37:22, 59.01s/it]"
     ]
    },
    {
     "name": "stdout",
     "output_type": "stream",
     "text": [
      "f1_score: 0.82114947, test_loss: 0.305069 \n",
      "Epoch 3\n",
      "-------------------------------\n",
      "f1_score: 0.82854478, train_loss: 0.336453 \n"
     ]
    },
    {
     "name": "stderr",
     "output_type": "stream",
     "text": [
      "  8%|▊         | 3/40 [02:57<36:28, 59.14s/it]"
     ]
    },
    {
     "name": "stdout",
     "output_type": "stream",
     "text": [
      "f1_score: 0.82181216, test_loss: 0.304275 \n",
      "Epoch 4\n",
      "-------------------------------\n",
      "f1_score: 0.82999855, train_loss: 0.332934 \n"
     ]
    },
    {
     "name": "stderr",
     "output_type": "stream",
     "text": [
      " 10%|█         | 4/40 [03:56<35:29, 59.16s/it]"
     ]
    },
    {
     "name": "stdout",
     "output_type": "stream",
     "text": [
      "f1_score: 0.82576196, test_loss: 0.298315 \n",
      "Epoch 5\n",
      "-------------------------------\n",
      "f1_score: 0.83099088, train_loss: 0.330537 \n"
     ]
    },
    {
     "name": "stderr",
     "output_type": "stream",
     "text": [
      " 12%|█▎        | 5/40 [04:55<34:33, 59.25s/it]"
     ]
    },
    {
     "name": "stdout",
     "output_type": "stream",
     "text": [
      "f1_score: 0.82533011, test_loss: 0.305511 \n",
      "Epoch 6\n",
      "-------------------------------\n",
      "f1_score: 0.83218337, train_loss: 0.327978 \n"
     ]
    },
    {
     "name": "stderr",
     "output_type": "stream",
     "text": [
      " 15%|█▌        | 6/40 [05:54<33:32, 59.19s/it]"
     ]
    },
    {
     "name": "stdout",
     "output_type": "stream",
     "text": [
      "f1_score: 0.82830604, test_loss: 0.301544 \n",
      "Epoch 7\n",
      "-------------------------------\n",
      "f1_score: 0.83297892, train_loss: 0.326954 \n"
     ]
    },
    {
     "name": "stderr",
     "output_type": "stream",
     "text": [
      " 18%|█▊        | 7/40 [06:54<32:33, 59.21s/it]"
     ]
    },
    {
     "name": "stdout",
     "output_type": "stream",
     "text": [
      "f1_score: 0.82829905, test_loss: 0.302084 \n",
      "Epoch 8\n",
      "-------------------------------\n",
      "f1_score: 0.83353083, train_loss: 0.325672 \n"
     ]
    },
    {
     "name": "stderr",
     "output_type": "stream",
     "text": [
      " 20%|██        | 8/40 [07:53<31:33, 59.17s/it]"
     ]
    },
    {
     "name": "stdout",
     "output_type": "stream",
     "text": [
      "f1_score: 0.82863103, test_loss: 0.295576 \n",
      "Epoch 9\n",
      "-------------------------------\n",
      "f1_score: 0.83410672, train_loss: 0.324655 \n"
     ]
    },
    {
     "name": "stderr",
     "output_type": "stream",
     "text": [
      " 22%|██▎       | 9/40 [08:52<30:36, 59.23s/it]"
     ]
    },
    {
     "name": "stdout",
     "output_type": "stream",
     "text": [
      "f1_score: 0.82601820, test_loss: 0.304259 \n",
      "Epoch 10\n",
      "-------------------------------\n",
      "f1_score: 0.83380652, train_loss: 0.325029 \n"
     ]
    },
    {
     "name": "stderr",
     "output_type": "stream",
     "text": [
      " 25%|██▌       | 10/40 [09:51<29:37, 59.26s/it]"
     ]
    },
    {
     "name": "stdout",
     "output_type": "stream",
     "text": [
      "f1_score: 0.82662378, test_loss: 0.304234 \n",
      "Epoch 11\n",
      "-------------------------------\n",
      "f1_score: 0.83376265, train_loss: 0.324183 \n"
     ]
    },
    {
     "name": "stderr",
     "output_type": "stream",
     "text": [
      " 28%|██▊       | 11/40 [10:51<28:38, 59.27s/it]"
     ]
    },
    {
     "name": "stdout",
     "output_type": "stream",
     "text": [
      "f1_score: 0.82618052, test_loss: 0.302809 \n",
      "Epoch 12\n",
      "-------------------------------\n",
      "f1_score: 0.83403854, train_loss: 0.323705 \n"
     ]
    },
    {
     "name": "stderr",
     "output_type": "stream",
     "text": [
      " 30%|███       | 12/40 [11:50<27:39, 59.28s/it]"
     ]
    },
    {
     "name": "stdout",
     "output_type": "stream",
     "text": [
      "f1_score: 0.82844368, test_loss: 0.302521 \n",
      "Epoch 13\n",
      "-------------------------------\n",
      "f1_score: 0.83480628, train_loss: 0.322553 \n"
     ]
    },
    {
     "name": "stderr",
     "output_type": "stream",
     "text": [
      " 32%|███▎      | 13/40 [12:49<26:41, 59.30s/it]"
     ]
    },
    {
     "name": "stdout",
     "output_type": "stream",
     "text": [
      "f1_score: 0.82934907, test_loss: 0.293966 \n",
      "Epoch 14\n",
      "-------------------------------\n",
      "f1_score: 0.83453200, train_loss: 0.322413 \n"
     ]
    },
    {
     "name": "stderr",
     "output_type": "stream",
     "text": [
      " 35%|███▌      | 14/40 [13:49<25:41, 59.28s/it]"
     ]
    },
    {
     "name": "stdout",
     "output_type": "stream",
     "text": [
      "f1_score: 0.83031232, test_loss: 0.293637 \n",
      "Epoch 15\n",
      "-------------------------------\n",
      "f1_score: 0.83487185, train_loss: 0.321993 \n"
     ]
    },
    {
     "name": "stderr",
     "output_type": "stream",
     "text": [
      " 38%|███▊      | 15/40 [14:48<24:40, 59.24s/it]"
     ]
    },
    {
     "name": "stdout",
     "output_type": "stream",
     "text": [
      "f1_score: 0.83033592, test_loss: 0.293860 \n",
      "Epoch 16\n",
      "-------------------------------\n",
      "f1_score: 0.83555165, train_loss: 0.321100 \n"
     ]
    },
    {
     "name": "stderr",
     "output_type": "stream",
     "text": [
      " 40%|████      | 16/40 [15:47<23:42, 59.27s/it]"
     ]
    },
    {
     "name": "stdout",
     "output_type": "stream",
     "text": [
      "f1_score: 0.82966819, test_loss: 0.285792 \n",
      "Epoch 17\n",
      "-------------------------------\n",
      "f1_score: 0.83544627, train_loss: 0.321046 \n"
     ]
    },
    {
     "name": "stderr",
     "output_type": "stream",
     "text": [
      " 42%|████▎     | 17/40 [16:46<22:43, 59.29s/it]"
     ]
    },
    {
     "name": "stdout",
     "output_type": "stream",
     "text": [
      "f1_score: 0.83184672, test_loss: 0.289733 \n",
      "Epoch 18\n",
      "-------------------------------\n",
      "f1_score: 0.83564658, train_loss: 0.320617 \n"
     ]
    },
    {
     "name": "stderr",
     "output_type": "stream",
     "text": [
      " 45%|████▌     | 18/40 [17:46<21:43, 59.26s/it]"
     ]
    },
    {
     "name": "stdout",
     "output_type": "stream",
     "text": [
      "f1_score: 0.82997155, test_loss: 0.294244 \n",
      "Epoch 19\n",
      "-------------------------------\n",
      "f1_score: 0.83560232, train_loss: 0.320136 \n"
     ]
    },
    {
     "name": "stderr",
     "output_type": "stream",
     "text": [
      " 48%|████▊     | 19/40 [18:45<20:45, 59.29s/it]"
     ]
    },
    {
     "name": "stdout",
     "output_type": "stream",
     "text": [
      "f1_score: 0.82868363, test_loss: 0.291638 \n",
      "Epoch 20\n",
      "-------------------------------\n",
      "f1_score: 0.83586040, train_loss: 0.319996 \n"
     ]
    },
    {
     "name": "stderr",
     "output_type": "stream",
     "text": [
      " 50%|█████     | 20/40 [19:45<19:47, 59.37s/it]"
     ]
    },
    {
     "name": "stdout",
     "output_type": "stream",
     "text": [
      "f1_score: 0.82715001, test_loss: 0.294811 \n",
      "Epoch 21\n",
      "-------------------------------\n",
      "f1_score: 0.83570422, train_loss: 0.320005 \n"
     ]
    },
    {
     "name": "stderr",
     "output_type": "stream",
     "text": [
      " 52%|█████▎    | 21/40 [20:44<18:47, 59.36s/it]"
     ]
    },
    {
     "name": "stdout",
     "output_type": "stream",
     "text": [
      "f1_score: 0.82684445, test_loss: 0.299284 \n",
      "Epoch 22\n",
      "-------------------------------\n",
      "f1_score: 0.83629123, train_loss: 0.319084 \n"
     ]
    },
    {
     "name": "stderr",
     "output_type": "stream",
     "text": [
      " 55%|█████▌    | 22/40 [21:43<17:47, 59.31s/it]"
     ]
    },
    {
     "name": "stdout",
     "output_type": "stream",
     "text": [
      "f1_score: 0.83141658, test_loss: 0.288477 \n",
      "Epoch 23\n",
      "-------------------------------\n",
      "f1_score: 0.83611662, train_loss: 0.319042 \n"
     ]
    },
    {
     "name": "stderr",
     "output_type": "stream",
     "text": [
      " 57%|█████▊    | 23/40 [22:42<16:47, 59.29s/it]"
     ]
    },
    {
     "name": "stdout",
     "output_type": "stream",
     "text": [
      "f1_score: 0.82802214, test_loss: 0.292616 \n",
      "Epoch 24\n",
      "-------------------------------\n",
      "f1_score: 0.83644121, train_loss: 0.318769 \n"
     ]
    },
    {
     "name": "stderr",
     "output_type": "stream",
     "text": [
      " 60%|██████    | 24/40 [23:42<15:49, 59.32s/it]"
     ]
    },
    {
     "name": "stdout",
     "output_type": "stream",
     "text": [
      "f1_score: 0.83157041, test_loss: 0.293291 \n",
      "Epoch 25\n",
      "-------------------------------\n",
      "f1_score: 0.83595398, train_loss: 0.319011 \n"
     ]
    },
    {
     "name": "stderr",
     "output_type": "stream",
     "text": [
      " 62%|██████▎   | 25/40 [24:41<14:50, 59.36s/it]"
     ]
    },
    {
     "name": "stdout",
     "output_type": "stream",
     "text": [
      "f1_score: 0.82921344, test_loss: 0.291001 \n",
      "Epoch 26\n",
      "-------------------------------\n",
      "f1_score: 0.83641637, train_loss: 0.318526 \n"
     ]
    },
    {
     "name": "stderr",
     "output_type": "stream",
     "text": [
      " 65%|██████▌   | 26/40 [25:40<13:50, 59.33s/it]"
     ]
    },
    {
     "name": "stdout",
     "output_type": "stream",
     "text": [
      "f1_score: 0.83143677, test_loss: 0.288677 \n",
      "Epoch 27\n",
      "-------------------------------\n",
      "f1_score: 0.83636052, train_loss: 0.318456 \n"
     ]
    },
    {
     "name": "stderr",
     "output_type": "stream",
     "text": [
      " 68%|██████▊   | 27/40 [26:40<12:51, 59.33s/it]"
     ]
    },
    {
     "name": "stdout",
     "output_type": "stream",
     "text": [
      "f1_score: 0.83097209, test_loss: 0.290838 \n",
      "Epoch 28\n",
      "-------------------------------\n",
      "f1_score: 0.83651252, train_loss: 0.318195 \n"
     ]
    },
    {
     "name": "stderr",
     "output_type": "stream",
     "text": [
      " 70%|███████   | 28/40 [27:39<11:51, 59.26s/it]"
     ]
    },
    {
     "name": "stdout",
     "output_type": "stream",
     "text": [
      "f1_score: 0.82989921, test_loss: 0.293991 \n",
      "Epoch 29\n",
      "-------------------------------\n",
      "f1_score: 0.83691097, train_loss: 0.317496 \n"
     ]
    },
    {
     "name": "stderr",
     "output_type": "stream",
     "text": [
      " 72%|███████▎  | 29/40 [28:38<10:52, 59.29s/it]"
     ]
    },
    {
     "name": "stdout",
     "output_type": "stream",
     "text": [
      "f1_score: 0.83040361, test_loss: 0.292074 \n",
      "Epoch 30\n",
      "-------------------------------\n",
      "f1_score: 0.83686164, train_loss: 0.317419 \n"
     ]
    },
    {
     "name": "stderr",
     "output_type": "stream",
     "text": [
      " 75%|███████▌  | 30/40 [29:38<09:53, 59.32s/it]"
     ]
    },
    {
     "name": "stdout",
     "output_type": "stream",
     "text": [
      "f1_score: 0.83101055, test_loss: 0.294434 \n",
      "Epoch 31\n",
      "-------------------------------\n",
      "f1_score: 0.83722009, train_loss: 0.316866 \n"
     ]
    },
    {
     "name": "stderr",
     "output_type": "stream",
     "text": [
      " 78%|███████▊  | 31/40 [30:37<08:53, 59.31s/it]"
     ]
    },
    {
     "name": "stdout",
     "output_type": "stream",
     "text": [
      "f1_score: 0.83154187, test_loss: 0.290265 \n",
      "Epoch 32\n",
      "-------------------------------\n",
      "f1_score: 0.83675213, train_loss: 0.317181 \n"
     ]
    },
    {
     "name": "stderr",
     "output_type": "stream",
     "text": [
      " 80%|████████  | 32/40 [31:36<07:53, 59.22s/it]"
     ]
    },
    {
     "name": "stdout",
     "output_type": "stream",
     "text": [
      "f1_score: 0.82952142, test_loss: 0.294654 \n",
      "Epoch 33\n",
      "-------------------------------\n",
      "f1_score: 0.83708965, train_loss: 0.316867 \n"
     ]
    },
    {
     "name": "stderr",
     "output_type": "stream",
     "text": [
      " 82%|████████▎ | 33/40 [32:35<06:54, 59.23s/it]"
     ]
    },
    {
     "name": "stdout",
     "output_type": "stream",
     "text": [
      "f1_score: 0.83179461, test_loss: 0.291502 \n",
      "Epoch 34\n",
      "-------------------------------\n",
      "f1_score: 0.83717408, train_loss: 0.316600 \n"
     ]
    },
    {
     "name": "stderr",
     "output_type": "stream",
     "text": [
      " 85%|████████▌ | 34/40 [33:34<05:55, 59.24s/it]"
     ]
    },
    {
     "name": "stdout",
     "output_type": "stream",
     "text": [
      "f1_score: 0.82914919, test_loss: 0.296825 \n",
      "Epoch 35\n",
      "-------------------------------\n",
      "f1_score: 0.83719392, train_loss: 0.316584 \n"
     ]
    },
    {
     "name": "stderr",
     "output_type": "stream",
     "text": [
      " 88%|████████▊ | 35/40 [34:34<04:56, 59.23s/it]"
     ]
    },
    {
     "name": "stdout",
     "output_type": "stream",
     "text": [
      "f1_score: 0.83202238, test_loss: 0.294877 \n",
      "Epoch 36\n",
      "-------------------------------\n",
      "f1_score: 0.83693834, train_loss: 0.316160 \n"
     ]
    },
    {
     "name": "stderr",
     "output_type": "stream",
     "text": [
      " 90%|█████████ | 36/40 [35:33<03:56, 59.20s/it]"
     ]
    },
    {
     "name": "stdout",
     "output_type": "stream",
     "text": [
      "f1_score: 0.83123723, test_loss: 0.290428 \n",
      "Epoch 37\n",
      "-------------------------------\n",
      "f1_score: 0.83727817, train_loss: 0.316066 \n"
     ]
    },
    {
     "name": "stderr",
     "output_type": "stream",
     "text": [
      " 92%|█████████▎| 37/40 [36:32<02:57, 59.27s/it]"
     ]
    },
    {
     "name": "stdout",
     "output_type": "stream",
     "text": [
      "f1_score: 0.82852440, test_loss: 0.289165 \n",
      "Epoch 38\n",
      "-------------------------------\n",
      "f1_score: 0.83731356, train_loss: 0.316100 \n"
     ]
    },
    {
     "name": "stderr",
     "output_type": "stream",
     "text": [
      " 95%|█████████▌| 38/40 [37:31<01:58, 59.28s/it]"
     ]
    },
    {
     "name": "stdout",
     "output_type": "stream",
     "text": [
      "f1_score: 0.82950963, test_loss: 0.294987 \n",
      "Epoch 39\n",
      "-------------------------------\n",
      "f1_score: 0.83737214, train_loss: 0.315824 \n"
     ]
    },
    {
     "name": "stderr",
     "output_type": "stream",
     "text": [
      " 98%|█████████▊| 39/40 [38:31<00:59, 59.25s/it]"
     ]
    },
    {
     "name": "stdout",
     "output_type": "stream",
     "text": [
      "f1_score: 0.82925248, test_loss: 0.297053 \n",
      "Epoch 40\n",
      "-------------------------------\n",
      "f1_score: 0.83736323, train_loss: 0.316017 \n"
     ]
    },
    {
     "name": "stderr",
     "output_type": "stream",
     "text": [
      "100%|██████████| 40/40 [39:30<00:00, 59.27s/it]\n",
      "[I 2025-02-16 00:03:43,551] Trial 4 finished with value: 0.8306122091275481 and parameters: {'n': 2, 'dropout_p': 0.28153194358326095, 'dropout_p_1': 0.45191198672502986, 'weight_decay': 2.5890241694288604e-05, 'batch_size': 9216}. Best is trial 2 with value: 0.83076699210306.\n",
      "/usr/local/lib/python3.10/dist-packages/optuna/distributions.py:699: UserWarning: The distribution is specified by [1024, 9600] and step=1024, but the range is not divisible by `step`. It will be replaced by [1024, 9216].\n",
      "  warnings.warn(\n"
     ]
    },
    {
     "name": "stdout",
     "output_type": "stream",
     "text": [
      "f1_score: 0.83061221, test_loss: 0.289222 \n"
     ]
    },
    {
     "name": "stderr",
     "output_type": "stream",
     "text": [
      "  0%|          | 0/40 [00:00<?, ?it/s]"
     ]
    },
    {
     "name": "stdout",
     "output_type": "stream",
     "text": [
      "Epoch 1\n",
      "-------------------------------\n",
      "f1_score: 0.78034732, train_loss: 0.430988 \n"
     ]
    },
    {
     "name": "stderr",
     "output_type": "stream",
     "text": [
      "  2%|▎         | 1/40 [01:00<39:21, 60.56s/it]"
     ]
    },
    {
     "name": "stdout",
     "output_type": "stream",
     "text": [
      "f1_score: 0.81440409, test_loss: 0.308723 \n",
      "Epoch 2\n",
      "-------------------------------\n",
      "f1_score: 0.82433427, train_loss: 0.344475 \n"
     ]
    },
    {
     "name": "stderr",
     "output_type": "stream",
     "text": [
      "  5%|▌         | 2/40 [02:01<38:25, 60.68s/it]"
     ]
    },
    {
     "name": "stdout",
     "output_type": "stream",
     "text": [
      "f1_score: 0.81971822, test_loss: 0.305842 \n",
      "Epoch 3\n",
      "-------------------------------\n",
      "f1_score: 0.82957659, train_loss: 0.333912 \n"
     ]
    },
    {
     "name": "stderr",
     "output_type": "stream",
     "text": [
      "  8%|▊         | 3/40 [03:02<37:26, 60.71s/it]"
     ]
    },
    {
     "name": "stdout",
     "output_type": "stream",
     "text": [
      "f1_score: 0.82458325, test_loss: 0.298462 \n",
      "Epoch 4\n",
      "-------------------------------\n",
      "f1_score: 0.83155357, train_loss: 0.329878 \n"
     ]
    },
    {
     "name": "stderr",
     "output_type": "stream",
     "text": [
      " 10%|█         | 4/40 [04:02<36:25, 60.70s/it]"
     ]
    },
    {
     "name": "stdout",
     "output_type": "stream",
     "text": [
      "f1_score: 0.82413933, test_loss: 0.300550 \n",
      "Epoch 5\n",
      "-------------------------------\n",
      "f1_score: 0.83246667, train_loss: 0.327750 \n"
     ]
    },
    {
     "name": "stderr",
     "output_type": "stream",
     "text": [
      " 12%|█▎        | 5/40 [05:03<35:24, 60.70s/it]"
     ]
    },
    {
     "name": "stdout",
     "output_type": "stream",
     "text": [
      "f1_score: 0.82761588, test_loss: 0.297423 \n",
      "Epoch 6\n",
      "-------------------------------\n",
      "f1_score: 0.83327155, train_loss: 0.325582 \n"
     ]
    },
    {
     "name": "stderr",
     "output_type": "stream",
     "text": [
      " 15%|█▌        | 6/40 [06:04<34:23, 60.68s/it]"
     ]
    },
    {
     "name": "stdout",
     "output_type": "stream",
     "text": [
      "f1_score: 0.82476484, test_loss: 0.295194 \n",
      "Epoch 7\n",
      "-------------------------------\n",
      "f1_score: 0.83365718, train_loss: 0.324688 \n"
     ]
    },
    {
     "name": "stderr",
     "output_type": "stream",
     "text": [
      " 18%|█▊        | 7/40 [07:04<33:22, 60.69s/it]"
     ]
    },
    {
     "name": "stdout",
     "output_type": "stream",
     "text": [
      "f1_score: 0.82537705, test_loss: 0.293690 \n",
      "Epoch 8\n",
      "-------------------------------\n",
      "f1_score: 0.83480344, train_loss: 0.322590 \n"
     ]
    },
    {
     "name": "stderr",
     "output_type": "stream",
     "text": [
      " 20%|██        | 8/40 [08:05<32:22, 60.70s/it]"
     ]
    },
    {
     "name": "stdout",
     "output_type": "stream",
     "text": [
      "f1_score: 0.82628133, test_loss: 0.294937 \n",
      "Epoch 9\n",
      "-------------------------------\n",
      "f1_score: 0.83235149, train_loss: 0.328194 \n"
     ]
    },
    {
     "name": "stderr",
     "output_type": "stream",
     "text": [
      " 22%|██▎       | 9/40 [09:06<31:21, 60.70s/it]"
     ]
    },
    {
     "name": "stdout",
     "output_type": "stream",
     "text": [
      "f1_score: 0.82651054, test_loss: 0.301962 \n",
      "Epoch 10\n",
      "-------------------------------\n",
      "f1_score: 0.83458504, train_loss: 0.322806 \n"
     ]
    },
    {
     "name": "stderr",
     "output_type": "stream",
     "text": [
      " 25%|██▌       | 10/40 [10:06<30:20, 60.68s/it]"
     ]
    },
    {
     "name": "stdout",
     "output_type": "stream",
     "text": [
      "f1_score: 0.82609230, test_loss: 0.306702 \n",
      "Epoch 11\n",
      "-------------------------------\n",
      "f1_score: 0.83504303, train_loss: 0.320860 \n"
     ]
    },
    {
     "name": "stderr",
     "output_type": "stream",
     "text": [
      " 28%|██▊       | 11/40 [11:07<29:21, 60.74s/it]"
     ]
    },
    {
     "name": "stdout",
     "output_type": "stream",
     "text": [
      "f1_score: 0.82854812, test_loss: 0.300960 \n",
      "Epoch 12\n",
      "-------------------------------\n",
      "f1_score: 0.83534546, train_loss: 0.320244 \n"
     ]
    },
    {
     "name": "stderr",
     "output_type": "stream",
     "text": [
      " 30%|███       | 12/40 [12:08<28:21, 60.79s/it]"
     ]
    },
    {
     "name": "stdout",
     "output_type": "stream",
     "text": [
      "f1_score: 0.82621430, test_loss: 0.301288 \n",
      "Epoch 13\n",
      "-------------------------------\n",
      "f1_score: 0.83550645, train_loss: 0.319938 \n"
     ]
    },
    {
     "name": "stderr",
     "output_type": "stream",
     "text": [
      " 32%|███▎      | 13/40 [13:09<27:19, 60.71s/it]"
     ]
    },
    {
     "name": "stdout",
     "output_type": "stream",
     "text": [
      "f1_score: 0.82959515, test_loss: 0.293672 \n",
      "Epoch 14\n",
      "-------------------------------\n",
      "f1_score: 0.83583307, train_loss: 0.318797 \n"
     ]
    },
    {
     "name": "stderr",
     "output_type": "stream",
     "text": [
      " 35%|███▌      | 14/40 [14:09<26:18, 60.71s/it]"
     ]
    },
    {
     "name": "stdout",
     "output_type": "stream",
     "text": [
      "f1_score: 0.83105623, test_loss: 0.293762 \n",
      "Epoch 15\n",
      "-------------------------------\n",
      "f1_score: 0.83591964, train_loss: 0.318487 \n"
     ]
    },
    {
     "name": "stderr",
     "output_type": "stream",
     "text": [
      " 38%|███▊      | 15/40 [15:10<25:18, 60.73s/it]"
     ]
    },
    {
     "name": "stdout",
     "output_type": "stream",
     "text": [
      "f1_score: 0.82618642, test_loss: 0.303467 \n",
      "Epoch 16\n",
      "-------------------------------\n",
      "f1_score: 0.83621947, train_loss: 0.317528 \n"
     ]
    },
    {
     "name": "stderr",
     "output_type": "stream",
     "text": [
      " 40%|████      | 16/40 [16:11<24:18, 60.76s/it]"
     ]
    },
    {
     "name": "stdout",
     "output_type": "stream",
     "text": [
      "f1_score: 0.83118447, test_loss: 0.297612 \n",
      "Epoch 17\n",
      "-------------------------------\n",
      "f1_score: 0.83639042, train_loss: 0.317341 \n"
     ]
    },
    {
     "name": "stderr",
     "output_type": "stream",
     "text": [
      " 42%|████▎     | 17/40 [17:12<23:18, 60.79s/it]"
     ]
    },
    {
     "name": "stdout",
     "output_type": "stream",
     "text": [
      "f1_score: 0.83073466, test_loss: 0.302709 \n",
      "Epoch 18\n",
      "-------------------------------\n",
      "f1_score: 0.83728371, train_loss: 0.315773 \n"
     ]
    },
    {
     "name": "stderr",
     "output_type": "stream",
     "text": [
      " 45%|████▌     | 18/40 [18:13<22:21, 60.96s/it]"
     ]
    },
    {
     "name": "stdout",
     "output_type": "stream",
     "text": [
      "f1_score: 0.82790432, test_loss: 0.295255 \n",
      "Epoch 19\n",
      "-------------------------------\n",
      "f1_score: 0.83706082, train_loss: 0.315482 \n"
     ]
    },
    {
     "name": "stderr",
     "output_type": "stream",
     "text": [
      " 48%|████▊     | 19/40 [19:14<21:21, 61.03s/it]"
     ]
    },
    {
     "name": "stdout",
     "output_type": "stream",
     "text": [
      "f1_score: 0.82765197, test_loss: 0.298952 \n",
      "Epoch 20\n",
      "-------------------------------\n",
      "f1_score: 0.83739182, train_loss: 0.314804 \n"
     ]
    },
    {
     "name": "stderr",
     "output_type": "stream",
     "text": [
      " 50%|█████     | 20/40 [20:16<20:21, 61.07s/it]"
     ]
    },
    {
     "name": "stdout",
     "output_type": "stream",
     "text": [
      "f1_score: 0.82889957, test_loss: 0.294869 \n",
      "Epoch 21\n",
      "-------------------------------\n",
      "f1_score: 0.83762846, train_loss: 0.314266 \n"
     ]
    },
    {
     "name": "stderr",
     "output_type": "stream",
     "text": [
      " 52%|█████▎    | 21/40 [21:16<19:19, 61.02s/it]"
     ]
    },
    {
     "name": "stdout",
     "output_type": "stream",
     "text": [
      "f1_score: 0.82809605, test_loss: 0.296666 \n",
      "Epoch 22\n",
      "-------------------------------\n",
      "f1_score: 0.83774887, train_loss: 0.313678 \n"
     ]
    },
    {
     "name": "stderr",
     "output_type": "stream",
     "text": [
      " 55%|█████▌    | 22/40 [22:17<18:16, 60.94s/it]"
     ]
    },
    {
     "name": "stdout",
     "output_type": "stream",
     "text": [
      "f1_score: 0.82539736, test_loss: 0.303242 \n",
      "Epoch 23\n",
      "-------------------------------\n",
      "f1_score: 0.83806984, train_loss: 0.313318 \n"
     ]
    },
    {
     "name": "stderr",
     "output_type": "stream",
     "text": [
      " 57%|█████▊    | 23/40 [23:18<17:14, 60.85s/it]"
     ]
    },
    {
     "name": "stdout",
     "output_type": "stream",
     "text": [
      "f1_score: 0.83008872, test_loss: 0.296254 \n",
      "Epoch 24\n",
      "-------------------------------\n",
      "f1_score: 0.83844948, train_loss: 0.312544 \n"
     ]
    },
    {
     "name": "stderr",
     "output_type": "stream",
     "text": [
      " 60%|██████    | 24/40 [24:19<16:12, 60.80s/it]"
     ]
    },
    {
     "name": "stdout",
     "output_type": "stream",
     "text": [
      "f1_score: 0.82799764, test_loss: 0.295764 \n",
      "Epoch 25\n",
      "-------------------------------\n",
      "f1_score: 0.83858800, train_loss: 0.312264 \n"
     ]
    },
    {
     "name": "stderr",
     "output_type": "stream",
     "text": [
      " 62%|██████▎   | 25/40 [25:19<15:11, 60.76s/it]"
     ]
    },
    {
     "name": "stdout",
     "output_type": "stream",
     "text": [
      "f1_score: 0.82608029, test_loss: 0.296385 \n",
      "Epoch 26\n",
      "-------------------------------\n",
      "f1_score: 0.83859015, train_loss: 0.312080 \n"
     ]
    },
    {
     "name": "stderr",
     "output_type": "stream",
     "text": [
      " 65%|██████▌   | 26/40 [26:20<14:10, 60.74s/it]"
     ]
    },
    {
     "name": "stdout",
     "output_type": "stream",
     "text": [
      "f1_score: 0.82950220, test_loss: 0.295816 \n",
      "Epoch 27\n",
      "-------------------------------\n",
      "f1_score: 0.83962270, train_loss: 0.310870 \n"
     ]
    },
    {
     "name": "stderr",
     "output_type": "stream",
     "text": [
      " 68%|██████▊   | 27/40 [27:20<13:08, 60.68s/it]"
     ]
    },
    {
     "name": "stdout",
     "output_type": "stream",
     "text": [
      "f1_score: 0.82535667, test_loss: 0.301331 \n",
      "Epoch 28\n",
      "-------------------------------\n",
      "f1_score: 0.84008771, train_loss: 0.310122 \n"
     ]
    },
    {
     "name": "stderr",
     "output_type": "stream",
     "text": [
      " 70%|███████   | 28/40 [28:21<12:08, 60.69s/it]"
     ]
    },
    {
     "name": "stdout",
     "output_type": "stream",
     "text": [
      "f1_score: 0.82811336, test_loss: 0.298505 \n",
      "Epoch 29\n",
      "-------------------------------\n",
      "f1_score: 0.84026312, train_loss: 0.309607 \n"
     ]
    },
    {
     "name": "stderr",
     "output_type": "stream",
     "text": [
      " 72%|███████▎  | 29/40 [29:22<11:07, 60.72s/it]"
     ]
    },
    {
     "name": "stdout",
     "output_type": "stream",
     "text": [
      "f1_score: 0.82694620, test_loss: 0.298411 \n",
      "Epoch 30\n",
      "-------------------------------\n",
      "f1_score: 0.84066489, train_loss: 0.309349 \n"
     ]
    },
    {
     "name": "stderr",
     "output_type": "stream",
     "text": [
      " 75%|███████▌  | 30/40 [30:23<10:07, 60.72s/it]"
     ]
    },
    {
     "name": "stdout",
     "output_type": "stream",
     "text": [
      "f1_score: 0.82638403, test_loss: 0.298343 \n",
      "Epoch 31\n",
      "-------------------------------\n",
      "f1_score: 0.84088893, train_loss: 0.308654 \n"
     ]
    },
    {
     "name": "stderr",
     "output_type": "stream",
     "text": [
      " 78%|███████▊  | 31/40 [31:24<09:06, 60.76s/it]"
     ]
    },
    {
     "name": "stdout",
     "output_type": "stream",
     "text": [
      "f1_score: 0.82646981, test_loss: 0.296346 \n",
      "Epoch 32\n",
      "-------------------------------\n",
      "f1_score: 0.84136280, train_loss: 0.307858 \n"
     ]
    },
    {
     "name": "stderr",
     "output_type": "stream",
     "text": [
      " 80%|████████  | 32/40 [32:24<08:06, 60.75s/it]"
     ]
    },
    {
     "name": "stdout",
     "output_type": "stream",
     "text": [
      "f1_score: 0.81410555, test_loss: 0.311392 \n",
      "Epoch 33\n",
      "-------------------------------\n",
      "f1_score: 0.84157254, train_loss: 0.308113 \n"
     ]
    },
    {
     "name": "stderr",
     "output_type": "stream",
     "text": [
      " 82%|████████▎ | 33/40 [33:25<07:04, 60.70s/it]"
     ]
    },
    {
     "name": "stdout",
     "output_type": "stream",
     "text": [
      "f1_score: 0.82111460, test_loss: 0.303414 \n",
      "Epoch 34\n",
      "-------------------------------\n",
      "f1_score: 0.84171369, train_loss: 0.307399 \n"
     ]
    },
    {
     "name": "stderr",
     "output_type": "stream",
     "text": [
      " 85%|████████▌ | 34/40 [34:25<06:03, 60.62s/it]"
     ]
    },
    {
     "name": "stdout",
     "output_type": "stream",
     "text": [
      "f1_score: 0.82502740, test_loss: 0.294948 \n",
      "Epoch 35\n",
      "-------------------------------\n",
      "f1_score: 0.84212354, train_loss: 0.306864 \n"
     ]
    },
    {
     "name": "stderr",
     "output_type": "stream",
     "text": [
      " 88%|████████▊ | 35/40 [35:26<05:03, 60.61s/it]"
     ]
    },
    {
     "name": "stdout",
     "output_type": "stream",
     "text": [
      "f1_score: 0.82517858, test_loss: 0.297731 \n",
      "Epoch 36\n",
      "-------------------------------\n",
      "f1_score: 0.84258725, train_loss: 0.306368 \n"
     ]
    },
    {
     "name": "stderr",
     "output_type": "stream",
     "text": [
      " 90%|█████████ | 36/40 [36:27<04:02, 60.65s/it]"
     ]
    },
    {
     "name": "stdout",
     "output_type": "stream",
     "text": [
      "f1_score: 0.82620244, test_loss: 0.294761 \n",
      "Epoch 37\n",
      "-------------------------------\n",
      "f1_score: 0.84335918, train_loss: 0.305477 \n"
     ]
    },
    {
     "name": "stderr",
     "output_type": "stream",
     "text": [
      " 92%|█████████▎| 37/40 [37:27<03:01, 60.65s/it]"
     ]
    },
    {
     "name": "stdout",
     "output_type": "stream",
     "text": [
      "f1_score: 0.82505007, test_loss: 0.296790 \n",
      "Epoch 38\n",
      "-------------------------------\n",
      "f1_score: 0.84277074, train_loss: 0.306024 \n"
     ]
    },
    {
     "name": "stderr",
     "output_type": "stream",
     "text": [
      " 95%|█████████▌| 38/40 [38:28<02:01, 60.63s/it]"
     ]
    },
    {
     "name": "stdout",
     "output_type": "stream",
     "text": [
      "f1_score: 0.81675586, test_loss: 0.311128 \n",
      "Epoch 39\n",
      "-------------------------------\n",
      "f1_score: 0.84325016, train_loss: 0.305271 \n"
     ]
    },
    {
     "name": "stderr",
     "output_type": "stream",
     "text": [
      " 98%|█████████▊| 39/40 [39:28<01:00, 60.62s/it]"
     ]
    },
    {
     "name": "stdout",
     "output_type": "stream",
     "text": [
      "f1_score: 0.82265826, test_loss: 0.300989 \n",
      "Epoch 40\n",
      "-------------------------------\n",
      "f1_score: 0.84341273, train_loss: 0.304859 \n"
     ]
    },
    {
     "name": "stderr",
     "output_type": "stream",
     "text": [
      "100%|██████████| 40/40 [40:29<00:00, 60.74s/it]\n",
      "[I 2025-02-16 00:44:13,098] Trial 5 finished with value: 0.8211729619395304 and parameters: {'n': 3, 'dropout_p': 0.19475126192887476, 'dropout_p_1': 0.29971598986897857, 'weight_decay': 1.133792917234257e-05, 'batch_size': 6144}. Best is trial 2 with value: 0.83076699210306.\n",
      "/usr/local/lib/python3.10/dist-packages/optuna/distributions.py:699: UserWarning: The distribution is specified by [1024, 9600] and step=1024, but the range is not divisible by `step`. It will be replaced by [1024, 9216].\n",
      "  warnings.warn(\n"
     ]
    },
    {
     "name": "stdout",
     "output_type": "stream",
     "text": [
      "f1_score: 0.82117296, test_loss: 0.297961 \n"
     ]
    },
    {
     "name": "stderr",
     "output_type": "stream",
     "text": [
      "  0%|          | 0/40 [00:00<?, ?it/s]"
     ]
    },
    {
     "name": "stdout",
     "output_type": "stream",
     "text": [
      "Epoch 1\n",
      "-------------------------------\n",
      "f1_score: 0.79264818, train_loss: 0.411049 \n"
     ]
    },
    {
     "name": "stderr",
     "output_type": "stream",
     "text": [
      "  2%|▎         | 1/40 [00:58<37:56, 58.38s/it]"
     ]
    },
    {
     "name": "stdout",
     "output_type": "stream",
     "text": [
      "f1_score: 0.80481917, test_loss: 0.334294 \n",
      "Epoch 2\n",
      "-------------------------------\n",
      "f1_score: 0.82567156, train_loss: 0.343042 \n"
     ]
    },
    {
     "name": "stderr",
     "output_type": "stream",
     "text": [
      "  5%|▌         | 2/40 [01:56<37:02, 58.48s/it]"
     ]
    },
    {
     "name": "stdout",
     "output_type": "stream",
     "text": [
      "f1_score: 0.81475089, test_loss: 0.311537 \n",
      "Epoch 3\n",
      "-------------------------------\n",
      "f1_score: 0.82913004, train_loss: 0.335503 \n"
     ]
    },
    {
     "name": "stderr",
     "output_type": "stream",
     "text": [
      "  8%|▊         | 3/40 [02:55<36:01, 58.41s/it]"
     ]
    },
    {
     "name": "stdout",
     "output_type": "stream",
     "text": [
      "f1_score: 0.82378475, test_loss: 0.300492 \n",
      "Epoch 4\n",
      "-------------------------------\n",
      "f1_score: 0.83088934, train_loss: 0.332207 \n"
     ]
    },
    {
     "name": "stderr",
     "output_type": "stream",
     "text": [
      " 10%|█         | 4/40 [03:53<35:01, 58.38s/it]"
     ]
    },
    {
     "name": "stdout",
     "output_type": "stream",
     "text": [
      "f1_score: 0.82256542, test_loss: 0.305643 \n",
      "Epoch 5\n",
      "-------------------------------\n",
      "f1_score: 0.83065724, train_loss: 0.331277 \n"
     ]
    },
    {
     "name": "stderr",
     "output_type": "stream",
     "text": [
      " 12%|█▎        | 5/40 [04:52<34:05, 58.44s/it]"
     ]
    },
    {
     "name": "stdout",
     "output_type": "stream",
     "text": [
      "f1_score: 0.82604673, test_loss: 0.298016 \n",
      "Epoch 6\n",
      "-------------------------------\n",
      "f1_score: 0.83176415, train_loss: 0.329318 \n"
     ]
    },
    {
     "name": "stderr",
     "output_type": "stream",
     "text": [
      " 15%|█▌        | 6/40 [05:50<33:06, 58.43s/it]"
     ]
    },
    {
     "name": "stdout",
     "output_type": "stream",
     "text": [
      "f1_score: 0.82584668, test_loss: 0.289377 \n",
      "Epoch 7\n",
      "-------------------------------\n",
      "f1_score: 0.83224277, train_loss: 0.328134 \n"
     ]
    },
    {
     "name": "stderr",
     "output_type": "stream",
     "text": [
      " 18%|█▊        | 7/40 [06:49<32:09, 58.46s/it]"
     ]
    },
    {
     "name": "stdout",
     "output_type": "stream",
     "text": [
      "f1_score: 0.82608130, test_loss: 0.297423 \n",
      "Epoch 8\n",
      "-------------------------------\n",
      "f1_score: 0.83294341, train_loss: 0.327034 \n"
     ]
    },
    {
     "name": "stderr",
     "output_type": "stream",
     "text": [
      " 20%|██        | 8/40 [07:47<31:09, 58.44s/it]"
     ]
    },
    {
     "name": "stdout",
     "output_type": "stream",
     "text": [
      "f1_score: 0.82147881, test_loss: 0.299367 \n",
      "Epoch 9\n",
      "-------------------------------\n",
      "f1_score: 0.83313508, train_loss: 0.326572 \n"
     ]
    },
    {
     "name": "stderr",
     "output_type": "stream",
     "text": [
      " 22%|██▎       | 9/40 [08:45<30:09, 58.38s/it]"
     ]
    },
    {
     "name": "stdout",
     "output_type": "stream",
     "text": [
      "f1_score: 0.82648273, test_loss: 0.298853 \n",
      "Epoch 10\n",
      "-------------------------------\n",
      "f1_score: 0.83366965, train_loss: 0.325974 \n"
     ]
    },
    {
     "name": "stderr",
     "output_type": "stream",
     "text": [
      " 25%|██▌       | 10/40 [09:44<29:10, 58.36s/it]"
     ]
    },
    {
     "name": "stdout",
     "output_type": "stream",
     "text": [
      "f1_score: 0.82688494, test_loss: 0.298650 \n",
      "Epoch 11\n",
      "-------------------------------\n",
      "f1_score: 0.83418707, train_loss: 0.325137 \n"
     ]
    },
    {
     "name": "stderr",
     "output_type": "stream",
     "text": [
      " 28%|██▊       | 11/40 [10:42<28:13, 58.40s/it]"
     ]
    },
    {
     "name": "stdout",
     "output_type": "stream",
     "text": [
      "f1_score: 0.82723018, test_loss: 0.300864 \n",
      "Epoch 12\n",
      "-------------------------------\n",
      "f1_score: 0.83416492, train_loss: 0.324814 \n"
     ]
    },
    {
     "name": "stderr",
     "output_type": "stream",
     "text": [
      " 30%|███       | 12/40 [11:40<27:14, 58.39s/it]"
     ]
    },
    {
     "name": "stdout",
     "output_type": "stream",
     "text": [
      "f1_score: 0.82332731, test_loss: 0.299708 \n",
      "Epoch 13\n",
      "-------------------------------\n",
      "f1_score: 0.83436695, train_loss: 0.324453 \n"
     ]
    },
    {
     "name": "stderr",
     "output_type": "stream",
     "text": [
      " 32%|███▎      | 13/40 [12:39<26:16, 58.39s/it]"
     ]
    },
    {
     "name": "stdout",
     "output_type": "stream",
     "text": [
      "f1_score: 0.82955542, test_loss: 0.294110 \n",
      "Epoch 14\n",
      "-------------------------------\n",
      "f1_score: 0.83437880, train_loss: 0.323904 \n"
     ]
    },
    {
     "name": "stderr",
     "output_type": "stream",
     "text": [
      " 35%|███▌      | 14/40 [13:37<25:19, 58.44s/it]"
     ]
    },
    {
     "name": "stdout",
     "output_type": "stream",
     "text": [
      "f1_score: 0.83113960, test_loss: 0.287665 \n",
      "Epoch 15\n",
      "-------------------------------\n",
      "f1_score: 0.83479693, train_loss: 0.323513 \n"
     ]
    },
    {
     "name": "stderr",
     "output_type": "stream",
     "text": [
      " 38%|███▊      | 15/40 [14:36<24:20, 58.43s/it]"
     ]
    },
    {
     "name": "stdout",
     "output_type": "stream",
     "text": [
      "f1_score: 0.82987803, test_loss: 0.293291 \n",
      "Epoch 16\n",
      "-------------------------------\n",
      "f1_score: 0.83468506, train_loss: 0.323376 \n"
     ]
    },
    {
     "name": "stderr",
     "output_type": "stream",
     "text": [
      " 40%|████      | 16/40 [15:34<23:23, 58.48s/it]"
     ]
    },
    {
     "name": "stdout",
     "output_type": "stream",
     "text": [
      "f1_score: 0.82968204, test_loss: 0.292614 \n",
      "Epoch 17\n",
      "-------------------------------\n",
      "f1_score: 0.83485361, train_loss: 0.323143 \n"
     ]
    },
    {
     "name": "stderr",
     "output_type": "stream",
     "text": [
      " 42%|████▎     | 17/40 [16:33<22:23, 58.43s/it]"
     ]
    },
    {
     "name": "stdout",
     "output_type": "stream",
     "text": [
      "f1_score: 0.82641885, test_loss: 0.299537 \n",
      "Epoch 18\n",
      "-------------------------------\n",
      "f1_score: 0.83525999, train_loss: 0.322724 \n"
     ]
    },
    {
     "name": "stderr",
     "output_type": "stream",
     "text": [
      " 45%|████▌     | 18/40 [17:31<21:26, 58.46s/it]"
     ]
    },
    {
     "name": "stdout",
     "output_type": "stream",
     "text": [
      "f1_score: 0.82976177, test_loss: 0.300621 \n",
      "Epoch 19\n",
      "-------------------------------\n",
      "f1_score: 0.83538152, train_loss: 0.322164 \n"
     ]
    },
    {
     "name": "stderr",
     "output_type": "stream",
     "text": [
      " 48%|████▊     | 19/40 [18:30<20:28, 58.50s/it]"
     ]
    },
    {
     "name": "stdout",
     "output_type": "stream",
     "text": [
      "f1_score: 0.82744132, test_loss: 0.300401 \n",
      "Epoch 20\n",
      "-------------------------------\n",
      "f1_score: 0.83513679, train_loss: 0.322574 \n"
     ]
    },
    {
     "name": "stderr",
     "output_type": "stream",
     "text": [
      " 50%|█████     | 20/40 [19:28<19:29, 58.47s/it]"
     ]
    },
    {
     "name": "stdout",
     "output_type": "stream",
     "text": [
      "f1_score: 0.82904126, test_loss: 0.302543 \n",
      "Epoch 21\n",
      "-------------------------------\n",
      "f1_score: 0.83546381, train_loss: 0.321928 \n"
     ]
    },
    {
     "name": "stderr",
     "output_type": "stream",
     "text": [
      " 52%|█████▎    | 21/40 [20:27<18:31, 58.53s/it]"
     ]
    },
    {
     "name": "stdout",
     "output_type": "stream",
     "text": [
      "f1_score: 0.83073153, test_loss: 0.289178 \n",
      "Epoch 22\n",
      "-------------------------------\n",
      "f1_score: 0.83532525, train_loss: 0.322105 \n"
     ]
    },
    {
     "name": "stderr",
     "output_type": "stream",
     "text": [
      " 55%|█████▌    | 22/40 [21:25<17:32, 58.49s/it]"
     ]
    },
    {
     "name": "stdout",
     "output_type": "stream",
     "text": [
      "f1_score: 0.83081566, test_loss: 0.295639 \n",
      "Epoch 23\n",
      "-------------------------------\n",
      "f1_score: 0.83524468, train_loss: 0.322032 \n"
     ]
    },
    {
     "name": "stderr",
     "output_type": "stream",
     "text": [
      " 57%|█████▊    | 23/40 [22:24<16:34, 58.50s/it]"
     ]
    },
    {
     "name": "stdout",
     "output_type": "stream",
     "text": [
      "f1_score: 0.82999960, test_loss: 0.295575 \n",
      "Epoch 24\n",
      "-------------------------------\n",
      "f1_score: 0.83567801, train_loss: 0.321477 \n"
     ]
    },
    {
     "name": "stderr",
     "output_type": "stream",
     "text": [
      " 60%|██████    | 24/40 [23:22<15:36, 58.52s/it]"
     ]
    },
    {
     "name": "stdout",
     "output_type": "stream",
     "text": [
      "f1_score: 0.82912454, test_loss: 0.292051 \n",
      "Epoch 25\n",
      "-------------------------------\n",
      "f1_score: 0.83631507, train_loss: 0.320764 \n"
     ]
    },
    {
     "name": "stderr",
     "output_type": "stream",
     "text": [
      " 62%|██████▎   | 25/40 [24:21<14:37, 58.47s/it]"
     ]
    },
    {
     "name": "stdout",
     "output_type": "stream",
     "text": [
      "f1_score: 0.83029598, test_loss: 0.297600 \n",
      "Epoch 26\n",
      "-------------------------------\n",
      "f1_score: 0.83598865, train_loss: 0.320864 \n"
     ]
    },
    {
     "name": "stderr",
     "output_type": "stream",
     "text": [
      " 65%|██████▌   | 26/40 [25:19<13:38, 58.49s/it]"
     ]
    },
    {
     "name": "stdout",
     "output_type": "stream",
     "text": [
      "f1_score: 0.83127717, test_loss: 0.286818 \n",
      "Epoch 27\n",
      "-------------------------------\n",
      "f1_score: 0.83538081, train_loss: 0.321679 \n"
     ]
    },
    {
     "name": "stderr",
     "output_type": "stream",
     "text": [
      " 68%|██████▊   | 27/40 [26:18<12:39, 58.46s/it]"
     ]
    },
    {
     "name": "stdout",
     "output_type": "stream",
     "text": [
      "f1_score: 0.83173113, test_loss: 0.293371 \n",
      "Epoch 28\n",
      "-------------------------------\n",
      "f1_score: 0.83565794, train_loss: 0.321623 \n"
     ]
    },
    {
     "name": "stderr",
     "output_type": "stream",
     "text": [
      " 70%|███████   | 28/40 [27:16<11:41, 58.46s/it]"
     ]
    },
    {
     "name": "stdout",
     "output_type": "stream",
     "text": [
      "f1_score: 0.82990227, test_loss: 0.297223 \n",
      "Epoch 29\n",
      "-------------------------------\n",
      "f1_score: 0.83580686, train_loss: 0.321114 \n"
     ]
    },
    {
     "name": "stderr",
     "output_type": "stream",
     "text": [
      " 72%|███████▎  | 29/40 [28:15<10:43, 58.51s/it]"
     ]
    },
    {
     "name": "stdout",
     "output_type": "stream",
     "text": [
      "f1_score: 0.83062038, test_loss: 0.290728 \n",
      "Epoch 30\n",
      "-------------------------------\n",
      "f1_score: 0.83569919, train_loss: 0.321181 \n"
     ]
    },
    {
     "name": "stderr",
     "output_type": "stream",
     "text": [
      " 75%|███████▌  | 30/40 [29:13<09:44, 58.44s/it]"
     ]
    },
    {
     "name": "stdout",
     "output_type": "stream",
     "text": [
      "f1_score: 0.82883277, test_loss: 0.298723 \n",
      "Epoch 31\n",
      "-------------------------------\n",
      "f1_score: 0.83624144, train_loss: 0.320538 \n"
     ]
    },
    {
     "name": "stderr",
     "output_type": "stream",
     "text": [
      " 78%|███████▊  | 31/40 [30:12<08:46, 58.47s/it]"
     ]
    },
    {
     "name": "stdout",
     "output_type": "stream",
     "text": [
      "f1_score: 0.82979491, test_loss: 0.294841 \n",
      "Epoch 32\n",
      "-------------------------------\n",
      "f1_score: 0.83566082, train_loss: 0.320989 \n"
     ]
    },
    {
     "name": "stderr",
     "output_type": "stream",
     "text": [
      " 80%|████████  | 32/40 [31:10<07:47, 58.46s/it]"
     ]
    },
    {
     "name": "stdout",
     "output_type": "stream",
     "text": [
      "f1_score: 0.82888980, test_loss: 0.298557 \n",
      "Epoch 33\n",
      "-------------------------------\n",
      "f1_score: 0.83599407, train_loss: 0.320619 \n"
     ]
    },
    {
     "name": "stderr",
     "output_type": "stream",
     "text": [
      " 82%|████████▎ | 33/40 [32:08<06:49, 58.47s/it]"
     ]
    },
    {
     "name": "stdout",
     "output_type": "stream",
     "text": [
      "f1_score: 0.83125877, test_loss: 0.289299 \n",
      "Epoch 34\n",
      "-------------------------------\n",
      "f1_score: 0.83591372, train_loss: 0.320636 \n"
     ]
    },
    {
     "name": "stderr",
     "output_type": "stream",
     "text": [
      " 85%|████████▌ | 34/40 [33:07<05:51, 58.52s/it]"
     ]
    },
    {
     "name": "stdout",
     "output_type": "stream",
     "text": [
      "f1_score: 0.83152383, test_loss: 0.287225 \n",
      "Epoch 35\n",
      "-------------------------------\n",
      "f1_score: 0.83646770, train_loss: 0.320591 \n"
     ]
    },
    {
     "name": "stderr",
     "output_type": "stream",
     "text": [
      " 88%|████████▊ | 35/40 [34:05<04:52, 58.47s/it]"
     ]
    },
    {
     "name": "stdout",
     "output_type": "stream",
     "text": [
      "f1_score: 0.83098394, test_loss: 0.288545 \n",
      "Epoch 36\n",
      "-------------------------------\n",
      "f1_score: 0.83625576, train_loss: 0.320339 \n"
     ]
    },
    {
     "name": "stderr",
     "output_type": "stream",
     "text": [
      " 90%|█████████ | 36/40 [35:04<03:53, 58.50s/it]"
     ]
    },
    {
     "name": "stdout",
     "output_type": "stream",
     "text": [
      "f1_score: 0.83176586, test_loss: 0.286645 \n",
      "Epoch 37\n",
      "-------------------------------\n",
      "f1_score: 0.83584151, train_loss: 0.320773 \n"
     ]
    },
    {
     "name": "stderr",
     "output_type": "stream",
     "text": [
      " 92%|█████████▎| 37/40 [36:02<02:55, 58.45s/it]"
     ]
    },
    {
     "name": "stdout",
     "output_type": "stream",
     "text": [
      "f1_score: 0.82989468, test_loss: 0.296189 \n",
      "Epoch 38\n",
      "-------------------------------\n",
      "f1_score: 0.83560803, train_loss: 0.321043 \n"
     ]
    },
    {
     "name": "stderr",
     "output_type": "stream",
     "text": [
      " 95%|█████████▌| 38/40 [37:01<01:56, 58.40s/it]"
     ]
    },
    {
     "name": "stdout",
     "output_type": "stream",
     "text": [
      "f1_score: 0.82963396, test_loss: 0.295534 \n",
      "Epoch 39\n",
      "-------------------------------\n",
      "f1_score: 0.83645840, train_loss: 0.320055 \n"
     ]
    },
    {
     "name": "stderr",
     "output_type": "stream",
     "text": [
      " 98%|█████████▊| 39/40 [37:59<00:58, 58.53s/it]"
     ]
    },
    {
     "name": "stdout",
     "output_type": "stream",
     "text": [
      "f1_score: 0.83133449, test_loss: 0.289693 \n",
      "Epoch 40\n",
      "-------------------------------\n",
      "f1_score: 0.83627500, train_loss: 0.320167 \n"
     ]
    },
    {
     "name": "stderr",
     "output_type": "stream",
     "text": [
      "100%|██████████| 40/40 [38:58<00:00, 58.46s/it]\n",
      "[I 2025-02-16 01:23:11,453] Trial 6 finished with value: 0.8317091355523847 and parameters: {'n': 3, 'dropout_p': 0.2756579073901757, 'dropout_p_1': 0.11947944225967265, 'weight_decay': 4.558935245254949e-05, 'batch_size': 4096}. Best is trial 6 with value: 0.8317091355523847.\n",
      "/usr/local/lib/python3.10/dist-packages/optuna/distributions.py:699: UserWarning: The distribution is specified by [1024, 9600] and step=1024, but the range is not divisible by `step`. It will be replaced by [1024, 9216].\n",
      "  warnings.warn(\n"
     ]
    },
    {
     "name": "stdout",
     "output_type": "stream",
     "text": [
      "f1_score: 0.83170914, test_loss: 0.288706 \n"
     ]
    },
    {
     "name": "stderr",
     "output_type": "stream",
     "text": [
      "  0%|          | 0/40 [00:00<?, ?it/s]"
     ]
    },
    {
     "name": "stdout",
     "output_type": "stream",
     "text": [
      "Epoch 1\n",
      "-------------------------------\n",
      "f1_score: 0.77522339, train_loss: 0.436760 \n"
     ]
    },
    {
     "name": "stderr",
     "output_type": "stream",
     "text": [
      "  2%|▎         | 1/40 [00:57<37:31, 57.74s/it]"
     ]
    },
    {
     "name": "stdout",
     "output_type": "stream",
     "text": [
      "f1_score: 0.81335498, test_loss: 0.312406 \n",
      "Epoch 2\n",
      "-------------------------------\n",
      "f1_score: 0.82336958, train_loss: 0.348261 \n"
     ]
    },
    {
     "name": "stderr",
     "output_type": "stream",
     "text": [
      "  5%|▌         | 2/40 [01:55<36:37, 57.83s/it]"
     ]
    },
    {
     "name": "stdout",
     "output_type": "stream",
     "text": [
      "f1_score: 0.81818450, test_loss: 0.307303 \n",
      "Epoch 3\n",
      "-------------------------------\n",
      "f1_score: 0.82665512, train_loss: 0.340350 \n"
     ]
    },
    {
     "name": "stderr",
     "output_type": "stream",
     "text": [
      "  8%|▊         | 3/40 [02:53<35:38, 57.79s/it]"
     ]
    },
    {
     "name": "stdout",
     "output_type": "stream",
     "text": [
      "f1_score: 0.82215830, test_loss: 0.304245 \n",
      "Epoch 4\n",
      "-------------------------------\n",
      "f1_score: 0.82825341, train_loss: 0.336644 \n"
     ]
    },
    {
     "name": "stderr",
     "output_type": "stream",
     "text": [
      " 10%|█         | 4/40 [03:51<34:41, 57.83s/it]"
     ]
    },
    {
     "name": "stdout",
     "output_type": "stream",
     "text": [
      "f1_score: 0.82114640, test_loss: 0.309838 \n",
      "Epoch 5\n",
      "-------------------------------\n",
      "f1_score: 0.82920937, train_loss: 0.334899 \n"
     ]
    },
    {
     "name": "stderr",
     "output_type": "stream",
     "text": [
      " 12%|█▎        | 5/40 [04:49<33:44, 57.85s/it]"
     ]
    },
    {
     "name": "stdout",
     "output_type": "stream",
     "text": [
      "f1_score: 0.82666995, test_loss: 0.301173 \n",
      "Epoch 6\n",
      "-------------------------------\n",
      "f1_score: 0.82968197, train_loss: 0.333711 \n"
     ]
    },
    {
     "name": "stderr",
     "output_type": "stream",
     "text": [
      " 15%|█▌        | 6/40 [05:46<32:44, 57.79s/it]"
     ]
    },
    {
     "name": "stdout",
     "output_type": "stream",
     "text": [
      "f1_score: 0.82578777, test_loss: 0.301769 \n",
      "Epoch 7\n",
      "-------------------------------\n",
      "f1_score: 0.83064866, train_loss: 0.331998 \n"
     ]
    },
    {
     "name": "stderr",
     "output_type": "stream",
     "text": [
      " 18%|█▊        | 7/40 [06:44<31:47, 57.80s/it]"
     ]
    },
    {
     "name": "stdout",
     "output_type": "stream",
     "text": [
      "f1_score: 0.82685592, test_loss: 0.302405 \n",
      "Epoch 8\n",
      "-------------------------------\n",
      "f1_score: 0.83113403, train_loss: 0.331037 \n"
     ]
    },
    {
     "name": "stderr",
     "output_type": "stream",
     "text": [
      " 20%|██        | 8/40 [07:42<30:51, 57.84s/it]"
     ]
    },
    {
     "name": "stdout",
     "output_type": "stream",
     "text": [
      "f1_score: 0.82423095, test_loss: 0.297722 \n",
      "Epoch 9\n",
      "-------------------------------\n",
      "f1_score: 0.83160229, train_loss: 0.330309 \n"
     ]
    },
    {
     "name": "stderr",
     "output_type": "stream",
     "text": [
      " 22%|██▎       | 9/40 [08:40<29:52, 57.81s/it]"
     ]
    },
    {
     "name": "stdout",
     "output_type": "stream",
     "text": [
      "f1_score: 0.82682352, test_loss: 0.299705 \n",
      "Epoch 10\n",
      "-------------------------------\n",
      "f1_score: 0.83193034, train_loss: 0.329460 \n"
     ]
    },
    {
     "name": "stderr",
     "output_type": "stream",
     "text": [
      " 25%|██▌       | 10/40 [09:38<28:55, 57.83s/it]"
     ]
    },
    {
     "name": "stdout",
     "output_type": "stream",
     "text": [
      "f1_score: 0.82510220, test_loss: 0.300720 \n",
      "Epoch 11\n",
      "-------------------------------\n",
      "f1_score: 0.83170186, train_loss: 0.329317 \n"
     ]
    },
    {
     "name": "stderr",
     "output_type": "stream",
     "text": [
      " 28%|██▊       | 11/40 [10:35<27:56, 57.82s/it]"
     ]
    },
    {
     "name": "stdout",
     "output_type": "stream",
     "text": [
      "f1_score: 0.82912351, test_loss: 0.293847 \n",
      "Epoch 12\n",
      "-------------------------------\n",
      "f1_score: 0.83213248, train_loss: 0.328771 \n"
     ]
    },
    {
     "name": "stderr",
     "output_type": "stream",
     "text": [
      " 30%|███       | 12/40 [11:33<26:59, 57.84s/it]"
     ]
    },
    {
     "name": "stdout",
     "output_type": "stream",
     "text": [
      "f1_score: 0.82413846, test_loss: 0.298268 \n",
      "Epoch 13\n",
      "-------------------------------\n",
      "f1_score: 0.83259960, train_loss: 0.328053 \n"
     ]
    },
    {
     "name": "stderr",
     "output_type": "stream",
     "text": [
      " 32%|███▎      | 13/40 [12:31<25:59, 57.75s/it]"
     ]
    },
    {
     "name": "stdout",
     "output_type": "stream",
     "text": [
      "f1_score: 0.82525269, test_loss: 0.296210 \n",
      "Epoch 14\n",
      "-------------------------------\n",
      "f1_score: 0.83284748, train_loss: 0.327785 \n"
     ]
    },
    {
     "name": "stderr",
     "output_type": "stream",
     "text": [
      " 35%|███▌      | 14/40 [13:29<25:02, 57.80s/it]"
     ]
    },
    {
     "name": "stdout",
     "output_type": "stream",
     "text": [
      "f1_score: 0.82797124, test_loss: 0.289952 \n",
      "Epoch 15\n",
      "-------------------------------\n",
      "f1_score: 0.83257880, train_loss: 0.327820 \n"
     ]
    },
    {
     "name": "stderr",
     "output_type": "stream",
     "text": [
      " 38%|███▊      | 15/40 [14:27<24:05, 57.83s/it]"
     ]
    },
    {
     "name": "stdout",
     "output_type": "stream",
     "text": [
      "f1_score: 0.82915504, test_loss: 0.294981 \n",
      "Epoch 16\n",
      "-------------------------------\n",
      "f1_score: 0.83333243, train_loss: 0.327000 \n"
     ]
    },
    {
     "name": "stderr",
     "output_type": "stream",
     "text": [
      " 40%|████      | 16/40 [15:25<23:09, 57.89s/it]"
     ]
    },
    {
     "name": "stdout",
     "output_type": "stream",
     "text": [
      "f1_score: 0.82886199, test_loss: 0.296249 \n",
      "Epoch 17\n",
      "-------------------------------\n",
      "f1_score: 0.83321927, train_loss: 0.327026 \n"
     ]
    },
    {
     "name": "stderr",
     "output_type": "stream",
     "text": [
      " 42%|████▎     | 17/40 [16:23<22:12, 57.92s/it]"
     ]
    },
    {
     "name": "stdout",
     "output_type": "stream",
     "text": [
      "f1_score: 0.82779649, test_loss: 0.293048 \n",
      "Epoch 18\n",
      "-------------------------------\n",
      "f1_score: 0.83265041, train_loss: 0.327579 \n"
     ]
    },
    {
     "name": "stderr",
     "output_type": "stream",
     "text": [
      " 45%|████▌     | 18/40 [17:21<21:14, 57.91s/it]"
     ]
    },
    {
     "name": "stdout",
     "output_type": "stream",
     "text": [
      "f1_score: 0.82726729, test_loss: 0.293466 \n",
      "Epoch 19\n",
      "-------------------------------\n",
      "f1_score: 0.83304899, train_loss: 0.326840 \n"
     ]
    },
    {
     "name": "stderr",
     "output_type": "stream",
     "text": [
      " 48%|████▊     | 19/40 [18:19<20:16, 57.91s/it]"
     ]
    },
    {
     "name": "stdout",
     "output_type": "stream",
     "text": [
      "f1_score: 0.82951919, test_loss: 0.291022 \n",
      "Epoch 20\n",
      "-------------------------------\n",
      "f1_score: 0.83281918, train_loss: 0.326834 \n"
     ]
    },
    {
     "name": "stderr",
     "output_type": "stream",
     "text": [
      " 50%|█████     | 20/40 [19:16<19:17, 57.87s/it]"
     ]
    },
    {
     "name": "stdout",
     "output_type": "stream",
     "text": [
      "f1_score: 0.82821153, test_loss: 0.295250 \n",
      "Epoch 21\n",
      "-------------------------------\n",
      "f1_score: 0.83384406, train_loss: 0.325847 \n"
     ]
    },
    {
     "name": "stderr",
     "output_type": "stream",
     "text": [
      " 52%|█████▎    | 21/40 [20:14<18:19, 57.89s/it]"
     ]
    },
    {
     "name": "stdout",
     "output_type": "stream",
     "text": [
      "f1_score: 0.82745330, test_loss: 0.292722 \n",
      "Epoch 22\n",
      "-------------------------------\n",
      "f1_score: 0.83375677, train_loss: 0.325708 \n"
     ]
    },
    {
     "name": "stderr",
     "output_type": "stream",
     "text": [
      " 55%|█████▌    | 22/40 [21:12<17:22, 57.89s/it]"
     ]
    },
    {
     "name": "stdout",
     "output_type": "stream",
     "text": [
      "f1_score: 0.82931129, test_loss: 0.289116 \n",
      "Epoch 23\n",
      "-------------------------------\n",
      "f1_score: 0.83363064, train_loss: 0.325722 \n"
     ]
    },
    {
     "name": "stderr",
     "output_type": "stream",
     "text": [
      " 57%|█████▊    | 23/40 [22:10<16:24, 57.90s/it]"
     ]
    },
    {
     "name": "stdout",
     "output_type": "stream",
     "text": [
      "f1_score: 0.82778714, test_loss: 0.292274 \n",
      "Epoch 24\n",
      "-------------------------------\n",
      "f1_score: 0.83400451, train_loss: 0.325294 \n"
     ]
    },
    {
     "name": "stderr",
     "output_type": "stream",
     "text": [
      " 60%|██████    | 24/40 [23:08<15:26, 57.91s/it]"
     ]
    },
    {
     "name": "stdout",
     "output_type": "stream",
     "text": [
      "f1_score: 0.82865289, test_loss: 0.293215 \n",
      "Epoch 25\n",
      "-------------------------------\n",
      "f1_score: 0.83373133, train_loss: 0.325343 \n"
     ]
    },
    {
     "name": "stderr",
     "output_type": "stream",
     "text": [
      " 62%|██████▎   | 25/40 [24:06<14:28, 57.90s/it]"
     ]
    },
    {
     "name": "stdout",
     "output_type": "stream",
     "text": [
      "f1_score: 0.82853072, test_loss: 0.293131 \n",
      "Epoch 26\n",
      "-------------------------------\n",
      "f1_score: 0.83434356, train_loss: 0.324878 \n"
     ]
    },
    {
     "name": "stderr",
     "output_type": "stream",
     "text": [
      " 65%|██████▌   | 26/40 [25:04<13:31, 57.96s/it]"
     ]
    },
    {
     "name": "stdout",
     "output_type": "stream",
     "text": [
      "f1_score: 0.82829919, test_loss: 0.292095 \n",
      "Epoch 27\n",
      "-------------------------------\n",
      "f1_score: 0.83413505, train_loss: 0.324945 \n"
     ]
    },
    {
     "name": "stderr",
     "output_type": "stream",
     "text": [
      " 68%|██████▊   | 27/40 [26:02<12:32, 57.89s/it]"
     ]
    },
    {
     "name": "stdout",
     "output_type": "stream",
     "text": [
      "f1_score: 0.82704967, test_loss: 0.293867 \n",
      "Epoch 28\n",
      "-------------------------------\n",
      "f1_score: 0.83399574, train_loss: 0.325129 \n"
     ]
    },
    {
     "name": "stderr",
     "output_type": "stream",
     "text": [
      " 70%|███████   | 28/40 [27:00<11:34, 57.91s/it]"
     ]
    },
    {
     "name": "stdout",
     "output_type": "stream",
     "text": [
      "f1_score: 0.82890164, test_loss: 0.299622 \n",
      "Epoch 29\n",
      "-------------------------------\n",
      "f1_score: 0.83414991, train_loss: 0.324728 \n"
     ]
    },
    {
     "name": "stderr",
     "output_type": "stream",
     "text": [
      " 72%|███████▎  | 29/40 [27:58<10:37, 57.97s/it]"
     ]
    },
    {
     "name": "stdout",
     "output_type": "stream",
     "text": [
      "f1_score: 0.82786415, test_loss: 0.295714 \n",
      "Epoch 30\n",
      "-------------------------------\n",
      "f1_score: 0.83406054, train_loss: 0.324963 \n"
     ]
    },
    {
     "name": "stderr",
     "output_type": "stream",
     "text": [
      " 75%|███████▌  | 30/40 [28:56<09:39, 57.96s/it]"
     ]
    },
    {
     "name": "stdout",
     "output_type": "stream",
     "text": [
      "f1_score: 0.82843762, test_loss: 0.293435 \n",
      "Epoch 31\n",
      "-------------------------------\n",
      "f1_score: 0.83437668, train_loss: 0.324723 \n"
     ]
    },
    {
     "name": "stderr",
     "output_type": "stream",
     "text": [
      " 78%|███████▊  | 31/40 [29:54<08:42, 58.02s/it]"
     ]
    },
    {
     "name": "stdout",
     "output_type": "stream",
     "text": [
      "f1_score: 0.82785496, test_loss: 0.295166 \n",
      "Epoch 32\n",
      "-------------------------------\n",
      "f1_score: 0.83488247, train_loss: 0.323902 \n"
     ]
    },
    {
     "name": "stderr",
     "output_type": "stream",
     "text": [
      " 80%|████████  | 32/40 [30:52<07:43, 57.98s/it]"
     ]
    },
    {
     "name": "stdout",
     "output_type": "stream",
     "text": [
      "f1_score: 0.82941705, test_loss: 0.288922 \n",
      "Epoch 33\n",
      "-------------------------------\n",
      "f1_score: 0.83458039, train_loss: 0.324258 \n"
     ]
    },
    {
     "name": "stderr",
     "output_type": "stream",
     "text": [
      " 82%|████████▎ | 33/40 [31:50<06:45, 57.93s/it]"
     ]
    },
    {
     "name": "stdout",
     "output_type": "stream",
     "text": [
      "f1_score: 0.82935802, test_loss: 0.295008 \n",
      "Epoch 34\n",
      "-------------------------------\n",
      "f1_score: 0.83474654, train_loss: 0.323973 \n"
     ]
    },
    {
     "name": "stderr",
     "output_type": "stream",
     "text": [
      " 85%|████████▌ | 34/40 [32:47<05:46, 57.82s/it]"
     ]
    },
    {
     "name": "stdout",
     "output_type": "stream",
     "text": [
      "f1_score: 0.82907332, test_loss: 0.291211 \n",
      "Epoch 35\n",
      "-------------------------------\n",
      "f1_score: 0.83463890, train_loss: 0.324204 \n"
     ]
    },
    {
     "name": "stderr",
     "output_type": "stream",
     "text": [
      " 88%|████████▊ | 35/40 [33:45<04:48, 57.80s/it]"
     ]
    },
    {
     "name": "stdout",
     "output_type": "stream",
     "text": [
      "f1_score: 0.83124145, test_loss: 0.288751 \n",
      "Epoch 36\n",
      "-------------------------------\n",
      "f1_score: 0.83464273, train_loss: 0.324284 \n"
     ]
    },
    {
     "name": "stderr",
     "output_type": "stream",
     "text": [
      " 90%|█████████ | 36/40 [34:43<03:51, 57.85s/it]"
     ]
    },
    {
     "name": "stdout",
     "output_type": "stream",
     "text": [
      "f1_score: 0.82707558, test_loss: 0.299348 \n",
      "Epoch 37\n",
      "-------------------------------\n",
      "f1_score: 0.83464128, train_loss: 0.323941 \n"
     ]
    },
    {
     "name": "stderr",
     "output_type": "stream",
     "text": [
      " 92%|█████████▎| 37/40 [35:41<02:53, 57.89s/it]"
     ]
    },
    {
     "name": "stdout",
     "output_type": "stream",
     "text": [
      "f1_score: 0.82742209, test_loss: 0.296765 \n",
      "Epoch 38\n",
      "-------------------------------\n",
      "f1_score: 0.83493982, train_loss: 0.323574 \n"
     ]
    },
    {
     "name": "stderr",
     "output_type": "stream",
     "text": [
      " 95%|█████████▌| 38/40 [36:39<01:55, 57.86s/it]"
     ]
    },
    {
     "name": "stdout",
     "output_type": "stream",
     "text": [
      "f1_score: 0.83103517, test_loss: 0.289930 \n",
      "Epoch 39\n",
      "-------------------------------\n",
      "f1_score: 0.83498710, train_loss: 0.323642 \n"
     ]
    },
    {
     "name": "stderr",
     "output_type": "stream",
     "text": [
      " 98%|█████████▊| 39/40 [37:37<00:57, 57.88s/it]"
     ]
    },
    {
     "name": "stdout",
     "output_type": "stream",
     "text": [
      "f1_score: 0.82960373, test_loss: 0.291273 \n",
      "Epoch 40\n",
      "-------------------------------\n",
      "f1_score: 0.83471465, train_loss: 0.323724 \n"
     ]
    },
    {
     "name": "stderr",
     "output_type": "stream",
     "text": [
      "100%|██████████| 40/40 [38:34<00:00, 57.87s/it]\n",
      "[I 2025-02-16 02:01:46,478] Trial 7 finished with value: 0.8289113197141567 and parameters: {'n': 2, 'dropout_p': 0.4752046572788803, 'dropout_p_1': 0.3807566678782801, 'weight_decay': 4.44408959928159e-05, 'batch_size': 6144}. Best is trial 6 with value: 0.8317091355523847.\n",
      "/usr/local/lib/python3.10/dist-packages/optuna/distributions.py:699: UserWarning: The distribution is specified by [1024, 9600] and step=1024, but the range is not divisible by `step`. It will be replaced by [1024, 9216].\n",
      "  warnings.warn(\n"
     ]
    },
    {
     "name": "stdout",
     "output_type": "stream",
     "text": [
      "f1_score: 0.82891132, test_loss: 0.295272 \n"
     ]
    },
    {
     "name": "stderr",
     "output_type": "stream",
     "text": [
      "  0%|          | 0/40 [00:00<?, ?it/s]"
     ]
    },
    {
     "name": "stdout",
     "output_type": "stream",
     "text": [
      "Epoch 1\n",
      "-------------------------------\n",
      "f1_score: 0.79286901, train_loss: 0.404440 \n"
     ]
    },
    {
     "name": "stderr",
     "output_type": "stream",
     "text": [
      "  2%|▎         | 1/40 [00:53<34:28, 53.04s/it]"
     ]
    },
    {
     "name": "stdout",
     "output_type": "stream",
     "text": [
      "f1_score: 0.80641045, test_loss: 0.326990 \n",
      "Epoch 2\n",
      "-------------------------------\n",
      "f1_score: 0.82676322, train_loss: 0.340476 \n"
     ]
    },
    {
     "name": "stderr",
     "output_type": "stream",
     "text": [
      "  5%|▌         | 2/40 [01:45<33:32, 52.96s/it]"
     ]
    },
    {
     "name": "stdout",
     "output_type": "stream",
     "text": [
      "f1_score: 0.82052789, test_loss: 0.308845 \n",
      "Epoch 3\n",
      "-------------------------------\n",
      "f1_score: 0.82922369, train_loss: 0.334254 \n"
     ]
    },
    {
     "name": "stderr",
     "output_type": "stream",
     "text": [
      "  8%|▊         | 3/40 [02:38<32:33, 52.81s/it]"
     ]
    },
    {
     "name": "stdout",
     "output_type": "stream",
     "text": [
      "f1_score: 0.82348204, test_loss: 0.296682 \n",
      "Epoch 4\n",
      "-------------------------------\n",
      "f1_score: 0.83098547, train_loss: 0.330951 \n"
     ]
    },
    {
     "name": "stderr",
     "output_type": "stream",
     "text": [
      " 10%|█         | 4/40 [03:31<31:41, 52.81s/it]"
     ]
    },
    {
     "name": "stdout",
     "output_type": "stream",
     "text": [
      "f1_score: 0.82378767, test_loss: 0.295434 \n",
      "Epoch 5\n",
      "-------------------------------\n",
      "f1_score: 0.83185307, train_loss: 0.328961 \n"
     ]
    },
    {
     "name": "stderr",
     "output_type": "stream",
     "text": [
      " 12%|█▎        | 5/40 [04:24<30:48, 52.81s/it]"
     ]
    },
    {
     "name": "stdout",
     "output_type": "stream",
     "text": [
      "f1_score: 0.82749635, test_loss: 0.295191 \n",
      "Epoch 6\n",
      "-------------------------------\n",
      "f1_score: 0.83226365, train_loss: 0.327717 \n"
     ]
    },
    {
     "name": "stderr",
     "output_type": "stream",
     "text": [
      " 15%|█▌        | 6/40 [05:16<29:55, 52.81s/it]"
     ]
    },
    {
     "name": "stdout",
     "output_type": "stream",
     "text": [
      "f1_score: 0.82672769, test_loss: 0.295508 \n",
      "Epoch 7\n",
      "-------------------------------\n",
      "f1_score: 0.83320544, train_loss: 0.326175 \n"
     ]
    },
    {
     "name": "stderr",
     "output_type": "stream",
     "text": [
      " 18%|█▊        | 7/40 [06:09<29:03, 52.83s/it]"
     ]
    },
    {
     "name": "stdout",
     "output_type": "stream",
     "text": [
      "f1_score: 0.82770437, test_loss: 0.297534 \n",
      "Epoch 8\n",
      "-------------------------------\n",
      "f1_score: 0.83328633, train_loss: 0.325547 \n"
     ]
    },
    {
     "name": "stderr",
     "output_type": "stream",
     "text": [
      " 20%|██        | 8/40 [07:02<28:09, 52.81s/it]"
     ]
    },
    {
     "name": "stdout",
     "output_type": "stream",
     "text": [
      "f1_score: 0.82584415, test_loss: 0.297329 \n",
      "Epoch 9\n",
      "-------------------------------\n",
      "f1_score: 0.83347872, train_loss: 0.324923 \n"
     ]
    },
    {
     "name": "stderr",
     "output_type": "stream",
     "text": [
      " 22%|██▎       | 9/40 [07:55<27:18, 52.85s/it]"
     ]
    },
    {
     "name": "stdout",
     "output_type": "stream",
     "text": [
      "f1_score: 0.82796223, test_loss: 0.296875 \n",
      "Epoch 10\n",
      "-------------------------------\n",
      "f1_score: 0.83409310, train_loss: 0.323454 \n"
     ]
    },
    {
     "name": "stderr",
     "output_type": "stream",
     "text": [
      " 25%|██▌       | 10/40 [08:48<26:25, 52.85s/it]"
     ]
    },
    {
     "name": "stdout",
     "output_type": "stream",
     "text": [
      "f1_score: 0.82552130, test_loss: 0.303647 \n",
      "Epoch 11\n",
      "-------------------------------\n",
      "f1_score: 0.83470137, train_loss: 0.322647 \n"
     ]
    },
    {
     "name": "stderr",
     "output_type": "stream",
     "text": [
      " 28%|██▊       | 11/40 [09:40<25:30, 52.76s/it]"
     ]
    },
    {
     "name": "stdout",
     "output_type": "stream",
     "text": [
      "f1_score: 0.82872511, test_loss: 0.292496 \n",
      "Epoch 12\n",
      "-------------------------------\n",
      "f1_score: 0.83448570, train_loss: 0.322152 \n"
     ]
    },
    {
     "name": "stderr",
     "output_type": "stream",
     "text": [
      " 30%|███       | 12/40 [10:33<24:38, 52.80s/it]"
     ]
    },
    {
     "name": "stdout",
     "output_type": "stream",
     "text": [
      "f1_score: 0.82592035, test_loss: 0.300583 \n",
      "Epoch 13\n",
      "-------------------------------\n",
      "f1_score: 0.83511693, train_loss: 0.321262 \n"
     ]
    },
    {
     "name": "stderr",
     "output_type": "stream",
     "text": [
      " 32%|███▎      | 13/40 [11:26<23:46, 52.84s/it]"
     ]
    },
    {
     "name": "stdout",
     "output_type": "stream",
     "text": [
      "f1_score: 0.82986639, test_loss: 0.298127 \n",
      "Epoch 14\n",
      "-------------------------------\n",
      "f1_score: 0.83572656, train_loss: 0.320350 \n"
     ]
    },
    {
     "name": "stderr",
     "output_type": "stream",
     "text": [
      " 35%|███▌      | 14/40 [12:19<22:53, 52.84s/it]"
     ]
    },
    {
     "name": "stdout",
     "output_type": "stream",
     "text": [
      "f1_score: 0.82686819, test_loss: 0.294373 \n",
      "Epoch 15\n",
      "-------------------------------\n",
      "f1_score: 0.83564660, train_loss: 0.319845 \n"
     ]
    },
    {
     "name": "stderr",
     "output_type": "stream",
     "text": [
      " 38%|███▊      | 15/40 [13:12<22:00, 52.83s/it]"
     ]
    },
    {
     "name": "stdout",
     "output_type": "stream",
     "text": [
      "f1_score: 0.83020926, test_loss: 0.292726 \n",
      "Epoch 16\n",
      "-------------------------------\n",
      "f1_score: 0.83593576, train_loss: 0.319224 \n"
     ]
    },
    {
     "name": "stderr",
     "output_type": "stream",
     "text": [
      " 40%|████      | 16/40 [14:05<21:08, 52.87s/it]"
     ]
    },
    {
     "name": "stdout",
     "output_type": "stream",
     "text": [
      "f1_score: 0.83070738, test_loss: 0.296191 \n",
      "Epoch 17\n",
      "-------------------------------\n",
      "f1_score: 0.83599826, train_loss: 0.319632 \n"
     ]
    },
    {
     "name": "stderr",
     "output_type": "stream",
     "text": [
      " 42%|████▎     | 17/40 [14:58<20:15, 52.87s/it]"
     ]
    },
    {
     "name": "stdout",
     "output_type": "stream",
     "text": [
      "f1_score: 0.82965377, test_loss: 0.294303 \n",
      "Epoch 18\n",
      "-------------------------------\n",
      "f1_score: 0.83624235, train_loss: 0.318343 \n"
     ]
    },
    {
     "name": "stderr",
     "output_type": "stream",
     "text": [
      " 45%|████▌     | 18/40 [15:51<19:22, 52.85s/it]"
     ]
    },
    {
     "name": "stdout",
     "output_type": "stream",
     "text": [
      "f1_score: 0.82830318, test_loss: 0.295682 \n",
      "Epoch 19\n",
      "-------------------------------\n",
      "f1_score: 0.83693168, train_loss: 0.317067 \n"
     ]
    },
    {
     "name": "stderr",
     "output_type": "stream",
     "text": [
      " 48%|████▊     | 19/40 [16:43<18:30, 52.86s/it]"
     ]
    },
    {
     "name": "stdout",
     "output_type": "stream",
     "text": [
      "f1_score: 0.82890351, test_loss: 0.291530 \n",
      "Epoch 20\n",
      "-------------------------------\n",
      "f1_score: 0.83690618, train_loss: 0.316960 \n"
     ]
    },
    {
     "name": "stderr",
     "output_type": "stream",
     "text": [
      " 50%|█████     | 20/40 [17:36<17:36, 52.84s/it]"
     ]
    },
    {
     "name": "stdout",
     "output_type": "stream",
     "text": [
      "f1_score: 0.82912761, test_loss: 0.295784 \n",
      "Epoch 21\n",
      "-------------------------------\n",
      "f1_score: 0.83700570, train_loss: 0.316921 \n"
     ]
    },
    {
     "name": "stderr",
     "output_type": "stream",
     "text": [
      " 52%|█████▎    | 21/40 [18:29<16:43, 52.79s/it]"
     ]
    },
    {
     "name": "stdout",
     "output_type": "stream",
     "text": [
      "f1_score: 0.82763163, test_loss: 0.296746 \n",
      "Epoch 22\n",
      "-------------------------------\n",
      "f1_score: 0.83698796, train_loss: 0.316264 \n"
     ]
    },
    {
     "name": "stderr",
     "output_type": "stream",
     "text": [
      " 55%|█████▌    | 22/40 [19:22<15:50, 52.79s/it]"
     ]
    },
    {
     "name": "stdout",
     "output_type": "stream",
     "text": [
      "f1_score: 0.82826996, test_loss: 0.299573 \n",
      "Epoch 23\n",
      "-------------------------------\n",
      "f1_score: 0.83743182, train_loss: 0.315587 \n"
     ]
    },
    {
     "name": "stderr",
     "output_type": "stream",
     "text": [
      " 57%|█████▊    | 23/40 [20:14<14:56, 52.72s/it]"
     ]
    },
    {
     "name": "stdout",
     "output_type": "stream",
     "text": [
      "f1_score: 0.82946678, test_loss: 0.295682 \n",
      "Epoch 24\n",
      "-------------------------------\n",
      "f1_score: 0.83765401, train_loss: 0.315477 \n"
     ]
    },
    {
     "name": "stderr",
     "output_type": "stream",
     "text": [
      " 60%|██████    | 24/40 [21:07<14:03, 52.74s/it]"
     ]
    },
    {
     "name": "stdout",
     "output_type": "stream",
     "text": [
      "f1_score: 0.82963632, test_loss: 0.293183 \n",
      "Epoch 25\n",
      "-------------------------------\n",
      "f1_score: 0.83754636, train_loss: 0.315259 \n"
     ]
    },
    {
     "name": "stderr",
     "output_type": "stream",
     "text": [
      " 62%|██████▎   | 25/40 [22:00<13:11, 52.78s/it]"
     ]
    },
    {
     "name": "stdout",
     "output_type": "stream",
     "text": [
      "f1_score: 0.82614450, test_loss: 0.295193 \n",
      "Epoch 26\n",
      "-------------------------------\n",
      "f1_score: 0.83812393, train_loss: 0.314557 \n"
     ]
    },
    {
     "name": "stderr",
     "output_type": "stream",
     "text": [
      " 65%|██████▌   | 26/40 [22:53<12:19, 52.81s/it]"
     ]
    },
    {
     "name": "stdout",
     "output_type": "stream",
     "text": [
      "f1_score: 0.82772385, test_loss: 0.297753 \n",
      "Epoch 27\n",
      "-------------------------------\n",
      "f1_score: 0.83868521, train_loss: 0.313548 \n"
     ]
    },
    {
     "name": "stderr",
     "output_type": "stream",
     "text": [
      " 68%|██████▊   | 27/40 [23:46<11:26, 52.80s/it]"
     ]
    },
    {
     "name": "stdout",
     "output_type": "stream",
     "text": [
      "f1_score: 0.82737464, test_loss: 0.297067 \n",
      "Epoch 28\n",
      "-------------------------------\n",
      "f1_score: 0.83869632, train_loss: 0.313415 \n"
     ]
    },
    {
     "name": "stderr",
     "output_type": "stream",
     "text": [
      " 70%|███████   | 28/40 [24:38<10:33, 52.80s/it]"
     ]
    },
    {
     "name": "stdout",
     "output_type": "stream",
     "text": [
      "f1_score: 0.82534854, test_loss: 0.304029 \n",
      "Epoch 29\n",
      "-------------------------------\n",
      "f1_score: 0.83881703, train_loss: 0.312965 \n"
     ]
    },
    {
     "name": "stderr",
     "output_type": "stream",
     "text": [
      " 72%|███████▎  | 29/40 [25:31<09:40, 52.79s/it]"
     ]
    },
    {
     "name": "stdout",
     "output_type": "stream",
     "text": [
      "f1_score: 0.82996695, test_loss: 0.293732 \n",
      "Epoch 30\n",
      "-------------------------------\n",
      "f1_score: 0.83898580, train_loss: 0.312978 \n"
     ]
    },
    {
     "name": "stderr",
     "output_type": "stream",
     "text": [
      " 75%|███████▌  | 30/40 [26:24<08:47, 52.76s/it]"
     ]
    },
    {
     "name": "stdout",
     "output_type": "stream",
     "text": [
      "f1_score: 0.82694672, test_loss: 0.296979 \n",
      "Epoch 31\n",
      "-------------------------------\n",
      "f1_score: 0.83906851, train_loss: 0.312473 \n"
     ]
    },
    {
     "name": "stderr",
     "output_type": "stream",
     "text": [
      " 78%|███████▊  | 31/40 [27:16<07:54, 52.69s/it]"
     ]
    },
    {
     "name": "stdout",
     "output_type": "stream",
     "text": [
      "f1_score: 0.82860119, test_loss: 0.294840 \n",
      "Epoch 32\n",
      "-------------------------------\n",
      "f1_score: 0.83970121, train_loss: 0.311434 \n"
     ]
    },
    {
     "name": "stderr",
     "output_type": "stream",
     "text": [
      " 80%|████████  | 32/40 [28:09<07:01, 52.72s/it]"
     ]
    },
    {
     "name": "stdout",
     "output_type": "stream",
     "text": [
      "f1_score: 0.82813940, test_loss: 0.294736 \n",
      "Epoch 33\n",
      "-------------------------------\n",
      "f1_score: 0.83944075, train_loss: 0.311720 \n"
     ]
    },
    {
     "name": "stderr",
     "output_type": "stream",
     "text": [
      " 82%|████████▎ | 33/40 [29:02<06:09, 52.74s/it]"
     ]
    },
    {
     "name": "stdout",
     "output_type": "stream",
     "text": [
      "f1_score: 0.82580636, test_loss: 0.298737 \n",
      "Epoch 34\n",
      "-------------------------------\n",
      "f1_score: 0.84002987, train_loss: 0.310893 \n"
     ]
    },
    {
     "name": "stderr",
     "output_type": "stream",
     "text": [
      " 85%|████████▌ | 34/40 [29:55<05:16, 52.73s/it]"
     ]
    },
    {
     "name": "stdout",
     "output_type": "stream",
     "text": [
      "f1_score: 0.82800820, test_loss: 0.295596 \n",
      "Epoch 35\n",
      "-------------------------------\n",
      "f1_score: 0.84018554, train_loss: 0.310516 \n"
     ]
    },
    {
     "name": "stderr",
     "output_type": "stream",
     "text": [
      " 88%|████████▊ | 35/40 [30:47<04:23, 52.75s/it]"
     ]
    },
    {
     "name": "stdout",
     "output_type": "stream",
     "text": [
      "f1_score: 0.82543169, test_loss: 0.300304 \n",
      "Epoch 36\n",
      "-------------------------------\n",
      "f1_score: 0.84101257, train_loss: 0.309680 \n"
     ]
    },
    {
     "name": "stderr",
     "output_type": "stream",
     "text": [
      " 90%|█████████ | 36/40 [31:40<03:30, 52.75s/it]"
     ]
    },
    {
     "name": "stdout",
     "output_type": "stream",
     "text": [
      "f1_score: 0.82141701, test_loss: 0.302262 \n",
      "Epoch 37\n",
      "-------------------------------\n",
      "f1_score: 0.84123633, train_loss: 0.309054 \n"
     ]
    },
    {
     "name": "stderr",
     "output_type": "stream",
     "text": [
      " 92%|█████████▎| 37/40 [32:33<02:38, 52.80s/it]"
     ]
    },
    {
     "name": "stdout",
     "output_type": "stream",
     "text": [
      "f1_score: 0.82881952, test_loss: 0.293025 \n",
      "Epoch 38\n",
      "-------------------------------\n",
      "f1_score: 0.84074330, train_loss: 0.309300 \n"
     ]
    },
    {
     "name": "stderr",
     "output_type": "stream",
     "text": [
      " 95%|█████████▌| 38/40 [33:26<01:45, 52.80s/it]"
     ]
    },
    {
     "name": "stdout",
     "output_type": "stream",
     "text": [
      "f1_score: 0.82713472, test_loss: 0.296196 \n",
      "Epoch 39\n",
      "-------------------------------\n",
      "f1_score: 0.84159244, train_loss: 0.308642 \n"
     ]
    },
    {
     "name": "stderr",
     "output_type": "stream",
     "text": [
      " 98%|█████████▊| 39/40 [34:19<00:52, 52.74s/it]"
     ]
    },
    {
     "name": "stdout",
     "output_type": "stream",
     "text": [
      "f1_score: 0.82660001, test_loss: 0.299069 \n",
      "Epoch 40\n",
      "-------------------------------\n",
      "f1_score: 0.84122152, train_loss: 0.308625 \n"
     ]
    },
    {
     "name": "stderr",
     "output_type": "stream",
     "text": [
      "100%|██████████| 40/40 [35:11<00:00, 52.79s/it]\n",
      "[I 2025-02-16 02:36:58,229] Trial 8 finished with value: 0.8249875440873066 and parameters: {'n': 2, 'dropout_p': 0.27774879274918784, 'dropout_p_1': 0.49917991603022627, 'weight_decay': 1.3347674749076096e-06, 'batch_size': 3072}. Best is trial 6 with value: 0.8317091355523847.\n",
      "/usr/local/lib/python3.10/dist-packages/optuna/distributions.py:699: UserWarning: The distribution is specified by [1024, 9600] and step=1024, but the range is not divisible by `step`. It will be replaced by [1024, 9216].\n",
      "  warnings.warn(\n"
     ]
    },
    {
     "name": "stdout",
     "output_type": "stream",
     "text": [
      "f1_score: 0.82498754, test_loss: 0.299762 \n"
     ]
    },
    {
     "name": "stderr",
     "output_type": "stream",
     "text": [
      "  0%|          | 0/40 [00:00<?, ?it/s]"
     ]
    },
    {
     "name": "stdout",
     "output_type": "stream",
     "text": [
      "Epoch 1\n",
      "-------------------------------\n",
      "f1_score: 0.77948642, train_loss: 0.435797 \n"
     ]
    },
    {
     "name": "stderr",
     "output_type": "stream",
     "text": [
      "  2%|▎         | 1/40 [00:57<37:17, 57.38s/it]"
     ]
    },
    {
     "name": "stdout",
     "output_type": "stream",
     "text": [
      "f1_score: 0.80994936, test_loss: 0.321066 \n",
      "Epoch 2\n",
      "-------------------------------\n",
      "f1_score: 0.82378376, train_loss: 0.346266 \n"
     ]
    },
    {
     "name": "stderr",
     "output_type": "stream",
     "text": [
      "  5%|▌         | 2/40 [01:55<36:26, 57.53s/it]"
     ]
    },
    {
     "name": "stdout",
     "output_type": "stream",
     "text": [
      "f1_score: 0.82238097, test_loss: 0.307023 \n",
      "Epoch 3\n",
      "-------------------------------\n",
      "f1_score: 0.82770565, train_loss: 0.337506 \n"
     ]
    },
    {
     "name": "stderr",
     "output_type": "stream",
     "text": [
      "  8%|▊         | 3/40 [02:52<35:30, 57.59s/it]"
     ]
    },
    {
     "name": "stdout",
     "output_type": "stream",
     "text": [
      "f1_score: 0.81959592, test_loss: 0.313626 \n",
      "Epoch 4\n",
      "-------------------------------\n",
      "f1_score: 0.82990086, train_loss: 0.333209 \n"
     ]
    },
    {
     "name": "stderr",
     "output_type": "stream",
     "text": [
      " 10%|█         | 4/40 [03:50<34:36, 57.67s/it]"
     ]
    },
    {
     "name": "stdout",
     "output_type": "stream",
     "text": [
      "f1_score: 0.81894190, test_loss: 0.308960 \n",
      "Epoch 5\n",
      "-------------------------------\n",
      "f1_score: 0.83086561, train_loss: 0.331002 \n"
     ]
    },
    {
     "name": "stderr",
     "output_type": "stream",
     "text": [
      " 12%|█▎        | 5/40 [04:48<33:39, 57.71s/it]"
     ]
    },
    {
     "name": "stdout",
     "output_type": "stream",
     "text": [
      "f1_score: 0.82515757, test_loss: 0.297901 \n",
      "Epoch 6\n",
      "-------------------------------\n",
      "f1_score: 0.83153567, train_loss: 0.329400 \n"
     ]
    },
    {
     "name": "stderr",
     "output_type": "stream",
     "text": [
      " 15%|█▌        | 6/40 [05:45<32:41, 57.68s/it]"
     ]
    },
    {
     "name": "stdout",
     "output_type": "stream",
     "text": [
      "f1_score: 0.82511954, test_loss: 0.301514 \n",
      "Epoch 7\n",
      "-------------------------------\n",
      "f1_score: 0.83184566, train_loss: 0.328507 \n"
     ]
    },
    {
     "name": "stderr",
     "output_type": "stream",
     "text": [
      " 18%|█▊        | 7/40 [06:43<31:43, 57.68s/it]"
     ]
    },
    {
     "name": "stdout",
     "output_type": "stream",
     "text": [
      "f1_score: 0.82722097, test_loss: 0.291641 \n",
      "Epoch 8\n",
      "-------------------------------\n",
      "f1_score: 0.83270095, train_loss: 0.326825 \n"
     ]
    },
    {
     "name": "stderr",
     "output_type": "stream",
     "text": [
      " 20%|██        | 8/40 [07:41<30:47, 57.72s/it]"
     ]
    },
    {
     "name": "stdout",
     "output_type": "stream",
     "text": [
      "f1_score: 0.82706815, test_loss: 0.297083 \n",
      "Epoch 9\n",
      "-------------------------------\n",
      "f1_score: 0.83306717, train_loss: 0.325877 \n"
     ]
    },
    {
     "name": "stderr",
     "output_type": "stream",
     "text": [
      " 22%|██▎       | 9/40 [08:39<29:48, 57.71s/it]"
     ]
    },
    {
     "name": "stdout",
     "output_type": "stream",
     "text": [
      "f1_score: 0.82852652, test_loss: 0.298897 \n",
      "Epoch 10\n",
      "-------------------------------\n",
      "f1_score: 0.83342105, train_loss: 0.325276 \n"
     ]
    },
    {
     "name": "stderr",
     "output_type": "stream",
     "text": [
      " 25%|██▌       | 10/40 [09:36<28:50, 57.69s/it]"
     ]
    },
    {
     "name": "stdout",
     "output_type": "stream",
     "text": [
      "f1_score: 0.82888448, test_loss: 0.304448 \n",
      "Epoch 11\n",
      "-------------------------------\n",
      "f1_score: 0.83336691, train_loss: 0.324744 \n"
     ]
    },
    {
     "name": "stderr",
     "output_type": "stream",
     "text": [
      " 28%|██▊       | 11/40 [10:34<27:53, 57.69s/it]"
     ]
    },
    {
     "name": "stdout",
     "output_type": "stream",
     "text": [
      "f1_score: 0.82552985, test_loss: 0.302705 \n",
      "Epoch 12\n",
      "-------------------------------\n",
      "f1_score: 0.83370582, train_loss: 0.323895 \n"
     ]
    },
    {
     "name": "stderr",
     "output_type": "stream",
     "text": [
      " 30%|███       | 12/40 [11:32<26:55, 57.69s/it]"
     ]
    },
    {
     "name": "stdout",
     "output_type": "stream",
     "text": [
      "f1_score: 0.82899598, test_loss: 0.292153 \n",
      "Epoch 13\n",
      "-------------------------------\n",
      "f1_score: 0.83427000, train_loss: 0.323038 \n"
     ]
    },
    {
     "name": "stderr",
     "output_type": "stream",
     "text": [
      " 32%|███▎      | 13/40 [12:29<25:56, 57.64s/it]"
     ]
    },
    {
     "name": "stdout",
     "output_type": "stream",
     "text": [
      "f1_score: 0.82464145, test_loss: 0.296948 \n",
      "Epoch 14\n",
      "-------------------------------\n",
      "f1_score: 0.83478370, train_loss: 0.322405 \n"
     ]
    },
    {
     "name": "stderr",
     "output_type": "stream",
     "text": [
      " 35%|███▌      | 14/40 [13:27<24:59, 57.67s/it]"
     ]
    },
    {
     "name": "stdout",
     "output_type": "stream",
     "text": [
      "f1_score: 0.82878088, test_loss: 0.293942 \n",
      "Epoch 15\n",
      "-------------------------------\n",
      "f1_score: 0.83504478, train_loss: 0.321694 \n"
     ]
    },
    {
     "name": "stderr",
     "output_type": "stream",
     "text": [
      " 38%|███▊      | 15/40 [14:25<24:03, 57.73s/it]"
     ]
    },
    {
     "name": "stdout",
     "output_type": "stream",
     "text": [
      "f1_score: 0.82897861, test_loss: 0.291370 \n",
      "Epoch 16\n",
      "-------------------------------\n",
      "f1_score: 0.83498282, train_loss: 0.321220 \n"
     ]
    },
    {
     "name": "stderr",
     "output_type": "stream",
     "text": [
      " 40%|████      | 16/40 [15:23<23:06, 57.76s/it]"
     ]
    },
    {
     "name": "stdout",
     "output_type": "stream",
     "text": [
      "f1_score: 0.82594104, test_loss: 0.299631 \n",
      "Epoch 17\n",
      "-------------------------------\n",
      "f1_score: 0.83512975, train_loss: 0.320839 \n"
     ]
    },
    {
     "name": "stderr",
     "output_type": "stream",
     "text": [
      " 42%|████▎     | 17/40 [16:20<22:08, 57.76s/it]"
     ]
    },
    {
     "name": "stdout",
     "output_type": "stream",
     "text": [
      "f1_score: 0.82663222, test_loss: 0.298783 \n",
      "Epoch 18\n",
      "-------------------------------\n",
      "f1_score: 0.83549998, train_loss: 0.320337 \n"
     ]
    },
    {
     "name": "stderr",
     "output_type": "stream",
     "text": [
      " 45%|████▌     | 18/40 [17:18<21:11, 57.77s/it]"
     ]
    },
    {
     "name": "stdout",
     "output_type": "stream",
     "text": [
      "f1_score: 0.83058159, test_loss: 0.294311 \n",
      "Epoch 19\n",
      "-------------------------------\n",
      "f1_score: 0.83544021, train_loss: 0.319850 \n"
     ]
    },
    {
     "name": "stderr",
     "output_type": "stream",
     "text": [
      " 48%|████▊     | 19/40 [18:16<20:13, 57.79s/it]"
     ]
    },
    {
     "name": "stdout",
     "output_type": "stream",
     "text": [
      "f1_score: 0.82985077, test_loss: 0.297318 \n",
      "Epoch 20\n",
      "-------------------------------\n",
      "f1_score: 0.83576548, train_loss: 0.319449 \n"
     ]
    },
    {
     "name": "stderr",
     "output_type": "stream",
     "text": [
      " 50%|█████     | 20/40 [19:14<19:14, 57.73s/it]"
     ]
    },
    {
     "name": "stdout",
     "output_type": "stream",
     "text": [
      "f1_score: 0.83090985, test_loss: 0.290897 \n",
      "Epoch 21\n",
      "-------------------------------\n",
      "f1_score: 0.83504269, train_loss: 0.319810 \n"
     ]
    },
    {
     "name": "stderr",
     "output_type": "stream",
     "text": [
      " 52%|█████▎    | 21/40 [20:11<18:17, 57.74s/it]"
     ]
    },
    {
     "name": "stdout",
     "output_type": "stream",
     "text": [
      "f1_score: 0.82951379, test_loss: 0.295351 \n",
      "Epoch 22\n",
      "-------------------------------\n",
      "f1_score: 0.83616151, train_loss: 0.318458 \n"
     ]
    },
    {
     "name": "stderr",
     "output_type": "stream",
     "text": [
      " 55%|█████▌    | 22/40 [21:09<17:19, 57.76s/it]"
     ]
    },
    {
     "name": "stdout",
     "output_type": "stream",
     "text": [
      "f1_score: 0.82656344, test_loss: 0.296513 \n",
      "Epoch 23\n",
      "-------------------------------\n",
      "f1_score: 0.83633457, train_loss: 0.318253 \n"
     ]
    },
    {
     "name": "stderr",
     "output_type": "stream",
     "text": [
      " 57%|█████▊    | 23/40 [22:07<16:22, 57.78s/it]"
     ]
    },
    {
     "name": "stdout",
     "output_type": "stream",
     "text": [
      "f1_score: 0.83071459, test_loss: 0.289481 \n",
      "Epoch 24\n",
      "-------------------------------\n",
      "f1_score: 0.83598128, train_loss: 0.318370 \n"
     ]
    },
    {
     "name": "stderr",
     "output_type": "stream",
     "text": [
      " 60%|██████    | 24/40 [23:05<15:24, 57.81s/it]"
     ]
    },
    {
     "name": "stdout",
     "output_type": "stream",
     "text": [
      "f1_score: 0.82923163, test_loss: 0.295086 \n",
      "Epoch 25\n",
      "-------------------------------\n",
      "f1_score: 0.83638464, train_loss: 0.317261 \n"
     ]
    },
    {
     "name": "stderr",
     "output_type": "stream",
     "text": [
      " 62%|██████▎   | 25/40 [24:03<14:26, 57.80s/it]"
     ]
    },
    {
     "name": "stdout",
     "output_type": "stream",
     "text": [
      "f1_score: 0.82785025, test_loss: 0.299452 \n",
      "Epoch 26\n",
      "-------------------------------\n",
      "f1_score: 0.83680044, train_loss: 0.316811 \n"
     ]
    },
    {
     "name": "stderr",
     "output_type": "stream",
     "text": [
      " 65%|██████▌   | 26/40 [25:00<13:28, 57.72s/it]"
     ]
    },
    {
     "name": "stdout",
     "output_type": "stream",
     "text": [
      "f1_score: 0.82748140, test_loss: 0.299955 \n",
      "Epoch 27\n",
      "-------------------------------\n",
      "f1_score: 0.83720787, train_loss: 0.316319 \n"
     ]
    },
    {
     "name": "stderr",
     "output_type": "stream",
     "text": [
      " 68%|██████▊   | 27/40 [25:58<12:29, 57.67s/it]"
     ]
    },
    {
     "name": "stdout",
     "output_type": "stream",
     "text": [
      "f1_score: 0.83151136, test_loss: 0.296507 \n",
      "Epoch 28\n",
      "-------------------------------\n",
      "f1_score: 0.83731969, train_loss: 0.315893 \n"
     ]
    },
    {
     "name": "stderr",
     "output_type": "stream",
     "text": [
      " 70%|███████   | 28/40 [26:55<11:32, 57.70s/it]"
     ]
    },
    {
     "name": "stdout",
     "output_type": "stream",
     "text": [
      "f1_score: 0.82738776, test_loss: 0.297275 \n",
      "Epoch 29\n",
      "-------------------------------\n",
      "f1_score: 0.83686171, train_loss: 0.316190 \n"
     ]
    },
    {
     "name": "stderr",
     "output_type": "stream",
     "text": [
      " 72%|███████▎  | 29/40 [27:53<10:35, 57.74s/it]"
     ]
    },
    {
     "name": "stdout",
     "output_type": "stream",
     "text": [
      "f1_score: 0.82991239, test_loss: 0.295003 \n",
      "Epoch 30\n",
      "-------------------------------\n",
      "f1_score: 0.83727776, train_loss: 0.315800 \n"
     ]
    },
    {
     "name": "stderr",
     "output_type": "stream",
     "text": [
      " 75%|███████▌  | 30/40 [28:51<09:38, 57.80s/it]"
     ]
    },
    {
     "name": "stdout",
     "output_type": "stream",
     "text": [
      "f1_score: 0.82878438, test_loss: 0.297472 \n",
      "Epoch 31\n",
      "-------------------------------\n",
      "f1_score: 0.83732662, train_loss: 0.315649 \n"
     ]
    },
    {
     "name": "stderr",
     "output_type": "stream",
     "text": [
      " 78%|███████▊  | 31/40 [29:49<08:39, 57.73s/it]"
     ]
    },
    {
     "name": "stdout",
     "output_type": "stream",
     "text": [
      "f1_score: 0.83012534, test_loss: 0.293363 \n",
      "Epoch 32\n",
      "-------------------------------\n",
      "f1_score: 0.83729862, train_loss: 0.315426 \n"
     ]
    },
    {
     "name": "stderr",
     "output_type": "stream",
     "text": [
      " 80%|████████  | 32/40 [30:47<07:41, 57.74s/it]"
     ]
    },
    {
     "name": "stdout",
     "output_type": "stream",
     "text": [
      "f1_score: 0.82787088, test_loss: 0.293792 \n",
      "Epoch 33\n",
      "-------------------------------\n",
      "f1_score: 0.83731912, train_loss: 0.315444 \n"
     ]
    },
    {
     "name": "stderr",
     "output_type": "stream",
     "text": [
      " 82%|████████▎ | 33/40 [31:44<06:44, 57.74s/it]"
     ]
    },
    {
     "name": "stdout",
     "output_type": "stream",
     "text": [
      "f1_score: 0.83063167, test_loss: 0.297864 \n",
      "Epoch 34\n",
      "-------------------------------\n",
      "f1_score: 0.83817762, train_loss: 0.314455 \n"
     ]
    },
    {
     "name": "stderr",
     "output_type": "stream",
     "text": [
      " 85%|████████▌ | 34/40 [32:42<05:46, 57.68s/it]"
     ]
    },
    {
     "name": "stdout",
     "output_type": "stream",
     "text": [
      "f1_score: 0.82805150, test_loss: 0.292651 \n",
      "Epoch 35\n",
      "-------------------------------\n",
      "f1_score: 0.83795624, train_loss: 0.314425 \n"
     ]
    },
    {
     "name": "stderr",
     "output_type": "stream",
     "text": [
      " 88%|████████▊ | 35/40 [33:40<04:48, 57.73s/it]"
     ]
    },
    {
     "name": "stdout",
     "output_type": "stream",
     "text": [
      "f1_score: 0.82908801, test_loss: 0.295340 \n",
      "Epoch 36\n",
      "-------------------------------\n",
      "f1_score: 0.83830004, train_loss: 0.313948 \n"
     ]
    },
    {
     "name": "stderr",
     "output_type": "stream",
     "text": [
      " 90%|█████████ | 36/40 [34:37<03:50, 57.74s/it]"
     ]
    },
    {
     "name": "stdout",
     "output_type": "stream",
     "text": [
      "f1_score: 0.83077137, test_loss: 0.291975 \n",
      "Epoch 37\n",
      "-------------------------------\n",
      "f1_score: 0.83852708, train_loss: 0.313629 \n"
     ]
    },
    {
     "name": "stderr",
     "output_type": "stream",
     "text": [
      " 92%|█████████▎| 37/40 [35:35<02:53, 57.70s/it]"
     ]
    },
    {
     "name": "stdout",
     "output_type": "stream",
     "text": [
      "f1_score: 0.82962125, test_loss: 0.294537 \n",
      "Epoch 38\n",
      "-------------------------------\n",
      "f1_score: 0.83879765, train_loss: 0.313158 \n"
     ]
    },
    {
     "name": "stderr",
     "output_type": "stream",
     "text": [
      " 95%|█████████▌| 38/40 [36:33<01:55, 57.74s/it]"
     ]
    },
    {
     "name": "stdout",
     "output_type": "stream",
     "text": [
      "f1_score: 0.83060985, test_loss: 0.291194 \n",
      "Epoch 39\n",
      "-------------------------------\n",
      "f1_score: 0.83898995, train_loss: 0.312841 \n"
     ]
    },
    {
     "name": "stderr",
     "output_type": "stream",
     "text": [
      " 98%|█████████▊| 39/40 [37:31<00:57, 57.74s/it]"
     ]
    },
    {
     "name": "stdout",
     "output_type": "stream",
     "text": [
      "f1_score: 0.82872392, test_loss: 0.295116 \n",
      "Epoch 40\n",
      "-------------------------------\n",
      "f1_score: 0.83893655, train_loss: 0.313037 \n"
     ]
    },
    {
     "name": "stderr",
     "output_type": "stream",
     "text": [
      "100%|██████████| 40/40 [38:29<00:00, 57.73s/it]\n",
      "[I 2025-02-16 03:15:27,265] Trial 9 finished with value: 0.8274011191019452 and parameters: {'n': 2, 'dropout_p': 0.35117571567606565, 'dropout_p_1': 0.34380968805143475, 'weight_decay': 1.7105413107840235e-06, 'batch_size': 6144}. Best is trial 6 with value: 0.8317091355523847.\n",
      "/usr/local/lib/python3.10/dist-packages/optuna/distributions.py:699: UserWarning: The distribution is specified by [1024, 9600] and step=1024, but the range is not divisible by `step`. It will be replaced by [1024, 9216].\n",
      "  warnings.warn(\n"
     ]
    },
    {
     "name": "stdout",
     "output_type": "stream",
     "text": [
      "f1_score: 0.82740112, test_loss: 0.296128 \n"
     ]
    },
    {
     "name": "stderr",
     "output_type": "stream",
     "text": [
      "  0%|          | 0/40 [00:00<?, ?it/s]"
     ]
    },
    {
     "name": "stdout",
     "output_type": "stream",
     "text": [
      "Epoch 1\n",
      "-------------------------------\n",
      "f1_score: 0.80986957, train_loss: 0.374061 \n"
     ]
    },
    {
     "name": "stderr",
     "output_type": "stream",
     "text": [
      "  2%|▎         | 1/40 [00:51<33:29, 51.53s/it]"
     ]
    },
    {
     "name": "stdout",
     "output_type": "stream",
     "text": [
      "f1_score: 0.80949065, test_loss: 0.327442 \n",
      "Epoch 2\n",
      "-------------------------------\n",
      "f1_score: 0.82790367, train_loss: 0.338675 \n"
     ]
    },
    {
     "name": "stderr",
     "output_type": "stream",
     "text": [
      "  5%|▌         | 2/40 [01:43<32:51, 51.89s/it]"
     ]
    },
    {
     "name": "stdout",
     "output_type": "stream",
     "text": [
      "f1_score: 0.82051431, test_loss: 0.306210 \n",
      "Epoch 3\n",
      "-------------------------------\n",
      "f1_score: 0.82963035, train_loss: 0.334452 \n"
     ]
    },
    {
     "name": "stderr",
     "output_type": "stream",
     "text": [
      "  8%|▊         | 3/40 [02:35<32:00, 51.91s/it]"
     ]
    },
    {
     "name": "stdout",
     "output_type": "stream",
     "text": [
      "f1_score: 0.82405914, test_loss: 0.306003 \n",
      "Epoch 4\n",
      "-------------------------------\n",
      "f1_score: 0.83015016, train_loss: 0.333019 \n"
     ]
    },
    {
     "name": "stderr",
     "output_type": "stream",
     "text": [
      " 10%|█         | 4/40 [03:27<31:02, 51.74s/it]"
     ]
    },
    {
     "name": "stdout",
     "output_type": "stream",
     "text": [
      "f1_score: 0.82554949, test_loss: 0.295002 \n",
      "Epoch 5\n",
      "-------------------------------\n",
      "f1_score: 0.83114554, train_loss: 0.331077 \n"
     ]
    },
    {
     "name": "stderr",
     "output_type": "stream",
     "text": [
      " 12%|█▎        | 5/40 [04:19<30:13, 51.81s/it]"
     ]
    },
    {
     "name": "stdout",
     "output_type": "stream",
     "text": [
      "f1_score: 0.82135758, test_loss: 0.302130 \n",
      "Epoch 6\n",
      "-------------------------------\n",
      "f1_score: 0.83166890, train_loss: 0.330744 \n"
     ]
    },
    {
     "name": "stderr",
     "output_type": "stream",
     "text": [
      " 15%|█▌        | 6/40 [05:10<29:23, 51.87s/it]"
     ]
    },
    {
     "name": "stdout",
     "output_type": "stream",
     "text": [
      "f1_score: 0.82044590, test_loss: 0.303923 \n",
      "Epoch 7\n",
      "-------------------------------\n",
      "f1_score: 0.83231718, train_loss: 0.329148 \n"
     ]
    },
    {
     "name": "stderr",
     "output_type": "stream",
     "text": [
      " 18%|█▊        | 7/40 [06:03<28:38, 52.07s/it]"
     ]
    },
    {
     "name": "stdout",
     "output_type": "stream",
     "text": [
      "f1_score: 0.82176566, test_loss: 0.306265 \n",
      "Epoch 8\n",
      "-------------------------------\n",
      "f1_score: 0.83224748, train_loss: 0.328660 \n"
     ]
    },
    {
     "name": "stderr",
     "output_type": "stream",
     "text": [
      " 20%|██        | 8/40 [06:55<27:42, 51.96s/it]"
     ]
    },
    {
     "name": "stdout",
     "output_type": "stream",
     "text": [
      "f1_score: 0.82504529, test_loss: 0.308179 \n",
      "Epoch 9\n",
      "-------------------------------\n",
      "f1_score: 0.83254453, train_loss: 0.328202 \n"
     ]
    },
    {
     "name": "stderr",
     "output_type": "stream",
     "text": [
      " 22%|██▎       | 9/40 [07:46<26:44, 51.77s/it]"
     ]
    },
    {
     "name": "stdout",
     "output_type": "stream",
     "text": [
      "f1_score: 0.82536392, test_loss: 0.298714 \n",
      "Epoch 10\n",
      "-------------------------------\n",
      "f1_score: 0.83319187, train_loss: 0.327480 \n"
     ]
    },
    {
     "name": "stderr",
     "output_type": "stream",
     "text": [
      " 25%|██▌       | 10/40 [08:38<25:55, 51.85s/it]"
     ]
    },
    {
     "name": "stdout",
     "output_type": "stream",
     "text": [
      "f1_score: 0.82519133, test_loss: 0.302069 \n",
      "Epoch 11\n",
      "-------------------------------\n",
      "f1_score: 0.83250730, train_loss: 0.328571 \n"
     ]
    },
    {
     "name": "stderr",
     "output_type": "stream",
     "text": [
      " 28%|██▊       | 11/40 [09:30<25:04, 51.87s/it]"
     ]
    },
    {
     "name": "stdout",
     "output_type": "stream",
     "text": [
      "f1_score: 0.82490846, test_loss: 0.297036 \n",
      "Epoch 12\n",
      "-------------------------------\n",
      "f1_score: 0.83341667, train_loss: 0.326906 \n"
     ]
    },
    {
     "name": "stderr",
     "output_type": "stream",
     "text": [
      " 30%|███       | 12/40 [10:22<24:14, 51.93s/it]"
     ]
    },
    {
     "name": "stdout",
     "output_type": "stream",
     "text": [
      "f1_score: 0.82606924, test_loss: 0.297970 \n",
      "Epoch 13\n",
      "-------------------------------\n",
      "f1_score: 0.83257100, train_loss: 0.327517 \n"
     ]
    },
    {
     "name": "stderr",
     "output_type": "stream",
     "text": [
      " 32%|███▎      | 13/40 [11:14<23:20, 51.89s/it]"
     ]
    },
    {
     "name": "stdout",
     "output_type": "stream",
     "text": [
      "f1_score: 0.82410478, test_loss: 0.294211 \n",
      "Epoch 14\n",
      "-------------------------------\n",
      "f1_score: 0.83314375, train_loss: 0.326964 \n"
     ]
    },
    {
     "name": "stderr",
     "output_type": "stream",
     "text": [
      " 35%|███▌      | 14/40 [12:06<22:28, 51.88s/it]"
     ]
    },
    {
     "name": "stdout",
     "output_type": "stream",
     "text": [
      "f1_score: 0.82533786, test_loss: 0.297075 \n",
      "Epoch 15\n",
      "-------------------------------\n",
      "f1_score: 0.83340253, train_loss: 0.326727 \n"
     ]
    },
    {
     "name": "stderr",
     "output_type": "stream",
     "text": [
      " 38%|███▊      | 15/40 [12:57<21:35, 51.84s/it]"
     ]
    },
    {
     "name": "stdout",
     "output_type": "stream",
     "text": [
      "f1_score: 0.82883080, test_loss: 0.295939 \n",
      "Epoch 16\n",
      "-------------------------------\n",
      "f1_score: 0.83340908, train_loss: 0.326618 \n"
     ]
    },
    {
     "name": "stderr",
     "output_type": "stream",
     "text": [
      " 40%|████      | 16/40 [13:49<20:43, 51.83s/it]"
     ]
    },
    {
     "name": "stdout",
     "output_type": "stream",
     "text": [
      "f1_score: 0.82492841, test_loss: 0.300460 \n",
      "Epoch 17\n",
      "-------------------------------\n",
      "f1_score: 0.83328578, train_loss: 0.326653 \n"
     ]
    },
    {
     "name": "stderr",
     "output_type": "stream",
     "text": [
      " 42%|████▎     | 17/40 [14:41<19:51, 51.81s/it]"
     ]
    },
    {
     "name": "stdout",
     "output_type": "stream",
     "text": [
      "f1_score: 0.82641178, test_loss: 0.299926 \n",
      "Epoch 18\n",
      "-------------------------------\n",
      "f1_score: 0.83335698, train_loss: 0.326823 \n"
     ]
    },
    {
     "name": "stderr",
     "output_type": "stream",
     "text": [
      " 45%|████▌     | 18/40 [15:33<19:00, 51.83s/it]"
     ]
    },
    {
     "name": "stdout",
     "output_type": "stream",
     "text": [
      "f1_score: 0.82878062, test_loss: 0.290349 \n",
      "Epoch 19\n",
      "-------------------------------\n",
      "f1_score: 0.83352321, train_loss: 0.326004 \n"
     ]
    },
    {
     "name": "stderr",
     "output_type": "stream",
     "text": [
      " 48%|████▊     | 19/40 [16:25<18:08, 51.85s/it]"
     ]
    },
    {
     "name": "stdout",
     "output_type": "stream",
     "text": [
      "f1_score: 0.82471460, test_loss: 0.302374 \n",
      "Epoch 20\n",
      "-------------------------------\n",
      "f1_score: 0.83380158, train_loss: 0.326110 \n"
     ]
    },
    {
     "name": "stderr",
     "output_type": "stream",
     "text": [
      " 50%|█████     | 20/40 [17:17<17:16, 51.83s/it]"
     ]
    },
    {
     "name": "stdout",
     "output_type": "stream",
     "text": [
      "f1_score: 0.82697225, test_loss: 0.300313 \n",
      "Epoch 21\n",
      "-------------------------------\n",
      "f1_score: 0.83407455, train_loss: 0.325839 \n"
     ]
    },
    {
     "name": "stderr",
     "output_type": "stream",
     "text": [
      " 52%|█████▎    | 21/40 [18:08<16:25, 51.84s/it]"
     ]
    },
    {
     "name": "stdout",
     "output_type": "stream",
     "text": [
      "f1_score: 0.82913878, test_loss: 0.293348 \n",
      "Epoch 22\n",
      "-------------------------------\n",
      "f1_score: 0.83393291, train_loss: 0.326319 \n"
     ]
    },
    {
     "name": "stderr",
     "output_type": "stream",
     "text": [
      " 55%|█████▌    | 22/40 [19:00<15:33, 51.86s/it]"
     ]
    },
    {
     "name": "stdout",
     "output_type": "stream",
     "text": [
      "f1_score: 0.82632527, test_loss: 0.298126 \n",
      "Epoch 23\n",
      "-------------------------------\n",
      "f1_score: 0.83380252, train_loss: 0.326257 \n"
     ]
    },
    {
     "name": "stderr",
     "output_type": "stream",
     "text": [
      " 57%|█████▊    | 23/40 [19:52<14:41, 51.86s/it]"
     ]
    },
    {
     "name": "stdout",
     "output_type": "stream",
     "text": [
      "f1_score: 0.82805196, test_loss: 0.290753 \n",
      "Epoch 24\n",
      "-------------------------------\n",
      "f1_score: 0.83340223, train_loss: 0.326312 \n"
     ]
    },
    {
     "name": "stderr",
     "output_type": "stream",
     "text": [
      " 60%|██████    | 24/40 [20:44<13:49, 51.85s/it]"
     ]
    },
    {
     "name": "stdout",
     "output_type": "stream",
     "text": [
      "f1_score: 0.82987642, test_loss: 0.281381 \n",
      "Epoch 25\n",
      "-------------------------------\n",
      "f1_score: 0.83320533, train_loss: 0.326597 \n"
     ]
    },
    {
     "name": "stderr",
     "output_type": "stream",
     "text": [
      " 62%|██████▎   | 25/40 [21:36<12:57, 51.84s/it]"
     ]
    },
    {
     "name": "stdout",
     "output_type": "stream",
     "text": [
      "f1_score: 0.82757343, test_loss: 0.297322 \n",
      "Epoch 26\n",
      "-------------------------------\n",
      "f1_score: 0.83397466, train_loss: 0.325508 \n"
     ]
    },
    {
     "name": "stderr",
     "output_type": "stream",
     "text": [
      " 65%|██████▌   | 26/40 [22:28<12:05, 51.82s/it]"
     ]
    },
    {
     "name": "stdout",
     "output_type": "stream",
     "text": [
      "f1_score: 0.82663351, test_loss: 0.303328 \n",
      "Epoch 27\n",
      "-------------------------------\n",
      "f1_score: 0.83366425, train_loss: 0.325901 \n"
     ]
    },
    {
     "name": "stderr",
     "output_type": "stream",
     "text": [
      " 68%|██████▊   | 27/40 [23:20<11:14, 51.86s/it]"
     ]
    },
    {
     "name": "stdout",
     "output_type": "stream",
     "text": [
      "f1_score: 0.82368916, test_loss: 0.304717 \n",
      "Epoch 28\n",
      "-------------------------------\n",
      "f1_score: 0.83337462, train_loss: 0.326377 \n"
     ]
    },
    {
     "name": "stderr",
     "output_type": "stream",
     "text": [
      " 70%|███████   | 28/40 [24:11<10:22, 51.86s/it]"
     ]
    },
    {
     "name": "stdout",
     "output_type": "stream",
     "text": [
      "f1_score: 0.82916538, test_loss: 0.289588 \n",
      "Epoch 29\n",
      "-------------------------------\n",
      "f1_score: 0.83394176, train_loss: 0.326028 \n"
     ]
    },
    {
     "name": "stderr",
     "output_type": "stream",
     "text": [
      " 72%|███████▎  | 29/40 [25:03<09:30, 51.85s/it]"
     ]
    },
    {
     "name": "stdout",
     "output_type": "stream",
     "text": [
      "f1_score: 0.82809411, test_loss: 0.289921 \n",
      "Epoch 30\n",
      "-------------------------------\n",
      "f1_score: 0.83362723, train_loss: 0.325963 \n"
     ]
    },
    {
     "name": "stderr",
     "output_type": "stream",
     "text": [
      " 75%|███████▌  | 30/40 [25:55<08:38, 51.87s/it]"
     ]
    },
    {
     "name": "stdout",
     "output_type": "stream",
     "text": [
      "f1_score: 0.82899789, test_loss: 0.288954 \n",
      "Epoch 31\n",
      "-------------------------------\n",
      "f1_score: 0.83349305, train_loss: 0.326130 \n"
     ]
    },
    {
     "name": "stderr",
     "output_type": "stream",
     "text": [
      " 78%|███████▊  | 31/40 [26:47<07:46, 51.88s/it]"
     ]
    },
    {
     "name": "stdout",
     "output_type": "stream",
     "text": [
      "f1_score: 0.82393444, test_loss: 0.299913 \n",
      "Epoch 32\n",
      "-------------------------------\n",
      "f1_score: 0.83416127, train_loss: 0.325307 \n"
     ]
    },
    {
     "name": "stderr",
     "output_type": "stream",
     "text": [
      " 80%|████████  | 32/40 [27:39<06:54, 51.84s/it]"
     ]
    },
    {
     "name": "stdout",
     "output_type": "stream",
     "text": [
      "f1_score: 0.82816770, test_loss: 0.300027 \n",
      "Epoch 33\n",
      "-------------------------------\n",
      "f1_score: 0.83439438, train_loss: 0.325055 \n"
     ]
    },
    {
     "name": "stderr",
     "output_type": "stream",
     "text": [
      " 82%|████████▎ | 33/40 [28:31<06:02, 51.84s/it]"
     ]
    },
    {
     "name": "stdout",
     "output_type": "stream",
     "text": [
      "f1_score: 0.82772069, test_loss: 0.303230 \n",
      "Epoch 34\n",
      "-------------------------------\n",
      "f1_score: 0.83361524, train_loss: 0.326030 \n"
     ]
    },
    {
     "name": "stderr",
     "output_type": "stream",
     "text": [
      " 85%|████████▌ | 34/40 [29:23<05:11, 51.86s/it]"
     ]
    },
    {
     "name": "stdout",
     "output_type": "stream",
     "text": [
      "f1_score: 0.82674174, test_loss: 0.299917 \n",
      "Epoch 35\n",
      "-------------------------------\n",
      "f1_score: 0.83380628, train_loss: 0.325820 \n"
     ]
    },
    {
     "name": "stderr",
     "output_type": "stream",
     "text": [
      " 88%|████████▊ | 35/40 [30:14<04:19, 51.86s/it]"
     ]
    },
    {
     "name": "stdout",
     "output_type": "stream",
     "text": [
      "f1_score: 0.82817712, test_loss: 0.296695 \n",
      "Epoch 36\n",
      "-------------------------------\n",
      "f1_score: 0.83394885, train_loss: 0.325797 \n"
     ]
    },
    {
     "name": "stderr",
     "output_type": "stream",
     "text": [
      " 90%|█████████ | 36/40 [31:06<03:27, 51.91s/it]"
     ]
    },
    {
     "name": "stdout",
     "output_type": "stream",
     "text": [
      "f1_score: 0.82901131, test_loss: 0.300681 \n",
      "Epoch 37\n",
      "-------------------------------\n",
      "f1_score: 0.83405863, train_loss: 0.325677 \n"
     ]
    },
    {
     "name": "stderr",
     "output_type": "stream",
     "text": [
      " 92%|█████████▎| 37/40 [31:58<02:35, 51.88s/it]"
     ]
    },
    {
     "name": "stdout",
     "output_type": "stream",
     "text": [
      "f1_score: 0.82648363, test_loss: 0.299313 \n",
      "Epoch 38\n",
      "-------------------------------\n",
      "f1_score: 0.83371830, train_loss: 0.325860 \n"
     ]
    },
    {
     "name": "stderr",
     "output_type": "stream",
     "text": [
      " 95%|█████████▌| 38/40 [32:50<01:43, 51.86s/it]"
     ]
    },
    {
     "name": "stdout",
     "output_type": "stream",
     "text": [
      "f1_score: 0.82692239, test_loss: 0.301578 \n",
      "Epoch 39\n",
      "-------------------------------\n",
      "f1_score: 0.83387357, train_loss: 0.325774 \n"
     ]
    },
    {
     "name": "stderr",
     "output_type": "stream",
     "text": [
      " 98%|█████████▊| 39/40 [33:42<00:51, 51.85s/it]"
     ]
    },
    {
     "name": "stdout",
     "output_type": "stream",
     "text": [
      "f1_score: 0.82881023, test_loss: 0.291958 \n",
      "Epoch 40\n",
      "-------------------------------\n",
      "f1_score: 0.83373255, train_loss: 0.325798 \n"
     ]
    },
    {
     "name": "stderr",
     "output_type": "stream",
     "text": [
      "100%|██████████| 40/40 [34:34<00:00, 51.86s/it]\n",
      "[I 2025-02-16 03:50:01,647] Trial 10 finished with value: 0.8227393921702961 and parameters: {'n': 3, 'dropout_p': 0.10636336121155449, 'dropout_p_1': 0.10658479496681889, 'weight_decay': 0.00014906054796325586, 'batch_size': 1024}. Best is trial 6 with value: 0.8317091355523847.\n",
      "/usr/local/lib/python3.10/dist-packages/optuna/distributions.py:699: UserWarning: The distribution is specified by [1024, 9600] and step=1024, but the range is not divisible by `step`. It will be replaced by [1024, 9216].\n",
      "  warnings.warn(\n"
     ]
    },
    {
     "name": "stdout",
     "output_type": "stream",
     "text": [
      "f1_score: 0.82273939, test_loss: 0.311744 \n"
     ]
    },
    {
     "name": "stderr",
     "output_type": "stream",
     "text": [
      "  0%|          | 0/40 [00:00<?, ?it/s]"
     ]
    },
    {
     "name": "stdout",
     "output_type": "stream",
     "text": [
      "Epoch 1\n",
      "-------------------------------\n",
      "f1_score: 0.80014228, train_loss: 0.395324 \n"
     ]
    },
    {
     "name": "stderr",
     "output_type": "stream",
     "text": [
      "  2%|▎         | 1/40 [00:59<38:38, 59.45s/it]"
     ]
    },
    {
     "name": "stdout",
     "output_type": "stream",
     "text": [
      "f1_score: 0.81276507, test_loss: 0.311177 \n",
      "Epoch 2\n",
      "-------------------------------\n",
      "f1_score: 0.82694562, train_loss: 0.340023 \n"
     ]
    },
    {
     "name": "stderr",
     "output_type": "stream",
     "text": [
      "  5%|▌         | 2/40 [01:59<37:45, 59.61s/it]"
     ]
    },
    {
     "name": "stdout",
     "output_type": "stream",
     "text": [
      "f1_score: 0.81547198, test_loss: 0.308255 \n",
      "Epoch 3\n",
      "-------------------------------\n",
      "f1_score: 0.83094934, train_loss: 0.331838 \n"
     ]
    },
    {
     "name": "stderr",
     "output_type": "stream",
     "text": [
      "  8%|▊         | 3/40 [02:58<36:41, 59.50s/it]"
     ]
    },
    {
     "name": "stdout",
     "output_type": "stream",
     "text": [
      "f1_score: 0.81963484, test_loss: 0.298556 \n",
      "Epoch 4\n",
      "-------------------------------\n",
      "f1_score: 0.83141517, train_loss: 0.329908 \n"
     ]
    },
    {
     "name": "stderr",
     "output_type": "stream",
     "text": [
      " 10%|█         | 4/40 [03:57<35:37, 59.39s/it]"
     ]
    },
    {
     "name": "stdout",
     "output_type": "stream",
     "text": [
      "f1_score: 0.82284739, test_loss: 0.307150 \n",
      "Epoch 5\n",
      "-------------------------------\n",
      "f1_score: 0.83225334, train_loss: 0.328678 \n"
     ]
    },
    {
     "name": "stderr",
     "output_type": "stream",
     "text": [
      " 12%|█▎        | 5/40 [04:57<34:40, 59.44s/it]"
     ]
    },
    {
     "name": "stdout",
     "output_type": "stream",
     "text": [
      "f1_score: 0.82368460, test_loss: 0.303971 \n",
      "Epoch 6\n",
      "-------------------------------\n",
      "f1_score: 0.83350199, train_loss: 0.326612 \n"
     ]
    },
    {
     "name": "stderr",
     "output_type": "stream",
     "text": [
      " 15%|█▌        | 6/40 [05:56<33:41, 59.46s/it]"
     ]
    },
    {
     "name": "stdout",
     "output_type": "stream",
     "text": [
      "f1_score: 0.82199636, test_loss: 0.305081 \n",
      "Epoch 7\n",
      "-------------------------------\n",
      "f1_score: 0.83396581, train_loss: 0.324974 \n"
     ]
    },
    {
     "name": "stderr",
     "output_type": "stream",
     "text": [
      " 18%|█▊        | 7/40 [06:56<32:42, 59.46s/it]"
     ]
    },
    {
     "name": "stdout",
     "output_type": "stream",
     "text": [
      "f1_score: 0.82661047, test_loss: 0.298035 \n",
      "Epoch 8\n",
      "-------------------------------\n",
      "f1_score: 0.83420874, train_loss: 0.325093 \n"
     ]
    },
    {
     "name": "stderr",
     "output_type": "stream",
     "text": [
      " 20%|██        | 8/40 [07:55<31:42, 59.44s/it]"
     ]
    },
    {
     "name": "stdout",
     "output_type": "stream",
     "text": [
      "f1_score: 0.82839511, test_loss: 0.294626 \n",
      "Epoch 9\n",
      "-------------------------------\n",
      "f1_score: 0.83461616, train_loss: 0.324309 \n"
     ]
    },
    {
     "name": "stderr",
     "output_type": "stream",
     "text": [
      " 22%|██▎       | 9/40 [08:55<30:41, 59.42s/it]"
     ]
    },
    {
     "name": "stdout",
     "output_type": "stream",
     "text": [
      "f1_score: 0.82809079, test_loss: 0.297666 \n",
      "Epoch 10\n",
      "-------------------------------\n",
      "f1_score: 0.83515731, train_loss: 0.323286 \n"
     ]
    },
    {
     "name": "stderr",
     "output_type": "stream",
     "text": [
      " 25%|██▌       | 10/40 [09:54<29:42, 59.41s/it]"
     ]
    },
    {
     "name": "stdout",
     "output_type": "stream",
     "text": [
      "f1_score: 0.82914443, test_loss: 0.295259 \n",
      "Epoch 11\n",
      "-------------------------------\n",
      "f1_score: 0.83516974, train_loss: 0.322743 \n"
     ]
    },
    {
     "name": "stderr",
     "output_type": "stream",
     "text": [
      " 28%|██▊       | 11/40 [10:53<28:43, 59.43s/it]"
     ]
    },
    {
     "name": "stdout",
     "output_type": "stream",
     "text": [
      "f1_score: 0.83001612, test_loss: 0.302031 \n",
      "Epoch 12\n",
      "-------------------------------\n",
      "f1_score: 0.83523965, train_loss: 0.322795 \n"
     ]
    },
    {
     "name": "stderr",
     "output_type": "stream",
     "text": [
      " 30%|███       | 12/40 [11:53<27:44, 59.43s/it]"
     ]
    },
    {
     "name": "stdout",
     "output_type": "stream",
     "text": [
      "f1_score: 0.82928476, test_loss: 0.290784 \n",
      "Epoch 13\n",
      "-------------------------------\n",
      "f1_score: 0.83506168, train_loss: 0.322491 \n"
     ]
    },
    {
     "name": "stderr",
     "output_type": "stream",
     "text": [
      " 32%|███▎      | 13/40 [12:52<26:44, 59.44s/it]"
     ]
    },
    {
     "name": "stdout",
     "output_type": "stream",
     "text": [
      "f1_score: 0.82805837, test_loss: 0.304976 \n",
      "Epoch 14\n",
      "-------------------------------\n",
      "f1_score: 0.83504261, train_loss: 0.322475 \n"
     ]
    },
    {
     "name": "stderr",
     "output_type": "stream",
     "text": [
      " 35%|███▌      | 14/40 [13:52<25:45, 59.46s/it]"
     ]
    },
    {
     "name": "stdout",
     "output_type": "stream",
     "text": [
      "f1_score: 0.82721718, test_loss: 0.300672 \n",
      "Epoch 15\n",
      "-------------------------------\n",
      "f1_score: 0.83609324, train_loss: 0.321187 \n"
     ]
    },
    {
     "name": "stderr",
     "output_type": "stream",
     "text": [
      " 38%|███▊      | 15/40 [14:51<24:45, 59.42s/it]"
     ]
    },
    {
     "name": "stdout",
     "output_type": "stream",
     "text": [
      "f1_score: 0.82773988, test_loss: 0.294482 \n",
      "Epoch 16\n",
      "-------------------------------\n",
      "f1_score: 0.83595520, train_loss: 0.321044 \n"
     ]
    },
    {
     "name": "stderr",
     "output_type": "stream",
     "text": [
      " 40%|████      | 16/40 [15:50<23:43, 59.31s/it]"
     ]
    },
    {
     "name": "stdout",
     "output_type": "stream",
     "text": [
      "f1_score: 0.82598033, test_loss: 0.298405 \n",
      "Epoch 17\n",
      "-------------------------------\n",
      "f1_score: 0.83635968, train_loss: 0.320759 \n"
     ]
    },
    {
     "name": "stderr",
     "output_type": "stream",
     "text": [
      " 42%|████▎     | 17/40 [16:49<22:44, 59.31s/it]"
     ]
    },
    {
     "name": "stdout",
     "output_type": "stream",
     "text": [
      "f1_score: 0.83035112, test_loss: 0.293291 \n",
      "Epoch 18\n",
      "-------------------------------\n",
      "f1_score: 0.83673767, train_loss: 0.320144 \n"
     ]
    },
    {
     "name": "stderr",
     "output_type": "stream",
     "text": [
      " 45%|████▌     | 18/40 [17:49<21:45, 59.36s/it]"
     ]
    },
    {
     "name": "stdout",
     "output_type": "stream",
     "text": [
      "f1_score: 0.82946523, test_loss: 0.291592 \n",
      "Epoch 19\n",
      "-------------------------------\n",
      "f1_score: 0.83615234, train_loss: 0.320427 \n"
     ]
    },
    {
     "name": "stderr",
     "output_type": "stream",
     "text": [
      " 48%|████▊     | 19/40 [18:48<20:45, 59.33s/it]"
     ]
    },
    {
     "name": "stdout",
     "output_type": "stream",
     "text": [
      "f1_score: 0.82921485, test_loss: 0.294925 \n",
      "Epoch 20\n",
      "-------------------------------\n",
      "f1_score: 0.83593673, train_loss: 0.320831 \n"
     ]
    },
    {
     "name": "stderr",
     "output_type": "stream",
     "text": [
      " 50%|█████     | 20/40 [19:48<19:47, 59.36s/it]"
     ]
    },
    {
     "name": "stdout",
     "output_type": "stream",
     "text": [
      "f1_score: 0.82783999, test_loss: 0.304244 \n",
      "Epoch 21\n",
      "-------------------------------\n",
      "f1_score: 0.83659788, train_loss: 0.320174 \n"
     ]
    },
    {
     "name": "stderr",
     "output_type": "stream",
     "text": [
      " 52%|█████▎    | 21/40 [20:47<18:48, 59.38s/it]"
     ]
    },
    {
     "name": "stdout",
     "output_type": "stream",
     "text": [
      "f1_score: 0.82830533, test_loss: 0.297054 \n",
      "Epoch 22\n",
      "-------------------------------\n",
      "f1_score: 0.83628645, train_loss: 0.319957 \n"
     ]
    },
    {
     "name": "stderr",
     "output_type": "stream",
     "text": [
      " 55%|█████▌    | 22/40 [21:46<17:48, 59.39s/it]"
     ]
    },
    {
     "name": "stdout",
     "output_type": "stream",
     "text": [
      "f1_score: 0.82957689, test_loss: 0.297404 \n",
      "Epoch 23\n",
      "-------------------------------\n",
      "f1_score: 0.83676138, train_loss: 0.319455 \n"
     ]
    },
    {
     "name": "stderr",
     "output_type": "stream",
     "text": [
      " 57%|█████▊    | 23/40 [22:46<16:49, 59.38s/it]"
     ]
    },
    {
     "name": "stdout",
     "output_type": "stream",
     "text": [
      "f1_score: 0.82750573, test_loss: 0.300353 \n",
      "Epoch 24\n",
      "-------------------------------\n",
      "f1_score: 0.83662084, train_loss: 0.319400 \n"
     ]
    },
    {
     "name": "stderr",
     "output_type": "stream",
     "text": [
      " 60%|██████    | 24/40 [23:45<15:48, 59.29s/it]"
     ]
    },
    {
     "name": "stdout",
     "output_type": "stream",
     "text": [
      "f1_score: 0.83195062, test_loss: 0.289395 \n",
      "Epoch 25\n",
      "-------------------------------\n",
      "f1_score: 0.83636041, train_loss: 0.319753 \n"
     ]
    },
    {
     "name": "stderr",
     "output_type": "stream",
     "text": [
      " 62%|██████▎   | 25/40 [24:44<14:49, 59.31s/it]"
     ]
    },
    {
     "name": "stdout",
     "output_type": "stream",
     "text": [
      "f1_score: 0.83007520, test_loss: 0.298542 \n",
      "Epoch 26\n",
      "-------------------------------\n",
      "f1_score: 0.83692889, train_loss: 0.319244 \n"
     ]
    },
    {
     "name": "stderr",
     "output_type": "stream",
     "text": [
      " 65%|██████▌   | 26/40 [25:44<13:50, 59.35s/it]"
     ]
    },
    {
     "name": "stdout",
     "output_type": "stream",
     "text": [
      "f1_score: 0.83202358, test_loss: 0.288645 \n",
      "Epoch 27\n",
      "-------------------------------\n",
      "f1_score: 0.83695749, train_loss: 0.319176 \n"
     ]
    },
    {
     "name": "stderr",
     "output_type": "stream",
     "text": [
      " 68%|██████▊   | 27/40 [26:43<12:51, 59.34s/it]"
     ]
    },
    {
     "name": "stdout",
     "output_type": "stream",
     "text": [
      "f1_score: 0.82876094, test_loss: 0.304539 \n",
      "Epoch 28\n",
      "-------------------------------\n",
      "f1_score: 0.83674062, train_loss: 0.319234 \n"
     ]
    },
    {
     "name": "stderr",
     "output_type": "stream",
     "text": [
      " 70%|███████   | 28/40 [27:42<11:52, 59.37s/it]"
     ]
    },
    {
     "name": "stdout",
     "output_type": "stream",
     "text": [
      "f1_score: 0.82226274, test_loss: 0.308871 \n",
      "Epoch 29\n",
      "-------------------------------\n",
      "f1_score: 0.83711920, train_loss: 0.318685 \n"
     ]
    },
    {
     "name": "stderr",
     "output_type": "stream",
     "text": [
      " 72%|███████▎  | 29/40 [28:43<10:56, 59.73s/it]"
     ]
    },
    {
     "name": "stdout",
     "output_type": "stream",
     "text": [
      "f1_score: 0.83004617, test_loss: 0.291419 \n",
      "Epoch 30\n",
      "-------------------------------\n",
      "f1_score: 0.83750067, train_loss: 0.318172 \n"
     ]
    },
    {
     "name": "stderr",
     "output_type": "stream",
     "text": [
      " 75%|███████▌  | 30/40 [29:43<09:59, 59.94s/it]"
     ]
    },
    {
     "name": "stdout",
     "output_type": "stream",
     "text": [
      "f1_score: 0.83032108, test_loss: 0.296715 \n",
      "Epoch 31\n",
      "-------------------------------\n",
      "f1_score: 0.83684932, train_loss: 0.319554 \n"
     ]
    },
    {
     "name": "stderr",
     "output_type": "stream",
     "text": [
      " 78%|███████▊  | 31/40 [30:44<09:01, 60.14s/it]"
     ]
    },
    {
     "name": "stdout",
     "output_type": "stream",
     "text": [
      "f1_score: 0.83146529, test_loss: 0.289825 \n",
      "Epoch 32\n",
      "-------------------------------\n",
      "f1_score: 0.83706797, train_loss: 0.318842 \n"
     ]
    },
    {
     "name": "stderr",
     "output_type": "stream",
     "text": [
      " 80%|████████  | 32/40 [31:44<07:59, 59.93s/it]"
     ]
    },
    {
     "name": "stdout",
     "output_type": "stream",
     "text": [
      "f1_score: 0.82550652, test_loss: 0.300475 \n",
      "Epoch 33\n",
      "-------------------------------\n",
      "f1_score: 0.83702795, train_loss: 0.318672 \n"
     ]
    },
    {
     "name": "stderr",
     "output_type": "stream",
     "text": [
      " 82%|████████▎ | 33/40 [32:44<07:00, 60.08s/it]"
     ]
    },
    {
     "name": "stdout",
     "output_type": "stream",
     "text": [
      "f1_score: 0.83022636, test_loss: 0.292952 \n",
      "Epoch 34\n",
      "-------------------------------\n",
      "f1_score: 0.83675062, train_loss: 0.318694 \n"
     ]
    },
    {
     "name": "stderr",
     "output_type": "stream",
     "text": [
      " 85%|████████▌ | 34/40 [33:45<06:01, 60.29s/it]"
     ]
    },
    {
     "name": "stdout",
     "output_type": "stream",
     "text": [
      "f1_score: 0.83174095, test_loss: 0.290802 \n",
      "Epoch 35\n",
      "-------------------------------\n",
      "f1_score: 0.83680779, train_loss: 0.318870 \n"
     ]
    },
    {
     "name": "stderr",
     "output_type": "stream",
     "text": [
      " 88%|████████▊ | 35/40 [34:47<05:03, 60.74s/it]"
     ]
    },
    {
     "name": "stdout",
     "output_type": "stream",
     "text": [
      "f1_score: 0.83008593, test_loss: 0.292763 \n",
      "Epoch 36\n",
      "-------------------------------\n",
      "f1_score: 0.83669477, train_loss: 0.318625 \n"
     ]
    },
    {
     "name": "stderr",
     "output_type": "stream",
     "text": [
      " 90%|█████████ | 36/40 [35:47<04:02, 60.60s/it]"
     ]
    },
    {
     "name": "stdout",
     "output_type": "stream",
     "text": [
      "f1_score: 0.82811223, test_loss: 0.296311 \n",
      "Epoch 37\n",
      "-------------------------------\n",
      "f1_score: 0.83706387, train_loss: 0.318103 \n"
     ]
    },
    {
     "name": "stderr",
     "output_type": "stream",
     "text": [
      " 92%|█████████▎| 37/40 [36:47<03:01, 60.47s/it]"
     ]
    },
    {
     "name": "stdout",
     "output_type": "stream",
     "text": [
      "f1_score: 0.83124278, test_loss: 0.294017 \n",
      "Epoch 38\n",
      "-------------------------------\n",
      "f1_score: 0.83798297, train_loss: 0.317270 \n"
     ]
    },
    {
     "name": "stderr",
     "output_type": "stream",
     "text": [
      " 95%|█████████▌| 38/40 [37:47<02:00, 60.32s/it]"
     ]
    },
    {
     "name": "stdout",
     "output_type": "stream",
     "text": [
      "f1_score: 0.83168016, test_loss: 0.290273 \n",
      "Epoch 39\n",
      "-------------------------------\n",
      "f1_score: 0.83728465, train_loss: 0.317817 \n"
     ]
    },
    {
     "name": "stderr",
     "output_type": "stream",
     "text": [
      " 98%|█████████▊| 39/40 [38:48<01:00, 60.59s/it]"
     ]
    },
    {
     "name": "stdout",
     "output_type": "stream",
     "text": [
      "f1_score: 0.83242930, test_loss: 0.289720 \n",
      "Epoch 40\n",
      "-------------------------------\n",
      "f1_score: 0.83751559, train_loss: 0.317936 \n"
     ]
    },
    {
     "name": "stderr",
     "output_type": "stream",
     "text": [
      "100%|██████████| 40/40 [39:50<00:00, 59.77s/it]\n",
      "[I 2025-02-16 04:29:52,552] Trial 11 finished with value: 0.8305499050384154 and parameters: {'n': 4, 'dropout_p': 0.11960808545784943, 'dropout_p_1': 0.10716138100248399, 'weight_decay': 5.21433978675445e-05, 'batch_size': 3072}. Best is trial 6 with value: 0.8317091355523847.\n",
      "/usr/local/lib/python3.10/dist-packages/optuna/distributions.py:699: UserWarning: The distribution is specified by [1024, 9600] and step=1024, but the range is not divisible by `step`. It will be replaced by [1024, 9216].\n",
      "  warnings.warn(\n"
     ]
    },
    {
     "name": "stdout",
     "output_type": "stream",
     "text": [
      "f1_score: 0.83054991, test_loss: 0.297762 \n"
     ]
    },
    {
     "name": "stderr",
     "output_type": "stream",
     "text": [
      "  0%|          | 0/40 [00:00<?, ?it/s]"
     ]
    },
    {
     "name": "stdout",
     "output_type": "stream",
     "text": [
      "Epoch 1\n",
      "-------------------------------\n",
      "f1_score: 0.79367533, train_loss: 0.403910 \n"
     ]
    },
    {
     "name": "stderr",
     "output_type": "stream",
     "text": [
      "  2%|▎         | 1/40 [01:05<42:23, 65.21s/it]"
     ]
    },
    {
     "name": "stdout",
     "output_type": "stream",
     "text": [
      "f1_score: 0.81715072, test_loss: 0.322105 \n",
      "Epoch 2\n",
      "-------------------------------\n",
      "f1_score: 0.82501505, train_loss: 0.347712 \n"
     ]
    },
    {
     "name": "stderr",
     "output_type": "stream",
     "text": [
      "  5%|▌         | 2/40 [02:10<41:17, 65.20s/it]"
     ]
    },
    {
     "name": "stdout",
     "output_type": "stream",
     "text": [
      "f1_score: 0.82194846, test_loss: 0.310034 \n",
      "Epoch 3\n",
      "-------------------------------\n",
      "f1_score: 0.82750352, train_loss: 0.341696 \n"
     ]
    },
    {
     "name": "stderr",
     "output_type": "stream",
     "text": [
      "  8%|▊         | 3/40 [03:15<40:17, 65.34s/it]"
     ]
    },
    {
     "name": "stdout",
     "output_type": "stream",
     "text": [
      "f1_score: 0.82132633, test_loss: 0.305179 \n",
      "Epoch 4\n",
      "-------------------------------\n",
      "f1_score: 0.82881576, train_loss: 0.338612 \n"
     ]
    },
    {
     "name": "stderr",
     "output_type": "stream",
     "text": [
      " 10%|█         | 4/40 [04:22<39:23, 65.66s/it]"
     ]
    },
    {
     "name": "stdout",
     "output_type": "stream",
     "text": [
      "f1_score: 0.81451305, test_loss: 0.322427 \n",
      "Epoch 5\n",
      "-------------------------------\n",
      "f1_score: 0.82988250, train_loss: 0.336542 \n"
     ]
    },
    {
     "name": "stderr",
     "output_type": "stream",
     "text": [
      " 12%|█▎        | 5/40 [05:28<38:26, 65.89s/it]"
     ]
    },
    {
     "name": "stdout",
     "output_type": "stream",
     "text": [
      "f1_score: 0.82435282, test_loss: 0.298443 \n",
      "Epoch 6\n",
      "-------------------------------\n",
      "f1_score: 0.82964512, train_loss: 0.336437 \n"
     ]
    },
    {
     "name": "stderr",
     "output_type": "stream",
     "text": [
      " 15%|█▌        | 6/40 [06:35<37:34, 66.32s/it]"
     ]
    },
    {
     "name": "stdout",
     "output_type": "stream",
     "text": [
      "f1_score: 0.81998662, test_loss: 0.304226 \n",
      "Epoch 7\n",
      "-------------------------------\n",
      "f1_score: 0.82982395, train_loss: 0.335749 \n"
     ]
    },
    {
     "name": "stderr",
     "output_type": "stream",
     "text": [
      " 18%|█▊        | 7/40 [07:42<36:39, 66.65s/it]"
     ]
    },
    {
     "name": "stdout",
     "output_type": "stream",
     "text": [
      "f1_score: 0.82654873, test_loss: 0.296206 \n",
      "Epoch 8\n",
      "-------------------------------\n",
      "f1_score: 0.83036345, train_loss: 0.334953 \n"
     ]
    },
    {
     "name": "stderr",
     "output_type": "stream",
     "text": [
      " 20%|██        | 8/40 [08:49<35:36, 66.76s/it]"
     ]
    },
    {
     "name": "stdout",
     "output_type": "stream",
     "text": [
      "f1_score: 0.82508021, test_loss: 0.305974 \n",
      "Epoch 9\n",
      "-------------------------------\n",
      "f1_score: 0.83045807, train_loss: 0.334528 \n"
     ]
    },
    {
     "name": "stderr",
     "output_type": "stream",
     "text": [
      " 22%|██▎       | 9/40 [09:56<34:27, 66.68s/it]"
     ]
    },
    {
     "name": "stdout",
     "output_type": "stream",
     "text": [
      "f1_score: 0.82233653, test_loss: 0.311678 \n",
      "Epoch 10\n",
      "-------------------------------\n",
      "f1_score: 0.83145851, train_loss: 0.333197 \n"
     ]
    },
    {
     "name": "stderr",
     "output_type": "stream",
     "text": [
      " 25%|██▌       | 10/40 [11:02<33:19, 66.66s/it]"
     ]
    },
    {
     "name": "stdout",
     "output_type": "stream",
     "text": [
      "f1_score: 0.82435202, test_loss: 0.310179 \n",
      "Epoch 11\n",
      "-------------------------------\n",
      "f1_score: 0.83143299, train_loss: 0.333197 \n"
     ]
    },
    {
     "name": "stderr",
     "output_type": "stream",
     "text": [
      " 28%|██▊       | 11/40 [12:09<32:11, 66.59s/it]"
     ]
    },
    {
     "name": "stdout",
     "output_type": "stream",
     "text": [
      "f1_score: 0.82631124, test_loss: 0.304954 \n",
      "Epoch 12\n",
      "-------------------------------\n",
      "f1_score: 0.83146277, train_loss: 0.332625 \n"
     ]
    },
    {
     "name": "stderr",
     "output_type": "stream",
     "text": [
      " 30%|███       | 12/40 [13:15<31:02, 66.53s/it]"
     ]
    },
    {
     "name": "stdout",
     "output_type": "stream",
     "text": [
      "f1_score: 0.81584512, test_loss: 0.315555 \n",
      "Epoch 13\n",
      "-------------------------------\n",
      "f1_score: 0.83121608, train_loss: 0.333413 \n"
     ]
    },
    {
     "name": "stderr",
     "output_type": "stream",
     "text": [
      " 32%|███▎      | 13/40 [14:22<29:57, 66.58s/it]"
     ]
    },
    {
     "name": "stdout",
     "output_type": "stream",
     "text": [
      "f1_score: 0.81694132, test_loss: 0.308976 \n",
      "Epoch 14\n",
      "-------------------------------\n",
      "f1_score: 0.83167806, train_loss: 0.332514 \n"
     ]
    },
    {
     "name": "stderr",
     "output_type": "stream",
     "text": [
      " 35%|███▌      | 14/40 [15:28<28:49, 66.53s/it]"
     ]
    },
    {
     "name": "stdout",
     "output_type": "stream",
     "text": [
      "f1_score: 0.82384195, test_loss: 0.297886 \n",
      "Epoch 15\n",
      "-------------------------------\n",
      "f1_score: 0.83131322, train_loss: 0.332555 \n"
     ]
    },
    {
     "name": "stderr",
     "output_type": "stream",
     "text": [
      " 38%|███▊      | 15/40 [16:35<27:43, 66.54s/it]"
     ]
    },
    {
     "name": "stdout",
     "output_type": "stream",
     "text": [
      "f1_score: 0.82439601, test_loss: 0.303304 \n",
      "Epoch 16\n",
      "-------------------------------\n",
      "f1_score: 0.83170706, train_loss: 0.332357 \n"
     ]
    },
    {
     "name": "stderr",
     "output_type": "stream",
     "text": [
      " 40%|████      | 16/40 [17:42<26:37, 66.55s/it]"
     ]
    },
    {
     "name": "stdout",
     "output_type": "stream",
     "text": [
      "f1_score: 0.82178132, test_loss: 0.303622 \n",
      "Epoch 17\n",
      "-------------------------------\n",
      "f1_score: 0.83121344, train_loss: 0.332814 \n"
     ]
    },
    {
     "name": "stderr",
     "output_type": "stream",
     "text": [
      " 42%|████▎     | 17/40 [18:48<25:30, 66.54s/it]"
     ]
    },
    {
     "name": "stdout",
     "output_type": "stream",
     "text": [
      "f1_score: 0.82659677, test_loss: 0.301658 \n",
      "Epoch 18\n",
      "-------------------------------\n",
      "f1_score: 0.83162095, train_loss: 0.332088 \n"
     ]
    },
    {
     "name": "stderr",
     "output_type": "stream",
     "text": [
      " 45%|████▌     | 18/40 [19:55<24:24, 66.55s/it]"
     ]
    },
    {
     "name": "stdout",
     "output_type": "stream",
     "text": [
      "f1_score: 0.82193347, test_loss: 0.309164 \n",
      "Epoch 19\n",
      "-------------------------------\n",
      "f1_score: 0.83127439, train_loss: 0.332401 \n"
     ]
    },
    {
     "name": "stderr",
     "output_type": "stream",
     "text": [
      " 48%|████▊     | 19/40 [21:01<23:16, 66.51s/it]"
     ]
    },
    {
     "name": "stdout",
     "output_type": "stream",
     "text": [
      "f1_score: 0.82742159, test_loss: 0.293585 \n",
      "Epoch 20\n",
      "-------------------------------\n",
      "f1_score: 0.83142523, train_loss: 0.332200 \n"
     ]
    },
    {
     "name": "stderr",
     "output_type": "stream",
     "text": [
      " 50%|█████     | 20/40 [22:08<22:11, 66.57s/it]"
     ]
    },
    {
     "name": "stdout",
     "output_type": "stream",
     "text": [
      "f1_score: 0.82472802, test_loss: 0.296054 \n",
      "Epoch 21\n",
      "-------------------------------\n",
      "f1_score: 0.83168201, train_loss: 0.332240 \n"
     ]
    },
    {
     "name": "stderr",
     "output_type": "stream",
     "text": [
      " 52%|█████▎    | 21/40 [23:14<21:03, 66.51s/it]"
     ]
    },
    {
     "name": "stdout",
     "output_type": "stream",
     "text": [
      "f1_score: 0.82451901, test_loss: 0.307274 \n",
      "Epoch 22\n",
      "-------------------------------\n",
      "f1_score: 0.83162559, train_loss: 0.331854 \n"
     ]
    },
    {
     "name": "stderr",
     "output_type": "stream",
     "text": [
      " 55%|█████▌    | 22/40 [24:21<19:57, 66.54s/it]"
     ]
    },
    {
     "name": "stdout",
     "output_type": "stream",
     "text": [
      "f1_score: 0.82101779, test_loss: 0.307996 \n",
      "Epoch 23\n",
      "-------------------------------\n",
      "f1_score: 0.83151610, train_loss: 0.332062 \n"
     ]
    },
    {
     "name": "stderr",
     "output_type": "stream",
     "text": [
      " 57%|█████▊    | 23/40 [25:27<18:51, 66.54s/it]"
     ]
    },
    {
     "name": "stdout",
     "output_type": "stream",
     "text": [
      "f1_score: 0.82332224, test_loss: 0.301314 \n",
      "Epoch 24\n",
      "-------------------------------\n",
      "f1_score: 0.83213120, train_loss: 0.331197 \n"
     ]
    },
    {
     "name": "stderr",
     "output_type": "stream",
     "text": [
      " 60%|██████    | 24/40 [26:34<17:43, 66.50s/it]"
     ]
    },
    {
     "name": "stdout",
     "output_type": "stream",
     "text": [
      "f1_score: 0.82590694, test_loss: 0.305373 \n",
      "Epoch 25\n",
      "-------------------------------\n",
      "f1_score: 0.83167875, train_loss: 0.332113 \n"
     ]
    },
    {
     "name": "stderr",
     "output_type": "stream",
     "text": [
      " 62%|██████▎   | 25/40 [27:41<16:39, 66.66s/it]"
     ]
    },
    {
     "name": "stdout",
     "output_type": "stream",
     "text": [
      "f1_score: 0.82472598, test_loss: 0.312284 \n",
      "Epoch 26\n",
      "-------------------------------\n",
      "f1_score: 0.83176691, train_loss: 0.331703 \n"
     ]
    },
    {
     "name": "stderr",
     "output_type": "stream",
     "text": [
      " 65%|██████▌   | 26/40 [28:48<15:36, 66.90s/it]"
     ]
    },
    {
     "name": "stdout",
     "output_type": "stream",
     "text": [
      "f1_score: 0.82517072, test_loss: 0.290047 \n",
      "Epoch 27\n",
      "-------------------------------\n",
      "f1_score: 0.83181595, train_loss: 0.331561 \n"
     ]
    },
    {
     "name": "stderr",
     "output_type": "stream",
     "text": [
      " 68%|██████▊   | 27/40 [29:55<14:31, 67.03s/it]"
     ]
    },
    {
     "name": "stdout",
     "output_type": "stream",
     "text": [
      "f1_score: 0.82137835, test_loss: 0.305483 \n",
      "Epoch 28\n",
      "-------------------------------\n",
      "f1_score: 0.83209368, train_loss: 0.331627 \n"
     ]
    },
    {
     "name": "stderr",
     "output_type": "stream",
     "text": [
      " 70%|███████   | 28/40 [31:03<13:24, 67.03s/it]"
     ]
    },
    {
     "name": "stdout",
     "output_type": "stream",
     "text": [
      "f1_score: 0.82773592, test_loss: 0.300988 \n",
      "Epoch 29\n",
      "-------------------------------\n",
      "f1_score: 0.83187371, train_loss: 0.331707 \n"
     ]
    },
    {
     "name": "stderr",
     "output_type": "stream",
     "text": [
      " 72%|███████▎  | 29/40 [32:09<12:16, 66.99s/it]"
     ]
    },
    {
     "name": "stdout",
     "output_type": "stream",
     "text": [
      "f1_score: 0.82827076, test_loss: 0.292109 \n",
      "Epoch 30\n",
      "-------------------------------\n",
      "f1_score: 0.83148812, train_loss: 0.332024 \n"
     ]
    },
    {
     "name": "stderr",
     "output_type": "stream",
     "text": [
      " 75%|███████▌  | 30/40 [33:17<11:12, 67.24s/it]"
     ]
    },
    {
     "name": "stdout",
     "output_type": "stream",
     "text": [
      "f1_score: 0.82362199, test_loss: 0.309572 \n",
      "Epoch 31\n",
      "-------------------------------\n",
      "f1_score: 0.83195139, train_loss: 0.331378 \n"
     ]
    },
    {
     "name": "stderr",
     "output_type": "stream",
     "text": [
      " 78%|███████▊  | 31/40 [34:25<10:05, 67.30s/it]"
     ]
    },
    {
     "name": "stdout",
     "output_type": "stream",
     "text": [
      "f1_score: 0.81965930, test_loss: 0.313391 \n",
      "Epoch 32\n",
      "-------------------------------\n",
      "f1_score: 0.83214248, train_loss: 0.331128 \n"
     ]
    },
    {
     "name": "stderr",
     "output_type": "stream",
     "text": [
      " 80%|████████  | 32/40 [35:32<08:58, 67.35s/it]"
     ]
    },
    {
     "name": "stdout",
     "output_type": "stream",
     "text": [
      "f1_score: 0.82391313, test_loss: 0.308418 \n",
      "Epoch 33\n",
      "-------------------------------\n",
      "f1_score: 0.83226760, train_loss: 0.331127 \n"
     ]
    },
    {
     "name": "stderr",
     "output_type": "stream",
     "text": [
      " 82%|████████▎ | 33/40 [36:39<07:51, 67.32s/it]"
     ]
    },
    {
     "name": "stdout",
     "output_type": "stream",
     "text": [
      "f1_score: 0.81937017, test_loss: 0.318773 \n",
      "Epoch 34\n",
      "-------------------------------\n",
      "f1_score: 0.83189954, train_loss: 0.331655 \n"
     ]
    },
    {
     "name": "stderr",
     "output_type": "stream",
     "text": [
      " 85%|████████▌ | 34/40 [37:46<06:42, 67.08s/it]"
     ]
    },
    {
     "name": "stdout",
     "output_type": "stream",
     "text": [
      "f1_score: 0.81827940, test_loss: 0.316966 \n",
      "Epoch 35\n",
      "-------------------------------\n",
      "f1_score: 0.83178853, train_loss: 0.331437 \n"
     ]
    },
    {
     "name": "stderr",
     "output_type": "stream",
     "text": [
      " 88%|████████▊ | 35/40 [38:53<05:34, 66.97s/it]"
     ]
    },
    {
     "name": "stdout",
     "output_type": "stream",
     "text": [
      "f1_score: 0.82612980, test_loss: 0.306671 \n",
      "Epoch 36\n",
      "-------------------------------\n",
      "f1_score: 0.83204385, train_loss: 0.331306 \n"
     ]
    },
    {
     "name": "stderr",
     "output_type": "stream",
     "text": [
      " 90%|█████████ | 36/40 [39:59<04:27, 66.84s/it]"
     ]
    },
    {
     "name": "stdout",
     "output_type": "stream",
     "text": [
      "f1_score: 0.82103966, test_loss: 0.313821 \n",
      "Epoch 37\n",
      "-------------------------------\n",
      "f1_score: 0.83186198, train_loss: 0.332021 \n"
     ]
    },
    {
     "name": "stderr",
     "output_type": "stream",
     "text": [
      " 92%|█████████▎| 37/40 [41:06<03:20, 66.71s/it]"
     ]
    },
    {
     "name": "stdout",
     "output_type": "stream",
     "text": [
      "f1_score: 0.82422298, test_loss: 0.306876 \n",
      "Epoch 38\n",
      "-------------------------------\n",
      "f1_score: 0.83180511, train_loss: 0.331944 \n"
     ]
    },
    {
     "name": "stderr",
     "output_type": "stream",
     "text": [
      " 95%|█████████▌| 38/40 [42:12<02:13, 66.70s/it]"
     ]
    },
    {
     "name": "stdout",
     "output_type": "stream",
     "text": [
      "f1_score: 0.82134558, test_loss: 0.313468 \n",
      "Epoch 39\n",
      "-------------------------------\n",
      "f1_score: 0.83208154, train_loss: 0.331174 \n"
     ]
    },
    {
     "name": "stderr",
     "output_type": "stream",
     "text": [
      " 98%|█████████▊| 39/40 [43:19<01:06, 66.64s/it]"
     ]
    },
    {
     "name": "stdout",
     "output_type": "stream",
     "text": [
      "f1_score: 0.82607169, test_loss: 0.307106 \n",
      "Epoch 40\n",
      "-------------------------------\n",
      "f1_score: 0.83182265, train_loss: 0.331600 \n"
     ]
    },
    {
     "name": "stderr",
     "output_type": "stream",
     "text": [
      "100%|██████████| 40/40 [44:25<00:00, 66.65s/it]\n",
      "[I 2025-02-16 05:14:18,486] Trial 12 finished with value: 0.8224472048372957 and parameters: {'n': 4, 'dropout_p': 0.18659573409689653, 'dropout_p_1': 0.1660293987516353, 'weight_decay': 0.0009249919407636674, 'batch_size': 4096}. Best is trial 6 with value: 0.8317091355523847.\n",
      "/usr/local/lib/python3.10/dist-packages/optuna/distributions.py:699: UserWarning: The distribution is specified by [1024, 9600] and step=1024, but the range is not divisible by `step`. It will be replaced by [1024, 9216].\n",
      "  warnings.warn(\n"
     ]
    },
    {
     "name": "stdout",
     "output_type": "stream",
     "text": [
      "f1_score: 0.82244720, test_loss: 0.310041 \n"
     ]
    },
    {
     "name": "stderr",
     "output_type": "stream",
     "text": [
      "  0%|          | 0/40 [00:00<?, ?it/s]"
     ]
    },
    {
     "name": "stdout",
     "output_type": "stream",
     "text": [
      "Epoch 1\n",
      "-------------------------------\n",
      "f1_score: 0.79273796, train_loss: 0.410955 \n"
     ]
    },
    {
     "name": "stderr",
     "output_type": "stream",
     "text": [
      "  2%|▎         | 1/40 [01:02<40:32, 62.36s/it]"
     ]
    },
    {
     "name": "stdout",
     "output_type": "stream",
     "text": [
      "f1_score: 0.79609006, test_loss: 0.345491 \n",
      "Epoch 2\n",
      "-------------------------------\n",
      "f1_score: 0.82641277, train_loss: 0.340771 \n"
     ]
    },
    {
     "name": "stderr",
     "output_type": "stream",
     "text": [
      "  5%|▌         | 2/40 [02:04<39:30, 62.39s/it]"
     ]
    },
    {
     "name": "stdout",
     "output_type": "stream",
     "text": [
      "f1_score: 0.81876499, test_loss: 0.307731 \n",
      "Epoch 3\n",
      "-------------------------------\n",
      "f1_score: 0.83017929, train_loss: 0.332532 \n"
     ]
    },
    {
     "name": "stderr",
     "output_type": "stream",
     "text": [
      "  8%|▊         | 3/40 [03:07<38:32, 62.51s/it]"
     ]
    },
    {
     "name": "stdout",
     "output_type": "stream",
     "text": [
      "f1_score: 0.82358206, test_loss: 0.299989 \n",
      "Epoch 4\n",
      "-------------------------------\n",
      "f1_score: 0.83138344, train_loss: 0.329591 \n"
     ]
    },
    {
     "name": "stderr",
     "output_type": "stream",
     "text": [
      " 10%|█         | 4/40 [04:09<37:27, 62.43s/it]"
     ]
    },
    {
     "name": "stdout",
     "output_type": "stream",
     "text": [
      "f1_score: 0.82347717, test_loss: 0.307238 \n",
      "Epoch 5\n",
      "-------------------------------\n",
      "f1_score: 0.83278810, train_loss: 0.327110 \n"
     ]
    },
    {
     "name": "stderr",
     "output_type": "stream",
     "text": [
      " 12%|█▎        | 5/40 [05:12<36:27, 62.50s/it]"
     ]
    },
    {
     "name": "stdout",
     "output_type": "stream",
     "text": [
      "f1_score: 0.82622332, test_loss: 0.295646 \n",
      "Epoch 6\n",
      "-------------------------------\n",
      "f1_score: 0.83347536, train_loss: 0.325559 \n"
     ]
    },
    {
     "name": "stderr",
     "output_type": "stream",
     "text": [
      " 15%|█▌        | 6/40 [06:14<35:24, 62.48s/it]"
     ]
    },
    {
     "name": "stdout",
     "output_type": "stream",
     "text": [
      "f1_score: 0.82459511, test_loss: 0.297369 \n",
      "Epoch 7\n",
      "-------------------------------\n",
      "f1_score: 0.83391771, train_loss: 0.324615 \n"
     ]
    },
    {
     "name": "stderr",
     "output_type": "stream",
     "text": [
      " 18%|█▊        | 7/40 [07:17<34:20, 62.44s/it]"
     ]
    },
    {
     "name": "stdout",
     "output_type": "stream",
     "text": [
      "f1_score: 0.82527917, test_loss: 0.300359 \n",
      "Epoch 8\n",
      "-------------------------------\n",
      "f1_score: 0.83445527, train_loss: 0.323137 \n"
     ]
    },
    {
     "name": "stderr",
     "output_type": "stream",
     "text": [
      " 20%|██        | 8/40 [08:19<33:19, 62.47s/it]"
     ]
    },
    {
     "name": "stdout",
     "output_type": "stream",
     "text": [
      "f1_score: 0.82786228, test_loss: 0.296581 \n",
      "Epoch 9\n",
      "-------------------------------\n",
      "f1_score: 0.83483683, train_loss: 0.321970 \n"
     ]
    },
    {
     "name": "stderr",
     "output_type": "stream",
     "text": [
      " 22%|██▎       | 9/40 [09:22<32:16, 62.47s/it]"
     ]
    },
    {
     "name": "stdout",
     "output_type": "stream",
     "text": [
      "f1_score: 0.82835155, test_loss: 0.292877 \n",
      "Epoch 10\n",
      "-------------------------------\n",
      "f1_score: 0.83514165, train_loss: 0.321324 \n"
     ]
    },
    {
     "name": "stderr",
     "output_type": "stream",
     "text": [
      " 25%|██▌       | 10/40 [10:24<31:14, 62.49s/it]"
     ]
    },
    {
     "name": "stdout",
     "output_type": "stream",
     "text": [
      "f1_score: 0.82437917, test_loss: 0.299327 \n",
      "Epoch 11\n",
      "-------------------------------\n",
      "f1_score: 0.83554712, train_loss: 0.319882 \n"
     ]
    },
    {
     "name": "stderr",
     "output_type": "stream",
     "text": [
      " 28%|██▊       | 11/40 [11:27<30:11, 62.45s/it]"
     ]
    },
    {
     "name": "stdout",
     "output_type": "stream",
     "text": [
      "f1_score: 0.82789343, test_loss: 0.301036 \n",
      "Epoch 12\n",
      "-------------------------------\n",
      "f1_score: 0.83560603, train_loss: 0.319674 \n"
     ]
    },
    {
     "name": "stderr",
     "output_type": "stream",
     "text": [
      " 30%|███       | 12/40 [12:29<29:07, 62.41s/it]"
     ]
    },
    {
     "name": "stdout",
     "output_type": "stream",
     "text": [
      "f1_score: 0.82942743, test_loss: 0.293569 \n",
      "Epoch 13\n",
      "-------------------------------\n",
      "f1_score: 0.83594714, train_loss: 0.318824 \n"
     ]
    },
    {
     "name": "stderr",
     "output_type": "stream",
     "text": [
      " 32%|███▎      | 13/40 [13:31<28:06, 62.46s/it]"
     ]
    },
    {
     "name": "stdout",
     "output_type": "stream",
     "text": [
      "f1_score: 0.82894006, test_loss: 0.293848 \n",
      "Epoch 14\n",
      "-------------------------------\n",
      "f1_score: 0.83647400, train_loss: 0.317774 \n"
     ]
    },
    {
     "name": "stderr",
     "output_type": "stream",
     "text": [
      " 35%|███▌      | 14/40 [14:34<27:03, 62.43s/it]"
     ]
    },
    {
     "name": "stdout",
     "output_type": "stream",
     "text": [
      "f1_score: 0.82876380, test_loss: 0.297627 \n",
      "Epoch 15\n",
      "-------------------------------\n",
      "f1_score: 0.83663687, train_loss: 0.316970 \n"
     ]
    },
    {
     "name": "stderr",
     "output_type": "stream",
     "text": [
      " 38%|███▊      | 15/40 [15:36<26:01, 62.46s/it]"
     ]
    },
    {
     "name": "stdout",
     "output_type": "stream",
     "text": [
      "f1_score: 0.82821733, test_loss: 0.293678 \n",
      "Epoch 16\n",
      "-------------------------------\n",
      "f1_score: 0.83659365, train_loss: 0.316799 \n"
     ]
    },
    {
     "name": "stderr",
     "output_type": "stream",
     "text": [
      " 40%|████      | 16/40 [16:39<24:58, 62.43s/it]"
     ]
    },
    {
     "name": "stdout",
     "output_type": "stream",
     "text": [
      "f1_score: 0.82853914, test_loss: 0.294763 \n",
      "Epoch 17\n",
      "-------------------------------\n",
      "f1_score: 0.83733982, train_loss: 0.315818 \n"
     ]
    },
    {
     "name": "stderr",
     "output_type": "stream",
     "text": [
      " 42%|████▎     | 17/40 [17:41<23:54, 62.38s/it]"
     ]
    },
    {
     "name": "stdout",
     "output_type": "stream",
     "text": [
      "f1_score: 0.82856077, test_loss: 0.292631 \n",
      "Epoch 18\n",
      "-------------------------------\n",
      "f1_score: 0.83719084, train_loss: 0.315578 \n"
     ]
    },
    {
     "name": "stderr",
     "output_type": "stream",
     "text": [
      " 45%|████▌     | 18/40 [18:44<22:53, 62.45s/it]"
     ]
    },
    {
     "name": "stdout",
     "output_type": "stream",
     "text": [
      "f1_score: 0.82703876, test_loss: 0.297318 \n",
      "Epoch 19\n",
      "-------------------------------\n",
      "f1_score: 0.83757141, train_loss: 0.314475 \n"
     ]
    },
    {
     "name": "stderr",
     "output_type": "stream",
     "text": [
      " 48%|████▊     | 19/40 [19:46<21:50, 62.41s/it]"
     ]
    },
    {
     "name": "stdout",
     "output_type": "stream",
     "text": [
      "f1_score: 0.82609226, test_loss: 0.300320 \n",
      "Epoch 20\n",
      "-------------------------------\n",
      "f1_score: 0.83763028, train_loss: 0.314045 \n"
     ]
    },
    {
     "name": "stderr",
     "output_type": "stream",
     "text": [
      " 50%|█████     | 20/40 [20:48<20:49, 62.46s/it]"
     ]
    },
    {
     "name": "stdout",
     "output_type": "stream",
     "text": [
      "f1_score: 0.82692181, test_loss: 0.296135 \n",
      "Epoch 21\n",
      "-------------------------------\n",
      "f1_score: 0.83772953, train_loss: 0.313585 \n"
     ]
    },
    {
     "name": "stderr",
     "output_type": "stream",
     "text": [
      " 52%|█████▎    | 21/40 [21:51<19:46, 62.43s/it]"
     ]
    },
    {
     "name": "stdout",
     "output_type": "stream",
     "text": [
      "f1_score: 0.82867487, test_loss: 0.296769 \n",
      "Epoch 22\n",
      "-------------------------------\n",
      "f1_score: 0.83851096, train_loss: 0.312723 \n"
     ]
    },
    {
     "name": "stderr",
     "output_type": "stream",
     "text": [
      " 55%|█████▌    | 22/40 [22:53<18:42, 62.38s/it]"
     ]
    },
    {
     "name": "stdout",
     "output_type": "stream",
     "text": [
      "f1_score: 0.82779266, test_loss: 0.295014 \n",
      "Epoch 23\n",
      "-------------------------------\n",
      "f1_score: 0.83931418, train_loss: 0.311398 \n"
     ]
    },
    {
     "name": "stderr",
     "output_type": "stream",
     "text": [
      " 57%|█████▊    | 23/40 [23:55<17:36, 62.12s/it]"
     ]
    },
    {
     "name": "stdout",
     "output_type": "stream",
     "text": [
      "f1_score: 0.82620969, test_loss: 0.296052 \n",
      "Epoch 24\n",
      "-------------------------------\n",
      "f1_score: 0.83915527, train_loss: 0.311746 \n"
     ]
    },
    {
     "name": "stderr",
     "output_type": "stream",
     "text": [
      " 60%|██████    | 24/40 [24:55<16:24, 61.51s/it]"
     ]
    },
    {
     "name": "stdout",
     "output_type": "stream",
     "text": [
      "f1_score: 0.82716512, test_loss: 0.296316 \n",
      "Epoch 25\n",
      "-------------------------------\n",
      "f1_score: 0.83972422, train_loss: 0.310715 \n"
     ]
    },
    {
     "name": "stderr",
     "output_type": "stream",
     "text": [
      " 62%|██████▎   | 25/40 [25:55<15:16, 61.08s/it]"
     ]
    },
    {
     "name": "stdout",
     "output_type": "stream",
     "text": [
      "f1_score: 0.82592022, test_loss: 0.298081 \n",
      "Epoch 26\n",
      "-------------------------------\n",
      "f1_score: 0.84009382, train_loss: 0.310298 \n"
     ]
    },
    {
     "name": "stderr",
     "output_type": "stream",
     "text": [
      " 65%|██████▌   | 26/40 [26:55<14:10, 60.74s/it]"
     ]
    },
    {
     "name": "stdout",
     "output_type": "stream",
     "text": [
      "f1_score: 0.82700433, test_loss: 0.293307 \n",
      "Epoch 27\n",
      "-------------------------------\n",
      "f1_score: 0.83993123, train_loss: 0.310067 \n"
     ]
    },
    {
     "name": "stderr",
     "output_type": "stream",
     "text": [
      " 68%|██████▊   | 27/40 [27:55<13:06, 60.49s/it]"
     ]
    },
    {
     "name": "stdout",
     "output_type": "stream",
     "text": [
      "f1_score: 0.82736176, test_loss: 0.293828 \n",
      "Epoch 28\n",
      "-------------------------------\n",
      "f1_score: 0.84059040, train_loss: 0.308804 \n"
     ]
    },
    {
     "name": "stderr",
     "output_type": "stream",
     "text": [
      " 70%|███████   | 28/40 [28:55<12:04, 60.41s/it]"
     ]
    },
    {
     "name": "stdout",
     "output_type": "stream",
     "text": [
      "f1_score: 0.82602198, test_loss: 0.297196 \n",
      "Epoch 29\n",
      "-------------------------------\n",
      "f1_score: 0.84042184, train_loss: 0.308783 \n"
     ]
    },
    {
     "name": "stderr",
     "output_type": "stream",
     "text": [
      " 72%|███████▎  | 29/40 [29:55<11:03, 60.28s/it]"
     ]
    },
    {
     "name": "stdout",
     "output_type": "stream",
     "text": [
      "f1_score: 0.82675853, test_loss: 0.297617 \n",
      "Epoch 30\n",
      "-------------------------------\n",
      "f1_score: 0.84061813, train_loss: 0.308455 \n"
     ]
    },
    {
     "name": "stderr",
     "output_type": "stream",
     "text": [
      " 75%|███████▌  | 30/40 [30:55<10:02, 60.22s/it]"
     ]
    },
    {
     "name": "stdout",
     "output_type": "stream",
     "text": [
      "f1_score: 0.82683212, test_loss: 0.295808 \n",
      "Epoch 31\n",
      "-------------------------------\n",
      "f1_score: 0.84118459, train_loss: 0.307845 \n"
     ]
    },
    {
     "name": "stderr",
     "output_type": "stream",
     "text": [
      " 78%|███████▊  | 31/40 [31:55<09:01, 60.20s/it]"
     ]
    },
    {
     "name": "stdout",
     "output_type": "stream",
     "text": [
      "f1_score: 0.82174415, test_loss: 0.300972 \n",
      "Epoch 32\n",
      "-------------------------------\n",
      "f1_score: 0.84178783, train_loss: 0.307118 \n"
     ]
    },
    {
     "name": "stderr",
     "output_type": "stream",
     "text": [
      " 80%|████████  | 32/40 [32:55<08:01, 60.15s/it]"
     ]
    },
    {
     "name": "stdout",
     "output_type": "stream",
     "text": [
      "f1_score: 0.82443861, test_loss: 0.301009 \n",
      "Epoch 33\n",
      "-------------------------------\n",
      "f1_score: 0.84198521, train_loss: 0.306682 \n"
     ]
    },
    {
     "name": "stderr",
     "output_type": "stream",
     "text": [
      " 82%|████████▎ | 33/40 [33:55<07:01, 60.16s/it]"
     ]
    },
    {
     "name": "stdout",
     "output_type": "stream",
     "text": [
      "f1_score: 0.82223728, test_loss: 0.301503 \n",
      "Epoch 34\n",
      "-------------------------------\n",
      "f1_score: 0.84252563, train_loss: 0.305877 \n"
     ]
    },
    {
     "name": "stderr",
     "output_type": "stream",
     "text": [
      " 85%|████████▌ | 34/40 [34:55<06:00, 60.09s/it]"
     ]
    },
    {
     "name": "stdout",
     "output_type": "stream",
     "text": [
      "f1_score: 0.82395576, test_loss: 0.297200 \n",
      "Epoch 35\n",
      "-------------------------------\n",
      "f1_score: 0.84260137, train_loss: 0.305709 \n"
     ]
    },
    {
     "name": "stderr",
     "output_type": "stream",
     "text": [
      " 88%|████████▊ | 35/40 [35:55<05:00, 60.09s/it]"
     ]
    },
    {
     "name": "stdout",
     "output_type": "stream",
     "text": [
      "f1_score: 0.82522147, test_loss: 0.296409 \n",
      "Epoch 36\n",
      "-------------------------------\n",
      "f1_score: 0.84315735, train_loss: 0.305174 \n"
     ]
    },
    {
     "name": "stderr",
     "output_type": "stream",
     "text": [
      " 90%|█████████ | 36/40 [36:55<04:00, 60.04s/it]"
     ]
    },
    {
     "name": "stdout",
     "output_type": "stream",
     "text": [
      "f1_score: 0.82617336, test_loss: 0.294745 \n",
      "Epoch 37\n",
      "-------------------------------\n",
      "f1_score: 0.84301184, train_loss: 0.304897 \n"
     ]
    },
    {
     "name": "stderr",
     "output_type": "stream",
     "text": [
      " 92%|█████████▎| 37/40 [37:55<02:59, 59.92s/it]"
     ]
    },
    {
     "name": "stdout",
     "output_type": "stream",
     "text": [
      "f1_score: 0.82667988, test_loss: 0.295249 \n",
      "Epoch 38\n",
      "-------------------------------\n",
      "f1_score: 0.84328827, train_loss: 0.304271 \n"
     ]
    },
    {
     "name": "stderr",
     "output_type": "stream",
     "text": [
      " 95%|█████████▌| 38/40 [38:55<02:00, 60.10s/it]"
     ]
    },
    {
     "name": "stdout",
     "output_type": "stream",
     "text": [
      "f1_score: 0.81763790, test_loss: 0.308211 \n",
      "Epoch 39\n",
      "-------------------------------\n",
      "f1_score: 0.84387726, train_loss: 0.303598 \n"
     ]
    },
    {
     "name": "stderr",
     "output_type": "stream",
     "text": [
      " 98%|█████████▊| 39/40 [39:56<01:00, 60.13s/it]"
     ]
    },
    {
     "name": "stdout",
     "output_type": "stream",
     "text": [
      "f1_score: 0.81879297, test_loss: 0.305185 \n",
      "Epoch 40\n",
      "-------------------------------\n",
      "f1_score: 0.84415636, train_loss: 0.303263 \n"
     ]
    },
    {
     "name": "stderr",
     "output_type": "stream",
     "text": [
      "100%|██████████| 40/40 [40:56<00:00, 61.42s/it]\n",
      "[I 2025-02-16 05:55:15,438] Trial 13 finished with value: 0.8189094014738267 and parameters: {'n': 3, 'dropout_p': 0.1713332574341908, 'dropout_p_1': 0.1793374284971218, 'weight_decay': 1.0212777300017715e-05, 'batch_size': 4096}. Best is trial 6 with value: 0.8317091355523847.\n",
      "/usr/local/lib/python3.10/dist-packages/optuna/distributions.py:699: UserWarning: The distribution is specified by [1024, 9600] and step=1024, but the range is not divisible by `step`. It will be replaced by [1024, 9216].\n",
      "  warnings.warn(\n"
     ]
    },
    {
     "name": "stdout",
     "output_type": "stream",
     "text": [
      "f1_score: 0.81890940, test_loss: 0.304642 \n"
     ]
    },
    {
     "name": "stderr",
     "output_type": "stream",
     "text": [
      "  0%|          | 0/40 [00:00<?, ?it/s]"
     ]
    },
    {
     "name": "stdout",
     "output_type": "stream",
     "text": [
      "Epoch 1\n",
      "-------------------------------\n",
      "f1_score: 0.80413200, train_loss: 0.386970 \n"
     ]
    },
    {
     "name": "stderr",
     "output_type": "stream",
     "text": [
      "  2%|▎         | 1/40 [00:59<38:42, 59.54s/it]"
     ]
    },
    {
     "name": "stdout",
     "output_type": "stream",
     "text": [
      "f1_score: 0.80835396, test_loss: 0.323616 \n",
      "Epoch 2\n",
      "-------------------------------\n",
      "f1_score: 0.82663161, train_loss: 0.340433 \n"
     ]
    },
    {
     "name": "stderr",
     "output_type": "stream",
     "text": [
      "  5%|▌         | 2/40 [01:58<37:29, 59.19s/it]"
     ]
    },
    {
     "name": "stdout",
     "output_type": "stream",
     "text": [
      "f1_score: 0.81829471, test_loss: 0.309230 \n",
      "Epoch 3\n",
      "-------------------------------\n",
      "f1_score: 0.82905703, train_loss: 0.335646 \n"
     ]
    },
    {
     "name": "stderr",
     "output_type": "stream",
     "text": [
      "  8%|▊         | 3/40 [02:57<36:30, 59.20s/it]"
     ]
    },
    {
     "name": "stdout",
     "output_type": "stream",
     "text": [
      "f1_score: 0.82038290, test_loss: 0.311336 \n",
      "Epoch 4\n",
      "-------------------------------\n",
      "f1_score: 0.83049165, train_loss: 0.332772 \n"
     ]
    }
   ],
   "source": [
    "def objective(trial):\n",
    "    n = trial.suggest_int(\"n\", 10, 20)  # Оптимизируем ширину слоев\n",
    "    dropout_p = trial.suggest_float(\"dropout_p\", 0.1, 0.5)  # Оптимизируем Dropout\n",
    "    dropout_p_1 = trial.suggest_float(\"dropout_p_1\", 0.1, 0.5)  # Оптимизируем Dropout\n",
    "    weight_decay = trial.suggest_float(\"weight_decay\", 1e-6, 1e-3, log=True)  # Оптимизируем weight_decay\n",
    "    BATCH_SIZE = trial.suggest_int(\"batch_size\", 1024, 9600, step=1024)\n",
    "    \n",
    "    model = NeuralNetwork(input_size=235, n=n, p=dropout_p, p_1=dropout_p).to(device)\n",
    "\n",
    "    # BATCH_SIZE =9600\n",
    "\n",
    "    class_counts = torch.bincount(y_train.to(torch.int64))\n",
    "    weights = len(y_train)/class_counts.float()\n",
    "    sample_weights = weights[y_train.to(torch.int64)]\n",
    "\n",
    "    sampler = WeightedRandomSampler(weights=sample_weights, num_samples=len(sample_weights), replacement=True)\n",
    "    dataloader_train = DataLoader(training_data, batch_size=BATCH_SIZE, sampler=sampler) # sampler=sampler)\n",
    "\n",
    "    dataloader_valid  = DataLoader(valid_data, batch_size=BATCH_SIZE, shuffle=True)\n",
    "      \n",
    "    \n",
    "\n",
    "    LEANING_RATE = 1e-3\n",
    "    loss_fn = nn.BCEWithLogitsLoss()\n",
    "    optimizer = optim.Adam(model.parameters(), lr=LEANING_RATE, weight_decay=weight_decay)  #,weight_decay=1e-4\n",
    "    scheduler = optim.lr_scheduler.StepLR(optimizer, step_size=50, gamma=0.1)\n",
    "\n",
    "    EPOCH = 40\n",
    "    for i in tqdm(range(EPOCH)):\n",
    "        print(f\"Epoch {i+1}\\n-------------------------------\")\n",
    "        train_loop(dataloader_train, model, loss_fn, optimizer)\n",
    "        f1_score = test_loop(dataloader_valid, model, loss_fn)\n",
    "\n",
    "        scheduler.step()\n",
    "\n",
    "\n",
    "    return f1_score  # Минимизируем 1 - F1\n",
    "study = optuna.create_study(direction=\"maximize\")\n",
    "study.optimize(objective, n_trials=15)  \n",
    "\n",
    "print(study.best_params,study.best_value)"
   ]
  },
  {
   "cell_type": "code",
   "execution_count": 83,
   "id": "af4cf59b-7a8e-490a-8edb-1a3a3d47f3dd",
   "metadata": {
    "execution": {
     "iopub.execute_input": "2025-02-16T16:10:20.205043Z",
     "iopub.status.busy": "2025-02-16T16:10:20.204710Z",
     "iopub.status.idle": "2025-02-16T16:10:20.249556Z",
     "shell.execute_reply": "2025-02-16T16:10:20.248800Z",
     "shell.execute_reply.started": "2025-02-16T16:10:20.205015Z"
    }
   },
   "outputs": [
    {
     "data": {
      "text/plain": [
       "NeuralNetwork(\n",
       "  (fc1): Linear(in_features=235, out_features=705, bias=True)\n",
       "  (fc2): Linear(in_features=705, out_features=4230, bias=True)\n",
       "  (fc3): Linear(in_features=4230, out_features=512, bias=True)\n",
       "  (fc4): Linear(in_features=512, out_features=128, bias=True)\n",
       "  (fc5): Linear(in_features=128, out_features=64, bias=True)\n",
       "  (fc6): Linear(in_features=64, out_features=1, bias=True)\n",
       "  (drop): Dropout(p=0.2756, inplace=False)\n",
       "  (drop_1): Dropout(p=0.1194, inplace=False)\n",
       ")"
      ]
     },
     "execution_count": 83,
     "metadata": {},
     "output_type": "execute_result"
    }
   ],
   "source": [
    "model = NeuralNetwork(X_train.shape[1],n=3, p=0.2756,p_1=0.1194).to(device)\n",
    "model"
   ]
  },
  {
   "cell_type": "markdown",
   "id": "f60bd882-ea85-4fdf-a6de-42d534576191",
   "metadata": {
    "execution": {
     "iopub.execute_input": "2025-02-16T07:51:21.013686Z",
     "iopub.status.busy": "2025-02-16T07:51:21.013381Z",
     "iopub.status.idle": "2025-02-16T07:51:21.020329Z",
     "shell.execute_reply": "2025-02-16T07:51:21.019581Z",
     "shell.execute_reply.started": "2025-02-16T07:51:21.013653Z"
    }
   },
   "source": [
    "Лучшие результаты были достигнуты с параметрами модели (n=3, p=0.2756, p_1=0.1194, weight_decay=4.55e-5, BATCH_SIZE=4096), где F1-скор на тестовых данных составил 0.8317. Однако, модель FFN не смогла превзойти результаты, полученные с использованием LGBM."
   ]
  },
  {
   "cell_type": "code",
   "execution_count": null,
   "id": "79b43dca-0f49-4f74-8169-6dd72e6312cd",
   "metadata": {},
   "outputs": [],
   "source": []
  },
  {
   "cell_type": "code",
   "execution_count": null,
   "id": "3d86b751-5421-4085-b372-e02f2be77449",
   "metadata": {},
   "outputs": [],
   "source": []
  }
 ],
 "metadata": {
  "kaggle": {
   "accelerator": "gpu",
   "dataSources": [
    {
     "datasetId": 6550616,
     "sourceId": 10585057,
     "sourceType": "datasetVersion"
    },
    {
     "isSourceIdPinned": true,
     "modelId": 243461,
     "modelInstanceId": 221692,
     "sourceId": 259338,
     "sourceType": "modelInstanceVersion"
    }
   ],
   "dockerImageVersionId": 30887,
   "isGpuEnabled": true,
   "isInternetEnabled": true,
   "language": "python",
   "sourceType": "notebook"
  },
  "kernelspec": {
   "display_name": "Python 3 (ipykernel)",
   "language": "python",
   "name": "python3"
  },
  "language_info": {
   "codemirror_mode": {
    "name": "ipython",
    "version": 3
   },
   "file_extension": ".py",
   "mimetype": "text/x-python",
   "name": "python",
   "nbconvert_exporter": "python",
   "pygments_lexer": "ipython3",
   "version": "3.12.7"
  }
 },
 "nbformat": 4,
 "nbformat_minor": 5
}
